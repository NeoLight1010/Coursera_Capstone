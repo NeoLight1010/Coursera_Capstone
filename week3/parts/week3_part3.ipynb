{
 "cells": [
  {
   "cell_type": "markdown",
   "metadata": {},
   "source": [
    "# Coursera Capstone Project\n",
    "Anthony Suárez\n",
    "\n",
    "This notebook is to work on my Capstone for the IBM Data Science Specialization."
   ]
  },
  {
   "cell_type": "markdown",
   "metadata": {},
   "source": [
    "## Week 1"
   ]
  },
  {
   "cell_type": "code",
   "execution_count": 1,
   "metadata": {
    "scrolled": true
   },
   "outputs": [],
   "source": [
    "import pandas as pd\n",
    "import numpy as np\n",
    "import requests\n",
    "import bs4\n",
    "from bs4 import BeautifulSoup"
   ]
  },
  {
   "cell_type": "code",
   "execution_count": 2,
   "metadata": {
    "scrolled": true
   },
   "outputs": [
    {
     "name": "stdout",
     "output_type": "stream",
     "text": [
      "Hello Coursera Capstone Project!\n"
     ]
    }
   ],
   "source": [
    "print(\"Hello Coursera Capstone Project!\")"
   ]
  },
  {
   "cell_type": "markdown",
   "metadata": {},
   "source": [
    "## Week 3"
   ]
  },
  {
   "cell_type": "markdown",
   "metadata": {},
   "source": [
    "### Collect data about Toronto neighborhoods"
   ]
  },
  {
   "cell_type": "markdown",
   "metadata": {},
   "source": [
    "I will use Beautiful Soup to do web scraping and get data from Wikipedia."
   ]
  },
  {
   "cell_type": "code",
   "execution_count": 3,
   "metadata": {
    "scrolled": true
   },
   "outputs": [
    {
     "data": {
      "text/plain": [
       "<Response [200]>"
      ]
     },
     "execution_count": 3,
     "metadata": {},
     "output_type": "execute_result"
    }
   ],
   "source": [
    "page_url = \"https://en.wikipedia.org/wiki/List_of_postal_codes_of_Canada:_M\"\n",
    "page_html = requests.get(page_url, timeout=10)\n",
    "\n",
    "page_html"
   ]
  },
  {
   "cell_type": "code",
   "execution_count": 4,
   "metadata": {
    "scrolled": true
   },
   "outputs": [],
   "source": [
    "toronto_soup = BeautifulSoup(page_html.content)\n",
    "# print(toronto_soup.prettify())"
   ]
  },
  {
   "cell_type": "markdown",
   "metadata": {},
   "source": [
    "We are interested in the Toronto - 103 FSAs table, which has the classes \"wikitable sortable\""
   ]
  },
  {
   "cell_type": "code",
   "execution_count": 5,
   "metadata": {
    "scrolled": false
   },
   "outputs": [],
   "source": [
    "fsas_table = toronto_soup.find(\"table\", {\"class\": \"wikitable sortable\"})\n",
    "# districts_table.__dict__"
   ]
  },
  {
   "cell_type": "code",
   "execution_count": 6,
   "metadata": {
    "scrolled": true
   },
   "outputs": [
    {
     "data": {
      "text/html": [
       "<div>\n",
       "<style scoped>\n",
       "    .dataframe tbody tr th:only-of-type {\n",
       "        vertical-align: middle;\n",
       "    }\n",
       "\n",
       "    .dataframe tbody tr th {\n",
       "        vertical-align: top;\n",
       "    }\n",
       "\n",
       "    .dataframe thead th {\n",
       "        text-align: right;\n",
       "    }\n",
       "</style>\n",
       "<table border=\"1\" class=\"dataframe\">\n",
       "  <thead>\n",
       "    <tr style=\"text-align: right;\">\n",
       "      <th></th>\n",
       "      <th>Postal Code</th>\n",
       "      <th>Borough</th>\n",
       "      <th>Neighbourhood</th>\n",
       "    </tr>\n",
       "  </thead>\n",
       "  <tbody>\n",
       "    <tr>\n",
       "      <th>0</th>\n",
       "      <td>M1A</td>\n",
       "      <td>Not assigned</td>\n",
       "      <td>Not assigned</td>\n",
       "    </tr>\n",
       "    <tr>\n",
       "      <th>1</th>\n",
       "      <td>M2A</td>\n",
       "      <td>Not assigned</td>\n",
       "      <td>Not assigned</td>\n",
       "    </tr>\n",
       "    <tr>\n",
       "      <th>2</th>\n",
       "      <td>M3A</td>\n",
       "      <td>North York</td>\n",
       "      <td>Parkwoods</td>\n",
       "    </tr>\n",
       "    <tr>\n",
       "      <th>3</th>\n",
       "      <td>M4A</td>\n",
       "      <td>North York</td>\n",
       "      <td>Victoria Village</td>\n",
       "    </tr>\n",
       "    <tr>\n",
       "      <th>4</th>\n",
       "      <td>M5A</td>\n",
       "      <td>Downtown Toronto</td>\n",
       "      <td>Regent Park, Harbourfront</td>\n",
       "    </tr>\n",
       "  </tbody>\n",
       "</table>\n",
       "</div>"
      ],
      "text/plain": [
       "  Postal Code           Borough              Neighbourhood\n",
       "0         M1A      Not assigned               Not assigned\n",
       "1         M2A      Not assigned               Not assigned\n",
       "2         M3A        North York                  Parkwoods\n",
       "3         M4A        North York           Victoria Village\n",
       "4         M5A  Downtown Toronto  Regent Park, Harbourfront"
      ]
     },
     "execution_count": 6,
     "metadata": {},
     "output_type": "execute_result"
    }
   ],
   "source": [
    "fsas_df = pd.read_html(str(fsas_table))\n",
    "fsas_df = fsas_df[0]\n",
    "fsas_df.head()"
   ]
  },
  {
   "cell_type": "markdown",
   "metadata": {},
   "source": [
    "Next, we need to drop the rows with Borough not assigned"
   ]
  },
  {
   "cell_type": "code",
   "execution_count": 7,
   "metadata": {},
   "outputs": [
    {
     "data": {
      "text/plain": [
       "Int64Index([  0,   1,   7,  10,  15,  16,  19,  24,  25,  28,  29,  33,  34,\n",
       "             35,  37,  38,  42,  43,  44,  51,  52,  53,  60,  61,  62,  69,\n",
       "             70,  71,  78,  79,  87,  88,  96,  97, 101, 105, 106, 110, 115,\n",
       "            118, 119, 123, 124, 125, 127, 128, 131, 132, 133, 134, 136, 137,\n",
       "            140, 141, 145, 146, 149, 150, 154, 155, 158, 159, 161, 162, 163,\n",
       "            164, 166, 167, 170, 171, 172, 173, 174, 175, 176, 177, 179],\n",
       "           dtype='int64')"
      ]
     },
     "execution_count": 7,
     "metadata": {},
     "output_type": "execute_result"
    }
   ],
   "source": [
    "rows_not_assigned = fsas_df[fsas_df[\"Borough\"] == \"Not assigned\"]\n",
    "rows_not_assigned.index"
   ]
  },
  {
   "cell_type": "code",
   "execution_count": 8,
   "metadata": {},
   "outputs": [
    {
     "data": {
      "text/html": [
       "<div>\n",
       "<style scoped>\n",
       "    .dataframe tbody tr th:only-of-type {\n",
       "        vertical-align: middle;\n",
       "    }\n",
       "\n",
       "    .dataframe tbody tr th {\n",
       "        vertical-align: top;\n",
       "    }\n",
       "\n",
       "    .dataframe thead th {\n",
       "        text-align: right;\n",
       "    }\n",
       "</style>\n",
       "<table border=\"1\" class=\"dataframe\">\n",
       "  <thead>\n",
       "    <tr style=\"text-align: right;\">\n",
       "      <th></th>\n",
       "      <th>Postal Code</th>\n",
       "      <th>Borough</th>\n",
       "      <th>Neighbourhood</th>\n",
       "    </tr>\n",
       "  </thead>\n",
       "  <tbody>\n",
       "    <tr>\n",
       "      <th>0</th>\n",
       "      <td>M3A</td>\n",
       "      <td>North York</td>\n",
       "      <td>Parkwoods</td>\n",
       "    </tr>\n",
       "    <tr>\n",
       "      <th>1</th>\n",
       "      <td>M4A</td>\n",
       "      <td>North York</td>\n",
       "      <td>Victoria Village</td>\n",
       "    </tr>\n",
       "    <tr>\n",
       "      <th>2</th>\n",
       "      <td>M5A</td>\n",
       "      <td>Downtown Toronto</td>\n",
       "      <td>Regent Park, Harbourfront</td>\n",
       "    </tr>\n",
       "    <tr>\n",
       "      <th>3</th>\n",
       "      <td>M6A</td>\n",
       "      <td>North York</td>\n",
       "      <td>Lawrence Manor, Lawrence Heights</td>\n",
       "    </tr>\n",
       "    <tr>\n",
       "      <th>4</th>\n",
       "      <td>M7A</td>\n",
       "      <td>Downtown Toronto</td>\n",
       "      <td>Queen's Park, Ontario Provincial Government</td>\n",
       "    </tr>\n",
       "  </tbody>\n",
       "</table>\n",
       "</div>"
      ],
      "text/plain": [
       "  Postal Code           Borough                                Neighbourhood\n",
       "0         M3A        North York                                    Parkwoods\n",
       "1         M4A        North York                             Victoria Village\n",
       "2         M5A  Downtown Toronto                    Regent Park, Harbourfront\n",
       "3         M6A        North York             Lawrence Manor, Lawrence Heights\n",
       "4         M7A  Downtown Toronto  Queen's Park, Ontario Provincial Government"
      ]
     },
     "execution_count": 8,
     "metadata": {},
     "output_type": "execute_result"
    }
   ],
   "source": [
    "fsas_df = fsas_df.drop(rows_not_assigned.index, axis=0).reset_index().drop(columns=[\"index\"])\n",
    "fsas_df.head()"
   ]
  },
  {
   "cell_type": "markdown",
   "metadata": {},
   "source": [
    "If a neighborhood doesn't have a name assigned, we will assume it's the same name as its borough."
   ]
  },
  {
   "cell_type": "code",
   "execution_count": 9,
   "metadata": {},
   "outputs": [
    {
     "data": {
      "text/html": [
       "<div>\n",
       "<style scoped>\n",
       "    .dataframe tbody tr th:only-of-type {\n",
       "        vertical-align: middle;\n",
       "    }\n",
       "\n",
       "    .dataframe tbody tr th {\n",
       "        vertical-align: top;\n",
       "    }\n",
       "\n",
       "    .dataframe thead th {\n",
       "        text-align: right;\n",
       "    }\n",
       "</style>\n",
       "<table border=\"1\" class=\"dataframe\">\n",
       "  <thead>\n",
       "    <tr style=\"text-align: right;\">\n",
       "      <th></th>\n",
       "      <th>Postal Code</th>\n",
       "      <th>Borough</th>\n",
       "      <th>Neighbourhood</th>\n",
       "    </tr>\n",
       "  </thead>\n",
       "  <tbody>\n",
       "    <tr>\n",
       "      <th>0</th>\n",
       "      <td>M3A</td>\n",
       "      <td>North York</td>\n",
       "      <td>Parkwoods</td>\n",
       "    </tr>\n",
       "    <tr>\n",
       "      <th>1</th>\n",
       "      <td>M4A</td>\n",
       "      <td>North York</td>\n",
       "      <td>Victoria Village</td>\n",
       "    </tr>\n",
       "    <tr>\n",
       "      <th>2</th>\n",
       "      <td>M5A</td>\n",
       "      <td>Downtown Toronto</td>\n",
       "      <td>Regent Park, Harbourfront</td>\n",
       "    </tr>\n",
       "    <tr>\n",
       "      <th>3</th>\n",
       "      <td>M6A</td>\n",
       "      <td>North York</td>\n",
       "      <td>Lawrence Manor, Lawrence Heights</td>\n",
       "    </tr>\n",
       "    <tr>\n",
       "      <th>4</th>\n",
       "      <td>M7A</td>\n",
       "      <td>Downtown Toronto</td>\n",
       "      <td>Queen's Park, Ontario Provincial Government</td>\n",
       "    </tr>\n",
       "  </tbody>\n",
       "</table>\n",
       "</div>"
      ],
      "text/plain": [
       "  Postal Code           Borough                                Neighbourhood\n",
       "0         M3A        North York                                    Parkwoods\n",
       "1         M4A        North York                             Victoria Village\n",
       "2         M5A  Downtown Toronto                    Regent Park, Harbourfront\n",
       "3         M6A        North York             Lawrence Manor, Lawrence Heights\n",
       "4         M7A  Downtown Toronto  Queen's Park, Ontario Provincial Government"
      ]
     },
     "execution_count": 9,
     "metadata": {},
     "output_type": "execute_result"
    }
   ],
   "source": [
    "for row in fsas_df.iterrows():\n",
    "    i = row[0]\n",
    "    neighborhood = row[1][\"Neighbourhood\"]\n",
    "    if neighborhood == \"Not assigned\":\n",
    "        fsas_df.iloc[i][\"Neighbourhood\"] = fsas_df.iloc[i][\"Borough\"]\n",
    "        \n",
    "    break\n",
    "        \n",
    "fsas_df.head()"
   ]
  },
  {
   "cell_type": "code",
   "execution_count": 10,
   "metadata": {},
   "outputs": [
    {
     "data": {
      "text/html": [
       "<div>\n",
       "<style scoped>\n",
       "    .dataframe tbody tr th:only-of-type {\n",
       "        vertical-align: middle;\n",
       "    }\n",
       "\n",
       "    .dataframe tbody tr th {\n",
       "        vertical-align: top;\n",
       "    }\n",
       "\n",
       "    .dataframe thead th {\n",
       "        text-align: right;\n",
       "    }\n",
       "</style>\n",
       "<table border=\"1\" class=\"dataframe\">\n",
       "  <thead>\n",
       "    <tr style=\"text-align: right;\">\n",
       "      <th></th>\n",
       "      <th>Postal Code</th>\n",
       "      <th>Borough</th>\n",
       "      <th>Neighborhoods</th>\n",
       "    </tr>\n",
       "  </thead>\n",
       "  <tbody>\n",
       "    <tr>\n",
       "      <th>0</th>\n",
       "      <td>M3A</td>\n",
       "      <td>North York</td>\n",
       "      <td>Parkwoods</td>\n",
       "    </tr>\n",
       "    <tr>\n",
       "      <th>1</th>\n",
       "      <td>M4A</td>\n",
       "      <td>North York</td>\n",
       "      <td>Victoria Village</td>\n",
       "    </tr>\n",
       "    <tr>\n",
       "      <th>2</th>\n",
       "      <td>M5A</td>\n",
       "      <td>Downtown Toronto</td>\n",
       "      <td>Regent Park, Harbourfront</td>\n",
       "    </tr>\n",
       "    <tr>\n",
       "      <th>3</th>\n",
       "      <td>M6A</td>\n",
       "      <td>North York</td>\n",
       "      <td>Lawrence Manor, Lawrence Heights</td>\n",
       "    </tr>\n",
       "    <tr>\n",
       "      <th>4</th>\n",
       "      <td>M7A</td>\n",
       "      <td>Downtown Toronto</td>\n",
       "      <td>Queen's Park, Ontario Provincial Government</td>\n",
       "    </tr>\n",
       "  </tbody>\n",
       "</table>\n",
       "</div>"
      ],
      "text/plain": [
       "  Postal Code           Borough                                Neighborhoods\n",
       "0         M3A        North York                                    Parkwoods\n",
       "1         M4A        North York                             Victoria Village\n",
       "2         M5A  Downtown Toronto                    Regent Park, Harbourfront\n",
       "3         M6A        North York             Lawrence Manor, Lawrence Heights\n",
       "4         M7A  Downtown Toronto  Queen's Park, Ontario Provincial Government"
      ]
     },
     "execution_count": 10,
     "metadata": {},
     "output_type": "execute_result"
    }
   ],
   "source": [
    "fsas_df.rename(columns={\"Neighbourhood\": \"Neighborhoods\"}, inplace=True)\n",
    "fsas_df.head()"
   ]
  },
  {
   "cell_type": "markdown",
   "metadata": {},
   "source": [
    "Now that we have parsed the table from Wikipedia, we have to get the location from each neighborhood."
   ]
  },
  {
   "cell_type": "code",
   "execution_count": 11,
   "metadata": {},
   "outputs": [],
   "source": [
    "import geocoder"
   ]
  },
  {
   "cell_type": "code",
   "execution_count": 12,
   "metadata": {},
   "outputs": [],
   "source": [
    "def find_coords(postal_code):\n",
    "    # initialize your variable to None\n",
    "    lat_lng_coords = None\n",
    "\n",
    "    # loop until you get the coordinates\n",
    "    attempts = 0\n",
    "    while(lat_lng_coords is None or attempts < 100):\n",
    "        attempts += 1\n",
    "        g = geocoder.google('{}, Toronto, Ontario'.format(postal_code))\n",
    "        lat_lng_coords = g.latlng\n",
    "\n",
    "    return lat_lng_coords[0], lat_lng_coords[1]"
   ]
  },
  {
   "cell_type": "markdown",
   "metadata": {},
   "source": [
    "As the package used is unreliable, I used the csv file provided by Coursera"
   ]
  },
  {
   "cell_type": "code",
   "execution_count": 19,
   "metadata": {},
   "outputs": [
    {
     "data": {
      "text/html": [
       "<div>\n",
       "<style scoped>\n",
       "    .dataframe tbody tr th:only-of-type {\n",
       "        vertical-align: middle;\n",
       "    }\n",
       "\n",
       "    .dataframe tbody tr th {\n",
       "        vertical-align: top;\n",
       "    }\n",
       "\n",
       "    .dataframe thead th {\n",
       "        text-align: right;\n",
       "    }\n",
       "</style>\n",
       "<table border=\"1\" class=\"dataframe\">\n",
       "  <thead>\n",
       "    <tr style=\"text-align: right;\">\n",
       "      <th></th>\n",
       "      <th>Postal Code</th>\n",
       "      <th>Latitude</th>\n",
       "      <th>Longitude</th>\n",
       "    </tr>\n",
       "  </thead>\n",
       "  <tbody>\n",
       "    <tr>\n",
       "      <th>0</th>\n",
       "      <td>M1B</td>\n",
       "      <td>43.806686</td>\n",
       "      <td>-79.194353</td>\n",
       "    </tr>\n",
       "    <tr>\n",
       "      <th>1</th>\n",
       "      <td>M1C</td>\n",
       "      <td>43.784535</td>\n",
       "      <td>-79.160497</td>\n",
       "    </tr>\n",
       "    <tr>\n",
       "      <th>2</th>\n",
       "      <td>M1E</td>\n",
       "      <td>43.763573</td>\n",
       "      <td>-79.188711</td>\n",
       "    </tr>\n",
       "    <tr>\n",
       "      <th>3</th>\n",
       "      <td>M1G</td>\n",
       "      <td>43.770992</td>\n",
       "      <td>-79.216917</td>\n",
       "    </tr>\n",
       "    <tr>\n",
       "      <th>4</th>\n",
       "      <td>M1H</td>\n",
       "      <td>43.773136</td>\n",
       "      <td>-79.239476</td>\n",
       "    </tr>\n",
       "  </tbody>\n",
       "</table>\n",
       "</div>"
      ],
      "text/plain": [
       "  Postal Code   Latitude  Longitude\n",
       "0         M1B  43.806686 -79.194353\n",
       "1         M1C  43.784535 -79.160497\n",
       "2         M1E  43.763573 -79.188711\n",
       "3         M1G  43.770992 -79.216917\n",
       "4         M1H  43.773136 -79.239476"
      ]
     },
     "execution_count": 19,
     "metadata": {},
     "output_type": "execute_result"
    }
   ],
   "source": [
    "coords = pd.read_csv(\"data/Geospatial_Coordinates.csv\")\n",
    "coords.head()"
   ]
  },
  {
   "cell_type": "markdown",
   "metadata": {},
   "source": [
    "Now, we need to combine theh coords and fsas dataframes"
   ]
  },
  {
   "cell_type": "code",
   "execution_count": 23,
   "metadata": {},
   "outputs": [
    {
     "data": {
      "text/html": [
       "<div>\n",
       "<style scoped>\n",
       "    .dataframe tbody tr th:only-of-type {\n",
       "        vertical-align: middle;\n",
       "    }\n",
       "\n",
       "    .dataframe tbody tr th {\n",
       "        vertical-align: top;\n",
       "    }\n",
       "\n",
       "    .dataframe thead th {\n",
       "        text-align: right;\n",
       "    }\n",
       "</style>\n",
       "<table border=\"1\" class=\"dataframe\">\n",
       "  <thead>\n",
       "    <tr style=\"text-align: right;\">\n",
       "      <th></th>\n",
       "      <th>Postal Code</th>\n",
       "      <th>Borough</th>\n",
       "      <th>Neighborhoods</th>\n",
       "      <th>Latitude</th>\n",
       "      <th>Longitude</th>\n",
       "    </tr>\n",
       "  </thead>\n",
       "  <tbody>\n",
       "    <tr>\n",
       "      <th>0</th>\n",
       "      <td>M3A</td>\n",
       "      <td>North York</td>\n",
       "      <td>Parkwoods</td>\n",
       "      <td>43.753259</td>\n",
       "      <td>-79.329656</td>\n",
       "    </tr>\n",
       "    <tr>\n",
       "      <th>1</th>\n",
       "      <td>M4A</td>\n",
       "      <td>North York</td>\n",
       "      <td>Victoria Village</td>\n",
       "      <td>43.725882</td>\n",
       "      <td>-79.315572</td>\n",
       "    </tr>\n",
       "    <tr>\n",
       "      <th>2</th>\n",
       "      <td>M5A</td>\n",
       "      <td>Downtown Toronto</td>\n",
       "      <td>Regent Park, Harbourfront</td>\n",
       "      <td>43.654260</td>\n",
       "      <td>-79.360636</td>\n",
       "    </tr>\n",
       "    <tr>\n",
       "      <th>3</th>\n",
       "      <td>M6A</td>\n",
       "      <td>North York</td>\n",
       "      <td>Lawrence Manor, Lawrence Heights</td>\n",
       "      <td>43.718518</td>\n",
       "      <td>-79.464763</td>\n",
       "    </tr>\n",
       "    <tr>\n",
       "      <th>4</th>\n",
       "      <td>M7A</td>\n",
       "      <td>Downtown Toronto</td>\n",
       "      <td>Queen's Park, Ontario Provincial Government</td>\n",
       "      <td>43.662301</td>\n",
       "      <td>-79.389494</td>\n",
       "    </tr>\n",
       "  </tbody>\n",
       "</table>\n",
       "</div>"
      ],
      "text/plain": [
       "  Postal Code           Borough                                Neighborhoods  \\\n",
       "0         M3A        North York                                    Parkwoods   \n",
       "1         M4A        North York                             Victoria Village   \n",
       "2         M5A  Downtown Toronto                    Regent Park, Harbourfront   \n",
       "3         M6A        North York             Lawrence Manor, Lawrence Heights   \n",
       "4         M7A  Downtown Toronto  Queen's Park, Ontario Provincial Government   \n",
       "\n",
       "    Latitude  Longitude  \n",
       "0  43.753259 -79.329656  \n",
       "1  43.725882 -79.315572  \n",
       "2  43.654260 -79.360636  \n",
       "3  43.718518 -79.464763  \n",
       "4  43.662301 -79.389494  "
      ]
     },
     "execution_count": 23,
     "metadata": {},
     "output_type": "execute_result"
    }
   ],
   "source": [
    "neighborhoods_data = pd.merge(fsas_df, coords, on=\"Postal Code\")\n",
    "neighborhoods_data.head()"
   ]
  },
  {
   "cell_type": "markdown",
   "metadata": {},
   "source": [
    "### Visualize Toronto Neighborhoods"
   ]
  },
  {
   "cell_type": "code",
   "execution_count": 24,
   "metadata": {
    "scrolled": true
   },
   "outputs": [],
   "source": [
    "# !pip install folium\n",
    "import folium"
   ]
  },
  {
   "cell_type": "code",
   "execution_count": 28,
   "metadata": {
    "scrolled": false
   },
   "outputs": [
    {
     "data": {
      "text/html": [
       "<div style=\"width:100%;\"><div style=\"position:relative;width:100%;height:0;padding-bottom:60%;\"><span style=\"color:#565656\">Make this Notebook Trusted to load map: File -> Trust Notebook</span><iframe src=\"about:blank\" style=\"position:absolute;width:100%;height:100%;left:0;top:0;border:none !important;\" data-html=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 onload=\"this.contentDocument.open();this.contentDocument.write(atob(this.getAttribute('data-html')));this.contentDocument.close();\" allowfullscreen webkitallowfullscreen mozallowfullscreen></iframe></div></div>"
      ],
      "text/plain": [
       "<folium.folium.Map at 0x1d25f948c40>"
      ]
     },
     "execution_count": 28,
     "metadata": {},
     "output_type": "execute_result"
    }
   ],
   "source": [
    "toronto_coords = [43.651070, -79.347015]\n",
    "toronto_map = folium.Map(location=toronto_coords,\n",
    "                         tiles='Stamen Toner',\n",
    "                         zoom_start=10.5)\n",
    "\n",
    "for i, row in neighborhoods_data.iterrows():\n",
    "    marker = folium.CircleMarker(\n",
    "        location=[row.Latitude, row.Longitude],\n",
    "        popup=row.Neighborhoods,\n",
    "        color='crimson',\n",
    "        radius=5,\n",
    "        fill=True\n",
    "    ).add_to(toronto_map)\n",
    "\n",
    "toronto_map"
   ]
  },
  {
   "cell_type": "markdown",
   "metadata": {},
   "source": [
    "### Explore venues with Foursquare API"
   ]
  },
  {
   "cell_type": "code",
   "execution_count": 31,
   "metadata": {
    "scrolled": true
   },
   "outputs": [],
   "source": [
    "from dotenv import load_dotenv # Use pip to install python-dotenv package\n",
    "import os"
   ]
  },
  {
   "cell_type": "code",
   "execution_count": 32,
   "metadata": {
    "scrolled": true
   },
   "outputs": [],
   "source": [
    "load_dotenv()\n",
    "\n",
    "# If you are going to run this notebook, please add your own Foursquare credentials in a .env file.\n",
    "CLIENT_ID = os.getenv('CLIENT_ID')\n",
    "CLIENT_SECRET = os.getenv('CLIENT_SECRET')"
   ]
  },
  {
   "cell_type": "code",
   "execution_count": 35,
   "metadata": {
    "scrolled": true
   },
   "outputs": [],
   "source": [
    "VERSION = '20180605' # Foursquare API version\n",
    "LIMIT = 100 # A default Foursquare API limit value\n",
    "radius = 500"
   ]
  },
  {
   "cell_type": "code",
   "execution_count": 36,
   "metadata": {
    "scrolled": true
   },
   "outputs": [],
   "source": [
    "# function that extracts the category of the venue. By Coursera.\n",
    "def get_category_type(row):\n",
    "    try:\n",
    "        categories_list = row['categories']\n",
    "    except:\n",
    "        categories_list = row['venue.categories']\n",
    "        \n",
    "    if len(categories_list) == 0:\n",
    "        return None\n",
    "    else:\n",
    "        return categories_list[0]['name']"
   ]
  },
  {
   "cell_type": "markdown",
   "metadata": {},
   "source": [
    "The next function returns nearby venues given a latitude and longitude"
   ]
  },
  {
   "cell_type": "code",
   "execution_count": 37,
   "metadata": {
    "scrolled": true
   },
   "outputs": [],
   "source": [
    "def getNearbyVenues(names, latitudes, longitudes, radius=500):\n",
    "    \n",
    "    venues_list=[]\n",
    "    for name, lat, lng in zip(names, latitudes, longitudes):\n",
    "        print(name)\n",
    "            \n",
    "        # create the API request URL\n",
    "        url = 'https://api.foursquare.com/v2/venues/explore?&client_id={}&client_secret={}&v={}&ll={},{}&radius={}&limit={}'.format(\n",
    "            CLIENT_ID, \n",
    "            CLIENT_SECRET, \n",
    "            VERSION, \n",
    "            lat, \n",
    "            lng, \n",
    "            radius, \n",
    "            LIMIT)\n",
    "            \n",
    "        # make the GET request\n",
    "        results = requests.get(url).json()[\"response\"]['groups'][0]['items']\n",
    "        \n",
    "        # return only relevant information for each nearby venue\n",
    "        venues_list.append([(\n",
    "            name, \n",
    "            lat, \n",
    "            lng, \n",
    "            v['venue']['name'], \n",
    "            v['venue']['location']['lat'], \n",
    "            v['venue']['location']['lng'],  \n",
    "            v['venue']['categories'][0]['name']) for v in results])\n",
    "\n",
    "    nearby_venues = pd.DataFrame([item for venue_list in venues_list for item in venue_list])\n",
    "    nearby_venues.columns = ['Neighborhood', \n",
    "                  'Neighborhood Latitude', \n",
    "                  'Neighborhood Longitude', \n",
    "                  'Venue', \n",
    "                  'Venue Latitude', \n",
    "                  'Venue Longitude', \n",
    "                  'Venue Category']\n",
    "    \n",
    "    return(nearby_venues)"
   ]
  },
  {
   "cell_type": "markdown",
   "metadata": {},
   "source": [
    "As the next piece of code takes some time to run, I exported the results to a .csv file.\n",
    "\n",
    "```python\n",
    "venues = getNearbyVenues(names=neighborhoods_data['Borough'],\n",
    "                                      latitudes=neighborhoods_data['Latitude'],\n",
    "                                      longitudes=neighborhoods_data['Longitude'])\n",
    "\n",
    "venues.to_csv('data/venues.csv', index=False)\n",
    "```"
   ]
  },
  {
   "cell_type": "code",
   "execution_count": 44,
   "metadata": {
    "scrolled": true
   },
   "outputs": [
    {
     "data": {
      "text/html": [
       "<div>\n",
       "<style scoped>\n",
       "    .dataframe tbody tr th:only-of-type {\n",
       "        vertical-align: middle;\n",
       "    }\n",
       "\n",
       "    .dataframe tbody tr th {\n",
       "        vertical-align: top;\n",
       "    }\n",
       "\n",
       "    .dataframe thead th {\n",
       "        text-align: right;\n",
       "    }\n",
       "</style>\n",
       "<table border=\"1\" class=\"dataframe\">\n",
       "  <thead>\n",
       "    <tr style=\"text-align: right;\">\n",
       "      <th></th>\n",
       "      <th>Neighborhood</th>\n",
       "      <th>Neighborhood Latitude</th>\n",
       "      <th>Neighborhood Longitude</th>\n",
       "      <th>Venue</th>\n",
       "      <th>Venue Latitude</th>\n",
       "      <th>Venue Longitude</th>\n",
       "      <th>Venue Category</th>\n",
       "    </tr>\n",
       "  </thead>\n",
       "  <tbody>\n",
       "    <tr>\n",
       "      <th>0</th>\n",
       "      <td>North York</td>\n",
       "      <td>43.753259</td>\n",
       "      <td>-79.329656</td>\n",
       "      <td>Brookbanks Park</td>\n",
       "      <td>43.751976</td>\n",
       "      <td>-79.332140</td>\n",
       "      <td>Park</td>\n",
       "    </tr>\n",
       "    <tr>\n",
       "      <th>1</th>\n",
       "      <td>North York</td>\n",
       "      <td>43.753259</td>\n",
       "      <td>-79.329656</td>\n",
       "      <td>Variety Store</td>\n",
       "      <td>43.751974</td>\n",
       "      <td>-79.333114</td>\n",
       "      <td>Food &amp; Drink Shop</td>\n",
       "    </tr>\n",
       "    <tr>\n",
       "      <th>2</th>\n",
       "      <td>North York</td>\n",
       "      <td>43.725882</td>\n",
       "      <td>-79.315572</td>\n",
       "      <td>Victoria Village Arena</td>\n",
       "      <td>43.723481</td>\n",
       "      <td>-79.315635</td>\n",
       "      <td>Hockey Arena</td>\n",
       "    </tr>\n",
       "    <tr>\n",
       "      <th>3</th>\n",
       "      <td>North York</td>\n",
       "      <td>43.725882</td>\n",
       "      <td>-79.315572</td>\n",
       "      <td>Tim Hortons</td>\n",
       "      <td>43.725517</td>\n",
       "      <td>-79.313103</td>\n",
       "      <td>Coffee Shop</td>\n",
       "    </tr>\n",
       "    <tr>\n",
       "      <th>4</th>\n",
       "      <td>North York</td>\n",
       "      <td>43.725882</td>\n",
       "      <td>-79.315572</td>\n",
       "      <td>Portugril</td>\n",
       "      <td>43.725819</td>\n",
       "      <td>-79.312785</td>\n",
       "      <td>Portuguese Restaurant</td>\n",
       "    </tr>\n",
       "  </tbody>\n",
       "</table>\n",
       "</div>"
      ],
      "text/plain": [
       "  Neighborhood  Neighborhood Latitude  Neighborhood Longitude  \\\n",
       "0   North York              43.753259              -79.329656   \n",
       "1   North York              43.753259              -79.329656   \n",
       "2   North York              43.725882              -79.315572   \n",
       "3   North York              43.725882              -79.315572   \n",
       "4   North York              43.725882              -79.315572   \n",
       "\n",
       "                    Venue  Venue Latitude  Venue Longitude  \\\n",
       "0         Brookbanks Park       43.751976       -79.332140   \n",
       "1           Variety Store       43.751974       -79.333114   \n",
       "2  Victoria Village Arena       43.723481       -79.315635   \n",
       "3             Tim Hortons       43.725517       -79.313103   \n",
       "4               Portugril       43.725819       -79.312785   \n",
       "\n",
       "          Venue Category  \n",
       "0                   Park  \n",
       "1      Food & Drink Shop  \n",
       "2           Hockey Arena  \n",
       "3            Coffee Shop  \n",
       "4  Portuguese Restaurant  "
      ]
     },
     "execution_count": 44,
     "metadata": {},
     "output_type": "execute_result"
    }
   ],
   "source": [
    "# Neighborhood refers to the borough\n",
    "venues = pd.read_csv('data/venues.csv')\n",
    "venues.head()"
   ]
  },
  {
   "cell_type": "code",
   "execution_count": 45,
   "metadata": {
    "scrolled": true
   },
   "outputs": [
    {
     "data": {
      "text/plain": [
       "(273,)"
      ]
     },
     "execution_count": 45,
     "metadata": {},
     "output_type": "execute_result"
    }
   ],
   "source": [
    "venues['Venue Category'].unique().shape"
   ]
  },
  {
   "cell_type": "markdown",
   "metadata": {},
   "source": [
    "Perfect! Now we have used Foursquare data to obtain information about venues close to each neighborhood in Toronto. The next step is processing the obtained data to feed it into our clustering algorithm."
   ]
  },
  {
   "cell_type": "markdown",
   "metadata": {},
   "source": [
    "### Data wrangling"
   ]
  },
  {
   "cell_type": "markdown",
   "metadata": {
    "scrolled": true
   },
   "source": [
    "It's time to prepare our data so it can be fed into the machine learning algorithm."
   ]
  },
  {
   "cell_type": "code",
   "execution_count": 46,
   "metadata": {},
   "outputs": [],
   "source": [
    "# From IMB/Coursera Course:\n",
    "# one hot encoding\n",
    "neighborhoods_onehot = pd.get_dummies(venues[['Venue Category']], prefix=\"\", prefix_sep=\"\")\n",
    "\n",
    "# add neighborhood column back to dataframe\n",
    "neighborhoods_onehot['Neighborhood'] = venues['Neighborhood'] \n",
    "\n",
    "# move neighborhood column to the first column\n",
    "first_col = neighborhoods_onehot.pop(\"Neighborhood\")\n",
    "neighborhoods_onehot.insert(0, \"Neighborhood\", first_col)"
   ]
  },
  {
   "cell_type": "code",
   "execution_count": 47,
   "metadata": {},
   "outputs": [
    {
     "data": {
      "text/html": [
       "<div>\n",
       "<style scoped>\n",
       "    .dataframe tbody tr th:only-of-type {\n",
       "        vertical-align: middle;\n",
       "    }\n",
       "\n",
       "    .dataframe tbody tr th {\n",
       "        vertical-align: top;\n",
       "    }\n",
       "\n",
       "    .dataframe thead th {\n",
       "        text-align: right;\n",
       "    }\n",
       "</style>\n",
       "<table border=\"1\" class=\"dataframe\">\n",
       "  <thead>\n",
       "    <tr style=\"text-align: right;\">\n",
       "      <th></th>\n",
       "      <th>Neighborhood</th>\n",
       "      <th>Accessories Store</th>\n",
       "      <th>Afghan Restaurant</th>\n",
       "      <th>Airport</th>\n",
       "      <th>Airport Food Court</th>\n",
       "      <th>Airport Gate</th>\n",
       "      <th>Airport Lounge</th>\n",
       "      <th>Airport Service</th>\n",
       "      <th>Airport Terminal</th>\n",
       "      <th>American Restaurant</th>\n",
       "      <th>...</th>\n",
       "      <th>Train Station</th>\n",
       "      <th>Turkish Restaurant</th>\n",
       "      <th>Vegetarian / Vegan Restaurant</th>\n",
       "      <th>Video Game Store</th>\n",
       "      <th>Vietnamese Restaurant</th>\n",
       "      <th>Warehouse Store</th>\n",
       "      <th>Wine Bar</th>\n",
       "      <th>Wings Joint</th>\n",
       "      <th>Women's Store</th>\n",
       "      <th>Yoga Studio</th>\n",
       "    </tr>\n",
       "  </thead>\n",
       "  <tbody>\n",
       "    <tr>\n",
       "      <th>0</th>\n",
       "      <td>Central Toronto</td>\n",
       "      <td>0.0</td>\n",
       "      <td>0.000000</td>\n",
       "      <td>0.000000</td>\n",
       "      <td>0.000000</td>\n",
       "      <td>0.000000</td>\n",
       "      <td>0.000000</td>\n",
       "      <td>0.000000</td>\n",
       "      <td>0.000000</td>\n",
       "      <td>0.009615</td>\n",
       "      <td>...</td>\n",
       "      <td>0.000000</td>\n",
       "      <td>0.0</td>\n",
       "      <td>0.000000</td>\n",
       "      <td>0.000000</td>\n",
       "      <td>0.009615</td>\n",
       "      <td>0.000000</td>\n",
       "      <td>0.000000</td>\n",
       "      <td>0.000000</td>\n",
       "      <td>0.0</td>\n",
       "      <td>0.009615</td>\n",
       "    </tr>\n",
       "    <tr>\n",
       "      <th>1</th>\n",
       "      <td>Downtown Toronto</td>\n",
       "      <td>0.0</td>\n",
       "      <td>0.000801</td>\n",
       "      <td>0.000801</td>\n",
       "      <td>0.000801</td>\n",
       "      <td>0.000801</td>\n",
       "      <td>0.001603</td>\n",
       "      <td>0.001603</td>\n",
       "      <td>0.000801</td>\n",
       "      <td>0.013622</td>\n",
       "      <td>...</td>\n",
       "      <td>0.002404</td>\n",
       "      <td>0.0</td>\n",
       "      <td>0.011218</td>\n",
       "      <td>0.001603</td>\n",
       "      <td>0.004006</td>\n",
       "      <td>0.000000</td>\n",
       "      <td>0.006410</td>\n",
       "      <td>0.000000</td>\n",
       "      <td>0.0</td>\n",
       "      <td>0.005609</td>\n",
       "    </tr>\n",
       "    <tr>\n",
       "      <th>2</th>\n",
       "      <td>East Toronto</td>\n",
       "      <td>0.0</td>\n",
       "      <td>0.000000</td>\n",
       "      <td>0.000000</td>\n",
       "      <td>0.000000</td>\n",
       "      <td>0.000000</td>\n",
       "      <td>0.000000</td>\n",
       "      <td>0.000000</td>\n",
       "      <td>0.000000</td>\n",
       "      <td>0.025210</td>\n",
       "      <td>...</td>\n",
       "      <td>0.000000</td>\n",
       "      <td>0.0</td>\n",
       "      <td>0.000000</td>\n",
       "      <td>0.000000</td>\n",
       "      <td>0.000000</td>\n",
       "      <td>0.000000</td>\n",
       "      <td>0.008403</td>\n",
       "      <td>0.000000</td>\n",
       "      <td>0.0</td>\n",
       "      <td>0.016807</td>\n",
       "    </tr>\n",
       "    <tr>\n",
       "      <th>3</th>\n",
       "      <td>East York</td>\n",
       "      <td>0.0</td>\n",
       "      <td>0.000000</td>\n",
       "      <td>0.000000</td>\n",
       "      <td>0.000000</td>\n",
       "      <td>0.000000</td>\n",
       "      <td>0.000000</td>\n",
       "      <td>0.000000</td>\n",
       "      <td>0.000000</td>\n",
       "      <td>0.000000</td>\n",
       "      <td>...</td>\n",
       "      <td>0.000000</td>\n",
       "      <td>0.0</td>\n",
       "      <td>0.000000</td>\n",
       "      <td>0.000000</td>\n",
       "      <td>0.000000</td>\n",
       "      <td>0.012658</td>\n",
       "      <td>0.000000</td>\n",
       "      <td>0.000000</td>\n",
       "      <td>0.0</td>\n",
       "      <td>0.012658</td>\n",
       "    </tr>\n",
       "    <tr>\n",
       "      <th>4</th>\n",
       "      <td>Etobicoke</td>\n",
       "      <td>0.0</td>\n",
       "      <td>0.000000</td>\n",
       "      <td>0.000000</td>\n",
       "      <td>0.000000</td>\n",
       "      <td>0.000000</td>\n",
       "      <td>0.000000</td>\n",
       "      <td>0.000000</td>\n",
       "      <td>0.000000</td>\n",
       "      <td>0.013514</td>\n",
       "      <td>...</td>\n",
       "      <td>0.000000</td>\n",
       "      <td>0.0</td>\n",
       "      <td>0.000000</td>\n",
       "      <td>0.000000</td>\n",
       "      <td>0.000000</td>\n",
       "      <td>0.000000</td>\n",
       "      <td>0.000000</td>\n",
       "      <td>0.013514</td>\n",
       "      <td>0.0</td>\n",
       "      <td>0.000000</td>\n",
       "    </tr>\n",
       "  </tbody>\n",
       "</table>\n",
       "<p>5 rows × 273 columns</p>\n",
       "</div>"
      ],
      "text/plain": [
       "       Neighborhood  Accessories Store  Afghan Restaurant   Airport  \\\n",
       "0   Central Toronto                0.0           0.000000  0.000000   \n",
       "1  Downtown Toronto                0.0           0.000801  0.000801   \n",
       "2      East Toronto                0.0           0.000000  0.000000   \n",
       "3         East York                0.0           0.000000  0.000000   \n",
       "4         Etobicoke                0.0           0.000000  0.000000   \n",
       "\n",
       "   Airport Food Court  Airport Gate  Airport Lounge  Airport Service  \\\n",
       "0            0.000000      0.000000        0.000000         0.000000   \n",
       "1            0.000801      0.000801        0.001603         0.001603   \n",
       "2            0.000000      0.000000        0.000000         0.000000   \n",
       "3            0.000000      0.000000        0.000000         0.000000   \n",
       "4            0.000000      0.000000        0.000000         0.000000   \n",
       "\n",
       "   Airport Terminal  American Restaurant  ...  Train Station  \\\n",
       "0          0.000000             0.009615  ...       0.000000   \n",
       "1          0.000801             0.013622  ...       0.002404   \n",
       "2          0.000000             0.025210  ...       0.000000   \n",
       "3          0.000000             0.000000  ...       0.000000   \n",
       "4          0.000000             0.013514  ...       0.000000   \n",
       "\n",
       "   Turkish Restaurant  Vegetarian / Vegan Restaurant  Video Game Store  \\\n",
       "0                 0.0                       0.000000          0.000000   \n",
       "1                 0.0                       0.011218          0.001603   \n",
       "2                 0.0                       0.000000          0.000000   \n",
       "3                 0.0                       0.000000          0.000000   \n",
       "4                 0.0                       0.000000          0.000000   \n",
       "\n",
       "   Vietnamese Restaurant  Warehouse Store  Wine Bar  Wings Joint  \\\n",
       "0               0.009615         0.000000  0.000000     0.000000   \n",
       "1               0.004006         0.000000  0.006410     0.000000   \n",
       "2               0.000000         0.000000  0.008403     0.000000   \n",
       "3               0.000000         0.012658  0.000000     0.000000   \n",
       "4               0.000000         0.000000  0.000000     0.013514   \n",
       "\n",
       "   Women's Store  Yoga Studio  \n",
       "0            0.0     0.009615  \n",
       "1            0.0     0.005609  \n",
       "2            0.0     0.016807  \n",
       "3            0.0     0.012658  \n",
       "4            0.0     0.000000  \n",
       "\n",
       "[5 rows x 273 columns]"
      ]
     },
     "execution_count": 47,
     "metadata": {},
     "output_type": "execute_result"
    }
   ],
   "source": [
    "neighborhoods_grouped = neighborhoods_onehot.groupby(\"Neighborhood\").mean().reset_index()\n",
    "neighborhoods_grouped.head()"
   ]
  },
  {
   "cell_type": "markdown",
   "metadata": {},
   "source": [
    "Print each neighborhoods most common venues"
   ]
  },
  {
   "cell_type": "code",
   "execution_count": 48,
   "metadata": {
    "tags": [
     "outputPrepend"
    ]
   },
   "outputs": [
    {
     "name": "stdout",
     "output_type": "stream",
     "text": [
      "----Central Toronto----\n",
      "            venue  freq\n",
      "0     Coffee Shop  0.08\n",
      "1  Sandwich Place  0.07\n",
      "2            Park  0.06\n",
      "3            Café  0.06\n",
      "4     Pizza Place  0.05\n",
      "\n",
      "\n",
      "----Downtown Toronto----\n",
      "                venue  freq\n",
      "0         Coffee Shop  0.11\n",
      "1                Café  0.05\n",
      "2          Restaurant  0.04\n",
      "3               Hotel  0.03\n",
      "4  Seafood Restaurant  0.02\n",
      "\n",
      "\n",
      "----East Toronto----\n",
      "                venue  freq\n",
      "0         Coffee Shop  0.07\n",
      "1    Greek Restaurant  0.06\n",
      "2  Italian Restaurant  0.04\n",
      "3             Brewery  0.04\n",
      "4              Bakery  0.03\n",
      "\n",
      "\n",
      "----East York----\n",
      "            venue  freq\n",
      "0    Intersection  0.05\n",
      "1     Coffee Shop  0.05\n",
      "2            Bank  0.05\n",
      "3  Sandwich Place  0.04\n",
      "4            Park  0.04\n",
      "\n",
      "\n",
      "----Etobicoke----\n",
      "            venue  freq\n",
      "0     Pizza Place  0.11\n",
      "1     Coffee Shop  0.07\n",
      "2  Sandwich Place  0.07\n",
      "3        Pharmacy  0.05\n",
      "4             Gym  0.04\n",
      "\n",
      "\n",
      "----Mississauga----\n",
      "                      venue  freq\n",
      "0                     Hotel  0.15\n",
      "1               Coffee Shop  0.15\n",
      "2                       Gym  0.08\n",
      "3              Intersection  0.08\n",
      "4  Mediterranean Restaurant  0.08\n",
      "\n",
      "\n",
      "----North York----\n",
      "                 venue  freq\n",
      "0          Coffee Shop  0.07\n",
      "1       Clothing Store  0.05\n",
      "2  Japanese Restaurant  0.04\n",
      "3       Sandwich Place  0.03\n",
      "4          Pizza Place  0.03\n",
      "\n",
      "\n",
      "----Scarborough----\n",
      "                  venue  freq\n",
      "0                Bakery  0.06\n",
      "1          Intersection  0.04\n",
      "2                  Bank  0.04\n",
      "3           Coffee Shop  0.04\n",
      "4  Fast Food Restaurant  0.04\n",
      "\n",
      "\n",
      "----West Toronto----\n",
      "                venue  freq\n",
      "0                Café  0.07\n",
      "1                 Bar  0.07\n",
      "2         Coffee Shop  0.06\n",
      "3  Italian Restaurant  0.04\n",
      "4              Bakery  0.03\n",
      "\n",
      "\n",
      "----York----\n",
      "               venue  freq\n",
      "0               Park  0.20\n",
      "1       Tennis Court  0.05\n",
      "2  Convenience Store  0.05\n",
      "3       Hockey Arena  0.05\n",
      "4               Pool  0.05\n",
      "\n",
      "\n"
     ]
    }
   ],
   "source": [
    "num_top_venues = 5\n",
    "\n",
    "for hood in neighborhoods_grouped['Neighborhood']:\n",
    "    print(\"----\"+hood+\"----\")\n",
    "    temp = neighborhoods_grouped[neighborhoods_grouped['Neighborhood'] == hood].T.reset_index()\n",
    "    temp.columns = ['venue','freq']\n",
    "    temp = temp.iloc[1:]\n",
    "    temp['freq'] = temp['freq'].astype(float)\n",
    "    temp = temp.round({'freq': 2})\n",
    "    print(temp.sort_values('freq', ascending=False).reset_index(drop=True).head(num_top_venues))\n",
    "    print('\\n')"
   ]
  },
  {
   "cell_type": "markdown",
   "metadata": {},
   "source": [
    "Put it into a dataframe"
   ]
  },
  {
   "cell_type": "code",
   "execution_count": 49,
   "metadata": {},
   "outputs": [],
   "source": [
    "def return_most_common_venues(row, num_top_venues):\n",
    "    row_categories = row.iloc[1:]\n",
    "    row_categories_sorted = row_categories.sort_values(ascending=False)\n",
    "    \n",
    "    return row_categories_sorted.index.values[0:num_top_venues]"
   ]
  },
  {
   "cell_type": "code",
   "execution_count": 50,
   "metadata": {},
   "outputs": [
    {
     "data": {
      "text/html": [
       "<div>\n",
       "<style scoped>\n",
       "    .dataframe tbody tr th:only-of-type {\n",
       "        vertical-align: middle;\n",
       "    }\n",
       "\n",
       "    .dataframe tbody tr th {\n",
       "        vertical-align: top;\n",
       "    }\n",
       "\n",
       "    .dataframe thead th {\n",
       "        text-align: right;\n",
       "    }\n",
       "</style>\n",
       "<table border=\"1\" class=\"dataframe\">\n",
       "  <thead>\n",
       "    <tr style=\"text-align: right;\">\n",
       "      <th></th>\n",
       "      <th>Neighborhood</th>\n",
       "      <th>1st Most Common Venue</th>\n",
       "      <th>2nd Most Common Venue</th>\n",
       "      <th>3rd Most Common Venue</th>\n",
       "      <th>4th Most Common Venue</th>\n",
       "      <th>5th Most Common Venue</th>\n",
       "      <th>6th Most Common Venue</th>\n",
       "      <th>7th Most Common Venue</th>\n",
       "      <th>8th Most Common Venue</th>\n",
       "      <th>9th Most Common Venue</th>\n",
       "      <th>10th Most Common Venue</th>\n",
       "    </tr>\n",
       "  </thead>\n",
       "  <tbody>\n",
       "    <tr>\n",
       "      <th>0</th>\n",
       "      <td>Central Toronto</td>\n",
       "      <td>Coffee Shop</td>\n",
       "      <td>Sandwich Place</td>\n",
       "      <td>Park</td>\n",
       "      <td>Café</td>\n",
       "      <td>Pizza Place</td>\n",
       "      <td>Sushi Restaurant</td>\n",
       "      <td>Dessert Shop</td>\n",
       "      <td>Restaurant</td>\n",
       "      <td>Bagel Shop</td>\n",
       "      <td>Italian Restaurant</td>\n",
       "    </tr>\n",
       "    <tr>\n",
       "      <th>1</th>\n",
       "      <td>Downtown Toronto</td>\n",
       "      <td>Coffee Shop</td>\n",
       "      <td>Café</td>\n",
       "      <td>Restaurant</td>\n",
       "      <td>Hotel</td>\n",
       "      <td>Japanese Restaurant</td>\n",
       "      <td>Italian Restaurant</td>\n",
       "      <td>Bakery</td>\n",
       "      <td>Park</td>\n",
       "      <td>Gym</td>\n",
       "      <td>Seafood Restaurant</td>\n",
       "    </tr>\n",
       "    <tr>\n",
       "      <th>2</th>\n",
       "      <td>East Toronto</td>\n",
       "      <td>Coffee Shop</td>\n",
       "      <td>Greek Restaurant</td>\n",
       "      <td>Italian Restaurant</td>\n",
       "      <td>Brewery</td>\n",
       "      <td>Park</td>\n",
       "      <td>Ice Cream Shop</td>\n",
       "      <td>Restaurant</td>\n",
       "      <td>Bookstore</td>\n",
       "      <td>Café</td>\n",
       "      <td>Pub</td>\n",
       "    </tr>\n",
       "    <tr>\n",
       "      <th>3</th>\n",
       "      <td>East York</td>\n",
       "      <td>Intersection</td>\n",
       "      <td>Coffee Shop</td>\n",
       "      <td>Bank</td>\n",
       "      <td>Burger Joint</td>\n",
       "      <td>Sandwich Place</td>\n",
       "      <td>Sporting Goods Shop</td>\n",
       "      <td>Pizza Place</td>\n",
       "      <td>Park</td>\n",
       "      <td>Indian Restaurant</td>\n",
       "      <td>Pet Store</td>\n",
       "    </tr>\n",
       "    <tr>\n",
       "      <th>4</th>\n",
       "      <td>Etobicoke</td>\n",
       "      <td>Pizza Place</td>\n",
       "      <td>Coffee Shop</td>\n",
       "      <td>Sandwich Place</td>\n",
       "      <td>Pharmacy</td>\n",
       "      <td>Fast Food Restaurant</td>\n",
       "      <td>Grocery Store</td>\n",
       "      <td>Gym</td>\n",
       "      <td>Liquor Store</td>\n",
       "      <td>Café</td>\n",
       "      <td>Convenience Store</td>\n",
       "    </tr>\n",
       "  </tbody>\n",
       "</table>\n",
       "</div>"
      ],
      "text/plain": [
       "       Neighborhood 1st Most Common Venue 2nd Most Common Venue  \\\n",
       "0   Central Toronto           Coffee Shop        Sandwich Place   \n",
       "1  Downtown Toronto           Coffee Shop                  Café   \n",
       "2      East Toronto           Coffee Shop      Greek Restaurant   \n",
       "3         East York          Intersection           Coffee Shop   \n",
       "4         Etobicoke           Pizza Place           Coffee Shop   \n",
       "\n",
       "  3rd Most Common Venue 4th Most Common Venue 5th Most Common Venue  \\\n",
       "0                  Park                  Café           Pizza Place   \n",
       "1            Restaurant                 Hotel   Japanese Restaurant   \n",
       "2    Italian Restaurant               Brewery                  Park   \n",
       "3                  Bank          Burger Joint        Sandwich Place   \n",
       "4        Sandwich Place              Pharmacy  Fast Food Restaurant   \n",
       "\n",
       "  6th Most Common Venue 7th Most Common Venue 8th Most Common Venue  \\\n",
       "0      Sushi Restaurant          Dessert Shop            Restaurant   \n",
       "1    Italian Restaurant                Bakery                  Park   \n",
       "2        Ice Cream Shop            Restaurant             Bookstore   \n",
       "3   Sporting Goods Shop           Pizza Place                  Park   \n",
       "4         Grocery Store                   Gym          Liquor Store   \n",
       "\n",
       "  9th Most Common Venue 10th Most Common Venue  \n",
       "0            Bagel Shop     Italian Restaurant  \n",
       "1                   Gym     Seafood Restaurant  \n",
       "2                  Café                    Pub  \n",
       "3     Indian Restaurant              Pet Store  \n",
       "4                  Café      Convenience Store  "
      ]
     },
     "execution_count": 50,
     "metadata": {},
     "output_type": "execute_result"
    }
   ],
   "source": [
    "num_top_venues = 10\n",
    "\n",
    "indicators = ['st', 'nd', 'rd']\n",
    "\n",
    "# create columns according to number of top venues\n",
    "columns = ['Neighborhood']\n",
    "for ind in np.arange(num_top_venues):\n",
    "    try:\n",
    "        columns.append('{}{} Most Common Venue'.format(ind+1, indicators[ind]))\n",
    "    except:\n",
    "        columns.append('{}th Most Common Venue'.format(ind+1))\n",
    "\n",
    "# create a new dataframe\n",
    "neighborhoods_venues_sorted = pd.DataFrame(columns=columns)\n",
    "neighborhoods_venues_sorted['Neighborhood'] = neighborhoods_grouped['Neighborhood']\n",
    "\n",
    "for ind in np.arange(neighborhoods_grouped.shape[0]):\n",
    "    neighborhoods_venues_sorted.iloc[ind, 1:] = return_most_common_venues(neighborhoods_grouped.iloc[ind, :], num_top_venues)\n",
    "\n",
    "neighborhoods_venues_sorted.head()"
   ]
  },
  {
   "cell_type": "markdown",
   "metadata": {},
   "source": [
    "## Cluster Neighborhoods"
   ]
  },
  {
   "cell_type": "markdown",
   "metadata": {},
   "source": [
    "I will use KMeans to cluster the neighborhoods. Also, it's important to note that I don't have the coords to every neighborhood, so I am using the coords of their borough."
   ]
  },
  {
   "cell_type": "code",
   "execution_count": 63,
   "metadata": {},
   "outputs": [],
   "source": [
    "from sklearn.cluster import KMeans"
   ]
  },
  {
   "cell_type": "code",
   "execution_count": 64,
   "metadata": {},
   "outputs": [
    {
     "data": {
      "text/plain": [
       "array([2, 2, 2, 0, 4, 3, 2, 0, 2, 1])"
      ]
     },
     "execution_count": 64,
     "metadata": {},
     "output_type": "execute_result"
    }
   ],
   "source": [
    "# set number of clusters\n",
    "kclusters = 5\n",
    "\n",
    "neighborhoods_grouped_clustering = neighborhoods_grouped.drop('Neighborhood', 1)\n",
    "\n",
    "# run k-means clustering\n",
    "kmeans = KMeans(n_clusters=kclusters, random_state=0).fit(neighborhoods_grouped_clustering)\n",
    "\n",
    "# check cluster labels generated for each row in the dataframe\n",
    "kmeans.labels_[0:10] "
   ]
  },
  {
   "cell_type": "code",
   "execution_count": 70,
   "metadata": {},
   "outputs": [
    {
     "data": {
      "text/html": [
       "<div>\n",
       "<style scoped>\n",
       "    .dataframe tbody tr th:only-of-type {\n",
       "        vertical-align: middle;\n",
       "    }\n",
       "\n",
       "    .dataframe tbody tr th {\n",
       "        vertical-align: top;\n",
       "    }\n",
       "\n",
       "    .dataframe thead th {\n",
       "        text-align: right;\n",
       "    }\n",
       "</style>\n",
       "<table border=\"1\" class=\"dataframe\">\n",
       "  <thead>\n",
       "    <tr style=\"text-align: right;\">\n",
       "      <th></th>\n",
       "      <th>Postal Code</th>\n",
       "      <th>Borough</th>\n",
       "      <th>Neighborhoods</th>\n",
       "      <th>Latitude</th>\n",
       "      <th>Longitude</th>\n",
       "      <th>Cluster Labels</th>\n",
       "      <th>1st Most Common Venue</th>\n",
       "      <th>2nd Most Common Venue</th>\n",
       "      <th>3rd Most Common Venue</th>\n",
       "      <th>4th Most Common Venue</th>\n",
       "      <th>5th Most Common Venue</th>\n",
       "      <th>6th Most Common Venue</th>\n",
       "      <th>7th Most Common Venue</th>\n",
       "      <th>8th Most Common Venue</th>\n",
       "      <th>9th Most Common Venue</th>\n",
       "      <th>10th Most Common Venue</th>\n",
       "    </tr>\n",
       "  </thead>\n",
       "  <tbody>\n",
       "    <tr>\n",
       "      <th>0</th>\n",
       "      <td>M3A</td>\n",
       "      <td>North York</td>\n",
       "      <td>Parkwoods</td>\n",
       "      <td>43.753259</td>\n",
       "      <td>-79.329656</td>\n",
       "      <td>2</td>\n",
       "      <td>Coffee Shop</td>\n",
       "      <td>Clothing Store</td>\n",
       "      <td>Japanese Restaurant</td>\n",
       "      <td>Pizza Place</td>\n",
       "      <td>Sandwich Place</td>\n",
       "      <td>Restaurant</td>\n",
       "      <td>Grocery Store</td>\n",
       "      <td>Park</td>\n",
       "      <td>Bank</td>\n",
       "      <td>Juice Bar</td>\n",
       "    </tr>\n",
       "    <tr>\n",
       "      <th>1</th>\n",
       "      <td>M4A</td>\n",
       "      <td>North York</td>\n",
       "      <td>Victoria Village</td>\n",
       "      <td>43.725882</td>\n",
       "      <td>-79.315572</td>\n",
       "      <td>2</td>\n",
       "      <td>Coffee Shop</td>\n",
       "      <td>Clothing Store</td>\n",
       "      <td>Japanese Restaurant</td>\n",
       "      <td>Pizza Place</td>\n",
       "      <td>Sandwich Place</td>\n",
       "      <td>Restaurant</td>\n",
       "      <td>Grocery Store</td>\n",
       "      <td>Park</td>\n",
       "      <td>Bank</td>\n",
       "      <td>Juice Bar</td>\n",
       "    </tr>\n",
       "    <tr>\n",
       "      <th>2</th>\n",
       "      <td>M5A</td>\n",
       "      <td>Downtown Toronto</td>\n",
       "      <td>Regent Park, Harbourfront</td>\n",
       "      <td>43.654260</td>\n",
       "      <td>-79.360636</td>\n",
       "      <td>2</td>\n",
       "      <td>Coffee Shop</td>\n",
       "      <td>Café</td>\n",
       "      <td>Restaurant</td>\n",
       "      <td>Hotel</td>\n",
       "      <td>Japanese Restaurant</td>\n",
       "      <td>Italian Restaurant</td>\n",
       "      <td>Bakery</td>\n",
       "      <td>Park</td>\n",
       "      <td>Gym</td>\n",
       "      <td>Seafood Restaurant</td>\n",
       "    </tr>\n",
       "    <tr>\n",
       "      <th>3</th>\n",
       "      <td>M6A</td>\n",
       "      <td>North York</td>\n",
       "      <td>Lawrence Manor, Lawrence Heights</td>\n",
       "      <td>43.718518</td>\n",
       "      <td>-79.464763</td>\n",
       "      <td>2</td>\n",
       "      <td>Coffee Shop</td>\n",
       "      <td>Clothing Store</td>\n",
       "      <td>Japanese Restaurant</td>\n",
       "      <td>Pizza Place</td>\n",
       "      <td>Sandwich Place</td>\n",
       "      <td>Restaurant</td>\n",
       "      <td>Grocery Store</td>\n",
       "      <td>Park</td>\n",
       "      <td>Bank</td>\n",
       "      <td>Juice Bar</td>\n",
       "    </tr>\n",
       "    <tr>\n",
       "      <th>4</th>\n",
       "      <td>M7A</td>\n",
       "      <td>Downtown Toronto</td>\n",
       "      <td>Queen's Park, Ontario Provincial Government</td>\n",
       "      <td>43.662301</td>\n",
       "      <td>-79.389494</td>\n",
       "      <td>2</td>\n",
       "      <td>Coffee Shop</td>\n",
       "      <td>Café</td>\n",
       "      <td>Restaurant</td>\n",
       "      <td>Hotel</td>\n",
       "      <td>Japanese Restaurant</td>\n",
       "      <td>Italian Restaurant</td>\n",
       "      <td>Bakery</td>\n",
       "      <td>Park</td>\n",
       "      <td>Gym</td>\n",
       "      <td>Seafood Restaurant</td>\n",
       "    </tr>\n",
       "  </tbody>\n",
       "</table>\n",
       "</div>"
      ],
      "text/plain": [
       "  Postal Code           Borough                                Neighborhoods  \\\n",
       "0         M3A        North York                                    Parkwoods   \n",
       "1         M4A        North York                             Victoria Village   \n",
       "2         M5A  Downtown Toronto                    Regent Park, Harbourfront   \n",
       "3         M6A        North York             Lawrence Manor, Lawrence Heights   \n",
       "4         M7A  Downtown Toronto  Queen's Park, Ontario Provincial Government   \n",
       "\n",
       "    Latitude  Longitude  Cluster Labels 1st Most Common Venue  \\\n",
       "0  43.753259 -79.329656               2           Coffee Shop   \n",
       "1  43.725882 -79.315572               2           Coffee Shop   \n",
       "2  43.654260 -79.360636               2           Coffee Shop   \n",
       "3  43.718518 -79.464763               2           Coffee Shop   \n",
       "4  43.662301 -79.389494               2           Coffee Shop   \n",
       "\n",
       "  2nd Most Common Venue 3rd Most Common Venue 4th Most Common Venue  \\\n",
       "0        Clothing Store   Japanese Restaurant           Pizza Place   \n",
       "1        Clothing Store   Japanese Restaurant           Pizza Place   \n",
       "2                  Café            Restaurant                 Hotel   \n",
       "3        Clothing Store   Japanese Restaurant           Pizza Place   \n",
       "4                  Café            Restaurant                 Hotel   \n",
       "\n",
       "  5th Most Common Venue 6th Most Common Venue 7th Most Common Venue  \\\n",
       "0        Sandwich Place            Restaurant         Grocery Store   \n",
       "1        Sandwich Place            Restaurant         Grocery Store   \n",
       "2   Japanese Restaurant    Italian Restaurant                Bakery   \n",
       "3        Sandwich Place            Restaurant         Grocery Store   \n",
       "4   Japanese Restaurant    Italian Restaurant                Bakery   \n",
       "\n",
       "  8th Most Common Venue 9th Most Common Venue 10th Most Common Venue  \n",
       "0                  Park                  Bank              Juice Bar  \n",
       "1                  Park                  Bank              Juice Bar  \n",
       "2                  Park                   Gym     Seafood Restaurant  \n",
       "3                  Park                  Bank              Juice Bar  \n",
       "4                  Park                   Gym     Seafood Restaurant  "
      ]
     },
     "execution_count": 70,
     "metadata": {},
     "output_type": "execute_result"
    }
   ],
   "source": [
    "# add clustering labels\n",
    "\n",
    "try:\n",
    "    neighborhoods_venues_sorted.insert(0, 'Cluster Labels', kmeans.labels_)\n",
    "except:\n",
    "    pass\n",
    "\n",
    "neighborhoods_merged = neighborhoods_data.rename(columns={\"Borough\": \"Neighborhood\"})\n",
    "\n",
    "neighborhoods_merged = neighborhoods_merged.join(neighborhoods_venues_sorted.set_index('Neighborhood'), on='Neighborhood').rename(columns={\"Neighborhood\":\"Borough\"})\n",
    "\n",
    "neighborhoods_merged.head() # check the last columns!"
   ]
  },
  {
   "cell_type": "code",
   "execution_count": 71,
   "metadata": {},
   "outputs": [],
   "source": [
    "import matplotlib.cm as cm\n",
    "import matplotlib.colors as colors"
   ]
  },
  {
   "cell_type": "markdown",
   "metadata": {},
   "source": [
    "The following map represents each neighborhood/borough with a marker in the map. Neighbourhoods with the same color are in the same cluster"
   ]
  },
  {
   "cell_type": "code",
   "execution_count": 74,
   "metadata": {},
   "outputs": [
    {
     "data": {
      "text/html": [
       "<div style=\"width:100%;\"><div style=\"position:relative;width:100%;height:0;padding-bottom:60%;\"><span style=\"color:#565656\">Make this Notebook Trusted to load map: File -> Trust Notebook</span><iframe src=\"about:blank\" style=\"position:absolute;width:100%;height:100%;left:0;top:0;border:none !important;\" data-html=PCFET0NUWVBFIGh0bWw+CjxoZWFkPiAgICAKICAgIDxtZXRhIGh0dHAtZXF1aXY9ImNvbnRlbnQtdHlwZSIgY29udGVudD0idGV4dC9odG1sOyBjaGFyc2V0PVVURi04IiAvPgogICAgCiAgICAgICAgPHNjcmlwdD4KICAgICAgICAgICAgTF9OT19UT1VDSCA9IGZhbHNlOwogICAgICAgICAgICBMX0RJU0FCTEVfM0QgPSBmYWxzZTsKICAgICAgICA8L3NjcmlwdD4KICAgIAogICAgPHNjcmlwdCBzcmM9Imh0dHBzOi8vY2RuLmpzZGVsaXZyLm5ldC9ucG0vbGVhZmxldEAxLjYuMC9kaXN0L2xlYWZsZXQuanMiPjwvc2NyaXB0PgogICAgPHNjcmlwdCBzcmM9Imh0dHBzOi8vY29kZS5qcXVlcnkuY29tL2pxdWVyeS0xLjEyLjQubWluLmpzIj48L3NjcmlwdD4KICAgIDxzY3JpcHQgc3JjPSJodHRwczovL21heGNkbi5ib290c3RyYXBjZG4uY29tL2Jvb3RzdHJhcC8zLjIuMC9qcy9ib290c3RyYXAubWluLmpzIj48L3NjcmlwdD4KICAgIDxzY3JpcHQgc3JjPSJodHRwczovL2NkbmpzLmNsb3VkZmxhcmUuY29tL2FqYXgvbGlicy9MZWFmbGV0LmF3ZXNvbWUtbWFya2Vycy8yLjAuMi9sZWFmbGV0LmF3ZXNvbWUtbWFya2Vycy5qcyI+PC9zY3JpcHQ+CiAgICA8bGluayByZWw9InN0eWxlc2hlZXQiIGhyZWY9Imh0dHBzOi8vY2RuLmpzZGVsaXZyLm5ldC9ucG0vbGVhZmxldEAxLjYuMC9kaXN0L2xlYWZsZXQuY3NzIi8+CiAgICA8bGluayByZWw9InN0eWxlc2hlZXQiIGhyZWY9Imh0dHBzOi8vbWF4Y2RuLmJvb3RzdHJhcGNkbi5jb20vYm9vdHN0cmFwLzMuMi4wL2Nzcy9ib290c3RyYXAubWluLmNzcyIvPgogICAgPGxpbmsgcmVsPSJzdHlsZXNoZWV0IiBocmVmPSJodHRwczovL21heGNkbi5ib290c3RyYXBjZG4uY29tL2Jvb3RzdHJhcC8zLjIuMC9jc3MvYm9vdHN0cmFwLXRoZW1lLm1pbi5jc3MiLz4KICAgIDxsaW5rIHJlbD0ic3R5bGVzaGVldCIgaHJlZj0iaHR0cHM6Ly9tYXhjZG4uYm9vdHN0cmFwY2RuLmNvbS9mb250LWF3ZXNvbWUvNC42LjMvY3NzL2ZvbnQtYXdlc29tZS5taW4uY3NzIi8+CiAgICA8bGluayByZWw9InN0eWxlc2hlZXQiIGhyZWY9Imh0dHBzOi8vY2RuanMuY2xvdWRmbGFyZS5jb20vYWpheC9saWJzL0xlYWZsZXQuYXdlc29tZS1tYXJrZXJzLzIuMC4yL2xlYWZsZXQuYXdlc29tZS1tYXJrZXJzLmNzcyIvPgogICAgPGxpbmsgcmVsPSJzdHlsZXNoZWV0IiBocmVmPSJodHRwczovL3Jhd2Nkbi5naXRoYWNrLmNvbS9weXRob24tdmlzdWFsaXphdGlvbi9mb2xpdW0vbWFzdGVyL2ZvbGl1bS90ZW1wbGF0ZXMvbGVhZmxldC5hd2Vzb21lLnJvdGF0ZS5jc3MiLz4KICAgIDxzdHlsZT5odG1sLCBib2R5IHt3aWR0aDogMTAwJTtoZWlnaHQ6IDEwMCU7bWFyZ2luOiAwO3BhZGRpbmc6IDA7fTwvc3R5bGU+CiAgICA8c3R5bGU+I21hcCB7cG9zaXRpb246YWJzb2x1dGU7dG9wOjA7Ym90dG9tOjA7cmlnaHQ6MDtsZWZ0OjA7fTwvc3R5bGU+CiAgICAKICAgICAgICAgICAgPG1ldGEgbmFtZT0idmlld3BvcnQiIGNvbnRlbnQ9IndpZHRoPWRldmljZS13aWR0aCwKICAgICAgICAgICAgICAgIGluaXRpYWwtc2NhbGU9MS4wLCBtYXhpbXVtLXNjYWxlPTEuMCwgdXNlci1zY2FsYWJsZT1ubyIgLz4KICAgICAgICAgICAgPHN0eWxlPgogICAgICAgICAgICAgICAgI21hcF81ODE1ODVmNDNmODU0ZWRkOTkyNjhkOGVhMGE5ZWNkNCB7CiAgICAgICAgICAgICAgICAgICAgcG9zaXRpb246IHJlbGF0aXZlOwogICAgICAgICAgICAgICAgICAgIHdpZHRoOiAxMDAuMCU7CiAgICAgICAgICAgICAgICAgICAgaGVpZ2h0OiAxMDAuMCU7CiAgICAgICAgICAgICAgICAgICAgbGVmdDogMC4wJTsKICAgICAgICAgICAgICAgICAgICB0b3A6IDAuMCU7CiAgICAgICAgICAgICAgICB9CiAgICAgICAgICAgIDwvc3R5bGU+CiAgICAgICAgCjwvaGVhZD4KPGJvZHk+ICAgIAogICAgCiAgICAgICAgICAgIDxkaXYgY2xhc3M9ImZvbGl1bS1tYXAiIGlkPSJtYXBfNTgxNTg1ZjQzZjg1NGVkZDk5MjY4ZDhlYTBhOWVjZDQiID48L2Rpdj4KICAgICAgICAKPC9ib2R5Pgo8c2NyaXB0PiAgICAKICAgIAogICAgICAgICAgICB2YXIgbWFwXzU4MTU4NWY0M2Y4NTRlZGQ5OTI2OGQ4ZWEwYTllY2Q0ID0gTC5tYXAoCiAgICAgICAgICAgICAgICAibWFwXzU4MTU4NWY0M2Y4NTRlZGQ5OTI2OGQ4ZWEwYTllY2Q0IiwKICAgICAgICAgICAgICAgIHsKICAgICAgICAgICAgICAgICAgICBjZW50ZXI6IFs0My42NTEwNywgLTc5LjM0NzAxNV0sCiAgICAgICAgICAgICAgICAgICAgY3JzOiBMLkNSUy5FUFNHMzg1NywKICAgICAgICAgICAgICAgICAgICB6b29tOiAxMSwKICAgICAgICAgICAgICAgICAgICB6b29tQ29udHJvbDogdHJ1ZSwKICAgICAgICAgICAgICAgICAgICBwcmVmZXJDYW52YXM6IGZhbHNlLAogICAgICAgICAgICAgICAgfQogICAgICAgICAgICApOwoKICAgICAgICAgICAgCgogICAgICAgIAogICAgCiAgICAgICAgICAgIHZhciB0aWxlX2xheWVyXzhlNmU5ODgzMzU1YjQ0ZDg5MTg4ZjljNTBmZmViZjI1ID0gTC50aWxlTGF5ZXIoCiAgICAgICAgICAgICAgICAiaHR0cHM6Ly97c30udGlsZS5vcGVuc3RyZWV0bWFwLm9yZy97en0ve3h9L3t5fS5wbmciLAogICAgICAgICAgICAgICAgeyJhdHRyaWJ1dGlvbiI6ICJEYXRhIGJ5IFx1MDAyNmNvcHk7IFx1MDAzY2EgaHJlZj1cImh0dHA6Ly9vcGVuc3RyZWV0bWFwLm9yZ1wiXHUwMDNlT3BlblN0cmVldE1hcFx1MDAzYy9hXHUwMDNlLCB1bmRlciBcdTAwM2NhIGhyZWY9XCJodHRwOi8vd3d3Lm9wZW5zdHJlZXRtYXAub3JnL2NvcHlyaWdodFwiXHUwMDNlT0RiTFx1MDAzYy9hXHUwMDNlLiIsICJkZXRlY3RSZXRpbmEiOiBmYWxzZSwgIm1heE5hdGl2ZVpvb20iOiAxOCwgIm1heFpvb20iOiAxOCwgIm1pblpvb20iOiAwLCAibm9XcmFwIjogZmFsc2UsICJvcGFjaXR5IjogMSwgInN1YmRvbWFpbnMiOiAiYWJjIiwgInRtcyI6IGZhbHNlfQogICAgICAgICAgICApLmFkZFRvKG1hcF81ODE1ODVmNDNmODU0ZWRkOTkyNjhkOGVhMGE5ZWNkNCk7CiAgICAgICAgCiAgICAKICAgICAgICAgICAgdmFyIGNpcmNsZV9tYXJrZXJfYjU1OTc1MWVmYzRkNDFhN2FmNTcwZDVkY2M2YjZjZTIgPSBMLmNpcmNsZU1hcmtlcigKICAgICAgICAgICAgICAgIFs0My43NTMyNTg2LCAtNzkuMzI5NjU2NV0sCiAgICAgICAgICAgICAgICB7ImJ1YmJsaW5nTW91c2VFdmVudHMiOiB0cnVlLCAiY29sb3IiOiAiIzAwYjVlYiIsICJkYXNoQXJyYXkiOiBudWxsLCAiZGFzaE9mZnNldCI6IG51bGwsICJmaWxsIjogdHJ1ZSwgImZpbGxDb2xvciI6ICIjMDBiNWViIiwgImZpbGxPcGFjaXR5IjogMC43LCAiZmlsbFJ1bGUiOiAiZXZlbm9kZCIsICJsaW5lQ2FwIjogInJvdW5kIiwgImxpbmVKb2luIjogInJvdW5kIiwgIm9wYWNpdHkiOiAxLjAsICJyYWRpdXMiOiA1LCAic3Ryb2tlIjogdHJ1ZSwgIndlaWdodCI6IDN9CiAgICAgICAgICAgICkuYWRkVG8obWFwXzU4MTU4NWY0M2Y4NTRlZGQ5OTI2OGQ4ZWEwYTllY2Q0KTsKICAgICAgICAKICAgIAogICAgICAgIHZhciBwb3B1cF85NzUxYjMyM2U3MGI0OTg0ODBiYWZjNmJjNDNlNDcyYSA9IEwucG9wdXAoeyJtYXhXaWR0aCI6ICIxMDAlIn0pOwoKICAgICAgICAKICAgICAgICAgICAgdmFyIGh0bWxfYTNiOTBiZjU4NDY3NGY4ZGEyM2I4MzY0MGI0NGJlNzQgPSAkKGA8ZGl2IGlkPSJodG1sX2EzYjkwYmY1ODQ2NzRmOGRhMjNiODM2NDBiNDRiZTc0IiBzdHlsZT0id2lkdGg6IDEwMC4wJTsgaGVpZ2h0OiAxMDAuMCU7Ij5Ob3J0aCBZb3JrIENsdXN0ZXIgMjwvZGl2PmApWzBdOwogICAgICAgICAgICBwb3B1cF85NzUxYjMyM2U3MGI0OTg0ODBiYWZjNmJjNDNlNDcyYS5zZXRDb250ZW50KGh0bWxfYTNiOTBiZjU4NDY3NGY4ZGEyM2I4MzY0MGI0NGJlNzQpOwogICAgICAgIAoKICAgICAgICBjaXJjbGVfbWFya2VyX2I1NTk3NTFlZmM0ZDQxYTdhZjU3MGQ1ZGNjNmI2Y2UyLmJpbmRQb3B1cChwb3B1cF85NzUxYjMyM2U3MGI0OTg0ODBiYWZjNmJjNDNlNDcyYSkKICAgICAgICA7CgogICAgICAgIAogICAgCiAgICAKICAgICAgICAgICAgdmFyIGNpcmNsZV9tYXJrZXJfODFhZThhZTAzZjhmNDNkNGEzNTRkNTRmMjBhY2IzMjUgPSBMLmNpcmNsZU1hcmtlcigKICAgICAgICAgICAgICAgIFs0My43MjU4ODIyOTk5OTk5OTUsIC03OS4zMTU1NzE1OTk5OTk5OF0sCiAgICAgICAgICAgICAgICB7ImJ1YmJsaW5nTW91c2VFdmVudHMiOiB0cnVlLCAiY29sb3IiOiAiIzAwYjVlYiIsICJkYXNoQXJyYXkiOiBudWxsLCAiZGFzaE9mZnNldCI6IG51bGwsICJmaWxsIjogdHJ1ZSwgImZpbGxDb2xvciI6ICIjMDBiNWViIiwgImZpbGxPcGFjaXR5IjogMC43LCAiZmlsbFJ1bGUiOiAiZXZlbm9kZCIsICJsaW5lQ2FwIjogInJvdW5kIiwgImxpbmVKb2luIjogInJvdW5kIiwgIm9wYWNpdHkiOiAxLjAsICJyYWRpdXMiOiA1LCAic3Ryb2tlIjogdHJ1ZSwgIndlaWdodCI6IDN9CiAgICAgICAgICAgICkuYWRkVG8obWFwXzU4MTU4NWY0M2Y4NTRlZGQ5OTI2OGQ4ZWEwYTllY2Q0KTsKICAgICAgICAKICAgIAogICAgICAgIHZhciBwb3B1cF9jNjllMDVlOGViNmE0ODBiOWRhZGNiZDVhYmM0YTAyMiA9IEwucG9wdXAoeyJtYXhXaWR0aCI6ICIxMDAlIn0pOwoKICAgICAgICAKICAgICAgICAgICAgdmFyIGh0bWxfYTdjYmQzMWZhM2JlNDFkYjllMjg1YWI0MWZhMTAwM2MgPSAkKGA8ZGl2IGlkPSJodG1sX2E3Y2JkMzFmYTNiZTQxZGI5ZTI4NWFiNDFmYTEwMDNjIiBzdHlsZT0id2lkdGg6IDEwMC4wJTsgaGVpZ2h0OiAxMDAuMCU7Ij5Ob3J0aCBZb3JrIENsdXN0ZXIgMjwvZGl2PmApWzBdOwogICAgICAgICAgICBwb3B1cF9jNjllMDVlOGViNmE0ODBiOWRhZGNiZDVhYmM0YTAyMi5zZXRDb250ZW50KGh0bWxfYTdjYmQzMWZhM2JlNDFkYjllMjg1YWI0MWZhMTAwM2MpOwogICAgICAgIAoKICAgICAgICBjaXJjbGVfbWFya2VyXzgxYWU4YWUwM2Y4ZjQzZDRhMzU0ZDU0ZjIwYWNiMzI1LmJpbmRQb3B1cChwb3B1cF9jNjllMDVlOGViNmE0ODBiOWRhZGNiZDVhYmM0YTAyMikKICAgICAgICA7CgogICAgICAgIAogICAgCiAgICAKICAgICAgICAgICAgdmFyIGNpcmNsZV9tYXJrZXJfMTkzOWNmNGJiMDVjNDIzNWE3ZWJhYjdmMDA5NjcyMTEgPSBMLmNpcmNsZU1hcmtlcigKICAgICAgICAgICAgICAgIFs0My42NTQyNTk5LCAtNzkuMzYwNjM1OV0sCiAgICAgICAgICAgICAgICB7ImJ1YmJsaW5nTW91c2VFdmVudHMiOiB0cnVlLCAiY29sb3IiOiAiIzAwYjVlYiIsICJkYXNoQXJyYXkiOiBudWxsLCAiZGFzaE9mZnNldCI6IG51bGwsICJmaWxsIjogdHJ1ZSwgImZpbGxDb2xvciI6ICIjMDBiNWViIiwgImZpbGxPcGFjaXR5IjogMC43LCAiZmlsbFJ1bGUiOiAiZXZlbm9kZCIsICJsaW5lQ2FwIjogInJvdW5kIiwgImxpbmVKb2luIjogInJvdW5kIiwgIm9wYWNpdHkiOiAxLjAsICJyYWRpdXMiOiA1LCAic3Ryb2tlIjogdHJ1ZSwgIndlaWdodCI6IDN9CiAgICAgICAgICAgICkuYWRkVG8obWFwXzU4MTU4NWY0M2Y4NTRlZGQ5OTI2OGQ4ZWEwYTllY2Q0KTsKICAgICAgICAKICAgIAogICAgICAgIHZhciBwb3B1cF82NGY4MjgxYTA5MDM0MDM3OWU0NjUxYTM4Y2Q1OWQyNCA9IEwucG9wdXAoeyJtYXhXaWR0aCI6ICIxMDAlIn0pOwoKICAgICAgICAKICAgICAgICAgICAgdmFyIGh0bWxfZjg3YTI3ZjU1OGY1NDY5Y2JlMzk2ZjcyMTAwZWE2MjMgPSAkKGA8ZGl2IGlkPSJodG1sX2Y4N2EyN2Y1NThmNTQ2OWNiZTM5NmY3MjEwMGVhNjIzIiBzdHlsZT0id2lkdGg6IDEwMC4wJTsgaGVpZ2h0OiAxMDAuMCU7Ij5Eb3dudG93biBUb3JvbnRvIENsdXN0ZXIgMjwvZGl2PmApWzBdOwogICAgICAgICAgICBwb3B1cF82NGY4MjgxYTA5MDM0MDM3OWU0NjUxYTM4Y2Q1OWQyNC5zZXRDb250ZW50KGh0bWxfZjg3YTI3ZjU1OGY1NDY5Y2JlMzk2ZjcyMTAwZWE2MjMpOwogICAgICAgIAoKICAgICAgICBjaXJjbGVfbWFya2VyXzE5MzljZjRiYjA1YzQyMzVhN2ViYWI3ZjAwOTY3MjExLmJpbmRQb3B1cChwb3B1cF82NGY4MjgxYTA5MDM0MDM3OWU0NjUxYTM4Y2Q1OWQyNCkKICAgICAgICA7CgogICAgICAgIAogICAgCiAgICAKICAgICAgICAgICAgdmFyIGNpcmNsZV9tYXJrZXJfY2JlZDc1NjQwM2M3NDE2OWEzOTg1YmIzNzBkZjZkZTAgPSBMLmNpcmNsZU1hcmtlcigKICAgICAgICAgICAgICAgIFs0My43MTg1MTc5OTk5OTk5OTYsIC03OS40NjQ3NjMyOTk5OTk5OV0sCiAgICAgICAgICAgICAgICB7ImJ1YmJsaW5nTW91c2VFdmVudHMiOiB0cnVlLCAiY29sb3IiOiAiIzAwYjVlYiIsICJkYXNoQXJyYXkiOiBudWxsLCAiZGFzaE9mZnNldCI6IG51bGwsICJmaWxsIjogdHJ1ZSwgImZpbGxDb2xvciI6ICIjMDBiNWViIiwgImZpbGxPcGFjaXR5IjogMC43LCAiZmlsbFJ1bGUiOiAiZXZlbm9kZCIsICJsaW5lQ2FwIjogInJvdW5kIiwgImxpbmVKb2luIjogInJvdW5kIiwgIm9wYWNpdHkiOiAxLjAsICJyYWRpdXMiOiA1LCAic3Ryb2tlIjogdHJ1ZSwgIndlaWdodCI6IDN9CiAgICAgICAgICAgICkuYWRkVG8obWFwXzU4MTU4NWY0M2Y4NTRlZGQ5OTI2OGQ4ZWEwYTllY2Q0KTsKICAgICAgICAKICAgIAogICAgICAgIHZhciBwb3B1cF9jNmM2MGE1Y2FmZGQ0YjQ2ODA1NzQ5M2NjYTBlYjRlZSA9IEwucG9wdXAoeyJtYXhXaWR0aCI6ICIxMDAlIn0pOwoKICAgICAgICAKICAgICAgICAgICAgdmFyIGh0bWxfNWNjZjMyMzMxYjUzNDJhMGE5NDg1MWI2NmU3NzY4MmMgPSAkKGA8ZGl2IGlkPSJodG1sXzVjY2YzMjMzMWI1MzQyYTBhOTQ4NTFiNjZlNzc2ODJjIiBzdHlsZT0id2lkdGg6IDEwMC4wJTsgaGVpZ2h0OiAxMDAuMCU7Ij5Ob3J0aCBZb3JrIENsdXN0ZXIgMjwvZGl2PmApWzBdOwogICAgICAgICAgICBwb3B1cF9jNmM2MGE1Y2FmZGQ0YjQ2ODA1NzQ5M2NjYTBlYjRlZS5zZXRDb250ZW50KGh0bWxfNWNjZjMyMzMxYjUzNDJhMGE5NDg1MWI2NmU3NzY4MmMpOwogICAgICAgIAoKICAgICAgICBjaXJjbGVfbWFya2VyX2NiZWQ3NTY0MDNjNzQxNjlhMzk4NWJiMzcwZGY2ZGUwLmJpbmRQb3B1cChwb3B1cF9jNmM2MGE1Y2FmZGQ0YjQ2ODA1NzQ5M2NjYTBlYjRlZSkKICAgICAgICA7CgogICAgICAgIAogICAgCiAgICAKICAgICAgICAgICAgdmFyIGNpcmNsZV9tYXJrZXJfMGI0YTdiNTZhNzc0NGNmNThjZjQ1ZjM1MDM0ODI5MzggPSBMLmNpcmNsZU1hcmtlcigKICAgICAgICAgICAgICAgIFs0My42NjIzMDE1LCAtNzkuMzg5NDkzOF0sCiAgICAgICAgICAgICAgICB7ImJ1YmJsaW5nTW91c2VFdmVudHMiOiB0cnVlLCAiY29sb3IiOiAiIzAwYjVlYiIsICJkYXNoQXJyYXkiOiBudWxsLCAiZGFzaE9mZnNldCI6IG51bGwsICJmaWxsIjogdHJ1ZSwgImZpbGxDb2xvciI6ICIjMDBiNWViIiwgImZpbGxPcGFjaXR5IjogMC43LCAiZmlsbFJ1bGUiOiAiZXZlbm9kZCIsICJsaW5lQ2FwIjogInJvdW5kIiwgImxpbmVKb2luIjogInJvdW5kIiwgIm9wYWNpdHkiOiAxLjAsICJyYWRpdXMiOiA1LCAic3Ryb2tlIjogdHJ1ZSwgIndlaWdodCI6IDN9CiAgICAgICAgICAgICkuYWRkVG8obWFwXzU4MTU4NWY0M2Y4NTRlZGQ5OTI2OGQ4ZWEwYTllY2Q0KTsKICAgICAgICAKICAgIAogICAgICAgIHZhciBwb3B1cF8zMjBkNjYyNTUwZjM0NGM4YmI1ZTc2YjdhNjcxMWNlYyA9IEwucG9wdXAoeyJtYXhXaWR0aCI6ICIxMDAlIn0pOwoKICAgICAgICAKICAgICAgICAgICAgdmFyIGh0bWxfMWY1ODY5MzcyMGYxNDQyYTkwMzQ0N2Q5YzE1YzMzODggPSAkKGA8ZGl2IGlkPSJodG1sXzFmNTg2OTM3MjBmMTQ0MmE5MDM0NDdkOWMxNWMzMzg4IiBzdHlsZT0id2lkdGg6IDEwMC4wJTsgaGVpZ2h0OiAxMDAuMCU7Ij5Eb3dudG93biBUb3JvbnRvIENsdXN0ZXIgMjwvZGl2PmApWzBdOwogICAgICAgICAgICBwb3B1cF8zMjBkNjYyNTUwZjM0NGM4YmI1ZTc2YjdhNjcxMWNlYy5zZXRDb250ZW50KGh0bWxfMWY1ODY5MzcyMGYxNDQyYTkwMzQ0N2Q5YzE1YzMzODgpOwogICAgICAgIAoKICAgICAgICBjaXJjbGVfbWFya2VyXzBiNGE3YjU2YTc3NDRjZjU4Y2Y0NWYzNTAzNDgyOTM4LmJpbmRQb3B1cChwb3B1cF8zMjBkNjYyNTUwZjM0NGM4YmI1ZTc2YjdhNjcxMWNlYykKICAgICAgICA7CgogICAgICAgIAogICAgCiAgICAKICAgICAgICAgICAgdmFyIGNpcmNsZV9tYXJrZXJfYWNhOGI5MDBmODc3NDVmMmI0NzllZmNiNTlmNzk0MWIgPSBMLmNpcmNsZU1hcmtlcigKICAgICAgICAgICAgICAgIFs0My42Njc4NTU2LCAtNzkuNTMyMjQyNDAwMDAwMDJdLAogICAgICAgICAgICAgICAgeyJidWJibGluZ01vdXNlRXZlbnRzIjogdHJ1ZSwgImNvbG9yIjogIiNmZmIzNjAiLCAiZGFzaEFycmF5IjogbnVsbCwgImRhc2hPZmZzZXQiOiBudWxsLCAiZmlsbCI6IHRydWUsICJmaWxsQ29sb3IiOiAiI2ZmYjM2MCIsICJmaWxsT3BhY2l0eSI6IDAuNywgImZpbGxSdWxlIjogImV2ZW5vZGQiLCAibGluZUNhcCI6ICJyb3VuZCIsICJsaW5lSm9pbiI6ICJyb3VuZCIsICJvcGFjaXR5IjogMS4wLCAicmFkaXVzIjogNSwgInN0cm9rZSI6IHRydWUsICJ3ZWlnaHQiOiAzfQogICAgICAgICAgICApLmFkZFRvKG1hcF81ODE1ODVmNDNmODU0ZWRkOTkyNjhkOGVhMGE5ZWNkNCk7CiAgICAgICAgCiAgICAKICAgICAgICB2YXIgcG9wdXBfNmQ3NmQwODU4ODU1NDIyZWI3MWJmYzc5ZWQxY2M1ZDUgPSBMLnBvcHVwKHsibWF4V2lkdGgiOiAiMTAwJSJ9KTsKCiAgICAgICAgCiAgICAgICAgICAgIHZhciBodG1sXzkwMmI1MjIyNGMyMDRkMTRhYzc3ZjgwZDBlYmIxMDU3ID0gJChgPGRpdiBpZD0iaHRtbF85MDJiNTIyMjRjMjA0ZDE0YWM3N2Y4MGQwZWJiMTA1NyIgc3R5bGU9IndpZHRoOiAxMDAuMCU7IGhlaWdodDogMTAwLjAlOyI+RXRvYmljb2tlIENsdXN0ZXIgNDwvZGl2PmApWzBdOwogICAgICAgICAgICBwb3B1cF82ZDc2ZDA4NTg4NTU0MjJlYjcxYmZjNzllZDFjYzVkNS5zZXRDb250ZW50KGh0bWxfOTAyYjUyMjI0YzIwNGQxNGFjNzdmODBkMGViYjEwNTcpOwogICAgICAgIAoKICAgICAgICBjaXJjbGVfbWFya2VyX2FjYThiOTAwZjg3NzQ1ZjJiNDc5ZWZjYjU5Zjc5NDFiLmJpbmRQb3B1cChwb3B1cF82ZDc2ZDA4NTg4NTU0MjJlYjcxYmZjNzllZDFjYzVkNSkKICAgICAgICA7CgogICAgICAgIAogICAgCiAgICAKICAgICAgICAgICAgdmFyIGNpcmNsZV9tYXJrZXJfN2JkZDg5NzdhMmZhNGQyNThlNTg4ZjEzODA5N2U4NzEgPSBMLmNpcmNsZU1hcmtlcigKICAgICAgICAgICAgICAgIFs0My44MDY2ODYyOTk5OTk5OTYsIC03OS4xOTQzNTM0MDAwMDAwMV0sCiAgICAgICAgICAgICAgICB7ImJ1YmJsaW5nTW91c2VFdmVudHMiOiB0cnVlLCAiY29sb3IiOiAiI2ZmMDAwMCIsICJkYXNoQXJyYXkiOiBudWxsLCAiZGFzaE9mZnNldCI6IG51bGwsICJmaWxsIjogdHJ1ZSwgImZpbGxDb2xvciI6ICIjZmYwMDAwIiwgImZpbGxPcGFjaXR5IjogMC43LCAiZmlsbFJ1bGUiOiAiZXZlbm9kZCIsICJsaW5lQ2FwIjogInJvdW5kIiwgImxpbmVKb2luIjogInJvdW5kIiwgIm9wYWNpdHkiOiAxLjAsICJyYWRpdXMiOiA1LCAic3Ryb2tlIjogdHJ1ZSwgIndlaWdodCI6IDN9CiAgICAgICAgICAgICkuYWRkVG8obWFwXzU4MTU4NWY0M2Y4NTRlZGQ5OTI2OGQ4ZWEwYTllY2Q0KTsKICAgICAgICAKICAgIAogICAgICAgIHZhciBwb3B1cF82YjAxYTBhNTdjOWI0MTMzOGUyZWJlNTVmNjQxNGYyNyA9IEwucG9wdXAoeyJtYXhXaWR0aCI6ICIxMDAlIn0pOwoKICAgICAgICAKICAgICAgICAgICAgdmFyIGh0bWxfZjVhMGIzODdhZDQyNGQ1ZmIwZmViMGYyYTNjZWZjNTYgPSAkKGA8ZGl2IGlkPSJodG1sX2Y1YTBiMzg3YWQ0MjRkNWZiMGZlYjBmMmEzY2VmYzU2IiBzdHlsZT0id2lkdGg6IDEwMC4wJTsgaGVpZ2h0OiAxMDAuMCU7Ij5TY2FyYm9yb3VnaCBDbHVzdGVyIDA8L2Rpdj5gKVswXTsKICAgICAgICAgICAgcG9wdXBfNmIwMWEwYTU3YzliNDEzMzhlMmViZTU1ZjY0MTRmMjcuc2V0Q29udGVudChodG1sX2Y1YTBiMzg3YWQ0MjRkNWZiMGZlYjBmMmEzY2VmYzU2KTsKICAgICAgICAKCiAgICAgICAgY2lyY2xlX21hcmtlcl83YmRkODk3N2EyZmE0ZDI1OGU1ODhmMTM4MDk3ZTg3MS5iaW5kUG9wdXAocG9wdXBfNmIwMWEwYTU3YzliNDEzMzhlMmViZTU1ZjY0MTRmMjcpCiAgICAgICAgOwoKICAgICAgICAKICAgIAogICAgCiAgICAgICAgICAgIHZhciBjaXJjbGVfbWFya2VyX2I2MjQ2MzY3NTNhNTRmNzRiYzRmMWFiMmJlMzNjNGZkID0gTC5jaXJjbGVNYXJrZXIoCiAgICAgICAgICAgICAgICBbNDMuNzQ1OTA1Nzk5OTk5OTk2LCAtNzkuMzUyMTg4XSwKICAgICAgICAgICAgICAgIHsiYnViYmxpbmdNb3VzZUV2ZW50cyI6IHRydWUsICJjb2xvciI6ICIjMDBiNWViIiwgImRhc2hBcnJheSI6IG51bGwsICJkYXNoT2Zmc2V0IjogbnVsbCwgImZpbGwiOiB0cnVlLCAiZmlsbENvbG9yIjogIiMwMGI1ZWIiLCAiZmlsbE9wYWNpdHkiOiAwLjcsICJmaWxsUnVsZSI6ICJldmVub2RkIiwgImxpbmVDYXAiOiAicm91bmQiLCAibGluZUpvaW4iOiAicm91bmQiLCAib3BhY2l0eSI6IDEuMCwgInJhZGl1cyI6IDUsICJzdHJva2UiOiB0cnVlLCAid2VpZ2h0IjogM30KICAgICAgICAgICAgKS5hZGRUbyhtYXBfNTgxNTg1ZjQzZjg1NGVkZDk5MjY4ZDhlYTBhOWVjZDQpOwogICAgICAgIAogICAgCiAgICAgICAgdmFyIHBvcHVwX2Y1OWQ5YTk1NDk3MzQ1MDViNzFlYTBiNDg3OTViYjc4ID0gTC5wb3B1cCh7Im1heFdpZHRoIjogIjEwMCUifSk7CgogICAgICAgIAogICAgICAgICAgICB2YXIgaHRtbF8yZjhlM2RjNmRmNjk0OGIyYTA0NDIyOTE1NmMwNDFlZCA9ICQoYDxkaXYgaWQ9Imh0bWxfMmY4ZTNkYzZkZjY5NDhiMmEwNDQyMjkxNTZjMDQxZWQiIHN0eWxlPSJ3aWR0aDogMTAwLjAlOyBoZWlnaHQ6IDEwMC4wJTsiPk5vcnRoIFlvcmsgQ2x1c3RlciAyPC9kaXY+YClbMF07CiAgICAgICAgICAgIHBvcHVwX2Y1OWQ5YTk1NDk3MzQ1MDViNzFlYTBiNDg3OTViYjc4LnNldENvbnRlbnQoaHRtbF8yZjhlM2RjNmRmNjk0OGIyYTA0NDIyOTE1NmMwNDFlZCk7CiAgICAgICAgCgogICAgICAgIGNpcmNsZV9tYXJrZXJfYjYyNDYzNjc1M2E1NGY3NGJjNGYxYWIyYmUzM2M0ZmQuYmluZFBvcHVwKHBvcHVwX2Y1OWQ5YTk1NDk3MzQ1MDViNzFlYTBiNDg3OTViYjc4KQogICAgICAgIDsKCiAgICAgICAgCiAgICAKICAgIAogICAgICAgICAgICB2YXIgY2lyY2xlX21hcmtlcl9lMGJmZTQyOGJhODM0NTJlOWJjYmQ0ZWZlMWE2OTM0OSA9IEwuY2lyY2xlTWFya2VyKAogICAgICAgICAgICAgICAgWzQzLjcwNjM5NzIsIC03OS4zMDk5MzddLAogICAgICAgICAgICAgICAgeyJidWJibGluZ01vdXNlRXZlbnRzIjogdHJ1ZSwgImNvbG9yIjogIiNmZjAwMDAiLCAiZGFzaEFycmF5IjogbnVsbCwgImRhc2hPZmZzZXQiOiBudWxsLCAiZmlsbCI6IHRydWUsICJmaWxsQ29sb3IiOiAiI2ZmMDAwMCIsICJmaWxsT3BhY2l0eSI6IDAuNywgImZpbGxSdWxlIjogImV2ZW5vZGQiLCAibGluZUNhcCI6ICJyb3VuZCIsICJsaW5lSm9pbiI6ICJyb3VuZCIsICJvcGFjaXR5IjogMS4wLCAicmFkaXVzIjogNSwgInN0cm9rZSI6IHRydWUsICJ3ZWlnaHQiOiAzfQogICAgICAgICAgICApLmFkZFRvKG1hcF81ODE1ODVmNDNmODU0ZWRkOTkyNjhkOGVhMGE5ZWNkNCk7CiAgICAgICAgCiAgICAKICAgICAgICB2YXIgcG9wdXBfOGM3OWYxZGJlYzQ1NGM0OThhYmUxNGI0NWE4YzA0NzIgPSBMLnBvcHVwKHsibWF4V2lkdGgiOiAiMTAwJSJ9KTsKCiAgICAgICAgCiAgICAgICAgICAgIHZhciBodG1sXzE4OTM4NTQ5ZmY3MzQzNTRhY2YxMWExZjRkMzE2ZGFkID0gJChgPGRpdiBpZD0iaHRtbF8xODkzODU0OWZmNzM0MzU0YWNmMTFhMWY0ZDMxNmRhZCIgc3R5bGU9IndpZHRoOiAxMDAuMCU7IGhlaWdodDogMTAwLjAlOyI+RWFzdCBZb3JrIENsdXN0ZXIgMDwvZGl2PmApWzBdOwogICAgICAgICAgICBwb3B1cF84Yzc5ZjFkYmVjNDU0YzQ5OGFiZTE0YjQ1YThjMDQ3Mi5zZXRDb250ZW50KGh0bWxfMTg5Mzg1NDlmZjczNDM1NGFjZjExYTFmNGQzMTZkYWQpOwogICAgICAgIAoKICAgICAgICBjaXJjbGVfbWFya2VyX2UwYmZlNDI4YmE4MzQ1MmU5YmNiZDRlZmUxYTY5MzQ5LmJpbmRQb3B1cChwb3B1cF84Yzc5ZjFkYmVjNDU0YzQ5OGFiZTE0YjQ1YThjMDQ3MikKICAgICAgICA7CgogICAgICAgIAogICAgCiAgICAKICAgICAgICAgICAgdmFyIGNpcmNsZV9tYXJrZXJfMjhiYjU3Zjg5ZWE4NGRkYTgxNjVkNzU4ZGM2M2VmMTYgPSBMLmNpcmNsZU1hcmtlcigKICAgICAgICAgICAgICAgIFs0My42NTcxNjE4LCAtNzkuMzc4OTM3MDk5OTk5OTldLAogICAgICAgICAgICAgICAgeyJidWJibGluZ01vdXNlRXZlbnRzIjogdHJ1ZSwgImNvbG9yIjogIiMwMGI1ZWIiLCAiZGFzaEFycmF5IjogbnVsbCwgImRhc2hPZmZzZXQiOiBudWxsLCAiZmlsbCI6IHRydWUsICJmaWxsQ29sb3IiOiAiIzAwYjVlYiIsICJmaWxsT3BhY2l0eSI6IDAuNywgImZpbGxSdWxlIjogImV2ZW5vZGQiLCAibGluZUNhcCI6ICJyb3VuZCIsICJsaW5lSm9pbiI6ICJyb3VuZCIsICJvcGFjaXR5IjogMS4wLCAicmFkaXVzIjogNSwgInN0cm9rZSI6IHRydWUsICJ3ZWlnaHQiOiAzfQogICAgICAgICAgICApLmFkZFRvKG1hcF81ODE1ODVmNDNmODU0ZWRkOTkyNjhkOGVhMGE5ZWNkNCk7CiAgICAgICAgCiAgICAKICAgICAgICB2YXIgcG9wdXBfYjliYzMxMDk4YmY4NDQ4NGE5MDY5NWFiNjQ3NmQ3ZjQgPSBMLnBvcHVwKHsibWF4V2lkdGgiOiAiMTAwJSJ9KTsKCiAgICAgICAgCiAgICAgICAgICAgIHZhciBodG1sXzk0MTU3NzVkODBiOTQ3NjhiMWFjZTQ3NzVmMzRjODY0ID0gJChgPGRpdiBpZD0iaHRtbF85NDE1Nzc1ZDgwYjk0NzY4YjFhY2U0Nzc1ZjM0Yzg2NCIgc3R5bGU9IndpZHRoOiAxMDAuMCU7IGhlaWdodDogMTAwLjAlOyI+RG93bnRvd24gVG9yb250byBDbHVzdGVyIDI8L2Rpdj5gKVswXTsKICAgICAgICAgICAgcG9wdXBfYjliYzMxMDk4YmY4NDQ4NGE5MDY5NWFiNjQ3NmQ3ZjQuc2V0Q29udGVudChodG1sXzk0MTU3NzVkODBiOTQ3NjhiMWFjZTQ3NzVmMzRjODY0KTsKICAgICAgICAKCiAgICAgICAgY2lyY2xlX21hcmtlcl8yOGJiNTdmODllYTg0ZGRhODE2NWQ3NThkYzYzZWYxNi5iaW5kUG9wdXAocG9wdXBfYjliYzMxMDk4YmY4NDQ4NGE5MDY5NWFiNjQ3NmQ3ZjQpCiAgICAgICAgOwoKICAgICAgICAKICAgIAogICAgCiAgICAgICAgICAgIHZhciBjaXJjbGVfbWFya2VyXzM2NzU4MThjMzg5ZDRiNTdiMWRjNzlhMDUxMjlhM2M2ID0gTC5jaXJjbGVNYXJrZXIoCiAgICAgICAgICAgICAgICBbNDMuNzA5NTc3LCAtNzkuNDQ1MDcyNTk5OTk5OTldLAogICAgICAgICAgICAgICAgeyJidWJibGluZ01vdXNlRXZlbnRzIjogdHJ1ZSwgImNvbG9yIjogIiMwMGI1ZWIiLCAiZGFzaEFycmF5IjogbnVsbCwgImRhc2hPZmZzZXQiOiBudWxsLCAiZmlsbCI6IHRydWUsICJmaWxsQ29sb3IiOiAiIzAwYjVlYiIsICJmaWxsT3BhY2l0eSI6IDAuNywgImZpbGxSdWxlIjogImV2ZW5vZGQiLCAibGluZUNhcCI6ICJyb3VuZCIsICJsaW5lSm9pbiI6ICJyb3VuZCIsICJvcGFjaXR5IjogMS4wLCAicmFkaXVzIjogNSwgInN0cm9rZSI6IHRydWUsICJ3ZWlnaHQiOiAzfQogICAgICAgICAgICApLmFkZFRvKG1hcF81ODE1ODVmNDNmODU0ZWRkOTkyNjhkOGVhMGE5ZWNkNCk7CiAgICAgICAgCiAgICAKICAgICAgICB2YXIgcG9wdXBfZDVmNTE0ZTgzNzY1NGYwYjhjYWI5YmU3ODliOGIzY2YgPSBMLnBvcHVwKHsibWF4V2lkdGgiOiAiMTAwJSJ9KTsKCiAgICAgICAgCiAgICAgICAgICAgIHZhciBodG1sXzM1ZWI2ZDQwYjQ1ZTRiMWZhMmMyNGUyNTc4ZjgyY2UwID0gJChgPGRpdiBpZD0iaHRtbF8zNWViNmQ0MGI0NWU0YjFmYTJjMjRlMjU3OGY4MmNlMCIgc3R5bGU9IndpZHRoOiAxMDAuMCU7IGhlaWdodDogMTAwLjAlOyI+Tm9ydGggWW9yayBDbHVzdGVyIDI8L2Rpdj5gKVswXTsKICAgICAgICAgICAgcG9wdXBfZDVmNTE0ZTgzNzY1NGYwYjhjYWI5YmU3ODliOGIzY2Yuc2V0Q29udGVudChodG1sXzM1ZWI2ZDQwYjQ1ZTRiMWZhMmMyNGUyNTc4ZjgyY2UwKTsKICAgICAgICAKCiAgICAgICAgY2lyY2xlX21hcmtlcl8zNjc1ODE4YzM4OWQ0YjU3YjFkYzc5YTA1MTI5YTNjNi5iaW5kUG9wdXAocG9wdXBfZDVmNTE0ZTgzNzY1NGYwYjhjYWI5YmU3ODliOGIzY2YpCiAgICAgICAgOwoKICAgICAgICAKICAgIAogICAgCiAgICAgICAgICAgIHZhciBjaXJjbGVfbWFya2VyXzI5NWE3YWUwNzY2YzQ5NWI5YjJjOTE0OGIyOTEyNjBjID0gTC5jaXJjbGVNYXJrZXIoCiAgICAgICAgICAgICAgICBbNDMuNjUwOTQzMiwgLTc5LjU1NDcyNDQwMDAwMDAxXSwKICAgICAgICAgICAgICAgIHsiYnViYmxpbmdNb3VzZUV2ZW50cyI6IHRydWUsICJjb2xvciI6ICIjZmZiMzYwIiwgImRhc2hBcnJheSI6IG51bGwsICJkYXNoT2Zmc2V0IjogbnVsbCwgImZpbGwiOiB0cnVlLCAiZmlsbENvbG9yIjogIiNmZmIzNjAiLCAiZmlsbE9wYWNpdHkiOiAwLjcsICJmaWxsUnVsZSI6ICJldmVub2RkIiwgImxpbmVDYXAiOiAicm91bmQiLCAibGluZUpvaW4iOiAicm91bmQiLCAib3BhY2l0eSI6IDEuMCwgInJhZGl1cyI6IDUsICJzdHJva2UiOiB0cnVlLCAid2VpZ2h0IjogM30KICAgICAgICAgICAgKS5hZGRUbyhtYXBfNTgxNTg1ZjQzZjg1NGVkZDk5MjY4ZDhlYTBhOWVjZDQpOwogICAgICAgIAogICAgCiAgICAgICAgdmFyIHBvcHVwX2FiYjE3MGU5Y2YwODQ2MTg4NGJhNTA4MWVlYjBmODcyID0gTC5wb3B1cCh7Im1heFdpZHRoIjogIjEwMCUifSk7CgogICAgICAgIAogICAgICAgICAgICB2YXIgaHRtbF9iYWVmYTRiZWI4NmQ0YjhlYTQwZTIzZjE1MWEyYWYyNCA9ICQoYDxkaXYgaWQ9Imh0bWxfYmFlZmE0YmViODZkNGI4ZWE0MGUyM2YxNTFhMmFmMjQiIHN0eWxlPSJ3aWR0aDogMTAwLjAlOyBoZWlnaHQ6IDEwMC4wJTsiPkV0b2JpY29rZSBDbHVzdGVyIDQ8L2Rpdj5gKVswXTsKICAgICAgICAgICAgcG9wdXBfYWJiMTcwZTljZjA4NDYxODg0YmE1MDgxZWViMGY4NzIuc2V0Q29udGVudChodG1sX2JhZWZhNGJlYjg2ZDRiOGVhNDBlMjNmMTUxYTJhZjI0KTsKICAgICAgICAKCiAgICAgICAgY2lyY2xlX21hcmtlcl8yOTVhN2FlMDc2NmM0OTViOWIyYzkxNDhiMjkxMjYwYy5iaW5kUG9wdXAocG9wdXBfYWJiMTcwZTljZjA4NDYxODg0YmE1MDgxZWViMGY4NzIpCiAgICAgICAgOwoKICAgICAgICAKICAgIAogICAgCiAgICAgICAgICAgIHZhciBjaXJjbGVfbWFya2VyXzVkY2QxYjZiMTVhYjQ2NTliYTMyZGNhN2JlNWI0Yjc3ID0gTC5jaXJjbGVNYXJrZXIoCiAgICAgICAgICAgICAgICBbNDMuNzg0NTM1MSwgLTc5LjE2MDQ5NzA5OTk5OTk5XSwKICAgICAgICAgICAgICAgIHsiYnViYmxpbmdNb3VzZUV2ZW50cyI6IHRydWUsICJjb2xvciI6ICIjZmYwMDAwIiwgImRhc2hBcnJheSI6IG51bGwsICJkYXNoT2Zmc2V0IjogbnVsbCwgImZpbGwiOiB0cnVlLCAiZmlsbENvbG9yIjogIiNmZjAwMDAiLCAiZmlsbE9wYWNpdHkiOiAwLjcsICJmaWxsUnVsZSI6ICJldmVub2RkIiwgImxpbmVDYXAiOiAicm91bmQiLCAibGluZUpvaW4iOiAicm91bmQiLCAib3BhY2l0eSI6IDEuMCwgInJhZGl1cyI6IDUsICJzdHJva2UiOiB0cnVlLCAid2VpZ2h0IjogM30KICAgICAgICAgICAgKS5hZGRUbyhtYXBfNTgxNTg1ZjQzZjg1NGVkZDk5MjY4ZDhlYTBhOWVjZDQpOwogICAgICAgIAogICAgCiAgICAgICAgdmFyIHBvcHVwXzhlNzVjMjdkOTU3MjQ3NTlhMzY5OTM5Y2ZmYzY1N2JmID0gTC5wb3B1cCh7Im1heFdpZHRoIjogIjEwMCUifSk7CgogICAgICAgIAogICAgICAgICAgICB2YXIgaHRtbF9hMzBkODI2NzM3OWE0ZDNkOGE0MGNmOTBmYzU4ZjRjZiA9ICQoYDxkaXYgaWQ9Imh0bWxfYTMwZDgyNjczNzlhNGQzZDhhNDBjZjkwZmM1OGY0Y2YiIHN0eWxlPSJ3aWR0aDogMTAwLjAlOyBoZWlnaHQ6IDEwMC4wJTsiPlNjYXJib3JvdWdoIENsdXN0ZXIgMDwvZGl2PmApWzBdOwogICAgICAgICAgICBwb3B1cF84ZTc1YzI3ZDk1NzI0NzU5YTM2OTkzOWNmZmM2NTdiZi5zZXRDb250ZW50KGh0bWxfYTMwZDgyNjczNzlhNGQzZDhhNDBjZjkwZmM1OGY0Y2YpOwogICAgICAgIAoKICAgICAgICBjaXJjbGVfbWFya2VyXzVkY2QxYjZiMTVhYjQ2NTliYTMyZGNhN2JlNWI0Yjc3LmJpbmRQb3B1cChwb3B1cF84ZTc1YzI3ZDk1NzI0NzU5YTM2OTkzOWNmZmM2NTdiZikKICAgICAgICA7CgogICAgICAgIAogICAgCiAgICAKICAgICAgICAgICAgdmFyIGNpcmNsZV9tYXJrZXJfOTA2MTg1OGJlODlhNGNhYmIwNzI2YjY5MzE0MjAwODYgPSBMLmNpcmNsZU1hcmtlcigKICAgICAgICAgICAgICAgIFs0My43MjU4OTk3MDAwMDAwMSwgLTc5LjM0MDkyM10sCiAgICAgICAgICAgICAgICB7ImJ1YmJsaW5nTW91c2VFdmVudHMiOiB0cnVlLCAiY29sb3IiOiAiIzAwYjVlYiIsICJkYXNoQXJyYXkiOiBudWxsLCAiZGFzaE9mZnNldCI6IG51bGwsICJmaWxsIjogdHJ1ZSwgImZpbGxDb2xvciI6ICIjMDBiNWViIiwgImZpbGxPcGFjaXR5IjogMC43LCAiZmlsbFJ1bGUiOiAiZXZlbm9kZCIsICJsaW5lQ2FwIjogInJvdW5kIiwgImxpbmVKb2luIjogInJvdW5kIiwgIm9wYWNpdHkiOiAxLjAsICJyYWRpdXMiOiA1LCAic3Ryb2tlIjogdHJ1ZSwgIndlaWdodCI6IDN9CiAgICAgICAgICAgICkuYWRkVG8obWFwXzU4MTU4NWY0M2Y4NTRlZGQ5OTI2OGQ4ZWEwYTllY2Q0KTsKICAgICAgICAKICAgIAogICAgICAgIHZhciBwb3B1cF9hNWQ3MzgzZWJhMDM0ZmE1YmNiMWY2YzJhNWY0ZDIyNiA9IEwucG9wdXAoeyJtYXhXaWR0aCI6ICIxMDAlIn0pOwoKICAgICAgICAKICAgICAgICAgICAgdmFyIGh0bWxfMzk2NmEyNzI0NzQ4NDk3YmE0MGIxNjRjOGQ1MjYyZTIgPSAkKGA8ZGl2IGlkPSJodG1sXzM5NjZhMjcyNDc0ODQ5N2JhNDBiMTY0YzhkNTI2MmUyIiBzdHlsZT0id2lkdGg6IDEwMC4wJTsgaGVpZ2h0OiAxMDAuMCU7Ij5Ob3J0aCBZb3JrIENsdXN0ZXIgMjwvZGl2PmApWzBdOwogICAgICAgICAgICBwb3B1cF9hNWQ3MzgzZWJhMDM0ZmE1YmNiMWY2YzJhNWY0ZDIyNi5zZXRDb250ZW50KGh0bWxfMzk2NmEyNzI0NzQ4NDk3YmE0MGIxNjRjOGQ1MjYyZTIpOwogICAgICAgIAoKICAgICAgICBjaXJjbGVfbWFya2VyXzkwNjE4NThiZTg5YTRjYWJiMDcyNmI2OTMxNDIwMDg2LmJpbmRQb3B1cChwb3B1cF9hNWQ3MzgzZWJhMDM0ZmE1YmNiMWY2YzJhNWY0ZDIyNikKICAgICAgICA7CgogICAgICAgIAogICAgCiAgICAKICAgICAgICAgICAgdmFyIGNpcmNsZV9tYXJrZXJfNjhiOTI4NGEzOGExNDBmY2I0MDczMGQ1MDRmYmU4YWYgPSBMLmNpcmNsZU1hcmtlcigKICAgICAgICAgICAgICAgIFs0My42OTUzNDM5MDAwMDAwMDUsIC03OS4zMTgzODg3XSwKICAgICAgICAgICAgICAgIHsiYnViYmxpbmdNb3VzZUV2ZW50cyI6IHRydWUsICJjb2xvciI6ICIjZmYwMDAwIiwgImRhc2hBcnJheSI6IG51bGwsICJkYXNoT2Zmc2V0IjogbnVsbCwgImZpbGwiOiB0cnVlLCAiZmlsbENvbG9yIjogIiNmZjAwMDAiLCAiZmlsbE9wYWNpdHkiOiAwLjcsICJmaWxsUnVsZSI6ICJldmVub2RkIiwgImxpbmVDYXAiOiAicm91bmQiLCAibGluZUpvaW4iOiAicm91bmQiLCAib3BhY2l0eSI6IDEuMCwgInJhZGl1cyI6IDUsICJzdHJva2UiOiB0cnVlLCAid2VpZ2h0IjogM30KICAgICAgICAgICAgKS5hZGRUbyhtYXBfNTgxNTg1ZjQzZjg1NGVkZDk5MjY4ZDhlYTBhOWVjZDQpOwogICAgICAgIAogICAgCiAgICAgICAgdmFyIHBvcHVwXzA3ODgwMjQxN2EzMjQ4NzVhYTVlZDIxZWY2OGEyOGUzID0gTC5wb3B1cCh7Im1heFdpZHRoIjogIjEwMCUifSk7CgogICAgICAgIAogICAgICAgICAgICB2YXIgaHRtbF82MjFkZWQ4Y2M4YzY0NjdlOTVmNmU4ZmFlM2Q3NWExYyA9ICQoYDxkaXYgaWQ9Imh0bWxfNjIxZGVkOGNjOGM2NDY3ZTk1ZjZlOGZhZTNkNzVhMWMiIHN0eWxlPSJ3aWR0aDogMTAwLjAlOyBoZWlnaHQ6IDEwMC4wJTsiPkVhc3QgWW9yayBDbHVzdGVyIDA8L2Rpdj5gKVswXTsKICAgICAgICAgICAgcG9wdXBfMDc4ODAyNDE3YTMyNDg3NWFhNWVkMjFlZjY4YTI4ZTMuc2V0Q29udGVudChodG1sXzYyMWRlZDhjYzhjNjQ2N2U5NWY2ZThmYWUzZDc1YTFjKTsKICAgICAgICAKCiAgICAgICAgY2lyY2xlX21hcmtlcl82OGI5Mjg0YTM4YTE0MGZjYjQwNzMwZDUwNGZiZThhZi5iaW5kUG9wdXAocG9wdXBfMDc4ODAyNDE3YTMyNDg3NWFhNWVkMjFlZjY4YTI4ZTMpCiAgICAgICAgOwoKICAgICAgICAKICAgIAogICAgCiAgICAgICAgICAgIHZhciBjaXJjbGVfbWFya2VyX2EwNTg5MTkxOTg3MzQxYWE4OTYyZGYzNDU4ODRhZDM0ID0gTC5jaXJjbGVNYXJrZXIoCiAgICAgICAgICAgICAgICBbNDMuNjUxNDkzOSwgLTc5LjM3NTQxNzldLAogICAgICAgICAgICAgICAgeyJidWJibGluZ01vdXNlRXZlbnRzIjogdHJ1ZSwgImNvbG9yIjogIiMwMGI1ZWIiLCAiZGFzaEFycmF5IjogbnVsbCwgImRhc2hPZmZzZXQiOiBudWxsLCAiZmlsbCI6IHRydWUsICJmaWxsQ29sb3IiOiAiIzAwYjVlYiIsICJmaWxsT3BhY2l0eSI6IDAuNywgImZpbGxSdWxlIjogImV2ZW5vZGQiLCAibGluZUNhcCI6ICJyb3VuZCIsICJsaW5lSm9pbiI6ICJyb3VuZCIsICJvcGFjaXR5IjogMS4wLCAicmFkaXVzIjogNSwgInN0cm9rZSI6IHRydWUsICJ3ZWlnaHQiOiAzfQogICAgICAgICAgICApLmFkZFRvKG1hcF81ODE1ODVmNDNmODU0ZWRkOTkyNjhkOGVhMGE5ZWNkNCk7CiAgICAgICAgCiAgICAKICAgICAgICB2YXIgcG9wdXBfZGI1ZjQwOTBhNDk2NDMwYzgyYTkzMzNjMTM4OWIzNzAgPSBMLnBvcHVwKHsibWF4V2lkdGgiOiAiMTAwJSJ9KTsKCiAgICAgICAgCiAgICAgICAgICAgIHZhciBodG1sXzQxMGRmMDRlYzAwMjRmY2Q4OTg4NGUzYjFlNTJmYjQ2ID0gJChgPGRpdiBpZD0iaHRtbF80MTBkZjA0ZWMwMDI0ZmNkODk4ODRlM2IxZTUyZmI0NiIgc3R5bGU9IndpZHRoOiAxMDAuMCU7IGhlaWdodDogMTAwLjAlOyI+RG93bnRvd24gVG9yb250byBDbHVzdGVyIDI8L2Rpdj5gKVswXTsKICAgICAgICAgICAgcG9wdXBfZGI1ZjQwOTBhNDk2NDMwYzgyYTkzMzNjMTM4OWIzNzAuc2V0Q29udGVudChodG1sXzQxMGRmMDRlYzAwMjRmY2Q4OTg4NGUzYjFlNTJmYjQ2KTsKICAgICAgICAKCiAgICAgICAgY2lyY2xlX21hcmtlcl9hMDU4OTE5MTk4NzM0MWFhODk2MmRmMzQ1ODg0YWQzNC5iaW5kUG9wdXAocG9wdXBfZGI1ZjQwOTBhNDk2NDMwYzgyYTkzMzNjMTM4OWIzNzApCiAgICAgICAgOwoKICAgICAgICAKICAgIAogICAgCiAgICAgICAgICAgIHZhciBjaXJjbGVfbWFya2VyX2E3NTM3ODAxYmFjNDQ4NWZiODExMjJlYmRkNWViN2Q2ID0gTC5jaXJjbGVNYXJrZXIoCiAgICAgICAgICAgICAgICBbNDMuNjkzNzgxMywgLTc5LjQyODE5MTQwMDAwMDAyXSwKICAgICAgICAgICAgICAgIHsiYnViYmxpbmdNb3VzZUV2ZW50cyI6IHRydWUsICJjb2xvciI6ICIjODAwMGZmIiwgImRhc2hBcnJheSI6IG51bGwsICJkYXNoT2Zmc2V0IjogbnVsbCwgImZpbGwiOiB0cnVlLCAiZmlsbENvbG9yIjogIiM4MDAwZmYiLCAiZmlsbE9wYWNpdHkiOiAwLjcsICJmaWxsUnVsZSI6ICJldmVub2RkIiwgImxpbmVDYXAiOiAicm91bmQiLCAibGluZUpvaW4iOiAicm91bmQiLCAib3BhY2l0eSI6IDEuMCwgInJhZGl1cyI6IDUsICJzdHJva2UiOiB0cnVlLCAid2VpZ2h0IjogM30KICAgICAgICAgICAgKS5hZGRUbyhtYXBfNTgxNTg1ZjQzZjg1NGVkZDk5MjY4ZDhlYTBhOWVjZDQpOwogICAgICAgIAogICAgCiAgICAgICAgdmFyIHBvcHVwX2YzY2ZlNGRkNGE3NzRiOWM5ZWYyZmIxYWE5NmZkYmUxID0gTC5wb3B1cCh7Im1heFdpZHRoIjogIjEwMCUifSk7CgogICAgICAgIAogICAgICAgICAgICB2YXIgaHRtbF8xOWIzYTI3ZjBmOGQ0YzkxYjgxYzNlMmNiNzNkZWY5MyA9ICQoYDxkaXYgaWQ9Imh0bWxfMTliM2EyN2YwZjhkNGM5MWI4MWMzZTJjYjczZGVmOTMiIHN0eWxlPSJ3aWR0aDogMTAwLjAlOyBoZWlnaHQ6IDEwMC4wJTsiPllvcmsgQ2x1c3RlciAxPC9kaXY+YClbMF07CiAgICAgICAgICAgIHBvcHVwX2YzY2ZlNGRkNGE3NzRiOWM5ZWYyZmIxYWE5NmZkYmUxLnNldENvbnRlbnQoaHRtbF8xOWIzYTI3ZjBmOGQ0YzkxYjgxYzNlMmNiNzNkZWY5Myk7CiAgICAgICAgCgogICAgICAgIGNpcmNsZV9tYXJrZXJfYTc1Mzc4MDFiYWM0NDg1ZmI4MTEyMmViZGQ1ZWI3ZDYuYmluZFBvcHVwKHBvcHVwX2YzY2ZlNGRkNGE3NzRiOWM5ZWYyZmIxYWE5NmZkYmUxKQogICAgICAgIDsKCiAgICAgICAgCiAgICAKICAgIAogICAgICAgICAgICB2YXIgY2lyY2xlX21hcmtlcl9mYzZjYzNjM2QzYzQ0OTdmYTk1NTE2NDkzOGUyM2VlZSA9IEwuY2lyY2xlTWFya2VyKAogICAgICAgICAgICAgICAgWzQzLjY0MzUxNTIsIC03OS41NzcyMDA3OTk5OTk5OV0sCiAgICAgICAgICAgICAgICB7ImJ1YmJsaW5nTW91c2VFdmVudHMiOiB0cnVlLCAiY29sb3IiOiAiI2ZmYjM2MCIsICJkYXNoQXJyYXkiOiBudWxsLCAiZGFzaE9mZnNldCI6IG51bGwsICJmaWxsIjogdHJ1ZSwgImZpbGxDb2xvciI6ICIjZmZiMzYwIiwgImZpbGxPcGFjaXR5IjogMC43LCAiZmlsbFJ1bGUiOiAiZXZlbm9kZCIsICJsaW5lQ2FwIjogInJvdW5kIiwgImxpbmVKb2luIjogInJvdW5kIiwgIm9wYWNpdHkiOiAxLjAsICJyYWRpdXMiOiA1LCAic3Ryb2tlIjogdHJ1ZSwgIndlaWdodCI6IDN9CiAgICAgICAgICAgICkuYWRkVG8obWFwXzU4MTU4NWY0M2Y4NTRlZGQ5OTI2OGQ4ZWEwYTllY2Q0KTsKICAgICAgICAKICAgIAogICAgICAgIHZhciBwb3B1cF9hN2YwYzVhMWM4Nzg0OGRjYTAyOTljZjU5NGVkZmE3NCA9IEwucG9wdXAoeyJtYXhXaWR0aCI6ICIxMDAlIn0pOwoKICAgICAgICAKICAgICAgICAgICAgdmFyIGh0bWxfYzJiMDA1YTM1MDc4NDUxY2I5NjBkYjBhMmI4YTJjZTAgPSAkKGA8ZGl2IGlkPSJodG1sX2MyYjAwNWEzNTA3ODQ1MWNiOTYwZGIwYTJiOGEyY2UwIiBzdHlsZT0id2lkdGg6IDEwMC4wJTsgaGVpZ2h0OiAxMDAuMCU7Ij5FdG9iaWNva2UgQ2x1c3RlciA0PC9kaXY+YClbMF07CiAgICAgICAgICAgIHBvcHVwX2E3ZjBjNWExYzg3ODQ4ZGNhMDI5OWNmNTk0ZWRmYTc0LnNldENvbnRlbnQoaHRtbF9jMmIwMDVhMzUwNzg0NTFjYjk2MGRiMGEyYjhhMmNlMCk7CiAgICAgICAgCgogICAgICAgIGNpcmNsZV9tYXJrZXJfZmM2Y2MzYzNkM2M0NDk3ZmE5NTUxNjQ5MzhlMjNlZWUuYmluZFBvcHVwKHBvcHVwX2E3ZjBjNWExYzg3ODQ4ZGNhMDI5OWNmNTk0ZWRmYTc0KQogICAgICAgIDsKCiAgICAgICAgCiAgICAKICAgIAogICAgICAgICAgICB2YXIgY2lyY2xlX21hcmtlcl9lNzExODhlNjNkYmM0MjY4OWUwNDdhNWUzZjUwN2IyMiA9IEwuY2lyY2xlTWFya2VyKAogICAgICAgICAgICAgICAgWzQzLjc2MzU3MjYsIC03OS4xODg3MTE1XSwKICAgICAgICAgICAgICAgIHsiYnViYmxpbmdNb3VzZUV2ZW50cyI6IHRydWUsICJjb2xvciI6ICIjZmYwMDAwIiwgImRhc2hBcnJheSI6IG51bGwsICJkYXNoT2Zmc2V0IjogbnVsbCwgImZpbGwiOiB0cnVlLCAiZmlsbENvbG9yIjogIiNmZjAwMDAiLCAiZmlsbE9wYWNpdHkiOiAwLjcsICJmaWxsUnVsZSI6ICJldmVub2RkIiwgImxpbmVDYXAiOiAicm91bmQiLCAibGluZUpvaW4iOiAicm91bmQiLCAib3BhY2l0eSI6IDEuMCwgInJhZGl1cyI6IDUsICJzdHJva2UiOiB0cnVlLCAid2VpZ2h0IjogM30KICAgICAgICAgICAgKS5hZGRUbyhtYXBfNTgxNTg1ZjQzZjg1NGVkZDk5MjY4ZDhlYTBhOWVjZDQpOwogICAgICAgIAogICAgCiAgICAgICAgdmFyIHBvcHVwX2UxNzhjYzQxYjhhYTQyZDk4MDk5NmUxODY0MjcwYzJiID0gTC5wb3B1cCh7Im1heFdpZHRoIjogIjEwMCUifSk7CgogICAgICAgIAogICAgICAgICAgICB2YXIgaHRtbF8zMGFkYzNkYzY3NTU0NDBmODY4Y2Q4NTczMTNiZWEzYSA9ICQoYDxkaXYgaWQ9Imh0bWxfMzBhZGMzZGM2NzU1NDQwZjg2OGNkODU3MzEzYmVhM2EiIHN0eWxlPSJ3aWR0aDogMTAwLjAlOyBoZWlnaHQ6IDEwMC4wJTsiPlNjYXJib3JvdWdoIENsdXN0ZXIgMDwvZGl2PmApWzBdOwogICAgICAgICAgICBwb3B1cF9lMTc4Y2M0MWI4YWE0MmQ5ODA5OTZlMTg2NDI3MGMyYi5zZXRDb250ZW50KGh0bWxfMzBhZGMzZGM2NzU1NDQwZjg2OGNkODU3MzEzYmVhM2EpOwogICAgICAgIAoKICAgICAgICBjaXJjbGVfbWFya2VyX2U3MTE4OGU2M2RiYzQyNjg5ZTA0N2E1ZTNmNTA3YjIyLmJpbmRQb3B1cChwb3B1cF9lMTc4Y2M0MWI4YWE0MmQ5ODA5OTZlMTg2NDI3MGMyYikKICAgICAgICA7CgogICAgICAgIAogICAgCiAgICAKICAgICAgICAgICAgdmFyIGNpcmNsZV9tYXJrZXJfY2U1ZDJkMzU0NjY4NDM1YTlkNzZmMzg4MWYzNmI3NTMgPSBMLmNpcmNsZU1hcmtlcigKICAgICAgICAgICAgICAgIFs0My42NzYzNTczOTk5OTk5OSwgLTc5LjI5MzAzMTJdLAogICAgICAgICAgICAgICAgeyJidWJibGluZ01vdXNlRXZlbnRzIjogdHJ1ZSwgImNvbG9yIjogIiMwMGI1ZWIiLCAiZGFzaEFycmF5IjogbnVsbCwgImRhc2hPZmZzZXQiOiBudWxsLCAiZmlsbCI6IHRydWUsICJmaWxsQ29sb3IiOiAiIzAwYjVlYiIsICJmaWxsT3BhY2l0eSI6IDAuNywgImZpbGxSdWxlIjogImV2ZW5vZGQiLCAibGluZUNhcCI6ICJyb3VuZCIsICJsaW5lSm9pbiI6ICJyb3VuZCIsICJvcGFjaXR5IjogMS4wLCAicmFkaXVzIjogNSwgInN0cm9rZSI6IHRydWUsICJ3ZWlnaHQiOiAzfQogICAgICAgICAgICApLmFkZFRvKG1hcF81ODE1ODVmNDNmODU0ZWRkOTkyNjhkOGVhMGE5ZWNkNCk7CiAgICAgICAgCiAgICAKICAgICAgICB2YXIgcG9wdXBfYjQxZTk2ZWNlNWI4NGYxM2ExNDVlNjRlNGQ3YmJiYjMgPSBMLnBvcHVwKHsibWF4V2lkdGgiOiAiMTAwJSJ9KTsKCiAgICAgICAgCiAgICAgICAgICAgIHZhciBodG1sXzIwY2MyNDJkNTM1YjQxMGQ5ZDU3YTdiOWJmZmI5NGRlID0gJChgPGRpdiBpZD0iaHRtbF8yMGNjMjQyZDUzNWI0MTBkOWQ1N2E3YjliZmZiOTRkZSIgc3R5bGU9IndpZHRoOiAxMDAuMCU7IGhlaWdodDogMTAwLjAlOyI+RWFzdCBUb3JvbnRvIENsdXN0ZXIgMjwvZGl2PmApWzBdOwogICAgICAgICAgICBwb3B1cF9iNDFlOTZlY2U1Yjg0ZjEzYTE0NWU2NGU0ZDdiYmJiMy5zZXRDb250ZW50KGh0bWxfMjBjYzI0MmQ1MzViNDEwZDlkNTdhN2I5YmZmYjk0ZGUpOwogICAgICAgIAoKICAgICAgICBjaXJjbGVfbWFya2VyX2NlNWQyZDM1NDY2ODQzNWE5ZDc2ZjM4ODFmMzZiNzUzLmJpbmRQb3B1cChwb3B1cF9iNDFlOTZlY2U1Yjg0ZjEzYTE0NWU2NGU0ZDdiYmJiMykKICAgICAgICA7CgogICAgICAgIAogICAgCiAgICAKICAgICAgICAgICAgdmFyIGNpcmNsZV9tYXJrZXJfMDU5ZTBjZGNlYmMzNGUwNTgxNDAzNzczMTdmY2E4NzMgPSBMLmNpcmNsZU1hcmtlcigKICAgICAgICAgICAgICAgIFs0My42NDQ3NzA3OTk5OTk5OTYsIC03OS4zNzMzMDY0XSwKICAgICAgICAgICAgICAgIHsiYnViYmxpbmdNb3VzZUV2ZW50cyI6IHRydWUsICJjb2xvciI6ICIjMDBiNWViIiwgImRhc2hBcnJheSI6IG51bGwsICJkYXNoT2Zmc2V0IjogbnVsbCwgImZpbGwiOiB0cnVlLCAiZmlsbENvbG9yIjogIiMwMGI1ZWIiLCAiZmlsbE9wYWNpdHkiOiAwLjcsICJmaWxsUnVsZSI6ICJldmVub2RkIiwgImxpbmVDYXAiOiAicm91bmQiLCAibGluZUpvaW4iOiAicm91bmQiLCAib3BhY2l0eSI6IDEuMCwgInJhZGl1cyI6IDUsICJzdHJva2UiOiB0cnVlLCAid2VpZ2h0IjogM30KICAgICAgICAgICAgKS5hZGRUbyhtYXBfNTgxNTg1ZjQzZjg1NGVkZDk5MjY4ZDhlYTBhOWVjZDQpOwogICAgICAgIAogICAgCiAgICAgICAgdmFyIHBvcHVwX2JlZmUzYTk2YzM4NjRkODk5NDFkMmRkNDE1OGI1YzZjID0gTC5wb3B1cCh7Im1heFdpZHRoIjogIjEwMCUifSk7CgogICAgICAgIAogICAgICAgICAgICB2YXIgaHRtbF83YjIyODhkODU2M2E0MDIxYmQwMDllMTdmNmY2NWVmMiA9ICQoYDxkaXYgaWQ9Imh0bWxfN2IyMjg4ZDg1NjNhNDAyMWJkMDA5ZTE3ZjZmNjVlZjIiIHN0eWxlPSJ3aWR0aDogMTAwLjAlOyBoZWlnaHQ6IDEwMC4wJTsiPkRvd250b3duIFRvcm9udG8gQ2x1c3RlciAyPC9kaXY+YClbMF07CiAgICAgICAgICAgIHBvcHVwX2JlZmUzYTk2YzM4NjRkODk5NDFkMmRkNDE1OGI1YzZjLnNldENvbnRlbnQoaHRtbF83YjIyODhkODU2M2E0MDIxYmQwMDllMTdmNmY2NWVmMik7CiAgICAgICAgCgogICAgICAgIGNpcmNsZV9tYXJrZXJfMDU5ZTBjZGNlYmMzNGUwNTgxNDAzNzczMTdmY2E4NzMuYmluZFBvcHVwKHBvcHVwX2JlZmUzYTk2YzM4NjRkODk5NDFkMmRkNDE1OGI1YzZjKQogICAgICAgIDsKCiAgICAgICAgCiAgICAKICAgIAogICAgICAgICAgICB2YXIgY2lyY2xlX21hcmtlcl82YzkyMDIyN2ZmMDg0NGFiYjEyMTFhM2MwNWJiMTkxYiA9IEwuY2lyY2xlTWFya2VyKAogICAgICAgICAgICAgICAgWzQzLjY4OTAyNTYsIC03OS40NTM1MTJdLAogICAgICAgICAgICAgICAgeyJidWJibGluZ01vdXNlRXZlbnRzIjogdHJ1ZSwgImNvbG9yIjogIiM4MDAwZmYiLCAiZGFzaEFycmF5IjogbnVsbCwgImRhc2hPZmZzZXQiOiBudWxsLCAiZmlsbCI6IHRydWUsICJmaWxsQ29sb3IiOiAiIzgwMDBmZiIsICJmaWxsT3BhY2l0eSI6IDAuNywgImZpbGxSdWxlIjogImV2ZW5vZGQiLCAibGluZUNhcCI6ICJyb3VuZCIsICJsaW5lSm9pbiI6ICJyb3VuZCIsICJvcGFjaXR5IjogMS4wLCAicmFkaXVzIjogNSwgInN0cm9rZSI6IHRydWUsICJ3ZWlnaHQiOiAzfQogICAgICAgICAgICApLmFkZFRvKG1hcF81ODE1ODVmNDNmODU0ZWRkOTkyNjhkOGVhMGE5ZWNkNCk7CiAgICAgICAgCiAgICAKICAgICAgICB2YXIgcG9wdXBfNDFlNzZkOGRjZmJjNDcxMzk3ZTgwMDgyNzU2ZDI1NGMgPSBMLnBvcHVwKHsibWF4V2lkdGgiOiAiMTAwJSJ9KTsKCiAgICAgICAgCiAgICAgICAgICAgIHZhciBodG1sXzgxNTNiZDhjMjc1NDRlYTNhYjRjZjMyYjA1MmE2NmYyID0gJChgPGRpdiBpZD0iaHRtbF84MTUzYmQ4YzI3NTQ0ZWEzYWI0Y2YzMmIwNTJhNjZmMiIgc3R5bGU9IndpZHRoOiAxMDAuMCU7IGhlaWdodDogMTAwLjAlOyI+WW9yayBDbHVzdGVyIDE8L2Rpdj5gKVswXTsKICAgICAgICAgICAgcG9wdXBfNDFlNzZkOGRjZmJjNDcxMzk3ZTgwMDgyNzU2ZDI1NGMuc2V0Q29udGVudChodG1sXzgxNTNiZDhjMjc1NDRlYTNhYjRjZjMyYjA1MmE2NmYyKTsKICAgICAgICAKCiAgICAgICAgY2lyY2xlX21hcmtlcl82YzkyMDIyN2ZmMDg0NGFiYjEyMTFhM2MwNWJiMTkxYi5iaW5kUG9wdXAocG9wdXBfNDFlNzZkOGRjZmJjNDcxMzk3ZTgwMDgyNzU2ZDI1NGMpCiAgICAgICAgOwoKICAgICAgICAKICAgIAogICAgCiAgICAgICAgICAgIHZhciBjaXJjbGVfbWFya2VyXzBhODJjMmM2NTgwOTRmMjk4ZDNjMTUwYTBhZjMyYjQwID0gTC5jaXJjbGVNYXJrZXIoCiAgICAgICAgICAgICAgICBbNDMuNzcwOTkyMSwgLTc5LjIxNjkxNzQwMDAwMDAxXSwKICAgICAgICAgICAgICAgIHsiYnViYmxpbmdNb3VzZUV2ZW50cyI6IHRydWUsICJjb2xvciI6ICIjZmYwMDAwIiwgImRhc2hBcnJheSI6IG51bGwsICJkYXNoT2Zmc2V0IjogbnVsbCwgImZpbGwiOiB0cnVlLCAiZmlsbENvbG9yIjogIiNmZjAwMDAiLCAiZmlsbE9wYWNpdHkiOiAwLjcsICJmaWxsUnVsZSI6ICJldmVub2RkIiwgImxpbmVDYXAiOiAicm91bmQiLCAibGluZUpvaW4iOiAicm91bmQiLCAib3BhY2l0eSI6IDEuMCwgInJhZGl1cyI6IDUsICJzdHJva2UiOiB0cnVlLCAid2VpZ2h0IjogM30KICAgICAgICAgICAgKS5hZGRUbyhtYXBfNTgxNTg1ZjQzZjg1NGVkZDk5MjY4ZDhlYTBhOWVjZDQpOwogICAgICAgIAogICAgCiAgICAgICAgdmFyIHBvcHVwXzRlNWQ5ZDFhODE2NDRhMDg4ODAzZDQ3ODAxNGU4Yzg5ID0gTC5wb3B1cCh7Im1heFdpZHRoIjogIjEwMCUifSk7CgogICAgICAgIAogICAgICAgICAgICB2YXIgaHRtbF82M2UxOWUxZjlhY2I0NzZlOTQzNzQ5MDgwOGQzMDcwOCA9ICQoYDxkaXYgaWQ9Imh0bWxfNjNlMTllMWY5YWNiNDc2ZTk0Mzc0OTA4MDhkMzA3MDgiIHN0eWxlPSJ3aWR0aDogMTAwLjAlOyBoZWlnaHQ6IDEwMC4wJTsiPlNjYXJib3JvdWdoIENsdXN0ZXIgMDwvZGl2PmApWzBdOwogICAgICAgICAgICBwb3B1cF80ZTVkOWQxYTgxNjQ0YTA4ODgwM2Q0NzgwMTRlOGM4OS5zZXRDb250ZW50KGh0bWxfNjNlMTllMWY5YWNiNDc2ZTk0Mzc0OTA4MDhkMzA3MDgpOwogICAgICAgIAoKICAgICAgICBjaXJjbGVfbWFya2VyXzBhODJjMmM2NTgwOTRmMjk4ZDNjMTUwYTBhZjMyYjQwLmJpbmRQb3B1cChwb3B1cF80ZTVkOWQxYTgxNjQ0YTA4ODgwM2Q0NzgwMTRlOGM4OSkKICAgICAgICA7CgogICAgICAgIAogICAgCiAgICAKICAgICAgICAgICAgdmFyIGNpcmNsZV9tYXJrZXJfNGZkNDQ5YjZmYjYxNDExZjgyYTY4NTQzYWQyZmQ4YTQgPSBMLmNpcmNsZU1hcmtlcigKICAgICAgICAgICAgICAgIFs0My43MDkwNjA0LCAtNzkuMzYzNDUxN10sCiAgICAgICAgICAgICAgICB7ImJ1YmJsaW5nTW91c2VFdmVudHMiOiB0cnVlLCAiY29sb3IiOiAiI2ZmMDAwMCIsICJkYXNoQXJyYXkiOiBudWxsLCAiZGFzaE9mZnNldCI6IG51bGwsICJmaWxsIjogdHJ1ZSwgImZpbGxDb2xvciI6ICIjZmYwMDAwIiwgImZpbGxPcGFjaXR5IjogMC43LCAiZmlsbFJ1bGUiOiAiZXZlbm9kZCIsICJsaW5lQ2FwIjogInJvdW5kIiwgImxpbmVKb2luIjogInJvdW5kIiwgIm9wYWNpdHkiOiAxLjAsICJyYWRpdXMiOiA1LCAic3Ryb2tlIjogdHJ1ZSwgIndlaWdodCI6IDN9CiAgICAgICAgICAgICkuYWRkVG8obWFwXzU4MTU4NWY0M2Y4NTRlZGQ5OTI2OGQ4ZWEwYTllY2Q0KTsKICAgICAgICAKICAgIAogICAgICAgIHZhciBwb3B1cF8xZWFjNzFmYWM4ZmU0MWNhOWZiYjhkMTUxN2JkYzMyOCA9IEwucG9wdXAoeyJtYXhXaWR0aCI6ICIxMDAlIn0pOwoKICAgICAgICAKICAgICAgICAgICAgdmFyIGh0bWxfOGJlZTliNmYzM2UyNDQ4ZmI2ZTM3MDYzNTM0YmYxYjcgPSAkKGA8ZGl2IGlkPSJodG1sXzhiZWU5YjZmMzNlMjQ0OGZiNmUzNzA2MzUzNGJmMWI3IiBzdHlsZT0id2lkdGg6IDEwMC4wJTsgaGVpZ2h0OiAxMDAuMCU7Ij5FYXN0IFlvcmsgQ2x1c3RlciAwPC9kaXY+YClbMF07CiAgICAgICAgICAgIHBvcHVwXzFlYWM3MWZhYzhmZTQxY2E5ZmJiOGQxNTE3YmRjMzI4LnNldENvbnRlbnQoaHRtbF84YmVlOWI2ZjMzZTI0NDhmYjZlMzcwNjM1MzRiZjFiNyk7CiAgICAgICAgCgogICAgICAgIGNpcmNsZV9tYXJrZXJfNGZkNDQ5YjZmYjYxNDExZjgyYTY4NTQzYWQyZmQ4YTQuYmluZFBvcHVwKHBvcHVwXzFlYWM3MWZhYzhmZTQxY2E5ZmJiOGQxNTE3YmRjMzI4KQogICAgICAgIDsKCiAgICAgICAgCiAgICAKICAgIAogICAgICAgICAgICB2YXIgY2lyY2xlX21hcmtlcl9kY2Q4MjVmZTkxNTE0Yjg4YmY2ODFkY2JkZTA4ZDkwNyA9IEwuY2lyY2xlTWFya2VyKAogICAgICAgICAgICAgICAgWzQzLjY1Nzk1MjQsIC03OS4zODczODI2XSwKICAgICAgICAgICAgICAgIHsiYnViYmxpbmdNb3VzZUV2ZW50cyI6IHRydWUsICJjb2xvciI6ICIjMDBiNWViIiwgImRhc2hBcnJheSI6IG51bGwsICJkYXNoT2Zmc2V0IjogbnVsbCwgImZpbGwiOiB0cnVlLCAiZmlsbENvbG9yIjogIiMwMGI1ZWIiLCAiZmlsbE9wYWNpdHkiOiAwLjcsICJmaWxsUnVsZSI6ICJldmVub2RkIiwgImxpbmVDYXAiOiAicm91bmQiLCAibGluZUpvaW4iOiAicm91bmQiLCAib3BhY2l0eSI6IDEuMCwgInJhZGl1cyI6IDUsICJzdHJva2UiOiB0cnVlLCAid2VpZ2h0IjogM30KICAgICAgICAgICAgKS5hZGRUbyhtYXBfNTgxNTg1ZjQzZjg1NGVkZDk5MjY4ZDhlYTBhOWVjZDQpOwogICAgICAgIAogICAgCiAgICAgICAgdmFyIHBvcHVwX2NlYTBkNzExMGMyZDRlNjZiMGVmYjE3ODg5NGNkMzBjID0gTC5wb3B1cCh7Im1heFdpZHRoIjogIjEwMCUifSk7CgogICAgICAgIAogICAgICAgICAgICB2YXIgaHRtbF8wZGVkMTI1N2Q3NGI0NGJjYjM5NDBmYmVjN2RjODUzYiA9ICQoYDxkaXYgaWQ9Imh0bWxfMGRlZDEyNTdkNzRiNDRiY2IzOTQwZmJlYzdkYzg1M2IiIHN0eWxlPSJ3aWR0aDogMTAwLjAlOyBoZWlnaHQ6IDEwMC4wJTsiPkRvd250b3duIFRvcm9udG8gQ2x1c3RlciAyPC9kaXY+YClbMF07CiAgICAgICAgICAgIHBvcHVwX2NlYTBkNzExMGMyZDRlNjZiMGVmYjE3ODg5NGNkMzBjLnNldENvbnRlbnQoaHRtbF8wZGVkMTI1N2Q3NGI0NGJjYjM5NDBmYmVjN2RjODUzYik7CiAgICAgICAgCgogICAgICAgIGNpcmNsZV9tYXJrZXJfZGNkODI1ZmU5MTUxNGI4OGJmNjgxZGNiZGUwOGQ5MDcuYmluZFBvcHVwKHBvcHVwX2NlYTBkNzExMGMyZDRlNjZiMGVmYjE3ODg5NGNkMzBjKQogICAgICAgIDsKCiAgICAgICAgCiAgICAKICAgIAogICAgICAgICAgICB2YXIgY2lyY2xlX21hcmtlcl9hNGNmNGNlNDg5MjI0MTA3YjNhZjI5MTBkNTljMzM2NyA9IEwuY2lyY2xlTWFya2VyKAogICAgICAgICAgICAgICAgWzQzLjY2OTU0MiwgLTc5LjQyMjU2MzddLAogICAgICAgICAgICAgICAgeyJidWJibGluZ01vdXNlRXZlbnRzIjogdHJ1ZSwgImNvbG9yIjogIiMwMGI1ZWIiLCAiZGFzaEFycmF5IjogbnVsbCwgImRhc2hPZmZzZXQiOiBudWxsLCAiZmlsbCI6IHRydWUsICJmaWxsQ29sb3IiOiAiIzAwYjVlYiIsICJmaWxsT3BhY2l0eSI6IDAuNywgImZpbGxSdWxlIjogImV2ZW5vZGQiLCAibGluZUNhcCI6ICJyb3VuZCIsICJsaW5lSm9pbiI6ICJyb3VuZCIsICJvcGFjaXR5IjogMS4wLCAicmFkaXVzIjogNSwgInN0cm9rZSI6IHRydWUsICJ3ZWlnaHQiOiAzfQogICAgICAgICAgICApLmFkZFRvKG1hcF81ODE1ODVmNDNmODU0ZWRkOTkyNjhkOGVhMGE5ZWNkNCk7CiAgICAgICAgCiAgICAKICAgICAgICB2YXIgcG9wdXBfZDU1MjEzYzMxYjliNDUxODhkN2JkNGIyNWE0NWIwMzIgPSBMLnBvcHVwKHsibWF4V2lkdGgiOiAiMTAwJSJ9KTsKCiAgICAgICAgCiAgICAgICAgICAgIHZhciBodG1sXzUyYmI1ZmE4NmExZjQ5ZmRhMjk5NTA4MDY1NDQyOGMxID0gJChgPGRpdiBpZD0iaHRtbF81MmJiNWZhODZhMWY0OWZkYTI5OTUwODA2NTQ0MjhjMSIgc3R5bGU9IndpZHRoOiAxMDAuMCU7IGhlaWdodDogMTAwLjAlOyI+RG93bnRvd24gVG9yb250byBDbHVzdGVyIDI8L2Rpdj5gKVswXTsKICAgICAgICAgICAgcG9wdXBfZDU1MjEzYzMxYjliNDUxODhkN2JkNGIyNWE0NWIwMzIuc2V0Q29udGVudChodG1sXzUyYmI1ZmE4NmExZjQ5ZmRhMjk5NTA4MDY1NDQyOGMxKTsKICAgICAgICAKCiAgICAgICAgY2lyY2xlX21hcmtlcl9hNGNmNGNlNDg5MjI0MTA3YjNhZjI5MTBkNTljMzM2Ny5iaW5kUG9wdXAocG9wdXBfZDU1MjEzYzMxYjliNDUxODhkN2JkNGIyNWE0NWIwMzIpCiAgICAgICAgOwoKICAgICAgICAKICAgIAogICAgCiAgICAgICAgICAgIHZhciBjaXJjbGVfbWFya2VyX2QwZGY2OGYyNGNhYTQ1NTM5OGVhNmFjNTNkYTcxYzE4ID0gTC5jaXJjbGVNYXJrZXIoCiAgICAgICAgICAgICAgICBbNDMuNzczMTM2LCAtNzkuMjM5NDc2MDk5OTk5OTldLAogICAgICAgICAgICAgICAgeyJidWJibGluZ01vdXNlRXZlbnRzIjogdHJ1ZSwgImNvbG9yIjogIiNmZjAwMDAiLCAiZGFzaEFycmF5IjogbnVsbCwgImRhc2hPZmZzZXQiOiBudWxsLCAiZmlsbCI6IHRydWUsICJmaWxsQ29sb3IiOiAiI2ZmMDAwMCIsICJmaWxsT3BhY2l0eSI6IDAuNywgImZpbGxSdWxlIjogImV2ZW5vZGQiLCAibGluZUNhcCI6ICJyb3VuZCIsICJsaW5lSm9pbiI6ICJyb3VuZCIsICJvcGFjaXR5IjogMS4wLCAicmFkaXVzIjogNSwgInN0cm9rZSI6IHRydWUsICJ3ZWlnaHQiOiAzfQogICAgICAgICAgICApLmFkZFRvKG1hcF81ODE1ODVmNDNmODU0ZWRkOTkyNjhkOGVhMGE5ZWNkNCk7CiAgICAgICAgCiAgICAKICAgICAgICB2YXIgcG9wdXBfYTU1YWVlNzc5NDJiNGJjYThiZjNkODJhNjI5MDMxOWIgPSBMLnBvcHVwKHsibWF4V2lkdGgiOiAiMTAwJSJ9KTsKCiAgICAgICAgCiAgICAgICAgICAgIHZhciBodG1sX2E3ZDM4Yjc4MDMwMDRhMzg4MDc0MGFiYjQ0NmQ0NzBiID0gJChgPGRpdiBpZD0iaHRtbF9hN2QzOGI3ODAzMDA0YTM4ODA3NDBhYmI0NDZkNDcwYiIgc3R5bGU9IndpZHRoOiAxMDAuMCU7IGhlaWdodDogMTAwLjAlOyI+U2NhcmJvcm91Z2ggQ2x1c3RlciAwPC9kaXY+YClbMF07CiAgICAgICAgICAgIHBvcHVwX2E1NWFlZTc3OTQyYjRiY2E4YmYzZDgyYTYyOTAzMTliLnNldENvbnRlbnQoaHRtbF9hN2QzOGI3ODAzMDA0YTM4ODA3NDBhYmI0NDZkNDcwYik7CiAgICAgICAgCgogICAgICAgIGNpcmNsZV9tYXJrZXJfZDBkZjY4ZjI0Y2FhNDU1Mzk4ZWE2YWM1M2RhNzFjMTguYmluZFBvcHVwKHBvcHVwX2E1NWFlZTc3OTQyYjRiY2E4YmYzZDgyYTYyOTAzMTliKQogICAgICAgIDsKCiAgICAgICAgCiAgICAKICAgIAogICAgICAgICAgICB2YXIgY2lyY2xlX21hcmtlcl8yNTg0MWU3OWFjN2Q0NTAwYjMwNjk1NDIwZWUzYWM3OCA9IEwuY2lyY2xlTWFya2VyKAogICAgICAgICAgICAgICAgWzQzLjgwMzc2MjIsIC03OS4zNjM0NTE3XSwKICAgICAgICAgICAgICAgIHsiYnViYmxpbmdNb3VzZUV2ZW50cyI6IHRydWUsICJjb2xvciI6ICIjMDBiNWViIiwgImRhc2hBcnJheSI6IG51bGwsICJkYXNoT2Zmc2V0IjogbnVsbCwgImZpbGwiOiB0cnVlLCAiZmlsbENvbG9yIjogIiMwMGI1ZWIiLCAiZmlsbE9wYWNpdHkiOiAwLjcsICJmaWxsUnVsZSI6ICJldmVub2RkIiwgImxpbmVDYXAiOiAicm91bmQiLCAibGluZUpvaW4iOiAicm91bmQiLCAib3BhY2l0eSI6IDEuMCwgInJhZGl1cyI6IDUsICJzdHJva2UiOiB0cnVlLCAid2VpZ2h0IjogM30KICAgICAgICAgICAgKS5hZGRUbyhtYXBfNTgxNTg1ZjQzZjg1NGVkZDk5MjY4ZDhlYTBhOWVjZDQpOwogICAgICAgIAogICAgCiAgICAgICAgdmFyIHBvcHVwXzQxY2MxODc2OGM3MjRmNDE5OTM2YjJhZmNmMmFlYTc3ID0gTC5wb3B1cCh7Im1heFdpZHRoIjogIjEwMCUifSk7CgogICAgICAgIAogICAgICAgICAgICB2YXIgaHRtbF85NDQxNTE2YjFjMWE0MzliODlmNGNmOTk1YTg2OWFkYSA9ICQoYDxkaXYgaWQ9Imh0bWxfOTQ0MTUxNmIxYzFhNDM5Yjg5ZjRjZjk5NWE4NjlhZGEiIHN0eWxlPSJ3aWR0aDogMTAwLjAlOyBoZWlnaHQ6IDEwMC4wJTsiPk5vcnRoIFlvcmsgQ2x1c3RlciAyPC9kaXY+YClbMF07CiAgICAgICAgICAgIHBvcHVwXzQxY2MxODc2OGM3MjRmNDE5OTM2YjJhZmNmMmFlYTc3LnNldENvbnRlbnQoaHRtbF85NDQxNTE2YjFjMWE0MzliODlmNGNmOTk1YTg2OWFkYSk7CiAgICAgICAgCgogICAgICAgIGNpcmNsZV9tYXJrZXJfMjU4NDFlNzlhYzdkNDUwMGIzMDY5NTQyMGVlM2FjNzguYmluZFBvcHVwKHBvcHVwXzQxY2MxODc2OGM3MjRmNDE5OTM2YjJhZmNmMmFlYTc3KQogICAgICAgIDsKCiAgICAgICAgCiAgICAKICAgIAogICAgICAgICAgICB2YXIgY2lyY2xlX21hcmtlcl9kYmRlNjk0NDkyYmQ0ZWEyODUwOTJkYzA3YTA1OTcyYiA9IEwuY2lyY2xlTWFya2VyKAogICAgICAgICAgICAgICAgWzQzLjc1NDMyODMsIC03OS40NDIyNTkzXSwKICAgICAgICAgICAgICAgIHsiYnViYmxpbmdNb3VzZUV2ZW50cyI6IHRydWUsICJjb2xvciI6ICIjMDBiNWViIiwgImRhc2hBcnJheSI6IG51bGwsICJkYXNoT2Zmc2V0IjogbnVsbCwgImZpbGwiOiB0cnVlLCAiZmlsbENvbG9yIjogIiMwMGI1ZWIiLCAiZmlsbE9wYWNpdHkiOiAwLjcsICJmaWxsUnVsZSI6ICJldmVub2RkIiwgImxpbmVDYXAiOiAicm91bmQiLCAibGluZUpvaW4iOiAicm91bmQiLCAib3BhY2l0eSI6IDEuMCwgInJhZGl1cyI6IDUsICJzdHJva2UiOiB0cnVlLCAid2VpZ2h0IjogM30KICAgICAgICAgICAgKS5hZGRUbyhtYXBfNTgxNTg1ZjQzZjg1NGVkZDk5MjY4ZDhlYTBhOWVjZDQpOwogICAgICAgIAogICAgCiAgICAgICAgdmFyIHBvcHVwX2Y3ZTc3ZGE4NThmMjQwZWY5YzNjOTBmZTNhNWVhZTM4ID0gTC5wb3B1cCh7Im1heFdpZHRoIjogIjEwMCUifSk7CgogICAgICAgIAogICAgICAgICAgICB2YXIgaHRtbF8yNTVlODQ5MzMxMjk0MjVkYTA1NjM0NDE4YTc5OGZhYiA9ICQoYDxkaXYgaWQ9Imh0bWxfMjU1ZTg0OTMzMTI5NDI1ZGEwNTYzNDQxOGE3OThmYWIiIHN0eWxlPSJ3aWR0aDogMTAwLjAlOyBoZWlnaHQ6IDEwMC4wJTsiPk5vcnRoIFlvcmsgQ2x1c3RlciAyPC9kaXY+YClbMF07CiAgICAgICAgICAgIHBvcHVwX2Y3ZTc3ZGE4NThmMjQwZWY5YzNjOTBmZTNhNWVhZTM4LnNldENvbnRlbnQoaHRtbF8yNTVlODQ5MzMxMjk0MjVkYTA1NjM0NDE4YTc5OGZhYik7CiAgICAgICAgCgogICAgICAgIGNpcmNsZV9tYXJrZXJfZGJkZTY5NDQ5MmJkNGVhMjg1MDkyZGMwN2EwNTk3MmIuYmluZFBvcHVwKHBvcHVwX2Y3ZTc3ZGE4NThmMjQwZWY5YzNjOTBmZTNhNWVhZTM4KQogICAgICAgIDsKCiAgICAgICAgCiAgICAKICAgIAogICAgICAgICAgICB2YXIgY2lyY2xlX21hcmtlcl81YjI0N2ZkYzkxMWU0Y2NjYmVlNGNmMmQ3ZWYyMDQ5MiA9IEwuY2lyY2xlTWFya2VyKAogICAgICAgICAgICAgICAgWzQzLjcwNTM2ODksIC03OS4zNDkzNzE5MDAwMDAwMV0sCiAgICAgICAgICAgICAgICB7ImJ1YmJsaW5nTW91c2VFdmVudHMiOiB0cnVlLCAiY29sb3IiOiAiI2ZmMDAwMCIsICJkYXNoQXJyYXkiOiBudWxsLCAiZGFzaE9mZnNldCI6IG51bGwsICJmaWxsIjogdHJ1ZSwgImZpbGxDb2xvciI6ICIjZmYwMDAwIiwgImZpbGxPcGFjaXR5IjogMC43LCAiZmlsbFJ1bGUiOiAiZXZlbm9kZCIsICJsaW5lQ2FwIjogInJvdW5kIiwgImxpbmVKb2luIjogInJvdW5kIiwgIm9wYWNpdHkiOiAxLjAsICJyYWRpdXMiOiA1LCAic3Ryb2tlIjogdHJ1ZSwgIndlaWdodCI6IDN9CiAgICAgICAgICAgICkuYWRkVG8obWFwXzU4MTU4NWY0M2Y4NTRlZGQ5OTI2OGQ4ZWEwYTllY2Q0KTsKICAgICAgICAKICAgIAogICAgICAgIHZhciBwb3B1cF80ZWE4ZGU3ZTA3YzA0NTQxOWUxYjMxOGZiMTUxNDJjNyA9IEwucG9wdXAoeyJtYXhXaWR0aCI6ICIxMDAlIn0pOwoKICAgICAgICAKICAgICAgICAgICAgdmFyIGh0bWxfNWYwZDc2YjBhMTM0NDg4ZWFjOWQ0ZjJiMjg4MmUxNTEgPSAkKGA8ZGl2IGlkPSJodG1sXzVmMGQ3NmIwYTEzNDQ4OGVhYzlkNGYyYjI4ODJlMTUxIiBzdHlsZT0id2lkdGg6IDEwMC4wJTsgaGVpZ2h0OiAxMDAuMCU7Ij5FYXN0IFlvcmsgQ2x1c3RlciAwPC9kaXY+YClbMF07CiAgICAgICAgICAgIHBvcHVwXzRlYThkZTdlMDdjMDQ1NDE5ZTFiMzE4ZmIxNTE0MmM3LnNldENvbnRlbnQoaHRtbF81ZjBkNzZiMGExMzQ0ODhlYWM5ZDRmMmIyODgyZTE1MSk7CiAgICAgICAgCgogICAgICAgIGNpcmNsZV9tYXJrZXJfNWIyNDdmZGM5MTFlNGNjY2JlZTRjZjJkN2VmMjA0OTIuYmluZFBvcHVwKHBvcHVwXzRlYThkZTdlMDdjMDQ1NDE5ZTFiMzE4ZmIxNTE0MmM3KQogICAgICAgIDsKCiAgICAgICAgCiAgICAKICAgIAogICAgICAgICAgICB2YXIgY2lyY2xlX21hcmtlcl84Njk0YjUxN2YxYzg0MDAzYWI2ZTdjMWRmOGNjMDJjYSA9IEwuY2lyY2xlTWFya2VyKAogICAgICAgICAgICAgICAgWzQzLjY1MDU3MTIwMDAwMDAxLCAtNzkuMzg0NTY3NV0sCiAgICAgICAgICAgICAgICB7ImJ1YmJsaW5nTW91c2VFdmVudHMiOiB0cnVlLCAiY29sb3IiOiAiIzAwYjVlYiIsICJkYXNoQXJyYXkiOiBudWxsLCAiZGFzaE9mZnNldCI6IG51bGwsICJmaWxsIjogdHJ1ZSwgImZpbGxDb2xvciI6ICIjMDBiNWViIiwgImZpbGxPcGFjaXR5IjogMC43LCAiZmlsbFJ1bGUiOiAiZXZlbm9kZCIsICJsaW5lQ2FwIjogInJvdW5kIiwgImxpbmVKb2luIjogInJvdW5kIiwgIm9wYWNpdHkiOiAxLjAsICJyYWRpdXMiOiA1LCAic3Ryb2tlIjogdHJ1ZSwgIndlaWdodCI6IDN9CiAgICAgICAgICAgICkuYWRkVG8obWFwXzU4MTU4NWY0M2Y4NTRlZGQ5OTI2OGQ4ZWEwYTllY2Q0KTsKICAgICAgICAKICAgIAogICAgICAgIHZhciBwb3B1cF81YmRkNTIzOGRlNTY0Y2FjOGVlNzI2Mzk4MzgzYjcwMSA9IEwucG9wdXAoeyJtYXhXaWR0aCI6ICIxMDAlIn0pOwoKICAgICAgICAKICAgICAgICAgICAgdmFyIGh0bWxfYzVjODEyZTIyMWVhNGZjYWI3MmFlMjJkZGUxZGNlZjggPSAkKGA8ZGl2IGlkPSJodG1sX2M1YzgxMmUyMjFlYTRmY2FiNzJhZTIyZGRlMWRjZWY4IiBzdHlsZT0id2lkdGg6IDEwMC4wJTsgaGVpZ2h0OiAxMDAuMCU7Ij5Eb3dudG93biBUb3JvbnRvIENsdXN0ZXIgMjwvZGl2PmApWzBdOwogICAgICAgICAgICBwb3B1cF81YmRkNTIzOGRlNTY0Y2FjOGVlNzI2Mzk4MzgzYjcwMS5zZXRDb250ZW50KGh0bWxfYzVjODEyZTIyMWVhNGZjYWI3MmFlMjJkZGUxZGNlZjgpOwogICAgICAgIAoKICAgICAgICBjaXJjbGVfbWFya2VyXzg2OTRiNTE3ZjFjODQwMDNhYjZlN2MxZGY4Y2MwMmNhLmJpbmRQb3B1cChwb3B1cF81YmRkNTIzOGRlNTY0Y2FjOGVlNzI2Mzk4MzgzYjcwMSkKICAgICAgICA7CgogICAgICAgIAogICAgCiAgICAKICAgICAgICAgICAgdmFyIGNpcmNsZV9tYXJrZXJfMWUzM2NhNjU4NTkzNDgyMzlkYjIyY2IzN2RlNjVhOGMgPSBMLmNpcmNsZU1hcmtlcigKICAgICAgICAgICAgICAgIFs0My42NjkwMDUxMDAwMDAwMSwgLTc5LjQ0MjI1OTNdLAogICAgICAgICAgICAgICAgeyJidWJibGluZ01vdXNlRXZlbnRzIjogdHJ1ZSwgImNvbG9yIjogIiMwMGI1ZWIiLCAiZGFzaEFycmF5IjogbnVsbCwgImRhc2hPZmZzZXQiOiBudWxsLCAiZmlsbCI6IHRydWUsICJmaWxsQ29sb3IiOiAiIzAwYjVlYiIsICJmaWxsT3BhY2l0eSI6IDAuNywgImZpbGxSdWxlIjogImV2ZW5vZGQiLCAibGluZUNhcCI6ICJyb3VuZCIsICJsaW5lSm9pbiI6ICJyb3VuZCIsICJvcGFjaXR5IjogMS4wLCAicmFkaXVzIjogNSwgInN0cm9rZSI6IHRydWUsICJ3ZWlnaHQiOiAzfQogICAgICAgICAgICApLmFkZFRvKG1hcF81ODE1ODVmNDNmODU0ZWRkOTkyNjhkOGVhMGE5ZWNkNCk7CiAgICAgICAgCiAgICAKICAgICAgICB2YXIgcG9wdXBfMTAzM2RiMzU2NWZjNGRkM2EzZjEyNzU4ZDUwODJjOWMgPSBMLnBvcHVwKHsibWF4V2lkdGgiOiAiMTAwJSJ9KTsKCiAgICAgICAgCiAgICAgICAgICAgIHZhciBodG1sX2YyZjEzOTE1MDRlZTQ1NjM5ODgzMDUxZjJmM2ZiN2IxID0gJChgPGRpdiBpZD0iaHRtbF9mMmYxMzkxNTA0ZWU0NTYzOTg4MzA1MWYyZjNmYjdiMSIgc3R5bGU9IndpZHRoOiAxMDAuMCU7IGhlaWdodDogMTAwLjAlOyI+V2VzdCBUb3JvbnRvIENsdXN0ZXIgMjwvZGl2PmApWzBdOwogICAgICAgICAgICBwb3B1cF8xMDMzZGIzNTY1ZmM0ZGQzYTNmMTI3NThkNTA4MmM5Yy5zZXRDb250ZW50KGh0bWxfZjJmMTM5MTUwNGVlNDU2Mzk4ODMwNTFmMmYzZmI3YjEpOwogICAgICAgIAoKICAgICAgICBjaXJjbGVfbWFya2VyXzFlMzNjYTY1ODU5MzQ4MjM5ZGIyMmNiMzdkZTY1YThjLmJpbmRQb3B1cChwb3B1cF8xMDMzZGIzNTY1ZmM0ZGQzYTNmMTI3NThkNTA4MmM5YykKICAgICAgICA7CgogICAgICAgIAogICAgCiAgICAKICAgICAgICAgICAgdmFyIGNpcmNsZV9tYXJrZXJfMmZjN2E5OWMwZTJmNDE1NzgxYjQ4MDYyZWI4YzdiODQgPSBMLmNpcmNsZU1hcmtlcigKICAgICAgICAgICAgICAgIFs0My43NDQ3MzQyLCAtNzkuMjM5NDc2MDk5OTk5OTldLAogICAgICAgICAgICAgICAgeyJidWJibGluZ01vdXNlRXZlbnRzIjogdHJ1ZSwgImNvbG9yIjogIiNmZjAwMDAiLCAiZGFzaEFycmF5IjogbnVsbCwgImRhc2hPZmZzZXQiOiBudWxsLCAiZmlsbCI6IHRydWUsICJmaWxsQ29sb3IiOiAiI2ZmMDAwMCIsICJmaWxsT3BhY2l0eSI6IDAuNywgImZpbGxSdWxlIjogImV2ZW5vZGQiLCAibGluZUNhcCI6ICJyb3VuZCIsICJsaW5lSm9pbiI6ICJyb3VuZCIsICJvcGFjaXR5IjogMS4wLCAicmFkaXVzIjogNSwgInN0cm9rZSI6IHRydWUsICJ3ZWlnaHQiOiAzfQogICAgICAgICAgICApLmFkZFRvKG1hcF81ODE1ODVmNDNmODU0ZWRkOTkyNjhkOGVhMGE5ZWNkNCk7CiAgICAgICAgCiAgICAKICAgICAgICB2YXIgcG9wdXBfOWYwODhiYWY3ODBjNGQyMzk2YTk3NTEyZTkwNmVkYmMgPSBMLnBvcHVwKHsibWF4V2lkdGgiOiAiMTAwJSJ9KTsKCiAgICAgICAgCiAgICAgICAgICAgIHZhciBodG1sXzljODNiNDEwMDRlODQyY2RiYzI1NmUwODcwYTMxZWRmID0gJChgPGRpdiBpZD0iaHRtbF85YzgzYjQxMDA0ZTg0MmNkYmMyNTZlMDg3MGEzMWVkZiIgc3R5bGU9IndpZHRoOiAxMDAuMCU7IGhlaWdodDogMTAwLjAlOyI+U2NhcmJvcm91Z2ggQ2x1c3RlciAwPC9kaXY+YClbMF07CiAgICAgICAgICAgIHBvcHVwXzlmMDg4YmFmNzgwYzRkMjM5NmE5NzUxMmU5MDZlZGJjLnNldENvbnRlbnQoaHRtbF85YzgzYjQxMDA0ZTg0MmNkYmMyNTZlMDg3MGEzMWVkZik7CiAgICAgICAgCgogICAgICAgIGNpcmNsZV9tYXJrZXJfMmZjN2E5OWMwZTJmNDE1NzgxYjQ4MDYyZWI4YzdiODQuYmluZFBvcHVwKHBvcHVwXzlmMDg4YmFmNzgwYzRkMjM5NmE5NzUxMmU5MDZlZGJjKQogICAgICAgIDsKCiAgICAgICAgCiAgICAKICAgIAogICAgICAgICAgICB2YXIgY2lyY2xlX21hcmtlcl81NTY4N2QwODc2YjA0OGY0YjY3NWZkNGJlMjljZTRiNyA9IEwuY2lyY2xlTWFya2VyKAogICAgICAgICAgICAgICAgWzQzLjc3ODUxNzUsIC03OS4zNDY1NTU3XSwKICAgICAgICAgICAgICAgIHsiYnViYmxpbmdNb3VzZUV2ZW50cyI6IHRydWUsICJjb2xvciI6ICIjMDBiNWViIiwgImRhc2hBcnJheSI6IG51bGwsICJkYXNoT2Zmc2V0IjogbnVsbCwgImZpbGwiOiB0cnVlLCAiZmlsbENvbG9yIjogIiMwMGI1ZWIiLCAiZmlsbE9wYWNpdHkiOiAwLjcsICJmaWxsUnVsZSI6ICJldmVub2RkIiwgImxpbmVDYXAiOiAicm91bmQiLCAibGluZUpvaW4iOiAicm91bmQiLCAib3BhY2l0eSI6IDEuMCwgInJhZGl1cyI6IDUsICJzdHJva2UiOiB0cnVlLCAid2VpZ2h0IjogM30KICAgICAgICAgICAgKS5hZGRUbyhtYXBfNTgxNTg1ZjQzZjg1NGVkZDk5MjY4ZDhlYTBhOWVjZDQpOwogICAgICAgIAogICAgCiAgICAgICAgdmFyIHBvcHVwXzZlNTdhNTZkZmI0ZDQyMjI4ZWExNjJhYzQ0ZGY4ZTc4ID0gTC5wb3B1cCh7Im1heFdpZHRoIjogIjEwMCUifSk7CgogICAgICAgIAogICAgICAgICAgICB2YXIgaHRtbF82ZWRiN2EwNWE4NGI0NDVhODMyYjZkMGY4NmVkOGE3NyA9ICQoYDxkaXYgaWQ9Imh0bWxfNmVkYjdhMDVhODRiNDQ1YTgzMmI2ZDBmODZlZDhhNzciIHN0eWxlPSJ3aWR0aDogMTAwLjAlOyBoZWlnaHQ6IDEwMC4wJTsiPk5vcnRoIFlvcmsgQ2x1c3RlciAyPC9kaXY+YClbMF07CiAgICAgICAgICAgIHBvcHVwXzZlNTdhNTZkZmI0ZDQyMjI4ZWExNjJhYzQ0ZGY4ZTc4LnNldENvbnRlbnQoaHRtbF82ZWRiN2EwNWE4NGI0NDVhODMyYjZkMGY4NmVkOGE3Nyk7CiAgICAgICAgCgogICAgICAgIGNpcmNsZV9tYXJrZXJfNTU2ODdkMDg3NmIwNDhmNGI2NzVmZDRiZTI5Y2U0YjcuYmluZFBvcHVwKHBvcHVwXzZlNTdhNTZkZmI0ZDQyMjI4ZWExNjJhYzQ0ZGY4ZTc4KQogICAgICAgIDsKCiAgICAgICAgCiAgICAKICAgIAogICAgICAgICAgICB2YXIgY2lyY2xlX21hcmtlcl8yMWQyYTc2MGU0YTU0ZDRiOWE3MWMyNjI1MDY4YWY4MSA9IEwuY2lyY2xlTWFya2VyKAogICAgICAgICAgICAgICAgWzQzLjc2Nzk4MDMsIC03OS40ODcyNjE5MDAwMDAwMV0sCiAgICAgICAgICAgICAgICB7ImJ1YmJsaW5nTW91c2VFdmVudHMiOiB0cnVlLCAiY29sb3IiOiAiIzAwYjVlYiIsICJkYXNoQXJyYXkiOiBudWxsLCAiZGFzaE9mZnNldCI6IG51bGwsICJmaWxsIjogdHJ1ZSwgImZpbGxDb2xvciI6ICIjMDBiNWViIiwgImZpbGxPcGFjaXR5IjogMC43LCAiZmlsbFJ1bGUiOiAiZXZlbm9kZCIsICJsaW5lQ2FwIjogInJvdW5kIiwgImxpbmVKb2luIjogInJvdW5kIiwgIm9wYWNpdHkiOiAxLjAsICJyYWRpdXMiOiA1LCAic3Ryb2tlIjogdHJ1ZSwgIndlaWdodCI6IDN9CiAgICAgICAgICAgICkuYWRkVG8obWFwXzU4MTU4NWY0M2Y4NTRlZGQ5OTI2OGQ4ZWEwYTllY2Q0KTsKICAgICAgICAKICAgIAogICAgICAgIHZhciBwb3B1cF8zOWIwZmM3Nzk3NjA0NDcyYjZiNjZkNmFhMWExNjE5YiA9IEwucG9wdXAoeyJtYXhXaWR0aCI6ICIxMDAlIn0pOwoKICAgICAgICAKICAgICAgICAgICAgdmFyIGh0bWxfZGNiZjk2MTUyOTZiNGI0NjhiYjcwNzhhN2ZiOGExODUgPSAkKGA8ZGl2IGlkPSJodG1sX2RjYmY5NjE1Mjk2YjRiNDY4YmI3MDc4YTdmYjhhMTg1IiBzdHlsZT0id2lkdGg6IDEwMC4wJTsgaGVpZ2h0OiAxMDAuMCU7Ij5Ob3J0aCBZb3JrIENsdXN0ZXIgMjwvZGl2PmApWzBdOwogICAgICAgICAgICBwb3B1cF8zOWIwZmM3Nzk3NjA0NDcyYjZiNjZkNmFhMWExNjE5Yi5zZXRDb250ZW50KGh0bWxfZGNiZjk2MTUyOTZiNGI0NjhiYjcwNzhhN2ZiOGExODUpOwogICAgICAgIAoKICAgICAgICBjaXJjbGVfbWFya2VyXzIxZDJhNzYwZTRhNTRkNGI5YTcxYzI2MjUwNjhhZjgxLmJpbmRQb3B1cChwb3B1cF8zOWIwZmM3Nzk3NjA0NDcyYjZiNjZkNmFhMWExNjE5YikKICAgICAgICA7CgogICAgICAgIAogICAgCiAgICAKICAgICAgICAgICAgdmFyIGNpcmNsZV9tYXJrZXJfZDZmYzk0NjZmYmRkNGIzMzkwOTFlODkwOGIyMmUzY2YgPSBMLmNpcmNsZU1hcmtlcigKICAgICAgICAgICAgICAgIFs0My42ODUzNDcsIC03OS4zMzgxMDY1XSwKICAgICAgICAgICAgICAgIHsiYnViYmxpbmdNb3VzZUV2ZW50cyI6IHRydWUsICJjb2xvciI6ICIjZmYwMDAwIiwgImRhc2hBcnJheSI6IG51bGwsICJkYXNoT2Zmc2V0IjogbnVsbCwgImZpbGwiOiB0cnVlLCAiZmlsbENvbG9yIjogIiNmZjAwMDAiLCAiZmlsbE9wYWNpdHkiOiAwLjcsICJmaWxsUnVsZSI6ICJldmVub2RkIiwgImxpbmVDYXAiOiAicm91bmQiLCAibGluZUpvaW4iOiAicm91bmQiLCAib3BhY2l0eSI6IDEuMCwgInJhZGl1cyI6IDUsICJzdHJva2UiOiB0cnVlLCAid2VpZ2h0IjogM30KICAgICAgICAgICAgKS5hZGRUbyhtYXBfNTgxNTg1ZjQzZjg1NGVkZDk5MjY4ZDhlYTBhOWVjZDQpOwogICAgICAgIAogICAgCiAgICAgICAgdmFyIHBvcHVwXzg3NmU5N2I3MGExOTQ1MDI4OTllODVlYjYxOGU2YzFkID0gTC5wb3B1cCh7Im1heFdpZHRoIjogIjEwMCUifSk7CgogICAgICAgIAogICAgICAgICAgICB2YXIgaHRtbF84M2YyOTc2NTE4YzI0ODg0ODNiOTdiODRmOWRmYjEyNCA9ICQoYDxkaXYgaWQ9Imh0bWxfODNmMjk3NjUxOGMyNDg4NDgzYjk3Yjg0ZjlkZmIxMjQiIHN0eWxlPSJ3aWR0aDogMTAwLjAlOyBoZWlnaHQ6IDEwMC4wJTsiPkVhc3QgWW9yayBDbHVzdGVyIDA8L2Rpdj5gKVswXTsKICAgICAgICAgICAgcG9wdXBfODc2ZTk3YjcwYTE5NDUwMjg5OWU4NWViNjE4ZTZjMWQuc2V0Q29udGVudChodG1sXzgzZjI5NzY1MThjMjQ4ODQ4M2I5N2I4NGY5ZGZiMTI0KTsKICAgICAgICAKCiAgICAgICAgY2lyY2xlX21hcmtlcl9kNmZjOTQ2NmZiZGQ0YjMzOTA5MWU4OTA4YjIyZTNjZi5iaW5kUG9wdXAocG9wdXBfODc2ZTk3YjcwYTE5NDUwMjg5OWU4NWViNjE4ZTZjMWQpCiAgICAgICAgOwoKICAgICAgICAKICAgIAogICAgCiAgICAgICAgICAgIHZhciBjaXJjbGVfbWFya2VyXzczYTJhZTBkNjdkNzRhMDFhOTc4Y2Y1M2FjMjYzZjY5ID0gTC5jaXJjbGVNYXJrZXIoCiAgICAgICAgICAgICAgICBbNDMuNjQwODE1NywgLTc5LjM4MTc1MjI5OTk5OTk5XSwKICAgICAgICAgICAgICAgIHsiYnViYmxpbmdNb3VzZUV2ZW50cyI6IHRydWUsICJjb2xvciI6ICIjMDBiNWViIiwgImRhc2hBcnJheSI6IG51bGwsICJkYXNoT2Zmc2V0IjogbnVsbCwgImZpbGwiOiB0cnVlLCAiZmlsbENvbG9yIjogIiMwMGI1ZWIiLCAiZmlsbE9wYWNpdHkiOiAwLjcsICJmaWxsUnVsZSI6ICJldmVub2RkIiwgImxpbmVDYXAiOiAicm91bmQiLCAibGluZUpvaW4iOiAicm91bmQiLCAib3BhY2l0eSI6IDEuMCwgInJhZGl1cyI6IDUsICJzdHJva2UiOiB0cnVlLCAid2VpZ2h0IjogM30KICAgICAgICAgICAgKS5hZGRUbyhtYXBfNTgxNTg1ZjQzZjg1NGVkZDk5MjY4ZDhlYTBhOWVjZDQpOwogICAgICAgIAogICAgCiAgICAgICAgdmFyIHBvcHVwXzUwYzQ1MDg2MWExZTRhNjU5ODIxNjQzYTQ4YmJmZWRkID0gTC5wb3B1cCh7Im1heFdpZHRoIjogIjEwMCUifSk7CgogICAgICAgIAogICAgICAgICAgICB2YXIgaHRtbF9lNWUwNzAwZTQzYmM0YjE2OWM2ZWE1MzNmNTEyZjhjYyA9ICQoYDxkaXYgaWQ9Imh0bWxfZTVlMDcwMGU0M2JjNGIxNjljNmVhNTMzZjUxMmY4Y2MiIHN0eWxlPSJ3aWR0aDogMTAwLjAlOyBoZWlnaHQ6IDEwMC4wJTsiPkRvd250b3duIFRvcm9udG8gQ2x1c3RlciAyPC9kaXY+YClbMF07CiAgICAgICAgICAgIHBvcHVwXzUwYzQ1MDg2MWExZTRhNjU5ODIxNjQzYTQ4YmJmZWRkLnNldENvbnRlbnQoaHRtbF9lNWUwNzAwZTQzYmM0YjE2OWM2ZWE1MzNmNTEyZjhjYyk7CiAgICAgICAgCgogICAgICAgIGNpcmNsZV9tYXJrZXJfNzNhMmFlMGQ2N2Q3NGEwMWE5NzhjZjUzYWMyNjNmNjkuYmluZFBvcHVwKHBvcHVwXzUwYzQ1MDg2MWExZTRhNjU5ODIxNjQzYTQ4YmJmZWRkKQogICAgICAgIDsKCiAgICAgICAgCiAgICAKICAgIAogICAgICAgICAgICB2YXIgY2lyY2xlX21hcmtlcl9lYmQxZjZiMGQ3YTQ0ODg0YjlmNGNjNTJmZTNlYzU1ZCA9IEwuY2lyY2xlTWFya2VyKAogICAgICAgICAgICAgICAgWzQzLjY0NzkyNjcwMDAwMDAwNiwgLTc5LjQxOTc0OTddLAogICAgICAgICAgICAgICAgeyJidWJibGluZ01vdXNlRXZlbnRzIjogdHJ1ZSwgImNvbG9yIjogIiMwMGI1ZWIiLCAiZGFzaEFycmF5IjogbnVsbCwgImRhc2hPZmZzZXQiOiBudWxsLCAiZmlsbCI6IHRydWUsICJmaWxsQ29sb3IiOiAiIzAwYjVlYiIsICJmaWxsT3BhY2l0eSI6IDAuNywgImZpbGxSdWxlIjogImV2ZW5vZGQiLCAibGluZUNhcCI6ICJyb3VuZCIsICJsaW5lSm9pbiI6ICJyb3VuZCIsICJvcGFjaXR5IjogMS4wLCAicmFkaXVzIjogNSwgInN0cm9rZSI6IHRydWUsICJ3ZWlnaHQiOiAzfQogICAgICAgICAgICApLmFkZFRvKG1hcF81ODE1ODVmNDNmODU0ZWRkOTkyNjhkOGVhMGE5ZWNkNCk7CiAgICAgICAgCiAgICAKICAgICAgICB2YXIgcG9wdXBfY2FkYWE3YjIyMmQxNGM5MmI1Nzk1ZTIzNTlhNjJmYmEgPSBMLnBvcHVwKHsibWF4V2lkdGgiOiAiMTAwJSJ9KTsKCiAgICAgICAgCiAgICAgICAgICAgIHZhciBodG1sX2Y2M2YzNmNlNzE2NjRkYmNiNGQzNTcxYTFiZjM1ZTBjID0gJChgPGRpdiBpZD0iaHRtbF9mNjNmMzZjZTcxNjY0ZGJjYjRkMzU3MWExYmYzNWUwYyIgc3R5bGU9IndpZHRoOiAxMDAuMCU7IGhlaWdodDogMTAwLjAlOyI+V2VzdCBUb3JvbnRvIENsdXN0ZXIgMjwvZGl2PmApWzBdOwogICAgICAgICAgICBwb3B1cF9jYWRhYTdiMjIyZDE0YzkyYjU3OTVlMjM1OWE2MmZiYS5zZXRDb250ZW50KGh0bWxfZjYzZjM2Y2U3MTY2NGRiY2I0ZDM1NzFhMWJmMzVlMGMpOwogICAgICAgIAoKICAgICAgICBjaXJjbGVfbWFya2VyX2ViZDFmNmIwZDdhNDQ4ODRiOWY0Y2M1MmZlM2VjNTVkLmJpbmRQb3B1cChwb3B1cF9jYWRhYTdiMjIyZDE0YzkyYjU3OTVlMjM1OWE2MmZiYSkKICAgICAgICA7CgogICAgICAgIAogICAgCiAgICAKICAgICAgICAgICAgdmFyIGNpcmNsZV9tYXJrZXJfZDQzNWM0NTE1ZTQyNDFkY2FiZmExM2E4ZDNmNTAwNGEgPSBMLmNpcmNsZU1hcmtlcigKICAgICAgICAgICAgICAgIFs0My43Mjc5MjkyLCAtNzkuMjYyMDI5NDAwMDAwMDJdLAogICAgICAgICAgICAgICAgeyJidWJibGluZ01vdXNlRXZlbnRzIjogdHJ1ZSwgImNvbG9yIjogIiNmZjAwMDAiLCAiZGFzaEFycmF5IjogbnVsbCwgImRhc2hPZmZzZXQiOiBudWxsLCAiZmlsbCI6IHRydWUsICJmaWxsQ29sb3IiOiAiI2ZmMDAwMCIsICJmaWxsT3BhY2l0eSI6IDAuNywgImZpbGxSdWxlIjogImV2ZW5vZGQiLCAibGluZUNhcCI6ICJyb3VuZCIsICJsaW5lSm9pbiI6ICJyb3VuZCIsICJvcGFjaXR5IjogMS4wLCAicmFkaXVzIjogNSwgInN0cm9rZSI6IHRydWUsICJ3ZWlnaHQiOiAzfQogICAgICAgICAgICApLmFkZFRvKG1hcF81ODE1ODVmNDNmODU0ZWRkOTkyNjhkOGVhMGE5ZWNkNCk7CiAgICAgICAgCiAgICAKICAgICAgICB2YXIgcG9wdXBfNjllMTBjMTQwNzM2NGY0NTljOGU3ZGNhZjcxYmEzNzIgPSBMLnBvcHVwKHsibWF4V2lkdGgiOiAiMTAwJSJ9KTsKCiAgICAgICAgCiAgICAgICAgICAgIHZhciBodG1sX2NiYzkzNDIwOWU1NjQwZTZiYjU0YjdjMDNhNGU2YmQ0ID0gJChgPGRpdiBpZD0iaHRtbF9jYmM5MzQyMDllNTY0MGU2YmI1NGI3YzAzYTRlNmJkNCIgc3R5bGU9IndpZHRoOiAxMDAuMCU7IGhlaWdodDogMTAwLjAlOyI+U2NhcmJvcm91Z2ggQ2x1c3RlciAwPC9kaXY+YClbMF07CiAgICAgICAgICAgIHBvcHVwXzY5ZTEwYzE0MDczNjRmNDU5YzhlN2RjYWY3MWJhMzcyLnNldENvbnRlbnQoaHRtbF9jYmM5MzQyMDllNTY0MGU2YmI1NGI3YzAzYTRlNmJkNCk7CiAgICAgICAgCgogICAgICAgIGNpcmNsZV9tYXJrZXJfZDQzNWM0NTE1ZTQyNDFkY2FiZmExM2E4ZDNmNTAwNGEuYmluZFBvcHVwKHBvcHVwXzY5ZTEwYzE0MDczNjRmNDU5YzhlN2RjYWY3MWJhMzcyKQogICAgICAgIDsKCiAgICAgICAgCiAgICAKICAgIAogICAgICAgICAgICB2YXIgY2lyY2xlX21hcmtlcl80N2UxNmI2MTc4N2M0NDAxODMxYzgyMDlmMjJmNmJlZSA9IEwuY2lyY2xlTWFya2VyKAogICAgICAgICAgICAgICAgWzQzLjc4Njk0NzMsIC03OS4zODU5NzVdLAogICAgICAgICAgICAgICAgeyJidWJibGluZ01vdXNlRXZlbnRzIjogdHJ1ZSwgImNvbG9yIjogIiMwMGI1ZWIiLCAiZGFzaEFycmF5IjogbnVsbCwgImRhc2hPZmZzZXQiOiBudWxsLCAiZmlsbCI6IHRydWUsICJmaWxsQ29sb3IiOiAiIzAwYjVlYiIsICJmaWxsT3BhY2l0eSI6IDAuNywgImZpbGxSdWxlIjogImV2ZW5vZGQiLCAibGluZUNhcCI6ICJyb3VuZCIsICJsaW5lSm9pbiI6ICJyb3VuZCIsICJvcGFjaXR5IjogMS4wLCAicmFkaXVzIjogNSwgInN0cm9rZSI6IHRydWUsICJ3ZWlnaHQiOiAzfQogICAgICAgICAgICApLmFkZFRvKG1hcF81ODE1ODVmNDNmODU0ZWRkOTkyNjhkOGVhMGE5ZWNkNCk7CiAgICAgICAgCiAgICAKICAgICAgICB2YXIgcG9wdXBfMTcwZjJjNWJkZjQ3NDgwOWI3NGRiM2Q3ODYxOWIzNGQgPSBMLnBvcHVwKHsibWF4V2lkdGgiOiAiMTAwJSJ9KTsKCiAgICAgICAgCiAgICAgICAgICAgIHZhciBodG1sXzhiMDA1MzA2MzY0YjQ3ODViZGQ2MWQ4NDQ3Yzc3ZTNkID0gJChgPGRpdiBpZD0iaHRtbF84YjAwNTMwNjM2NGI0Nzg1YmRkNjFkODQ0N2M3N2UzZCIgc3R5bGU9IndpZHRoOiAxMDAuMCU7IGhlaWdodDogMTAwLjAlOyI+Tm9ydGggWW9yayBDbHVzdGVyIDI8L2Rpdj5gKVswXTsKICAgICAgICAgICAgcG9wdXBfMTcwZjJjNWJkZjQ3NDgwOWI3NGRiM2Q3ODYxOWIzNGQuc2V0Q29udGVudChodG1sXzhiMDA1MzA2MzY0YjQ3ODViZGQ2MWQ4NDQ3Yzc3ZTNkKTsKICAgICAgICAKCiAgICAgICAgY2lyY2xlX21hcmtlcl80N2UxNmI2MTc4N2M0NDAxODMxYzgyMDlmMjJmNmJlZS5iaW5kUG9wdXAocG9wdXBfMTcwZjJjNWJkZjQ3NDgwOWI3NGRiM2Q3ODYxOWIzNGQpCiAgICAgICAgOwoKICAgICAgICAKICAgIAogICAgCiAgICAgICAgICAgIHZhciBjaXJjbGVfbWFya2VyXzEyNDE0OGI1MTk5YjQzNGZiODFlYTVkZTljZDI2OTNjID0gTC5jaXJjbGVNYXJrZXIoCiAgICAgICAgICAgICAgICBbNDMuNzM3NDczMjAwMDAwMDA0LCAtNzkuNDY0NzYzMjk5OTk5OTldLAogICAgICAgICAgICAgICAgeyJidWJibGluZ01vdXNlRXZlbnRzIjogdHJ1ZSwgImNvbG9yIjogIiMwMGI1ZWIiLCAiZGFzaEFycmF5IjogbnVsbCwgImRhc2hPZmZzZXQiOiBudWxsLCAiZmlsbCI6IHRydWUsICJmaWxsQ29sb3IiOiAiIzAwYjVlYiIsICJmaWxsT3BhY2l0eSI6IDAuNywgImZpbGxSdWxlIjogImV2ZW5vZGQiLCAibGluZUNhcCI6ICJyb3VuZCIsICJsaW5lSm9pbiI6ICJyb3VuZCIsICJvcGFjaXR5IjogMS4wLCAicmFkaXVzIjogNSwgInN0cm9rZSI6IHRydWUsICJ3ZWlnaHQiOiAzfQogICAgICAgICAgICApLmFkZFRvKG1hcF81ODE1ODVmNDNmODU0ZWRkOTkyNjhkOGVhMGE5ZWNkNCk7CiAgICAgICAgCiAgICAKICAgICAgICB2YXIgcG9wdXBfNjVlMGUxNDRmYmJiNGYyMDgwMTQyYmJjZjJhZjQ2MWMgPSBMLnBvcHVwKHsibWF4V2lkdGgiOiAiMTAwJSJ9KTsKCiAgICAgICAgCiAgICAgICAgICAgIHZhciBodG1sXzdmZGY1ZWFiOWZjMTRlNTJhNjA4ZWNkODBiMTlmMTRlID0gJChgPGRpdiBpZD0iaHRtbF83ZmRmNWVhYjlmYzE0ZTUyYTYwOGVjZDgwYjE5ZjE0ZSIgc3R5bGU9IndpZHRoOiAxMDAuMCU7IGhlaWdodDogMTAwLjAlOyI+Tm9ydGggWW9yayBDbHVzdGVyIDI8L2Rpdj5gKVswXTsKICAgICAgICAgICAgcG9wdXBfNjVlMGUxNDRmYmJiNGYyMDgwMTQyYmJjZjJhZjQ2MWMuc2V0Q29udGVudChodG1sXzdmZGY1ZWFiOWZjMTRlNTJhNjA4ZWNkODBiMTlmMTRlKTsKICAgICAgICAKCiAgICAgICAgY2lyY2xlX21hcmtlcl8xMjQxNDhiNTE5OWI0MzRmYjgxZWE1ZGU5Y2QyNjkzYy5iaW5kUG9wdXAocG9wdXBfNjVlMGUxNDRmYmJiNGYyMDgwMTQyYmJjZjJhZjQ2MWMpCiAgICAgICAgOwoKICAgICAgICAKICAgIAogICAgCiAgICAgICAgICAgIHZhciBjaXJjbGVfbWFya2VyXzE5OTM2MzQ4ODZkOTQzNzhiZmY4NDI4MmIxYjc5YzliID0gTC5jaXJjbGVNYXJrZXIoCiAgICAgICAgICAgICAgICBbNDMuNjc5NTU3MSwgLTc5LjM1MjE4OF0sCiAgICAgICAgICAgICAgICB7ImJ1YmJsaW5nTW91c2VFdmVudHMiOiB0cnVlLCAiY29sb3IiOiAiIzAwYjVlYiIsICJkYXNoQXJyYXkiOiBudWxsLCAiZGFzaE9mZnNldCI6IG51bGwsICJmaWxsIjogdHJ1ZSwgImZpbGxDb2xvciI6ICIjMDBiNWViIiwgImZpbGxPcGFjaXR5IjogMC43LCAiZmlsbFJ1bGUiOiAiZXZlbm9kZCIsICJsaW5lQ2FwIjogInJvdW5kIiwgImxpbmVKb2luIjogInJvdW5kIiwgIm9wYWNpdHkiOiAxLjAsICJyYWRpdXMiOiA1LCAic3Ryb2tlIjogdHJ1ZSwgIndlaWdodCI6IDN9CiAgICAgICAgICAgICkuYWRkVG8obWFwXzU4MTU4NWY0M2Y4NTRlZGQ5OTI2OGQ4ZWEwYTllY2Q0KTsKICAgICAgICAKICAgIAogICAgICAgIHZhciBwb3B1cF9mMTMxZjFkYzIwZDg0MjM5YTEwNDJkYTY4NDU2NzM5OCA9IEwucG9wdXAoeyJtYXhXaWR0aCI6ICIxMDAlIn0pOwoKICAgICAgICAKICAgICAgICAgICAgdmFyIGh0bWxfNTczOTBiOWFiZDhjNDFlNmE3MTNhNjhhMTBmOWIyMjQgPSAkKGA8ZGl2IGlkPSJodG1sXzU3MzkwYjlhYmQ4YzQxZTZhNzEzYTY4YTEwZjliMjI0IiBzdHlsZT0id2lkdGg6IDEwMC4wJTsgaGVpZ2h0OiAxMDAuMCU7Ij5FYXN0IFRvcm9udG8gQ2x1c3RlciAyPC9kaXY+YClbMF07CiAgICAgICAgICAgIHBvcHVwX2YxMzFmMWRjMjBkODQyMzlhMTA0MmRhNjg0NTY3Mzk4LnNldENvbnRlbnQoaHRtbF81NzM5MGI5YWJkOGM0MWU2YTcxM2E2OGExMGY5YjIyNCk7CiAgICAgICAgCgogICAgICAgIGNpcmNsZV9tYXJrZXJfMTk5MzYzNDg4NmQ5NDM3OGJmZjg0MjgyYjFiNzljOWIuYmluZFBvcHVwKHBvcHVwX2YxMzFmMWRjMjBkODQyMzlhMTA0MmRhNjg0NTY3Mzk4KQogICAgICAgIDsKCiAgICAgICAgCiAgICAKICAgIAogICAgICAgICAgICB2YXIgY2lyY2xlX21hcmtlcl84ZGZhZGJkOTlhYTM0NjViYTM1M2JlZWM3ZGRjNjQwMyA9IEwuY2lyY2xlTWFya2VyKAogICAgICAgICAgICAgICAgWzQzLjY0NzE3NjgsIC03OS4zODE1NzY0MDAwMDAwMV0sCiAgICAgICAgICAgICAgICB7ImJ1YmJsaW5nTW91c2VFdmVudHMiOiB0cnVlLCAiY29sb3IiOiAiIzAwYjVlYiIsICJkYXNoQXJyYXkiOiBudWxsLCAiZGFzaE9mZnNldCI6IG51bGwsICJmaWxsIjogdHJ1ZSwgImZpbGxDb2xvciI6ICIjMDBiNWViIiwgImZpbGxPcGFjaXR5IjogMC43LCAiZmlsbFJ1bGUiOiAiZXZlbm9kZCIsICJsaW5lQ2FwIjogInJvdW5kIiwgImxpbmVKb2luIjogInJvdW5kIiwgIm9wYWNpdHkiOiAxLjAsICJyYWRpdXMiOiA1LCAic3Ryb2tlIjogdHJ1ZSwgIndlaWdodCI6IDN9CiAgICAgICAgICAgICkuYWRkVG8obWFwXzU4MTU4NWY0M2Y4NTRlZGQ5OTI2OGQ4ZWEwYTllY2Q0KTsKICAgICAgICAKICAgIAogICAgICAgIHZhciBwb3B1cF9iYWM4NTFkMWE5NTM0NTk5OTkyMzE5YzYwNjBmMmM0NCA9IEwucG9wdXAoeyJtYXhXaWR0aCI6ICIxMDAlIn0pOwoKICAgICAgICAKICAgICAgICAgICAgdmFyIGh0bWxfYjY4YWE2MjZmMzQ0NDRlN2IwMTkwNDM5MjYzOGY3OTQgPSAkKGA8ZGl2IGlkPSJodG1sX2I2OGFhNjI2ZjM0NDQ0ZTdiMDE5MDQzOTI2MzhmNzk0IiBzdHlsZT0id2lkdGg6IDEwMC4wJTsgaGVpZ2h0OiAxMDAuMCU7Ij5Eb3dudG93biBUb3JvbnRvIENsdXN0ZXIgMjwvZGl2PmApWzBdOwogICAgICAgICAgICBwb3B1cF9iYWM4NTFkMWE5NTM0NTk5OTkyMzE5YzYwNjBmMmM0NC5zZXRDb250ZW50KGh0bWxfYjY4YWE2MjZmMzQ0NDRlN2IwMTkwNDM5MjYzOGY3OTQpOwogICAgICAgIAoKICAgICAgICBjaXJjbGVfbWFya2VyXzhkZmFkYmQ5OWFhMzQ2NWJhMzUzYmVlYzdkZGM2NDAzLmJpbmRQb3B1cChwb3B1cF9iYWM4NTFkMWE5NTM0NTk5OTkyMzE5YzYwNjBmMmM0NCkKICAgICAgICA7CgogICAgICAgIAogICAgCiAgICAKICAgICAgICAgICAgdmFyIGNpcmNsZV9tYXJrZXJfMmJkOTdlMjQzZDEzNDM2NzliOTcxNDUwM2EzZDUyYjcgPSBMLmNpcmNsZU1hcmtlcigKICAgICAgICAgICAgICAgIFs0My42MzY4NDcyLCAtNzkuNDI4MTkxNDAwMDAwMDJdLAogICAgICAgICAgICAgICAgeyJidWJibGluZ01vdXNlRXZlbnRzIjogdHJ1ZSwgImNvbG9yIjogIiMwMGI1ZWIiLCAiZGFzaEFycmF5IjogbnVsbCwgImRhc2hPZmZzZXQiOiBudWxsLCAiZmlsbCI6IHRydWUsICJmaWxsQ29sb3IiOiAiIzAwYjVlYiIsICJmaWxsT3BhY2l0eSI6IDAuNywgImZpbGxSdWxlIjogImV2ZW5vZGQiLCAibGluZUNhcCI6ICJyb3VuZCIsICJsaW5lSm9pbiI6ICJyb3VuZCIsICJvcGFjaXR5IjogMS4wLCAicmFkaXVzIjogNSwgInN0cm9rZSI6IHRydWUsICJ3ZWlnaHQiOiAzfQogICAgICAgICAgICApLmFkZFRvKG1hcF81ODE1ODVmNDNmODU0ZWRkOTkyNjhkOGVhMGE5ZWNkNCk7CiAgICAgICAgCiAgICAKICAgICAgICB2YXIgcG9wdXBfYjBlNzJjMmIzNWY1NDNiYTllMzBmMWZhYmY4MzU5Y2IgPSBMLnBvcHVwKHsibWF4V2lkdGgiOiAiMTAwJSJ9KTsKCiAgICAgICAgCiAgICAgICAgICAgIHZhciBodG1sX2M3Y2QyMWQwNjdlNjRhMTM5NGM3MmM4NTIzN2Q1NGUyID0gJChgPGRpdiBpZD0iaHRtbF9jN2NkMjFkMDY3ZTY0YTEzOTRjNzJjODUyMzdkNTRlMiIgc3R5bGU9IndpZHRoOiAxMDAuMCU7IGhlaWdodDogMTAwLjAlOyI+V2VzdCBUb3JvbnRvIENsdXN0ZXIgMjwvZGl2PmApWzBdOwogICAgICAgICAgICBwb3B1cF9iMGU3MmMyYjM1ZjU0M2JhOWUzMGYxZmFiZjgzNTljYi5zZXRDb250ZW50KGh0bWxfYzdjZDIxZDA2N2U2NGExMzk0YzcyYzg1MjM3ZDU0ZTIpOwogICAgICAgIAoKICAgICAgICBjaXJjbGVfbWFya2VyXzJiZDk3ZTI0M2QxMzQzNjc5Yjk3MTQ1MDNhM2Q1MmI3LmJpbmRQb3B1cChwb3B1cF9iMGU3MmMyYjM1ZjU0M2JhOWUzMGYxZmFiZjgzNTljYikKICAgICAgICA7CgogICAgICAgIAogICAgCiAgICAKICAgICAgICAgICAgdmFyIGNpcmNsZV9tYXJrZXJfMmM4Njg1MzNjMjBhNDRjOWIwZmViODgwNGIxMmQ1YmIgPSBMLmNpcmNsZU1hcmtlcigKICAgICAgICAgICAgICAgIFs0My43MTExMTE3MDAwMDAwMDQsIC03OS4yODQ1NzcyXSwKICAgICAgICAgICAgICAgIHsiYnViYmxpbmdNb3VzZUV2ZW50cyI6IHRydWUsICJjb2xvciI6ICIjZmYwMDAwIiwgImRhc2hBcnJheSI6IG51bGwsICJkYXNoT2Zmc2V0IjogbnVsbCwgImZpbGwiOiB0cnVlLCAiZmlsbENvbG9yIjogIiNmZjAwMDAiLCAiZmlsbE9wYWNpdHkiOiAwLjcsICJmaWxsUnVsZSI6ICJldmVub2RkIiwgImxpbmVDYXAiOiAicm91bmQiLCAibGluZUpvaW4iOiAicm91bmQiLCAib3BhY2l0eSI6IDEuMCwgInJhZGl1cyI6IDUsICJzdHJva2UiOiB0cnVlLCAid2VpZ2h0IjogM30KICAgICAgICAgICAgKS5hZGRUbyhtYXBfNTgxNTg1ZjQzZjg1NGVkZDk5MjY4ZDhlYTBhOWVjZDQpOwogICAgICAgIAogICAgCiAgICAgICAgdmFyIHBvcHVwX2FlYzVjOWFkZTFjZjQ4NWFiYzY2ZTllOGJjYmY0Y2U2ID0gTC5wb3B1cCh7Im1heFdpZHRoIjogIjEwMCUifSk7CgogICAgICAgIAogICAgICAgICAgICB2YXIgaHRtbF9jODliYmZlMTE2MWE0ZDM1YTM2ZTUxOGVlZTg1MjFjNCA9ICQoYDxkaXYgaWQ9Imh0bWxfYzg5YmJmZTExNjFhNGQzNWEzNmU1MThlZWU4NTIxYzQiIHN0eWxlPSJ3aWR0aDogMTAwLjAlOyBoZWlnaHQ6IDEwMC4wJTsiPlNjYXJib3JvdWdoIENsdXN0ZXIgMDwvZGl2PmApWzBdOwogICAgICAgICAgICBwb3B1cF9hZWM1YzlhZGUxY2Y0ODVhYmM2NmU5ZThiY2JmNGNlNi5zZXRDb250ZW50KGh0bWxfYzg5YmJmZTExNjFhNGQzNWEzNmU1MThlZWU4NTIxYzQpOwogICAgICAgIAoKICAgICAgICBjaXJjbGVfbWFya2VyXzJjODY4NTMzYzIwYTQ0YzliMGZlYjg4MDRiMTJkNWJiLmJpbmRQb3B1cChwb3B1cF9hZWM1YzlhZGUxY2Y0ODVhYmM2NmU5ZThiY2JmNGNlNikKICAgICAgICA7CgogICAgICAgIAogICAgCiAgICAKICAgICAgICAgICAgdmFyIGNpcmNsZV9tYXJrZXJfNWRiZjM2NWVlYmM3NGMxMGFjMGYxMzVkMmJmY2IyNmQgPSBMLmNpcmNsZU1hcmtlcigKICAgICAgICAgICAgICAgIFs0My43NTc0OTAyLCAtNzkuMzc0NzE0MDk5OTk5OTldLAogICAgICAgICAgICAgICAgeyJidWJibGluZ01vdXNlRXZlbnRzIjogdHJ1ZSwgImNvbG9yIjogIiMwMGI1ZWIiLCAiZGFzaEFycmF5IjogbnVsbCwgImRhc2hPZmZzZXQiOiBudWxsLCAiZmlsbCI6IHRydWUsICJmaWxsQ29sb3IiOiAiIzAwYjVlYiIsICJmaWxsT3BhY2l0eSI6IDAuNywgImZpbGxSdWxlIjogImV2ZW5vZGQiLCAibGluZUNhcCI6ICJyb3VuZCIsICJsaW5lSm9pbiI6ICJyb3VuZCIsICJvcGFjaXR5IjogMS4wLCAicmFkaXVzIjogNSwgInN0cm9rZSI6IHRydWUsICJ3ZWlnaHQiOiAzfQogICAgICAgICAgICApLmFkZFRvKG1hcF81ODE1ODVmNDNmODU0ZWRkOTkyNjhkOGVhMGE5ZWNkNCk7CiAgICAgICAgCiAgICAKICAgICAgICB2YXIgcG9wdXBfMDM3ZDM3NDliMjk5NDIwMGE1MGYxZmEwOTgzMzdmZmYgPSBMLnBvcHVwKHsibWF4V2lkdGgiOiAiMTAwJSJ9KTsKCiAgICAgICAgCiAgICAgICAgICAgIHZhciBodG1sX2I4NGU3NTVjOWU1NzRjYTJiYjE3Nzc2Zjk4ZGQ3NjdhID0gJChgPGRpdiBpZD0iaHRtbF9iODRlNzU1YzllNTc0Y2EyYmIxNzc3NmY5OGRkNzY3YSIgc3R5bGU9IndpZHRoOiAxMDAuMCU7IGhlaWdodDogMTAwLjAlOyI+Tm9ydGggWW9yayBDbHVzdGVyIDI8L2Rpdj5gKVswXTsKICAgICAgICAgICAgcG9wdXBfMDM3ZDM3NDliMjk5NDIwMGE1MGYxZmEwOTgzMzdmZmYuc2V0Q29udGVudChodG1sX2I4NGU3NTVjOWU1NzRjYTJiYjE3Nzc2Zjk4ZGQ3NjdhKTsKICAgICAgICAKCiAgICAgICAgY2lyY2xlX21hcmtlcl81ZGJmMzY1ZWViYzc0YzEwYWMwZjEzNWQyYmZjYjI2ZC5iaW5kUG9wdXAocG9wdXBfMDM3ZDM3NDliMjk5NDIwMGE1MGYxZmEwOTgzMzdmZmYpCiAgICAgICAgOwoKICAgICAgICAKICAgIAogICAgCiAgICAgICAgICAgIHZhciBjaXJjbGVfbWFya2VyX2VhZTI4NjJmZDdjODRhODBhNTI2ZGVkNzk4MzczODMzID0gTC5jaXJjbGVNYXJrZXIoCiAgICAgICAgICAgICAgICBbNDMuNzM5MDE0NiwgLTc5LjUwNjk0MzZdLAogICAgICAgICAgICAgICAgeyJidWJibGluZ01vdXNlRXZlbnRzIjogdHJ1ZSwgImNvbG9yIjogIiMwMGI1ZWIiLCAiZGFzaEFycmF5IjogbnVsbCwgImRhc2hPZmZzZXQiOiBudWxsLCAiZmlsbCI6IHRydWUsICJmaWxsQ29sb3IiOiAiIzAwYjVlYiIsICJmaWxsT3BhY2l0eSI6IDAuNywgImZpbGxSdWxlIjogImV2ZW5vZGQiLCAibGluZUNhcCI6ICJyb3VuZCIsICJsaW5lSm9pbiI6ICJyb3VuZCIsICJvcGFjaXR5IjogMS4wLCAicmFkaXVzIjogNSwgInN0cm9rZSI6IHRydWUsICJ3ZWlnaHQiOiAzfQogICAgICAgICAgICApLmFkZFRvKG1hcF81ODE1ODVmNDNmODU0ZWRkOTkyNjhkOGVhMGE5ZWNkNCk7CiAgICAgICAgCiAgICAKICAgICAgICB2YXIgcG9wdXBfZTQxOGQ3ZmM5Mjc2NDMzNzhmNWIxZWYxZmFiODhjOWYgPSBMLnBvcHVwKHsibWF4V2lkdGgiOiAiMTAwJSJ9KTsKCiAgICAgICAgCiAgICAgICAgICAgIHZhciBodG1sXzRhYzZkMjI1Njk3YTRhMzBiYmI0NmQyNjc5NGMwMTFmID0gJChgPGRpdiBpZD0iaHRtbF80YWM2ZDIyNTY5N2E0YTMwYmJiNDZkMjY3OTRjMDExZiIgc3R5bGU9IndpZHRoOiAxMDAuMCU7IGhlaWdodDogMTAwLjAlOyI+Tm9ydGggWW9yayBDbHVzdGVyIDI8L2Rpdj5gKVswXTsKICAgICAgICAgICAgcG9wdXBfZTQxOGQ3ZmM5Mjc2NDMzNzhmNWIxZWYxZmFiODhjOWYuc2V0Q29udGVudChodG1sXzRhYzZkMjI1Njk3YTRhMzBiYmI0NmQyNjc5NGMwMTFmKTsKICAgICAgICAKCiAgICAgICAgY2lyY2xlX21hcmtlcl9lYWUyODYyZmQ3Yzg0YTgwYTUyNmRlZDc5ODM3MzgzMy5iaW5kUG9wdXAocG9wdXBfZTQxOGQ3ZmM5Mjc2NDMzNzhmNWIxZWYxZmFiODhjOWYpCiAgICAgICAgOwoKICAgICAgICAKICAgIAogICAgCiAgICAgICAgICAgIHZhciBjaXJjbGVfbWFya2VyXzY2YjU4ZjFkZjc4MDRmZGRhNGZlZTI3MTU5ZDJjMjYzID0gTC5jaXJjbGVNYXJrZXIoCiAgICAgICAgICAgICAgICBbNDMuNjY4OTk4NSwgLTc5LjMxNTU3MTU5OTk5OTk4XSwKICAgICAgICAgICAgICAgIHsiYnViYmxpbmdNb3VzZUV2ZW50cyI6IHRydWUsICJjb2xvciI6ICIjMDBiNWViIiwgImRhc2hBcnJheSI6IG51bGwsICJkYXNoT2Zmc2V0IjogbnVsbCwgImZpbGwiOiB0cnVlLCAiZmlsbENvbG9yIjogIiMwMGI1ZWIiLCAiZmlsbE9wYWNpdHkiOiAwLjcsICJmaWxsUnVsZSI6ICJldmVub2RkIiwgImxpbmVDYXAiOiAicm91bmQiLCAibGluZUpvaW4iOiAicm91bmQiLCAib3BhY2l0eSI6IDEuMCwgInJhZGl1cyI6IDUsICJzdHJva2UiOiB0cnVlLCAid2VpZ2h0IjogM30KICAgICAgICAgICAgKS5hZGRUbyhtYXBfNTgxNTg1ZjQzZjg1NGVkZDk5MjY4ZDhlYTBhOWVjZDQpOwogICAgICAgIAogICAgCiAgICAgICAgdmFyIHBvcHVwX2ZiZGFmYzhkZDA1MDQ4ZmI4MzEwNjk1MmJlY2U1MTdkID0gTC5wb3B1cCh7Im1heFdpZHRoIjogIjEwMCUifSk7CgogICAgICAgIAogICAgICAgICAgICB2YXIgaHRtbF82NTY4Mjk1YTQ5NWY0NGI4OWJmNDMwNjlkODgwZjk5NiA9ICQoYDxkaXYgaWQ9Imh0bWxfNjU2ODI5NWE0OTVmNDRiODliZjQzMDY5ZDg4MGY5OTYiIHN0eWxlPSJ3aWR0aDogMTAwLjAlOyBoZWlnaHQ6IDEwMC4wJTsiPkVhc3QgVG9yb250byBDbHVzdGVyIDI8L2Rpdj5gKVswXTsKICAgICAgICAgICAgcG9wdXBfZmJkYWZjOGRkMDUwNDhmYjgzMTA2OTUyYmVjZTUxN2Quc2V0Q29udGVudChodG1sXzY1NjgyOTVhNDk1ZjQ0Yjg5YmY0MzA2OWQ4ODBmOTk2KTsKICAgICAgICAKCiAgICAgICAgY2lyY2xlX21hcmtlcl82NmI1OGYxZGY3ODA0ZmRkYTRmZWUyNzE1OWQyYzI2My5iaW5kUG9wdXAocG9wdXBfZmJkYWZjOGRkMDUwNDhmYjgzMTA2OTUyYmVjZTUxN2QpCiAgICAgICAgOwoKICAgICAgICAKICAgIAogICAgCiAgICAgICAgICAgIHZhciBjaXJjbGVfbWFya2VyX2ZmZmYxZTE5YmRiNTRhMDE5ZTVjMGNjYTI1ZTE3ZGU2ID0gTC5jaXJjbGVNYXJrZXIoCiAgICAgICAgICAgICAgICBbNDMuNjQ4MTk4NSwgLTc5LjM3OTgxNjkwMDAwMDAxXSwKICAgICAgICAgICAgICAgIHsiYnViYmxpbmdNb3VzZUV2ZW50cyI6IHRydWUsICJjb2xvciI6ICIjMDBiNWViIiwgImRhc2hBcnJheSI6IG51bGwsICJkYXNoT2Zmc2V0IjogbnVsbCwgImZpbGwiOiB0cnVlLCAiZmlsbENvbG9yIjogIiMwMGI1ZWIiLCAiZmlsbE9wYWNpdHkiOiAwLjcsICJmaWxsUnVsZSI6ICJldmVub2RkIiwgImxpbmVDYXAiOiAicm91bmQiLCAibGluZUpvaW4iOiAicm91bmQiLCAib3BhY2l0eSI6IDEuMCwgInJhZGl1cyI6IDUsICJzdHJva2UiOiB0cnVlLCAid2VpZ2h0IjogM30KICAgICAgICAgICAgKS5hZGRUbyhtYXBfNTgxNTg1ZjQzZjg1NGVkZDk5MjY4ZDhlYTBhOWVjZDQpOwogICAgICAgIAogICAgCiAgICAgICAgdmFyIHBvcHVwXzI5Nzk1MTAyZTM5ZTQ1YTlhYTEwMDNmOTA5NjNkODBmID0gTC5wb3B1cCh7Im1heFdpZHRoIjogIjEwMCUifSk7CgogICAgICAgIAogICAgICAgICAgICB2YXIgaHRtbF9hMjc4NGYyZGYxM2I0ZjVhYWRlZmU1OTEzYmNjMjk4MCA9ICQoYDxkaXYgaWQ9Imh0bWxfYTI3ODRmMmRmMTNiNGY1YWFkZWZlNTkxM2JjYzI5ODAiIHN0eWxlPSJ3aWR0aDogMTAwLjAlOyBoZWlnaHQ6IDEwMC4wJTsiPkRvd250b3duIFRvcm9udG8gQ2x1c3RlciAyPC9kaXY+YClbMF07CiAgICAgICAgICAgIHBvcHVwXzI5Nzk1MTAyZTM5ZTQ1YTlhYTEwMDNmOTA5NjNkODBmLnNldENvbnRlbnQoaHRtbF9hMjc4NGYyZGYxM2I0ZjVhYWRlZmU1OTEzYmNjMjk4MCk7CiAgICAgICAgCgogICAgICAgIGNpcmNsZV9tYXJrZXJfZmZmZjFlMTliZGI1NGEwMTllNWMwY2NhMjVlMTdkZTYuYmluZFBvcHVwKHBvcHVwXzI5Nzk1MTAyZTM5ZTQ1YTlhYTEwMDNmOTA5NjNkODBmKQogICAgICAgIDsKCiAgICAgICAgCiAgICAKICAgIAogICAgICAgICAgICB2YXIgY2lyY2xlX21hcmtlcl82NmExYTE0NmYyMTk0ODhhODA4ZDE3MWYzNDgxNmY3NSA9IEwuY2lyY2xlTWFya2VyKAogICAgICAgICAgICAgICAgWzQzLjcxMzc1NjIwMDAwMDAwNiwgLTc5LjQ5MDA3MzhdLAogICAgICAgICAgICAgICAgeyJidWJibGluZ01vdXNlRXZlbnRzIjogdHJ1ZSwgImNvbG9yIjogIiMwMGI1ZWIiLCAiZGFzaEFycmF5IjogbnVsbCwgImRhc2hPZmZzZXQiOiBudWxsLCAiZmlsbCI6IHRydWUsICJmaWxsQ29sb3IiOiAiIzAwYjVlYiIsICJmaWxsT3BhY2l0eSI6IDAuNywgImZpbGxSdWxlIjogImV2ZW5vZGQiLCAibGluZUNhcCI6ICJyb3VuZCIsICJsaW5lSm9pbiI6ICJyb3VuZCIsICJvcGFjaXR5IjogMS4wLCAicmFkaXVzIjogNSwgInN0cm9rZSI6IHRydWUsICJ3ZWlnaHQiOiAzfQogICAgICAgICAgICApLmFkZFRvKG1hcF81ODE1ODVmNDNmODU0ZWRkOTkyNjhkOGVhMGE5ZWNkNCk7CiAgICAgICAgCiAgICAKICAgICAgICB2YXIgcG9wdXBfMzNhNGFjNDIxYjM1NDE0Mjg5NTZkMmQ3OWU0ZGE0NDggPSBMLnBvcHVwKHsibWF4V2lkdGgiOiAiMTAwJSJ9KTsKCiAgICAgICAgCiAgICAgICAgICAgIHZhciBodG1sX2NkZjk3ZDkyMWVjOTQxNWRhYTRjZTJkMjU3ZGRmZGZmID0gJChgPGRpdiBpZD0iaHRtbF9jZGY5N2Q5MjFlYzk0MTVkYWE0Y2UyZDI1N2RkZmRmZiIgc3R5bGU9IndpZHRoOiAxMDAuMCU7IGhlaWdodDogMTAwLjAlOyI+Tm9ydGggWW9yayBDbHVzdGVyIDI8L2Rpdj5gKVswXTsKICAgICAgICAgICAgcG9wdXBfMzNhNGFjNDIxYjM1NDE0Mjg5NTZkMmQ3OWU0ZGE0NDguc2V0Q29udGVudChodG1sX2NkZjk3ZDkyMWVjOTQxNWRhYTRjZTJkMjU3ZGRmZGZmKTsKICAgICAgICAKCiAgICAgICAgY2lyY2xlX21hcmtlcl82NmExYTE0NmYyMTk0ODhhODA4ZDE3MWYzNDgxNmY3NS5iaW5kUG9wdXAocG9wdXBfMzNhNGFjNDIxYjM1NDE0Mjg5NTZkMmQ3OWU0ZGE0NDgpCiAgICAgICAgOwoKICAgICAgICAKICAgIAogICAgCiAgICAgICAgICAgIHZhciBjaXJjbGVfbWFya2VyX2RjMDg0NGJkODMwNTQ0YWViNGRiOTZiNjYwODczMzY0ID0gTC5jaXJjbGVNYXJrZXIoCiAgICAgICAgICAgICAgICBbNDMuNzU2MzAzMywgLTc5LjU2NTk2MzI5OTk5OTk5XSwKICAgICAgICAgICAgICAgIHsiYnViYmxpbmdNb3VzZUV2ZW50cyI6IHRydWUsICJjb2xvciI6ICIjMDBiNWViIiwgImRhc2hBcnJheSI6IG51bGwsICJkYXNoT2Zmc2V0IjogbnVsbCwgImZpbGwiOiB0cnVlLCAiZmlsbENvbG9yIjogIiMwMGI1ZWIiLCAiZmlsbE9wYWNpdHkiOiAwLjcsICJmaWxsUnVsZSI6ICJldmVub2RkIiwgImxpbmVDYXAiOiAicm91bmQiLCAibGluZUpvaW4iOiAicm91bmQiLCAib3BhY2l0eSI6IDEuMCwgInJhZGl1cyI6IDUsICJzdHJva2UiOiB0cnVlLCAid2VpZ2h0IjogM30KICAgICAgICAgICAgKS5hZGRUbyhtYXBfNTgxNTg1ZjQzZjg1NGVkZDk5MjY4ZDhlYTBhOWVjZDQpOwogICAgICAgIAogICAgCiAgICAgICAgdmFyIHBvcHVwXzE0M2Q2NjExMjNmMjQ5OWM5OGUwYjdkMjVlNTc4YWI3ID0gTC5wb3B1cCh7Im1heFdpZHRoIjogIjEwMCUifSk7CgogICAgICAgIAogICAgICAgICAgICB2YXIgaHRtbF9mZDQ2NmM5YmY5MjE0M2UzODg0ZmFmNGVmZDYyZTE3MCA9ICQoYDxkaXYgaWQ9Imh0bWxfZmQ0NjZjOWJmOTIxNDNlMzg4NGZhZjRlZmQ2MmUxNzAiIHN0eWxlPSJ3aWR0aDogMTAwLjAlOyBoZWlnaHQ6IDEwMC4wJTsiPk5vcnRoIFlvcmsgQ2x1c3RlciAyPC9kaXY+YClbMF07CiAgICAgICAgICAgIHBvcHVwXzE0M2Q2NjExMjNmMjQ5OWM5OGUwYjdkMjVlNTc4YWI3LnNldENvbnRlbnQoaHRtbF9mZDQ2NmM5YmY5MjE0M2UzODg0ZmFmNGVmZDYyZTE3MCk7CiAgICAgICAgCgogICAgICAgIGNpcmNsZV9tYXJrZXJfZGMwODQ0YmQ4MzA1NDRhZWI0ZGI5NmI2NjA4NzMzNjQuYmluZFBvcHVwKHBvcHVwXzE0M2Q2NjExMjNmMjQ5OWM5OGUwYjdkMjVlNTc4YWI3KQogICAgICAgIDsKCiAgICAgICAgCiAgICAKICAgIAogICAgICAgICAgICB2YXIgY2lyY2xlX21hcmtlcl8xOTFhYjA5NTg2YjM0NjFmYWU2MzdkNTBmOWQwZDRmYiA9IEwuY2lyY2xlTWFya2VyKAogICAgICAgICAgICAgICAgWzQzLjcxNjMxNiwgLTc5LjIzOTQ3NjA5OTk5OTk5XSwKICAgICAgICAgICAgICAgIHsiYnViYmxpbmdNb3VzZUV2ZW50cyI6IHRydWUsICJjb2xvciI6ICIjZmYwMDAwIiwgImRhc2hBcnJheSI6IG51bGwsICJkYXNoT2Zmc2V0IjogbnVsbCwgImZpbGwiOiB0cnVlLCAiZmlsbENvbG9yIjogIiNmZjAwMDAiLCAiZmlsbE9wYWNpdHkiOiAwLjcsICJmaWxsUnVsZSI6ICJldmVub2RkIiwgImxpbmVDYXAiOiAicm91bmQiLCAibGluZUpvaW4iOiAicm91bmQiLCAib3BhY2l0eSI6IDEuMCwgInJhZGl1cyI6IDUsICJzdHJva2UiOiB0cnVlLCAid2VpZ2h0IjogM30KICAgICAgICAgICAgKS5hZGRUbyhtYXBfNTgxNTg1ZjQzZjg1NGVkZDk5MjY4ZDhlYTBhOWVjZDQpOwogICAgICAgIAogICAgCiAgICAgICAgdmFyIHBvcHVwX2Q0NDc4YmI4NGNjNTQ3YjI4YjgzMzJlNTBiYWUyYzczID0gTC5wb3B1cCh7Im1heFdpZHRoIjogIjEwMCUifSk7CgogICAgICAgIAogICAgICAgICAgICB2YXIgaHRtbF84YTAzYWRjNTY0YzM0N2MwYjA0ZGExOTQ0ZTRkMjhjMyA9ICQoYDxkaXYgaWQ9Imh0bWxfOGEwM2FkYzU2NGMzNDdjMGIwNGRhMTk0NGU0ZDI4YzMiIHN0eWxlPSJ3aWR0aDogMTAwLjAlOyBoZWlnaHQ6IDEwMC4wJTsiPlNjYXJib3JvdWdoIENsdXN0ZXIgMDwvZGl2PmApWzBdOwogICAgICAgICAgICBwb3B1cF9kNDQ3OGJiODRjYzU0N2IyOGI4MzMyZTUwYmFlMmM3My5zZXRDb250ZW50KGh0bWxfOGEwM2FkYzU2NGMzNDdjMGIwNGRhMTk0NGU0ZDI4YzMpOwogICAgICAgIAoKICAgICAgICBjaXJjbGVfbWFya2VyXzE5MWFiMDk1ODZiMzQ2MWZhZTYzN2Q1MGY5ZDBkNGZiLmJpbmRQb3B1cChwb3B1cF9kNDQ3OGJiODRjYzU0N2IyOGI4MzMyZTUwYmFlMmM3MykKICAgICAgICA7CgogICAgICAgIAogICAgCiAgICAKICAgICAgICAgICAgdmFyIGNpcmNsZV9tYXJrZXJfOGZiYmFkZjA1ZTYwNDlkODk3NDJkZWFkMjc4MGE5MjUgPSBMLmNpcmNsZU1hcmtlcigKICAgICAgICAgICAgICAgIFs0My43ODkwNTMsIC03OS40MDg0OTI3OTk5OTk5OV0sCiAgICAgICAgICAgICAgICB7ImJ1YmJsaW5nTW91c2VFdmVudHMiOiB0cnVlLCAiY29sb3IiOiAiIzAwYjVlYiIsICJkYXNoQXJyYXkiOiBudWxsLCAiZGFzaE9mZnNldCI6IG51bGwsICJmaWxsIjogdHJ1ZSwgImZpbGxDb2xvciI6ICIjMDBiNWViIiwgImZpbGxPcGFjaXR5IjogMC43LCAiZmlsbFJ1bGUiOiAiZXZlbm9kZCIsICJsaW5lQ2FwIjogInJvdW5kIiwgImxpbmVKb2luIjogInJvdW5kIiwgIm9wYWNpdHkiOiAxLjAsICJyYWRpdXMiOiA1LCAic3Ryb2tlIjogdHJ1ZSwgIndlaWdodCI6IDN9CiAgICAgICAgICAgICkuYWRkVG8obWFwXzU4MTU4NWY0M2Y4NTRlZGQ5OTI2OGQ4ZWEwYTllY2Q0KTsKICAgICAgICAKICAgIAogICAgICAgIHZhciBwb3B1cF84NGM2NmM5NjIwOTI0NzI1YjRjYzhlNjQ4ZDNmNzNjYSA9IEwucG9wdXAoeyJtYXhXaWR0aCI6ICIxMDAlIn0pOwoKICAgICAgICAKICAgICAgICAgICAgdmFyIGh0bWxfNzc4Mzc5MzQ3YmU1NDNkY2I0ZTE1Nzk1YTliNjBmMWEgPSAkKGA8ZGl2IGlkPSJodG1sXzc3ODM3OTM0N2JlNTQzZGNiNGUxNTc5NWE5YjYwZjFhIiBzdHlsZT0id2lkdGg6IDEwMC4wJTsgaGVpZ2h0OiAxMDAuMCU7Ij5Ob3J0aCBZb3JrIENsdXN0ZXIgMjwvZGl2PmApWzBdOwogICAgICAgICAgICBwb3B1cF84NGM2NmM5NjIwOTI0NzI1YjRjYzhlNjQ4ZDNmNzNjYS5zZXRDb250ZW50KGh0bWxfNzc4Mzc5MzQ3YmU1NDNkY2I0ZTE1Nzk1YTliNjBmMWEpOwogICAgICAgIAoKICAgICAgICBjaXJjbGVfbWFya2VyXzhmYmJhZGYwNWU2MDQ5ZDg5NzQyZGVhZDI3ODBhOTI1LmJpbmRQb3B1cChwb3B1cF84NGM2NmM5NjIwOTI0NzI1YjRjYzhlNjQ4ZDNmNzNjYSkKICAgICAgICA7CgogICAgICAgIAogICAgCiAgICAKICAgICAgICAgICAgdmFyIGNpcmNsZV9tYXJrZXJfZDQxMzgyYTY4MWQ3NDZjMzg4MmU5YjlmY2I5MWRhYzIgPSBMLmNpcmNsZU1hcmtlcigKICAgICAgICAgICAgICAgIFs0My43Mjg0OTY0LCAtNzkuNDk1Njk3NDAwMDAwMDFdLAogICAgICAgICAgICAgICAgeyJidWJibGluZ01vdXNlRXZlbnRzIjogdHJ1ZSwgImNvbG9yIjogIiMwMGI1ZWIiLCAiZGFzaEFycmF5IjogbnVsbCwgImRhc2hPZmZzZXQiOiBudWxsLCAiZmlsbCI6IHRydWUsICJmaWxsQ29sb3IiOiAiIzAwYjVlYiIsICJmaWxsT3BhY2l0eSI6IDAuNywgImZpbGxSdWxlIjogImV2ZW5vZGQiLCAibGluZUNhcCI6ICJyb3VuZCIsICJsaW5lSm9pbiI6ICJyb3VuZCIsICJvcGFjaXR5IjogMS4wLCAicmFkaXVzIjogNSwgInN0cm9rZSI6IHRydWUsICJ3ZWlnaHQiOiAzfQogICAgICAgICAgICApLmFkZFRvKG1hcF81ODE1ODVmNDNmODU0ZWRkOTkyNjhkOGVhMGE5ZWNkNCk7CiAgICAgICAgCiAgICAKICAgICAgICB2YXIgcG9wdXBfZDMyMjhjYzhmNjhkNDdhYTgyY2Y5MmFkZTM5ODM0YzEgPSBMLnBvcHVwKHsibWF4V2lkdGgiOiAiMTAwJSJ9KTsKCiAgICAgICAgCiAgICAgICAgICAgIHZhciBodG1sXzExZjM5NzU2ZmUyZDQxOTZiNzNhYzFhNjkyZDAxMTNhID0gJChgPGRpdiBpZD0iaHRtbF8xMWYzOTc1NmZlMmQ0MTk2YjczYWMxYTY5MmQwMTEzYSIgc3R5bGU9IndpZHRoOiAxMDAuMCU7IGhlaWdodDogMTAwLjAlOyI+Tm9ydGggWW9yayBDbHVzdGVyIDI8L2Rpdj5gKVswXTsKICAgICAgICAgICAgcG9wdXBfZDMyMjhjYzhmNjhkNDdhYTgyY2Y5MmFkZTM5ODM0YzEuc2V0Q29udGVudChodG1sXzExZjM5NzU2ZmUyZDQxOTZiNzNhYzFhNjkyZDAxMTNhKTsKICAgICAgICAKCiAgICAgICAgY2lyY2xlX21hcmtlcl9kNDEzODJhNjgxZDc0NmMzODgyZTliOWZjYjkxZGFjMi5iaW5kUG9wdXAocG9wdXBfZDMyMjhjYzhmNjhkNDdhYTgyY2Y5MmFkZTM5ODM0YzEpCiAgICAgICAgOwoKICAgICAgICAKICAgIAogICAgCiAgICAgICAgICAgIHZhciBjaXJjbGVfbWFya2VyX2U1MjhkMjRjZmQwNjQzOTU4YjI2NTVjMDRjYTE0MjlkID0gTC5jaXJjbGVNYXJrZXIoCiAgICAgICAgICAgICAgICBbNDMuNjU5NTI1NSwgLTc5LjM0MDkyM10sCiAgICAgICAgICAgICAgICB7ImJ1YmJsaW5nTW91c2VFdmVudHMiOiB0cnVlLCAiY29sb3IiOiAiIzAwYjVlYiIsICJkYXNoQXJyYXkiOiBudWxsLCAiZGFzaE9mZnNldCI6IG51bGwsICJmaWxsIjogdHJ1ZSwgImZpbGxDb2xvciI6ICIjMDBiNWViIiwgImZpbGxPcGFjaXR5IjogMC43LCAiZmlsbFJ1bGUiOiAiZXZlbm9kZCIsICJsaW5lQ2FwIjogInJvdW5kIiwgImxpbmVKb2luIjogInJvdW5kIiwgIm9wYWNpdHkiOiAxLjAsICJyYWRpdXMiOiA1LCAic3Ryb2tlIjogdHJ1ZSwgIndlaWdodCI6IDN9CiAgICAgICAgICAgICkuYWRkVG8obWFwXzU4MTU4NWY0M2Y4NTRlZGQ5OTI2OGQ4ZWEwYTllY2Q0KTsKICAgICAgICAKICAgIAogICAgICAgIHZhciBwb3B1cF84Njk3NjZjMGFlNTc0NTJiODQ0ZjM1NjU0ZGY4OWYwZCA9IEwucG9wdXAoeyJtYXhXaWR0aCI6ICIxMDAlIn0pOwoKICAgICAgICAKICAgICAgICAgICAgdmFyIGh0bWxfMmViZGMwMWY4Yjc4NDZmZWIwMDJhNWVhZmM2NWE4ZmUgPSAkKGA8ZGl2IGlkPSJodG1sXzJlYmRjMDFmOGI3ODQ2ZmViMDAyYTVlYWZjNjVhOGZlIiBzdHlsZT0id2lkdGg6IDEwMC4wJTsgaGVpZ2h0OiAxMDAuMCU7Ij5FYXN0IFRvcm9udG8gQ2x1c3RlciAyPC9kaXY+YClbMF07CiAgICAgICAgICAgIHBvcHVwXzg2OTc2NmMwYWU1NzQ1MmI4NDRmMzU2NTRkZjg5ZjBkLnNldENvbnRlbnQoaHRtbF8yZWJkYzAxZjhiNzg0NmZlYjAwMmE1ZWFmYzY1YThmZSk7CiAgICAgICAgCgogICAgICAgIGNpcmNsZV9tYXJrZXJfZTUyOGQyNGNmZDA2NDM5NThiMjY1NWMwNGNhMTQyOWQuYmluZFBvcHVwKHBvcHVwXzg2OTc2NmMwYWU1NzQ1MmI4NDRmMzU2NTRkZjg5ZjBkKQogICAgICAgIDsKCiAgICAgICAgCiAgICAKICAgIAogICAgICAgICAgICB2YXIgY2lyY2xlX21hcmtlcl82NTBhZjc2Y2RiY2M0YTM1YTI3YmFkODhjODE2ZmMzZSA9IEwuY2lyY2xlTWFya2VyKAogICAgICAgICAgICAgICAgWzQzLjczMzI4MjUsIC03OS40MTk3NDk3XSwKICAgICAgICAgICAgICAgIHsiYnViYmxpbmdNb3VzZUV2ZW50cyI6IHRydWUsICJjb2xvciI6ICIjMDBiNWViIiwgImRhc2hBcnJheSI6IG51bGwsICJkYXNoT2Zmc2V0IjogbnVsbCwgImZpbGwiOiB0cnVlLCAiZmlsbENvbG9yIjogIiMwMGI1ZWIiLCAiZmlsbE9wYWNpdHkiOiAwLjcsICJmaWxsUnVsZSI6ICJldmVub2RkIiwgImxpbmVDYXAiOiAicm91bmQiLCAibGluZUpvaW4iOiAicm91bmQiLCAib3BhY2l0eSI6IDEuMCwgInJhZGl1cyI6IDUsICJzdHJva2UiOiB0cnVlLCAid2VpZ2h0IjogM30KICAgICAgICAgICAgKS5hZGRUbyhtYXBfNTgxNTg1ZjQzZjg1NGVkZDk5MjY4ZDhlYTBhOWVjZDQpOwogICAgICAgIAogICAgCiAgICAgICAgdmFyIHBvcHVwXzFiMTcwMTNjNDhmNjQ1OWZiOTk0N2E0OWY0YjZiMTcxID0gTC5wb3B1cCh7Im1heFdpZHRoIjogIjEwMCUifSk7CgogICAgICAgIAogICAgICAgICAgICB2YXIgaHRtbF8yYTQ2MTE1NmFmNzY0MjVmYmI1N2NkZDY1ZDFjOGY0NSA9ICQoYDxkaXYgaWQ9Imh0bWxfMmE0NjExNTZhZjc2NDI1ZmJiNTdjZGQ2NWQxYzhmNDUiIHN0eWxlPSJ3aWR0aDogMTAwLjAlOyBoZWlnaHQ6IDEwMC4wJTsiPk5vcnRoIFlvcmsgQ2x1c3RlciAyPC9kaXY+YClbMF07CiAgICAgICAgICAgIHBvcHVwXzFiMTcwMTNjNDhmNjQ1OWZiOTk0N2E0OWY0YjZiMTcxLnNldENvbnRlbnQoaHRtbF8yYTQ2MTE1NmFmNzY0MjVmYmI1N2NkZDY1ZDFjOGY0NSk7CiAgICAgICAgCgogICAgICAgIGNpcmNsZV9tYXJrZXJfNjUwYWY3NmNkYmNjNGEzNWEyN2JhZDg4YzgxNmZjM2UuYmluZFBvcHVwKHBvcHVwXzFiMTcwMTNjNDhmNjQ1OWZiOTk0N2E0OWY0YjZiMTcxKQogICAgICAgIDsKCiAgICAgICAgCiAgICAKICAgIAogICAgICAgICAgICB2YXIgY2lyY2xlX21hcmtlcl85ZWFmMzM4ZjRmYzY0OThjYWY4YWEwYjhjNDc0ODZjYyA9IEwuY2lyY2xlTWFya2VyKAogICAgICAgICAgICAgICAgWzQzLjY5MTExNTgsIC03OS40NzYwMTMyOTk5OTk5OV0sCiAgICAgICAgICAgICAgICB7ImJ1YmJsaW5nTW91c2VFdmVudHMiOiB0cnVlLCAiY29sb3IiOiAiIzgwMDBmZiIsICJkYXNoQXJyYXkiOiBudWxsLCAiZGFzaE9mZnNldCI6IG51bGwsICJmaWxsIjogdHJ1ZSwgImZpbGxDb2xvciI6ICIjODAwMGZmIiwgImZpbGxPcGFjaXR5IjogMC43LCAiZmlsbFJ1bGUiOiAiZXZlbm9kZCIsICJsaW5lQ2FwIjogInJvdW5kIiwgImxpbmVKb2luIjogInJvdW5kIiwgIm9wYWNpdHkiOiAxLjAsICJyYWRpdXMiOiA1LCAic3Ryb2tlIjogdHJ1ZSwgIndlaWdodCI6IDN9CiAgICAgICAgICAgICkuYWRkVG8obWFwXzU4MTU4NWY0M2Y4NTRlZGQ5OTI2OGQ4ZWEwYTllY2Q0KTsKICAgICAgICAKICAgIAogICAgICAgIHZhciBwb3B1cF8zOGI4ZTkzMzE0YTc0ZGFlYWJkNzRkMDY4ZDZhNjE3YSA9IEwucG9wdXAoeyJtYXhXaWR0aCI6ICIxMDAlIn0pOwoKICAgICAgICAKICAgICAgICAgICAgdmFyIGh0bWxfMGVkYjVkODE3MGYzNDU4MmEyZGRkOGQ1YzRlYTdjZjMgPSAkKGA8ZGl2IGlkPSJodG1sXzBlZGI1ZDgxNzBmMzQ1ODJhMmRkZDhkNWM0ZWE3Y2YzIiBzdHlsZT0id2lkdGg6IDEwMC4wJTsgaGVpZ2h0OiAxMDAuMCU7Ij5Zb3JrIENsdXN0ZXIgMTwvZGl2PmApWzBdOwogICAgICAgICAgICBwb3B1cF8zOGI4ZTkzMzE0YTc0ZGFlYWJkNzRkMDY4ZDZhNjE3YS5zZXRDb250ZW50KGh0bWxfMGVkYjVkODE3MGYzNDU4MmEyZGRkOGQ1YzRlYTdjZjMpOwogICAgICAgIAoKICAgICAgICBjaXJjbGVfbWFya2VyXzllYWYzMzhmNGZjNjQ5OGNhZjhhYTBiOGM0NzQ4NmNjLmJpbmRQb3B1cChwb3B1cF8zOGI4ZTkzMzE0YTc0ZGFlYWJkNzRkMDY4ZDZhNjE3YSkKICAgICAgICA7CgogICAgICAgIAogICAgCiAgICAKICAgICAgICAgICAgdmFyIGNpcmNsZV9tYXJrZXJfZGY1MWFkMjlmMWQ1NDJhMThlMTc4YmU3N2RiZWUzNmEgPSBMLmNpcmNsZU1hcmtlcigKICAgICAgICAgICAgICAgIFs0My43MjQ3NjU5LCAtNzkuNTMyMjQyNDAwMDAwMDJdLAogICAgICAgICAgICAgICAgeyJidWJibGluZ01vdXNlRXZlbnRzIjogdHJ1ZSwgImNvbG9yIjogIiMwMGI1ZWIiLCAiZGFzaEFycmF5IjogbnVsbCwgImRhc2hPZmZzZXQiOiBudWxsLCAiZmlsbCI6IHRydWUsICJmaWxsQ29sb3IiOiAiIzAwYjVlYiIsICJmaWxsT3BhY2l0eSI6IDAuNywgImZpbGxSdWxlIjogImV2ZW5vZGQiLCAibGluZUNhcCI6ICJyb3VuZCIsICJsaW5lSm9pbiI6ICJyb3VuZCIsICJvcGFjaXR5IjogMS4wLCAicmFkaXVzIjogNSwgInN0cm9rZSI6IHRydWUsICJ3ZWlnaHQiOiAzfQogICAgICAgICAgICApLmFkZFRvKG1hcF81ODE1ODVmNDNmODU0ZWRkOTkyNjhkOGVhMGE5ZWNkNCk7CiAgICAgICAgCiAgICAKICAgICAgICB2YXIgcG9wdXBfN2I4ODAwMjU3NDI0NDFjOThkOWM5NmE3OGE4Mzk4ZWQgPSBMLnBvcHVwKHsibWF4V2lkdGgiOiAiMTAwJSJ9KTsKCiAgICAgICAgCiAgICAgICAgICAgIHZhciBodG1sXzg0MjA3MjY1N2FkZDQyNmM4MDJjNzgzNWE4ODdlMThjID0gJChgPGRpdiBpZD0iaHRtbF84NDIwNzI2NTdhZGQ0MjZjODAyYzc4MzVhODg3ZTE4YyIgc3R5bGU9IndpZHRoOiAxMDAuMCU7IGhlaWdodDogMTAwLjAlOyI+Tm9ydGggWW9yayBDbHVzdGVyIDI8L2Rpdj5gKVswXTsKICAgICAgICAgICAgcG9wdXBfN2I4ODAwMjU3NDI0NDFjOThkOWM5NmE3OGE4Mzk4ZWQuc2V0Q29udGVudChodG1sXzg0MjA3MjY1N2FkZDQyNmM4MDJjNzgzNWE4ODdlMThjKTsKICAgICAgICAKCiAgICAgICAgY2lyY2xlX21hcmtlcl9kZjUxYWQyOWYxZDU0MmExOGUxNzhiZTc3ZGJlZTM2YS5iaW5kUG9wdXAocG9wdXBfN2I4ODAwMjU3NDI0NDFjOThkOWM5NmE3OGE4Mzk4ZWQpCiAgICAgICAgOwoKICAgICAgICAKICAgIAogICAgCiAgICAgICAgICAgIHZhciBjaXJjbGVfbWFya2VyXzE4ODc5YzRmNDI0YzRjNjk4ZjA1NDk1MGNlNjRkZjQ2ID0gTC5jaXJjbGVNYXJrZXIoCiAgICAgICAgICAgICAgICBbNDMuNjkyNjU3MDAwMDAwMDA0LCAtNzkuMjY0ODQ4MV0sCiAgICAgICAgICAgICAgICB7ImJ1YmJsaW5nTW91c2VFdmVudHMiOiB0cnVlLCAiY29sb3IiOiAiI2ZmMDAwMCIsICJkYXNoQXJyYXkiOiBudWxsLCAiZGFzaE9mZnNldCI6IG51bGwsICJmaWxsIjogdHJ1ZSwgImZpbGxDb2xvciI6ICIjZmYwMDAwIiwgImZpbGxPcGFjaXR5IjogMC43LCAiZmlsbFJ1bGUiOiAiZXZlbm9kZCIsICJsaW5lQ2FwIjogInJvdW5kIiwgImxpbmVKb2luIjogInJvdW5kIiwgIm9wYWNpdHkiOiAxLjAsICJyYWRpdXMiOiA1LCAic3Ryb2tlIjogdHJ1ZSwgIndlaWdodCI6IDN9CiAgICAgICAgICAgICkuYWRkVG8obWFwXzU4MTU4NWY0M2Y4NTRlZGQ5OTI2OGQ4ZWEwYTllY2Q0KTsKICAgICAgICAKICAgIAogICAgICAgIHZhciBwb3B1cF80M2UxODE4NzE3MTA0NzMyOTdiNWY4NGY5MWE2M2FkMSA9IEwucG9wdXAoeyJtYXhXaWR0aCI6ICIxMDAlIn0pOwoKICAgICAgICAKICAgICAgICAgICAgdmFyIGh0bWxfZDk2NGU2YTZjNjg2NGZkMmIxNmJiMmQ3NDVjM2IyNGUgPSAkKGA8ZGl2IGlkPSJodG1sX2Q5NjRlNmE2YzY4NjRmZDJiMTZiYjJkNzQ1YzNiMjRlIiBzdHlsZT0id2lkdGg6IDEwMC4wJTsgaGVpZ2h0OiAxMDAuMCU7Ij5TY2FyYm9yb3VnaCBDbHVzdGVyIDA8L2Rpdj5gKVswXTsKICAgICAgICAgICAgcG9wdXBfNDNlMTgxODcxNzEwNDczMjk3YjVmODRmOTFhNjNhZDEuc2V0Q29udGVudChodG1sX2Q5NjRlNmE2YzY4NjRmZDJiMTZiYjJkNzQ1YzNiMjRlKTsKICAgICAgICAKCiAgICAgICAgY2lyY2xlX21hcmtlcl8xODg3OWM0ZjQyNGM0YzY5OGYwNTQ5NTBjZTY0ZGY0Ni5iaW5kUG9wdXAocG9wdXBfNDNlMTgxODcxNzEwNDczMjk3YjVmODRmOTFhNjNhZDEpCiAgICAgICAgOwoKICAgICAgICAKICAgIAogICAgCiAgICAgICAgICAgIHZhciBjaXJjbGVfbWFya2VyX2FiYTU2MGYyYzk0ZjRkZTBhOTE0MGE0NGEwYjNjZWE4ID0gTC5jaXJjbGVNYXJrZXIoCiAgICAgICAgICAgICAgICBbNDMuNzcwMTE5OSwgLTc5LjQwODQ5Mjc5OTk5OTk5XSwKICAgICAgICAgICAgICAgIHsiYnViYmxpbmdNb3VzZUV2ZW50cyI6IHRydWUsICJjb2xvciI6ICIjMDBiNWViIiwgImRhc2hBcnJheSI6IG51bGwsICJkYXNoT2Zmc2V0IjogbnVsbCwgImZpbGwiOiB0cnVlLCAiZmlsbENvbG9yIjogIiMwMGI1ZWIiLCAiZmlsbE9wYWNpdHkiOiAwLjcsICJmaWxsUnVsZSI6ICJldmVub2RkIiwgImxpbmVDYXAiOiAicm91bmQiLCAibGluZUpvaW4iOiAicm91bmQiLCAib3BhY2l0eSI6IDEuMCwgInJhZGl1cyI6IDUsICJzdHJva2UiOiB0cnVlLCAid2VpZ2h0IjogM30KICAgICAgICAgICAgKS5hZGRUbyhtYXBfNTgxNTg1ZjQzZjg1NGVkZDk5MjY4ZDhlYTBhOWVjZDQpOwogICAgICAgIAogICAgCiAgICAgICAgdmFyIHBvcHVwX2VjNzIwOTVhODY1YzRiOTJiMjQ0MmQzY2QyZjA3YWUyID0gTC5wb3B1cCh7Im1heFdpZHRoIjogIjEwMCUifSk7CgogICAgICAgIAogICAgICAgICAgICB2YXIgaHRtbF8yOTkzN2VmZGY0MzQ0MDBiYjcyMDk1Y2ZhYjMzMDRiMSA9ICQoYDxkaXYgaWQ9Imh0bWxfMjk5MzdlZmRmNDM0NDAwYmI3MjA5NWNmYWIzMzA0YjEiIHN0eWxlPSJ3aWR0aDogMTAwLjAlOyBoZWlnaHQ6IDEwMC4wJTsiPk5vcnRoIFlvcmsgQ2x1c3RlciAyPC9kaXY+YClbMF07CiAgICAgICAgICAgIHBvcHVwX2VjNzIwOTVhODY1YzRiOTJiMjQ0MmQzY2QyZjA3YWUyLnNldENvbnRlbnQoaHRtbF8yOTkzN2VmZGY0MzQ0MDBiYjcyMDk1Y2ZhYjMzMDRiMSk7CiAgICAgICAgCgogICAgICAgIGNpcmNsZV9tYXJrZXJfYWJhNTYwZjJjOTRmNGRlMGE5MTQwYTQ0YTBiM2NlYTguYmluZFBvcHVwKHBvcHVwX2VjNzIwOTVhODY1YzRiOTJiMjQ0MmQzY2QyZjA3YWUyKQogICAgICAgIDsKCiAgICAgICAgCiAgICAKICAgIAogICAgICAgICAgICB2YXIgY2lyY2xlX21hcmtlcl9kZmZiMTZhMzI5ZGU0MDAxYWRlMTE5MDY4YjQ4YWQ3ZCA9IEwuY2lyY2xlTWFya2VyKAogICAgICAgICAgICAgICAgWzQzLjc2MTYzMTMsIC03OS41MjA5OTk0MDAwMDAwMV0sCiAgICAgICAgICAgICAgICB7ImJ1YmJsaW5nTW91c2VFdmVudHMiOiB0cnVlLCAiY29sb3IiOiAiIzAwYjVlYiIsICJkYXNoQXJyYXkiOiBudWxsLCAiZGFzaE9mZnNldCI6IG51bGwsICJmaWxsIjogdHJ1ZSwgImZpbGxDb2xvciI6ICIjMDBiNWViIiwgImZpbGxPcGFjaXR5IjogMC43LCAiZmlsbFJ1bGUiOiAiZXZlbm9kZCIsICJsaW5lQ2FwIjogInJvdW5kIiwgImxpbmVKb2luIjogInJvdW5kIiwgIm9wYWNpdHkiOiAxLjAsICJyYWRpdXMiOiA1LCAic3Ryb2tlIjogdHJ1ZSwgIndlaWdodCI6IDN9CiAgICAgICAgICAgICkuYWRkVG8obWFwXzU4MTU4NWY0M2Y4NTRlZGQ5OTI2OGQ4ZWEwYTllY2Q0KTsKICAgICAgICAKICAgIAogICAgICAgIHZhciBwb3B1cF8wMTJlMTljOTY2ZjQ0OGNkYmM1N2IxNDlkZWJmZDJiMiA9IEwucG9wdXAoeyJtYXhXaWR0aCI6ICIxMDAlIn0pOwoKICAgICAgICAKICAgICAgICAgICAgdmFyIGh0bWxfYjQzYTBhMTMyZDFmNGJlZjhjOTE5NzY4N2E0Njg4OGQgPSAkKGA8ZGl2IGlkPSJodG1sX2I0M2EwYTEzMmQxZjRiZWY4YzkxOTc2ODdhNDY4ODhkIiBzdHlsZT0id2lkdGg6IDEwMC4wJTsgaGVpZ2h0OiAxMDAuMCU7Ij5Ob3J0aCBZb3JrIENsdXN0ZXIgMjwvZGl2PmApWzBdOwogICAgICAgICAgICBwb3B1cF8wMTJlMTljOTY2ZjQ0OGNkYmM1N2IxNDlkZWJmZDJiMi5zZXRDb250ZW50KGh0bWxfYjQzYTBhMTMyZDFmNGJlZjhjOTE5NzY4N2E0Njg4OGQpOwogICAgICAgIAoKICAgICAgICBjaXJjbGVfbWFya2VyX2RmZmIxNmEzMjlkZTQwMDFhZGUxMTkwNjhiNDhhZDdkLmJpbmRQb3B1cChwb3B1cF8wMTJlMTljOTY2ZjQ0OGNkYmM1N2IxNDlkZWJmZDJiMikKICAgICAgICA7CgogICAgICAgIAogICAgCiAgICAKICAgICAgICAgICAgdmFyIGNpcmNsZV9tYXJrZXJfYjk5YzZkMzdiYmI4NDkxNThkMzU0YmFjNTlmNmFjOTQgPSBMLmNpcmNsZU1hcmtlcigKICAgICAgICAgICAgICAgIFs0My43MjgwMjA1LCAtNzkuMzg4NzkwMV0sCiAgICAgICAgICAgICAgICB7ImJ1YmJsaW5nTW91c2VFdmVudHMiOiB0cnVlLCAiY29sb3IiOiAiIzAwYjVlYiIsICJkYXNoQXJyYXkiOiBudWxsLCAiZGFzaE9mZnNldCI6IG51bGwsICJmaWxsIjogdHJ1ZSwgImZpbGxDb2xvciI6ICIjMDBiNWViIiwgImZpbGxPcGFjaXR5IjogMC43LCAiZmlsbFJ1bGUiOiAiZXZlbm9kZCIsICJsaW5lQ2FwIjogInJvdW5kIiwgImxpbmVKb2luIjogInJvdW5kIiwgIm9wYWNpdHkiOiAxLjAsICJyYWRpdXMiOiA1LCAic3Ryb2tlIjogdHJ1ZSwgIndlaWdodCI6IDN9CiAgICAgICAgICAgICkuYWRkVG8obWFwXzU4MTU4NWY0M2Y4NTRlZGQ5OTI2OGQ4ZWEwYTllY2Q0KTsKICAgICAgICAKICAgIAogICAgICAgIHZhciBwb3B1cF81ODZkMWQ3ZDZiOGY0NWMwYjY3Yjg2YmM5YTBmYmZiOSA9IEwucG9wdXAoeyJtYXhXaWR0aCI6ICIxMDAlIn0pOwoKICAgICAgICAKICAgICAgICAgICAgdmFyIGh0bWxfMGJkODliYWJmYTUxNGEwNzhlMmUxNDUzYTA3ZDJhMWIgPSAkKGA8ZGl2IGlkPSJodG1sXzBiZDg5YmFiZmE1MTRhMDc4ZTJlMTQ1M2EwN2QyYTFiIiBzdHlsZT0id2lkdGg6IDEwMC4wJTsgaGVpZ2h0OiAxMDAuMCU7Ij5DZW50cmFsIFRvcm9udG8gQ2x1c3RlciAyPC9kaXY+YClbMF07CiAgICAgICAgICAgIHBvcHVwXzU4NmQxZDdkNmI4ZjQ1YzBiNjdiODZiYzlhMGZiZmI5LnNldENvbnRlbnQoaHRtbF8wYmQ4OWJhYmZhNTE0YTA3OGUyZTE0NTNhMDdkMmExYik7CiAgICAgICAgCgogICAgICAgIGNpcmNsZV9tYXJrZXJfYjk5YzZkMzdiYmI4NDkxNThkMzU0YmFjNTlmNmFjOTQuYmluZFBvcHVwKHBvcHVwXzU4NmQxZDdkNmI4ZjQ1YzBiNjdiODZiYzlhMGZiZmI5KQogICAgICAgIDsKCiAgICAgICAgCiAgICAKICAgIAogICAgICAgICAgICB2YXIgY2lyY2xlX21hcmtlcl80M2I5ZWU4Nzg3ZDE0OWY1YjUyZTdmZGIxMTA2NjdmNSA9IEwuY2lyY2xlTWFya2VyKAogICAgICAgICAgICAgICAgWzQzLjcxMTY5NDgsIC03OS40MTY5MzU1OTk5OTk5OV0sCiAgICAgICAgICAgICAgICB7ImJ1YmJsaW5nTW91c2VFdmVudHMiOiB0cnVlLCAiY29sb3IiOiAiIzAwYjVlYiIsICJkYXNoQXJyYXkiOiBudWxsLCAiZGFzaE9mZnNldCI6IG51bGwsICJmaWxsIjogdHJ1ZSwgImZpbGxDb2xvciI6ICIjMDBiNWViIiwgImZpbGxPcGFjaXR5IjogMC43LCAiZmlsbFJ1bGUiOiAiZXZlbm9kZCIsICJsaW5lQ2FwIjogInJvdW5kIiwgImxpbmVKb2luIjogInJvdW5kIiwgIm9wYWNpdHkiOiAxLjAsICJyYWRpdXMiOiA1LCAic3Ryb2tlIjogdHJ1ZSwgIndlaWdodCI6IDN9CiAgICAgICAgICAgICkuYWRkVG8obWFwXzU4MTU4NWY0M2Y4NTRlZGQ5OTI2OGQ4ZWEwYTllY2Q0KTsKICAgICAgICAKICAgIAogICAgICAgIHZhciBwb3B1cF9iMDYxNDI1YjY4NDg0MjEzYjQwNzA3MzhmMDdkNzdhYSA9IEwucG9wdXAoeyJtYXhXaWR0aCI6ICIxMDAlIn0pOwoKICAgICAgICAKICAgICAgICAgICAgdmFyIGh0bWxfODA0MDZiYTczMzI0NGEwN2E4N2JjMDNkODNjY2UyMmIgPSAkKGA8ZGl2IGlkPSJodG1sXzgwNDA2YmE3MzMyNDRhMDdhODdiYzAzZDgzY2NlMjJiIiBzdHlsZT0id2lkdGg6IDEwMC4wJTsgaGVpZ2h0OiAxMDAuMCU7Ij5DZW50cmFsIFRvcm9udG8gQ2x1c3RlciAyPC9kaXY+YClbMF07CiAgICAgICAgICAgIHBvcHVwX2IwNjE0MjViNjg0ODQyMTNiNDA3MDczOGYwN2Q3N2FhLnNldENvbnRlbnQoaHRtbF84MDQwNmJhNzMzMjQ0YTA3YTg3YmMwM2Q4M2NjZTIyYik7CiAgICAgICAgCgogICAgICAgIGNpcmNsZV9tYXJrZXJfNDNiOWVlODc4N2QxNDlmNWI1MmU3ZmRiMTEwNjY3ZjUuYmluZFBvcHVwKHBvcHVwX2IwNjE0MjViNjg0ODQyMTNiNDA3MDczOGYwN2Q3N2FhKQogICAgICAgIDsKCiAgICAgICAgCiAgICAKICAgIAogICAgICAgICAgICB2YXIgY2lyY2xlX21hcmtlcl83ZGNmZTA5MDJiMWU0YzkxYjQxNjZkZGEzOWY4ZTg2YiA9IEwuY2lyY2xlTWFya2VyKAogICAgICAgICAgICAgICAgWzQzLjY3MzE4NTI5OTk5OTk5LCAtNzkuNDg3MjYxOTAwMDAwMDFdLAogICAgICAgICAgICAgICAgeyJidWJibGluZ01vdXNlRXZlbnRzIjogdHJ1ZSwgImNvbG9yIjogIiM4MDAwZmYiLCAiZGFzaEFycmF5IjogbnVsbCwgImRhc2hPZmZzZXQiOiBudWxsLCAiZmlsbCI6IHRydWUsICJmaWxsQ29sb3IiOiAiIzgwMDBmZiIsICJmaWxsT3BhY2l0eSI6IDAuNywgImZpbGxSdWxlIjogImV2ZW5vZGQiLCAibGluZUNhcCI6ICJyb3VuZCIsICJsaW5lSm9pbiI6ICJyb3VuZCIsICJvcGFjaXR5IjogMS4wLCAicmFkaXVzIjogNSwgInN0cm9rZSI6IHRydWUsICJ3ZWlnaHQiOiAzfQogICAgICAgICAgICApLmFkZFRvKG1hcF81ODE1ODVmNDNmODU0ZWRkOTkyNjhkOGVhMGE5ZWNkNCk7CiAgICAgICAgCiAgICAKICAgICAgICB2YXIgcG9wdXBfMDFhZTIzOWNlNTYxNDAyOWE0NTkzMDk5NTRmYmVjOGEgPSBMLnBvcHVwKHsibWF4V2lkdGgiOiAiMTAwJSJ9KTsKCiAgICAgICAgCiAgICAgICAgICAgIHZhciBodG1sXzU2NTAzYzM0MWY2ODQ3YjU5MWZjYWYzNjdmZmY2OWVmID0gJChgPGRpdiBpZD0iaHRtbF81NjUwM2MzNDFmNjg0N2I1OTFmY2FmMzY3ZmZmNjllZiIgc3R5bGU9IndpZHRoOiAxMDAuMCU7IGhlaWdodDogMTAwLjAlOyI+WW9yayBDbHVzdGVyIDE8L2Rpdj5gKVswXTsKICAgICAgICAgICAgcG9wdXBfMDFhZTIzOWNlNTYxNDAyOWE0NTkzMDk5NTRmYmVjOGEuc2V0Q29udGVudChodG1sXzU2NTAzYzM0MWY2ODQ3YjU5MWZjYWYzNjdmZmY2OWVmKTsKICAgICAgICAKCiAgICAgICAgY2lyY2xlX21hcmtlcl83ZGNmZTA5MDJiMWU0YzkxYjQxNjZkZGEzOWY4ZTg2Yi5iaW5kUG9wdXAocG9wdXBfMDFhZTIzOWNlNTYxNDAyOWE0NTkzMDk5NTRmYmVjOGEpCiAgICAgICAgOwoKICAgICAgICAKICAgIAogICAgCiAgICAgICAgICAgIHZhciBjaXJjbGVfbWFya2VyXzIxMWRkYTk3ZWIyZjRjODM5MTM3Mzc1ZGE0ZWJkMTFlID0gTC5jaXJjbGVNYXJrZXIoCiAgICAgICAgICAgICAgICBbNDMuNzA2ODc2LCAtNzkuNTE4MTg4NDAwMDAwMDFdLAogICAgICAgICAgICAgICAgeyJidWJibGluZ01vdXNlRXZlbnRzIjogdHJ1ZSwgImNvbG9yIjogIiM4MDAwZmYiLCAiZGFzaEFycmF5IjogbnVsbCwgImRhc2hPZmZzZXQiOiBudWxsLCAiZmlsbCI6IHRydWUsICJmaWxsQ29sb3IiOiAiIzgwMDBmZiIsICJmaWxsT3BhY2l0eSI6IDAuNywgImZpbGxSdWxlIjogImV2ZW5vZGQiLCAibGluZUNhcCI6ICJyb3VuZCIsICJsaW5lSm9pbiI6ICJyb3VuZCIsICJvcGFjaXR5IjogMS4wLCAicmFkaXVzIjogNSwgInN0cm9rZSI6IHRydWUsICJ3ZWlnaHQiOiAzfQogICAgICAgICAgICApLmFkZFRvKG1hcF81ODE1ODVmNDNmODU0ZWRkOTkyNjhkOGVhMGE5ZWNkNCk7CiAgICAgICAgCiAgICAKICAgICAgICB2YXIgcG9wdXBfM2MzMTMwNGE2ZWViNGQ2NWFjZDU2YzU3MzViZGNjNjAgPSBMLnBvcHVwKHsibWF4V2lkdGgiOiAiMTAwJSJ9KTsKCiAgICAgICAgCiAgICAgICAgICAgIHZhciBodG1sX2RiMGQ5ODZhODZlMjRjYmE4ZjlkNjRhYjZmMTBiZjdhID0gJChgPGRpdiBpZD0iaHRtbF9kYjBkOTg2YTg2ZTI0Y2JhOGY5ZDY0YWI2ZjEwYmY3YSIgc3R5bGU9IndpZHRoOiAxMDAuMCU7IGhlaWdodDogMTAwLjAlOyI+WW9yayBDbHVzdGVyIDE8L2Rpdj5gKVswXTsKICAgICAgICAgICAgcG9wdXBfM2MzMTMwNGE2ZWViNGQ2NWFjZDU2YzU3MzViZGNjNjAuc2V0Q29udGVudChodG1sX2RiMGQ5ODZhODZlMjRjYmE4ZjlkNjRhYjZmMTBiZjdhKTsKICAgICAgICAKCiAgICAgICAgY2lyY2xlX21hcmtlcl8yMTFkZGE5N2ViMmY0YzgzOTEzNzM3NWRhNGViZDExZS5iaW5kUG9wdXAocG9wdXBfM2MzMTMwNGE2ZWViNGQ2NWFjZDU2YzU3MzViZGNjNjApCiAgICAgICAgOwoKICAgICAgICAKICAgIAogICAgCiAgICAgICAgICAgIHZhciBjaXJjbGVfbWFya2VyXzlkNTkyNGRmNTM3MjRmZWVhYjk4Y2I2YTIyMjUyNWIyID0gTC5jaXJjbGVNYXJrZXIoCiAgICAgICAgICAgICAgICBbNDMuNzU3NDA5NiwgLTc5LjI3MzMwNDAwMDAwMDAxXSwKICAgICAgICAgICAgICAgIHsiYnViYmxpbmdNb3VzZUV2ZW50cyI6IHRydWUsICJjb2xvciI6ICIjZmYwMDAwIiwgImRhc2hBcnJheSI6IG51bGwsICJkYXNoT2Zmc2V0IjogbnVsbCwgImZpbGwiOiB0cnVlLCAiZmlsbENvbG9yIjogIiNmZjAwMDAiLCAiZmlsbE9wYWNpdHkiOiAwLjcsICJmaWxsUnVsZSI6ICJldmVub2RkIiwgImxpbmVDYXAiOiAicm91bmQiLCAibGluZUpvaW4iOiAicm91bmQiLCAib3BhY2l0eSI6IDEuMCwgInJhZGl1cyI6IDUsICJzdHJva2UiOiB0cnVlLCAid2VpZ2h0IjogM30KICAgICAgICAgICAgKS5hZGRUbyhtYXBfNTgxNTg1ZjQzZjg1NGVkZDk5MjY4ZDhlYTBhOWVjZDQpOwogICAgICAgIAogICAgCiAgICAgICAgdmFyIHBvcHVwXzJmNzNmZjRhYjc0ZTQ0YTE5MTBmY2UxNWZmMzA5MzljID0gTC5wb3B1cCh7Im1heFdpZHRoIjogIjEwMCUifSk7CgogICAgICAgIAogICAgICAgICAgICB2YXIgaHRtbF8xNWI2NWNhZjAwNzM0NDFmYjNlMWYxY2QzOThjYTVjNyA9ICQoYDxkaXYgaWQ9Imh0bWxfMTViNjVjYWYwMDczNDQxZmIzZTFmMWNkMzk4Y2E1YzciIHN0eWxlPSJ3aWR0aDogMTAwLjAlOyBoZWlnaHQ6IDEwMC4wJTsiPlNjYXJib3JvdWdoIENsdXN0ZXIgMDwvZGl2PmApWzBdOwogICAgICAgICAgICBwb3B1cF8yZjczZmY0YWI3NGU0NGExOTEwZmNlMTVmZjMwOTM5Yy5zZXRDb250ZW50KGh0bWxfMTViNjVjYWYwMDczNDQxZmIzZTFmMWNkMzk4Y2E1YzcpOwogICAgICAgIAoKICAgICAgICBjaXJjbGVfbWFya2VyXzlkNTkyNGRmNTM3MjRmZWVhYjk4Y2I2YTIyMjUyNWIyLmJpbmRQb3B1cChwb3B1cF8yZjczZmY0YWI3NGU0NGExOTEwZmNlMTVmZjMwOTM5YykKICAgICAgICA7CgogICAgICAgIAogICAgCiAgICAKICAgICAgICAgICAgdmFyIGNpcmNsZV9tYXJrZXJfYTZlZjMwZGE2ODc2NDhmZGI0ZmE4OGY3NTY2NjgyODYgPSBMLmNpcmNsZU1hcmtlcigKICAgICAgICAgICAgICAgIFs0My43NTI3NTgyOTk5OTk5OTYsIC03OS40MDAwNDkzXSwKICAgICAgICAgICAgICAgIHsiYnViYmxpbmdNb3VzZUV2ZW50cyI6IHRydWUsICJjb2xvciI6ICIjMDBiNWViIiwgImRhc2hBcnJheSI6IG51bGwsICJkYXNoT2Zmc2V0IjogbnVsbCwgImZpbGwiOiB0cnVlLCAiZmlsbENvbG9yIjogIiMwMGI1ZWIiLCAiZmlsbE9wYWNpdHkiOiAwLjcsICJmaWxsUnVsZSI6ICJldmVub2RkIiwgImxpbmVDYXAiOiAicm91bmQiLCAibGluZUpvaW4iOiAicm91bmQiLCAib3BhY2l0eSI6IDEuMCwgInJhZGl1cyI6IDUsICJzdHJva2UiOiB0cnVlLCAid2VpZ2h0IjogM30KICAgICAgICAgICAgKS5hZGRUbyhtYXBfNTgxNTg1ZjQzZjg1NGVkZDk5MjY4ZDhlYTBhOWVjZDQpOwogICAgICAgIAogICAgCiAgICAgICAgdmFyIHBvcHVwXzU5YmRkMTcwZDUxNjRmZWNhNDAxOTc1MzE2ZjU3MzY4ID0gTC5wb3B1cCh7Im1heFdpZHRoIjogIjEwMCUifSk7CgogICAgICAgIAogICAgICAgICAgICB2YXIgaHRtbF85ZWQ4NzJjNjAxYTE0MDY4ODMyMmFiMWJjNWQ1N2FlNiA9ICQoYDxkaXYgaWQ9Imh0bWxfOWVkODcyYzYwMWExNDA2ODgzMjJhYjFiYzVkNTdhZTYiIHN0eWxlPSJ3aWR0aDogMTAwLjAlOyBoZWlnaHQ6IDEwMC4wJTsiPk5vcnRoIFlvcmsgQ2x1c3RlciAyPC9kaXY+YClbMF07CiAgICAgICAgICAgIHBvcHVwXzU5YmRkMTcwZDUxNjRmZWNhNDAxOTc1MzE2ZjU3MzY4LnNldENvbnRlbnQoaHRtbF85ZWQ4NzJjNjAxYTE0MDY4ODMyMmFiMWJjNWQ1N2FlNik7CiAgICAgICAgCgogICAgICAgIGNpcmNsZV9tYXJrZXJfYTZlZjMwZGE2ODc2NDhmZGI0ZmE4OGY3NTY2NjgyODYuYmluZFBvcHVwKHBvcHVwXzU5YmRkMTcwZDUxNjRmZWNhNDAxOTc1MzE2ZjU3MzY4KQogICAgICAgIDsKCiAgICAgICAgCiAgICAKICAgIAogICAgICAgICAgICB2YXIgY2lyY2xlX21hcmtlcl9hYWQ1OTM4NWIxZWI0MzU5OWFmM2M0OWFmOGM0MDY4ZSA9IEwuY2lyY2xlTWFya2VyKAogICAgICAgICAgICAgICAgWzQzLjcxMjc1MTEsIC03OS4zOTAxOTc1XSwKICAgICAgICAgICAgICAgIHsiYnViYmxpbmdNb3VzZUV2ZW50cyI6IHRydWUsICJjb2xvciI6ICIjMDBiNWViIiwgImRhc2hBcnJheSI6IG51bGwsICJkYXNoT2Zmc2V0IjogbnVsbCwgImZpbGwiOiB0cnVlLCAiZmlsbENvbG9yIjogIiMwMGI1ZWIiLCAiZmlsbE9wYWNpdHkiOiAwLjcsICJmaWxsUnVsZSI6ICJldmVub2RkIiwgImxpbmVDYXAiOiAicm91bmQiLCAibGluZUpvaW4iOiAicm91bmQiLCAib3BhY2l0eSI6IDEuMCwgInJhZGl1cyI6IDUsICJzdHJva2UiOiB0cnVlLCAid2VpZ2h0IjogM30KICAgICAgICAgICAgKS5hZGRUbyhtYXBfNTgxNTg1ZjQzZjg1NGVkZDk5MjY4ZDhlYTBhOWVjZDQpOwogICAgICAgIAogICAgCiAgICAgICAgdmFyIHBvcHVwXzZkNDlhOWJiYjIwYzRmNWRiMzVhOWMxZDkwMTBkOGEzID0gTC5wb3B1cCh7Im1heFdpZHRoIjogIjEwMCUifSk7CgogICAgICAgIAogICAgICAgICAgICB2YXIgaHRtbF85MzMyM2UwNTQzNjI0OTQ5OGUyZTcyYTdmN2Q2OWE2ZSA9ICQoYDxkaXYgaWQ9Imh0bWxfOTMzMjNlMDU0MzYyNDk0OThlMmU3MmE3ZjdkNjlhNmUiIHN0eWxlPSJ3aWR0aDogMTAwLjAlOyBoZWlnaHQ6IDEwMC4wJTsiPkNlbnRyYWwgVG9yb250byBDbHVzdGVyIDI8L2Rpdj5gKVswXTsKICAgICAgICAgICAgcG9wdXBfNmQ0OWE5YmJiMjBjNGY1ZGIzNWE5YzFkOTAxMGQ4YTMuc2V0Q29udGVudChodG1sXzkzMzIzZTA1NDM2MjQ5NDk4ZTJlNzJhN2Y3ZDY5YTZlKTsKICAgICAgICAKCiAgICAgICAgY2lyY2xlX21hcmtlcl9hYWQ1OTM4NWIxZWI0MzU5OWFmM2M0OWFmOGM0MDY4ZS5iaW5kUG9wdXAocG9wdXBfNmQ0OWE5YmJiMjBjNGY1ZGIzNWE5YzFkOTAxMGQ4YTMpCiAgICAgICAgOwoKICAgICAgICAKICAgIAogICAgCiAgICAgICAgICAgIHZhciBjaXJjbGVfbWFya2VyXzFlNTliNTg1YzI3ODQ4ZDdhMzdjNWNhMDJiNDU2Y2Y2ID0gTC5jaXJjbGVNYXJrZXIoCiAgICAgICAgICAgICAgICBbNDMuNjk2OTQ3NiwgLTc5LjQxMTMwNzIwMDAwMDAxXSwKICAgICAgICAgICAgICAgIHsiYnViYmxpbmdNb3VzZUV2ZW50cyI6IHRydWUsICJjb2xvciI6ICIjMDBiNWViIiwgImRhc2hBcnJheSI6IG51bGwsICJkYXNoT2Zmc2V0IjogbnVsbCwgImZpbGwiOiB0cnVlLCAiZmlsbENvbG9yIjogIiMwMGI1ZWIiLCAiZmlsbE9wYWNpdHkiOiAwLjcsICJmaWxsUnVsZSI6ICJldmVub2RkIiwgImxpbmVDYXAiOiAicm91bmQiLCAibGluZUpvaW4iOiAicm91bmQiLCAib3BhY2l0eSI6IDEuMCwgInJhZGl1cyI6IDUsICJzdHJva2UiOiB0cnVlLCAid2VpZ2h0IjogM30KICAgICAgICAgICAgKS5hZGRUbyhtYXBfNTgxNTg1ZjQzZjg1NGVkZDk5MjY4ZDhlYTBhOWVjZDQpOwogICAgICAgIAogICAgCiAgICAgICAgdmFyIHBvcHVwXzhlNmMyNWJjMDMxNjRhZjdiODE0NjU4MzA1ODI2OWJhID0gTC5wb3B1cCh7Im1heFdpZHRoIjogIjEwMCUifSk7CgogICAgICAgIAogICAgICAgICAgICB2YXIgaHRtbF9mODUwYTE2ODlhMTA0ZTY4OGMxMWQ0MDY5OTM0ODk2MiA9ICQoYDxkaXYgaWQ9Imh0bWxfZjg1MGExNjg5YTEwNGU2ODhjMTFkNDA2OTkzNDg5NjIiIHN0eWxlPSJ3aWR0aDogMTAwLjAlOyBoZWlnaHQ6IDEwMC4wJTsiPkNlbnRyYWwgVG9yb250byBDbHVzdGVyIDI8L2Rpdj5gKVswXTsKICAgICAgICAgICAgcG9wdXBfOGU2YzI1YmMwMzE2NGFmN2I4MTQ2NTgzMDU4MjY5YmEuc2V0Q29udGVudChodG1sX2Y4NTBhMTY4OWExMDRlNjg4YzExZDQwNjk5MzQ4OTYyKTsKICAgICAgICAKCiAgICAgICAgY2lyY2xlX21hcmtlcl8xZTU5YjU4NWMyNzg0OGQ3YTM3YzVjYTAyYjQ1NmNmNi5iaW5kUG9wdXAocG9wdXBfOGU2YzI1YmMwMzE2NGFmN2I4MTQ2NTgzMDU4MjY5YmEpCiAgICAgICAgOwoKICAgICAgICAKICAgIAogICAgCiAgICAgICAgICAgIHZhciBjaXJjbGVfbWFya2VyXzczMTc3MTI0YjJhZDRmMzg4NDI5YjY3OGI3NWJmNjMzID0gTC5jaXJjbGVNYXJrZXIoCiAgICAgICAgICAgICAgICBbNDMuNjYxNjA4MywgLTc5LjQ2NDc2MzI5OTk5OTk5XSwKICAgICAgICAgICAgICAgIHsiYnViYmxpbmdNb3VzZUV2ZW50cyI6IHRydWUsICJjb2xvciI6ICIjMDBiNWViIiwgImRhc2hBcnJheSI6IG51bGwsICJkYXNoT2Zmc2V0IjogbnVsbCwgImZpbGwiOiB0cnVlLCAiZmlsbENvbG9yIjogIiMwMGI1ZWIiLCAiZmlsbE9wYWNpdHkiOiAwLjcsICJmaWxsUnVsZSI6ICJldmVub2RkIiwgImxpbmVDYXAiOiAicm91bmQiLCAibGluZUpvaW4iOiAicm91bmQiLCAib3BhY2l0eSI6IDEuMCwgInJhZGl1cyI6IDUsICJzdHJva2UiOiB0cnVlLCAid2VpZ2h0IjogM30KICAgICAgICAgICAgKS5hZGRUbyhtYXBfNTgxNTg1ZjQzZjg1NGVkZDk5MjY4ZDhlYTBhOWVjZDQpOwogICAgICAgIAogICAgCiAgICAgICAgdmFyIHBvcHVwX2E4ZWU5MDRlMjNlMTQ4MTg4Mjk1NTFkMTdlYWI3ODA4ID0gTC5wb3B1cCh7Im1heFdpZHRoIjogIjEwMCUifSk7CgogICAgICAgIAogICAgICAgICAgICB2YXIgaHRtbF80YjNlMmQ0OWRiMDg0YTdhYjY4Nzk1MDc2NjNmYmU1OCA9ICQoYDxkaXYgaWQ9Imh0bWxfNGIzZTJkNDlkYjA4NGE3YWI2ODc5NTA3NjYzZmJlNTgiIHN0eWxlPSJ3aWR0aDogMTAwLjAlOyBoZWlnaHQ6IDEwMC4wJTsiPldlc3QgVG9yb250byBDbHVzdGVyIDI8L2Rpdj5gKVswXTsKICAgICAgICAgICAgcG9wdXBfYThlZTkwNGUyM2UxNDgxODgyOTU1MWQxN2VhYjc4MDguc2V0Q29udGVudChodG1sXzRiM2UyZDQ5ZGIwODRhN2FiNjg3OTUwNzY2M2ZiZTU4KTsKICAgICAgICAKCiAgICAgICAgY2lyY2xlX21hcmtlcl83MzE3NzEyNGIyYWQ0ZjM4ODQyOWI2NzhiNzViZjYzMy5iaW5kUG9wdXAocG9wdXBfYThlZTkwNGUyM2UxNDgxODgyOTU1MWQxN2VhYjc4MDgpCiAgICAgICAgOwoKICAgICAgICAKICAgIAogICAgCiAgICAgICAgICAgIHZhciBjaXJjbGVfbWFya2VyXzk0NGYxMTdmMWQ1MzRlMTBhN2M2ZWUwOTIxMzFmNTljID0gTC5jaXJjbGVNYXJrZXIoCiAgICAgICAgICAgICAgICBbNDMuNjk2MzE5LCAtNzkuNTMyMjQyNDAwMDAwMDJdLAogICAgICAgICAgICAgICAgeyJidWJibGluZ01vdXNlRXZlbnRzIjogdHJ1ZSwgImNvbG9yIjogIiNmZmIzNjAiLCAiZGFzaEFycmF5IjogbnVsbCwgImRhc2hPZmZzZXQiOiBudWxsLCAiZmlsbCI6IHRydWUsICJmaWxsQ29sb3IiOiAiI2ZmYjM2MCIsICJmaWxsT3BhY2l0eSI6IDAuNywgImZpbGxSdWxlIjogImV2ZW5vZGQiLCAibGluZUNhcCI6ICJyb3VuZCIsICJsaW5lSm9pbiI6ICJyb3VuZCIsICJvcGFjaXR5IjogMS4wLCAicmFkaXVzIjogNSwgInN0cm9rZSI6IHRydWUsICJ3ZWlnaHQiOiAzfQogICAgICAgICAgICApLmFkZFRvKG1hcF81ODE1ODVmNDNmODU0ZWRkOTkyNjhkOGVhMGE5ZWNkNCk7CiAgICAgICAgCiAgICAKICAgICAgICB2YXIgcG9wdXBfNmY5YWYxMGRiZTcyNDQwZjkzMmE5MmY2ZDUwNjEzYTMgPSBMLnBvcHVwKHsibWF4V2lkdGgiOiAiMTAwJSJ9KTsKCiAgICAgICAgCiAgICAgICAgICAgIHZhciBodG1sX2I2Y2NkYWQ1NjFmMzQ0MTliMmY4MzQ1NzcwZTcyZDNkID0gJChgPGRpdiBpZD0iaHRtbF9iNmNjZGFkNTYxZjM0NDE5YjJmODM0NTc3MGU3MmQzZCIgc3R5bGU9IndpZHRoOiAxMDAuMCU7IGhlaWdodDogMTAwLjAlOyI+RXRvYmljb2tlIENsdXN0ZXIgNDwvZGl2PmApWzBdOwogICAgICAgICAgICBwb3B1cF82ZjlhZjEwZGJlNzI0NDBmOTMyYTkyZjZkNTA2MTNhMy5zZXRDb250ZW50KGh0bWxfYjZjY2RhZDU2MWYzNDQxOWIyZjgzNDU3NzBlNzJkM2QpOwogICAgICAgIAoKICAgICAgICBjaXJjbGVfbWFya2VyXzk0NGYxMTdmMWQ1MzRlMTBhN2M2ZWUwOTIxMzFmNTljLmJpbmRQb3B1cChwb3B1cF82ZjlhZjEwZGJlNzI0NDBmOTMyYTkyZjZkNTA2MTNhMykKICAgICAgICA7CgogICAgICAgIAogICAgCiAgICAKICAgICAgICAgICAgdmFyIGNpcmNsZV9tYXJrZXJfMGYyMmQyMmI1YjhkNGVlMmFjZWNiN2YzZDE1NjczMzAgPSBMLmNpcmNsZU1hcmtlcigKICAgICAgICAgICAgICAgIFs0My43NTAwNzE1MDAwMDAwMDQsIC03OS4yOTU4NDkxXSwKICAgICAgICAgICAgICAgIHsiYnViYmxpbmdNb3VzZUV2ZW50cyI6IHRydWUsICJjb2xvciI6ICIjZmYwMDAwIiwgImRhc2hBcnJheSI6IG51bGwsICJkYXNoT2Zmc2V0IjogbnVsbCwgImZpbGwiOiB0cnVlLCAiZmlsbENvbG9yIjogIiNmZjAwMDAiLCAiZmlsbE9wYWNpdHkiOiAwLjcsICJmaWxsUnVsZSI6ICJldmVub2RkIiwgImxpbmVDYXAiOiAicm91bmQiLCAibGluZUpvaW4iOiAicm91bmQiLCAib3BhY2l0eSI6IDEuMCwgInJhZGl1cyI6IDUsICJzdHJva2UiOiB0cnVlLCAid2VpZ2h0IjogM30KICAgICAgICAgICAgKS5hZGRUbyhtYXBfNTgxNTg1ZjQzZjg1NGVkZDk5MjY4ZDhlYTBhOWVjZDQpOwogICAgICAgIAogICAgCiAgICAgICAgdmFyIHBvcHVwXzI4ZTE0MTA3OWI2MTQ0ZjBhNDk4NGYwMzIyNjU4ZGUwID0gTC5wb3B1cCh7Im1heFdpZHRoIjogIjEwMCUifSk7CgogICAgICAgIAogICAgICAgICAgICB2YXIgaHRtbF9iN2NjNTZjNmQyMmY0ODRjYmRiMWVjZDRiNDFkNjhkMCA9ICQoYDxkaXYgaWQ9Imh0bWxfYjdjYzU2YzZkMjJmNDg0Y2JkYjFlY2Q0YjQxZDY4ZDAiIHN0eWxlPSJ3aWR0aDogMTAwLjAlOyBoZWlnaHQ6IDEwMC4wJTsiPlNjYXJib3JvdWdoIENsdXN0ZXIgMDwvZGl2PmApWzBdOwogICAgICAgICAgICBwb3B1cF8yOGUxNDEwNzliNjE0NGYwYTQ5ODRmMDMyMjY1OGRlMC5zZXRDb250ZW50KGh0bWxfYjdjYzU2YzZkMjJmNDg0Y2JkYjFlY2Q0YjQxZDY4ZDApOwogICAgICAgIAoKICAgICAgICBjaXJjbGVfbWFya2VyXzBmMjJkMjJiNWI4ZDRlZTJhY2VjYjdmM2QxNTY3MzMwLmJpbmRQb3B1cChwb3B1cF8yOGUxNDEwNzliNjE0NGYwYTQ5ODRmMDMyMjY1OGRlMCkKICAgICAgICA7CgogICAgICAgIAogICAgCiAgICAKICAgICAgICAgICAgdmFyIGNpcmNsZV9tYXJrZXJfOGU2NmQ2MWZmNjA4NDQyMWJiMTQ1OWRkOTk2NWY1MmYgPSBMLmNpcmNsZU1hcmtlcigKICAgICAgICAgICAgICAgIFs0My43ODI3MzY0LCAtNzkuNDQyMjU5M10sCiAgICAgICAgICAgICAgICB7ImJ1YmJsaW5nTW91c2VFdmVudHMiOiB0cnVlLCAiY29sb3IiOiAiIzAwYjVlYiIsICJkYXNoQXJyYXkiOiBudWxsLCAiZGFzaE9mZnNldCI6IG51bGwsICJmaWxsIjogdHJ1ZSwgImZpbGxDb2xvciI6ICIjMDBiNWViIiwgImZpbGxPcGFjaXR5IjogMC43LCAiZmlsbFJ1bGUiOiAiZXZlbm9kZCIsICJsaW5lQ2FwIjogInJvdW5kIiwgImxpbmVKb2luIjogInJvdW5kIiwgIm9wYWNpdHkiOiAxLjAsICJyYWRpdXMiOiA1LCAic3Ryb2tlIjogdHJ1ZSwgIndlaWdodCI6IDN9CiAgICAgICAgICAgICkuYWRkVG8obWFwXzU4MTU4NWY0M2Y4NTRlZGQ5OTI2OGQ4ZWEwYTllY2Q0KTsKICAgICAgICAKICAgIAogICAgICAgIHZhciBwb3B1cF80MTU2ZjJiZjIyNzc0MDVhYTIwOTUwZWNiZTY3NzFlYiA9IEwucG9wdXAoeyJtYXhXaWR0aCI6ICIxMDAlIn0pOwoKICAgICAgICAKICAgICAgICAgICAgdmFyIGh0bWxfNmI2MmM1OWUxYWNkNGQ3OTg4ODhlN2VhZWM3YzAzM2IgPSAkKGA8ZGl2IGlkPSJodG1sXzZiNjJjNTllMWFjZDRkNzk4ODg4ZTdlYWVjN2MwMzNiIiBzdHlsZT0id2lkdGg6IDEwMC4wJTsgaGVpZ2h0OiAxMDAuMCU7Ij5Ob3J0aCBZb3JrIENsdXN0ZXIgMjwvZGl2PmApWzBdOwogICAgICAgICAgICBwb3B1cF80MTU2ZjJiZjIyNzc0MDVhYTIwOTUwZWNiZTY3NzFlYi5zZXRDb250ZW50KGh0bWxfNmI2MmM1OWUxYWNkNGQ3OTg4ODhlN2VhZWM3YzAzM2IpOwogICAgICAgIAoKICAgICAgICBjaXJjbGVfbWFya2VyXzhlNjZkNjFmZjYwODQ0MjFiYjE0NTlkZDk5NjVmNTJmLmJpbmRQb3B1cChwb3B1cF80MTU2ZjJiZjIyNzc0MDVhYTIwOTUwZWNiZTY3NzFlYikKICAgICAgICA7CgogICAgICAgIAogICAgCiAgICAKICAgICAgICAgICAgdmFyIGNpcmNsZV9tYXJrZXJfM2Q1NmNmZWM5Y2YyNGRjOWE3NmE2NjVkNGZhZDFlZTAgPSBMLmNpcmNsZU1hcmtlcigKICAgICAgICAgICAgICAgIFs0My43MTUzODM0LCAtNzkuNDA1Njc4NDAwMDAwMDFdLAogICAgICAgICAgICAgICAgeyJidWJibGluZ01vdXNlRXZlbnRzIjogdHJ1ZSwgImNvbG9yIjogIiMwMGI1ZWIiLCAiZGFzaEFycmF5IjogbnVsbCwgImRhc2hPZmZzZXQiOiBudWxsLCAiZmlsbCI6IHRydWUsICJmaWxsQ29sb3IiOiAiIzAwYjVlYiIsICJmaWxsT3BhY2l0eSI6IDAuNywgImZpbGxSdWxlIjogImV2ZW5vZGQiLCAibGluZUNhcCI6ICJyb3VuZCIsICJsaW5lSm9pbiI6ICJyb3VuZCIsICJvcGFjaXR5IjogMS4wLCAicmFkaXVzIjogNSwgInN0cm9rZSI6IHRydWUsICJ3ZWlnaHQiOiAzfQogICAgICAgICAgICApLmFkZFRvKG1hcF81ODE1ODVmNDNmODU0ZWRkOTkyNjhkOGVhMGE5ZWNkNCk7CiAgICAgICAgCiAgICAKICAgICAgICB2YXIgcG9wdXBfODcxZjAyMmE4ZDE1NGIzMDk0YzNhZmY5NDA4MGQ3MmMgPSBMLnBvcHVwKHsibWF4V2lkdGgiOiAiMTAwJSJ9KTsKCiAgICAgICAgCiAgICAgICAgICAgIHZhciBodG1sXzMwMGI2YzE1MDFiNDQ2NWVhZGRjN2UxNGZkNGU3ZjEwID0gJChgPGRpdiBpZD0iaHRtbF8zMDBiNmMxNTAxYjQ0NjVlYWRkYzdlMTRmZDRlN2YxMCIgc3R5bGU9IndpZHRoOiAxMDAuMCU7IGhlaWdodDogMTAwLjAlOyI+Q2VudHJhbCBUb3JvbnRvIENsdXN0ZXIgMjwvZGl2PmApWzBdOwogICAgICAgICAgICBwb3B1cF84NzFmMDIyYThkMTU0YjMwOTRjM2FmZjk0MDgwZDcyYy5zZXRDb250ZW50KGh0bWxfMzAwYjZjMTUwMWI0NDY1ZWFkZGM3ZTE0ZmQ0ZTdmMTApOwogICAgICAgIAoKICAgICAgICBjaXJjbGVfbWFya2VyXzNkNTZjZmVjOWNmMjRkYzlhNzZhNjY1ZDRmYWQxZWUwLmJpbmRQb3B1cChwb3B1cF84NzFmMDIyYThkMTU0YjMwOTRjM2FmZjk0MDgwZDcyYykKICAgICAgICA7CgogICAgICAgIAogICAgCiAgICAKICAgICAgICAgICAgdmFyIGNpcmNsZV9tYXJrZXJfMmVjZTFkYjRmNzEzNDhhZDk3NDYwZjAyNTc1YjA2NDggPSBMLmNpcmNsZU1hcmtlcigKICAgICAgICAgICAgICAgIFs0My42NzI3MDk3LCAtNzkuNDA1Njc4NDAwMDAwMDFdLAogICAgICAgICAgICAgICAgeyJidWJibGluZ01vdXNlRXZlbnRzIjogdHJ1ZSwgImNvbG9yIjogIiMwMGI1ZWIiLCAiZGFzaEFycmF5IjogbnVsbCwgImRhc2hPZmZzZXQiOiBudWxsLCAiZmlsbCI6IHRydWUsICJmaWxsQ29sb3IiOiAiIzAwYjVlYiIsICJmaWxsT3BhY2l0eSI6IDAuNywgImZpbGxSdWxlIjogImV2ZW5vZGQiLCAibGluZUNhcCI6ICJyb3VuZCIsICJsaW5lSm9pbiI6ICJyb3VuZCIsICJvcGFjaXR5IjogMS4wLCAicmFkaXVzIjogNSwgInN0cm9rZSI6IHRydWUsICJ3ZWlnaHQiOiAzfQogICAgICAgICAgICApLmFkZFRvKG1hcF81ODE1ODVmNDNmODU0ZWRkOTkyNjhkOGVhMGE5ZWNkNCk7CiAgICAgICAgCiAgICAKICAgICAgICB2YXIgcG9wdXBfZWFiNDdiYTEzZDBmNDM2NzkyOTM3N2M4MTg4NGQ2MDEgPSBMLnBvcHVwKHsibWF4V2lkdGgiOiAiMTAwJSJ9KTsKCiAgICAgICAgCiAgICAgICAgICAgIHZhciBodG1sX2RlODhjMmQ5NGU4OTRiZmU5NzQ5ZDM4ZTg0OGY3MWY5ID0gJChgPGRpdiBpZD0iaHRtbF9kZTg4YzJkOTRlODk0YmZlOTc0OWQzOGU4NDhmNzFmOSIgc3R5bGU9IndpZHRoOiAxMDAuMCU7IGhlaWdodDogMTAwLjAlOyI+Q2VudHJhbCBUb3JvbnRvIENsdXN0ZXIgMjwvZGl2PmApWzBdOwogICAgICAgICAgICBwb3B1cF9lYWI0N2JhMTNkMGY0MzY3OTI5Mzc3YzgxODg0ZDYwMS5zZXRDb250ZW50KGh0bWxfZGU4OGMyZDk0ZTg5NGJmZTk3NDlkMzhlODQ4ZjcxZjkpOwogICAgICAgIAoKICAgICAgICBjaXJjbGVfbWFya2VyXzJlY2UxZGI0ZjcxMzQ4YWQ5NzQ2MGYwMjU3NWIwNjQ4LmJpbmRQb3B1cChwb3B1cF9lYWI0N2JhMTNkMGY0MzY3OTI5Mzc3YzgxODg0ZDYwMSkKICAgICAgICA7CgogICAgICAgIAogICAgCiAgICAKICAgICAgICAgICAgdmFyIGNpcmNsZV9tYXJrZXJfY2RmNTE4YWQ5ODdiNGY1YjkxYWU2ZDhmY2M4NDVlZTcgPSBMLmNpcmNsZU1hcmtlcigKICAgICAgICAgICAgICAgIFs0My42NDg5NTk3LCAtNzkuNDU2MzI1XSwKICAgICAgICAgICAgICAgIHsiYnViYmxpbmdNb3VzZUV2ZW50cyI6IHRydWUsICJjb2xvciI6ICIjMDBiNWViIiwgImRhc2hBcnJheSI6IG51bGwsICJkYXNoT2Zmc2V0IjogbnVsbCwgImZpbGwiOiB0cnVlLCAiZmlsbENvbG9yIjogIiMwMGI1ZWIiLCAiZmlsbE9wYWNpdHkiOiAwLjcsICJmaWxsUnVsZSI6ICJldmVub2RkIiwgImxpbmVDYXAiOiAicm91bmQiLCAibGluZUpvaW4iOiAicm91bmQiLCAib3BhY2l0eSI6IDEuMCwgInJhZGl1cyI6IDUsICJzdHJva2UiOiB0cnVlLCAid2VpZ2h0IjogM30KICAgICAgICAgICAgKS5hZGRUbyhtYXBfNTgxNTg1ZjQzZjg1NGVkZDk5MjY4ZDhlYTBhOWVjZDQpOwogICAgICAgIAogICAgCiAgICAgICAgdmFyIHBvcHVwXzM0YjMyZWFjOGNmMDRmMzg4NmNjMTlkMDVjYTU1MjZlID0gTC5wb3B1cCh7Im1heFdpZHRoIjogIjEwMCUifSk7CgogICAgICAgIAogICAgICAgICAgICB2YXIgaHRtbF8wNGQ0ZDEyOGY2N2Y0NjE3Yjg4NDNhOTYyMDgxYmM4OCA9ICQoYDxkaXYgaWQ9Imh0bWxfMDRkNGQxMjhmNjdmNDYxN2I4ODQzYTk2MjA4MWJjODgiIHN0eWxlPSJ3aWR0aDogMTAwLjAlOyBoZWlnaHQ6IDEwMC4wJTsiPldlc3QgVG9yb250byBDbHVzdGVyIDI8L2Rpdj5gKVswXTsKICAgICAgICAgICAgcG9wdXBfMzRiMzJlYWM4Y2YwNGYzODg2Y2MxOWQwNWNhNTUyNmUuc2V0Q29udGVudChodG1sXzA0ZDRkMTI4ZjY3ZjQ2MTdiODg0M2E5NjIwODFiYzg4KTsKICAgICAgICAKCiAgICAgICAgY2lyY2xlX21hcmtlcl9jZGY1MThhZDk4N2I0ZjViOTFhZTZkOGZjYzg0NWVlNy5iaW5kUG9wdXAocG9wdXBfMzRiMzJlYWM4Y2YwNGYzODg2Y2MxOWQwNWNhNTUyNmUpCiAgICAgICAgOwoKICAgICAgICAKICAgIAogICAgCiAgICAgICAgICAgIHZhciBjaXJjbGVfbWFya2VyXzgxNTBlMTMwNWQ3NjRiOTI4ZDdmNjIxNWUxYzY3MzdmID0gTC5jaXJjbGVNYXJrZXIoCiAgICAgICAgICAgICAgICBbNDMuNjM2OTY1NiwgLTc5LjYxNTgxODk5OTk5OTk5XSwKICAgICAgICAgICAgICAgIHsiYnViYmxpbmdNb3VzZUV2ZW50cyI6IHRydWUsICJjb2xvciI6ICIjODBmZmI0IiwgImRhc2hBcnJheSI6IG51bGwsICJkYXNoT2Zmc2V0IjogbnVsbCwgImZpbGwiOiB0cnVlLCAiZmlsbENvbG9yIjogIiM4MGZmYjQiLCAiZmlsbE9wYWNpdHkiOiAwLjcsICJmaWxsUnVsZSI6ICJldmVub2RkIiwgImxpbmVDYXAiOiAicm91bmQiLCAibGluZUpvaW4iOiAicm91bmQiLCAib3BhY2l0eSI6IDEuMCwgInJhZGl1cyI6IDUsICJzdHJva2UiOiB0cnVlLCAid2VpZ2h0IjogM30KICAgICAgICAgICAgKS5hZGRUbyhtYXBfNTgxNTg1ZjQzZjg1NGVkZDk5MjY4ZDhlYTBhOWVjZDQpOwogICAgICAgIAogICAgCiAgICAgICAgdmFyIHBvcHVwXzk4ZTI5ZmIzOTQwMzRmMTJhYzllZTYyZjA0Y2ZmZjljID0gTC5wb3B1cCh7Im1heFdpZHRoIjogIjEwMCUifSk7CgogICAgICAgIAogICAgICAgICAgICB2YXIgaHRtbF8zZTVlZjRjZTNmMjA0YjZiYTFiYzU4YTM2MGFkOTlkYiA9ICQoYDxkaXYgaWQ9Imh0bWxfM2U1ZWY0Y2UzZjIwNGI2YmExYmM1OGEzNjBhZDk5ZGIiIHN0eWxlPSJ3aWR0aDogMTAwLjAlOyBoZWlnaHQ6IDEwMC4wJTsiPk1pc3Npc3NhdWdhIENsdXN0ZXIgMzwvZGl2PmApWzBdOwogICAgICAgICAgICBwb3B1cF85OGUyOWZiMzk0MDM0ZjEyYWM5ZWU2MmYwNGNmZmY5Yy5zZXRDb250ZW50KGh0bWxfM2U1ZWY0Y2UzZjIwNGI2YmExYmM1OGEzNjBhZDk5ZGIpOwogICAgICAgIAoKICAgICAgICBjaXJjbGVfbWFya2VyXzgxNTBlMTMwNWQ3NjRiOTI4ZDdmNjIxNWUxYzY3MzdmLmJpbmRQb3B1cChwb3B1cF85OGUyOWZiMzk0MDM0ZjEyYWM5ZWU2MmYwNGNmZmY5YykKICAgICAgICA7CgogICAgICAgIAogICAgCiAgICAKICAgICAgICAgICAgdmFyIGNpcmNsZV9tYXJrZXJfYzE2ZDQyOGUwNDgzNGUyYzgxYjcxYTg3ODVlNWFmNGYgPSBMLmNpcmNsZU1hcmtlcigKICAgICAgICAgICAgICAgIFs0My42ODg5MDU0LCAtNzkuNTU0NzI0NDAwMDAwMDFdLAogICAgICAgICAgICAgICAgeyJidWJibGluZ01vdXNlRXZlbnRzIjogdHJ1ZSwgImNvbG9yIjogIiNmZmIzNjAiLCAiZGFzaEFycmF5IjogbnVsbCwgImRhc2hPZmZzZXQiOiBudWxsLCAiZmlsbCI6IHRydWUsICJmaWxsQ29sb3IiOiAiI2ZmYjM2MCIsICJmaWxsT3BhY2l0eSI6IDAuNywgImZpbGxSdWxlIjogImV2ZW5vZGQiLCAibGluZUNhcCI6ICJyb3VuZCIsICJsaW5lSm9pbiI6ICJyb3VuZCIsICJvcGFjaXR5IjogMS4wLCAicmFkaXVzIjogNSwgInN0cm9rZSI6IHRydWUsICJ3ZWlnaHQiOiAzfQogICAgICAgICAgICApLmFkZFRvKG1hcF81ODE1ODVmNDNmODU0ZWRkOTkyNjhkOGVhMGE5ZWNkNCk7CiAgICAgICAgCiAgICAKICAgICAgICB2YXIgcG9wdXBfNDczNDhmMzgzOWZmNGFjZDliOTAyYjVmY2MwNTY4MjUgPSBMLnBvcHVwKHsibWF4V2lkdGgiOiAiMTAwJSJ9KTsKCiAgICAgICAgCiAgICAgICAgICAgIHZhciBodG1sXzg0YzU1NDlmNDhlODQ3MmVhZTlkMzU2Y2M3OWQxMTA5ID0gJChgPGRpdiBpZD0iaHRtbF84NGM1NTQ5ZjQ4ZTg0NzJlYWU5ZDM1NmNjNzlkMTEwOSIgc3R5bGU9IndpZHRoOiAxMDAuMCU7IGhlaWdodDogMTAwLjAlOyI+RXRvYmljb2tlIENsdXN0ZXIgNDwvZGl2PmApWzBdOwogICAgICAgICAgICBwb3B1cF80NzM0OGYzODM5ZmY0YWNkOWI5MDJiNWZjYzA1NjgyNS5zZXRDb250ZW50KGh0bWxfODRjNTU0OWY0OGU4NDcyZWFlOWQzNTZjYzc5ZDExMDkpOwogICAgICAgIAoKICAgICAgICBjaXJjbGVfbWFya2VyX2MxNmQ0MjhlMDQ4MzRlMmM4MWI3MWE4Nzg1ZTVhZjRmLmJpbmRQb3B1cChwb3B1cF80NzM0OGYzODM5ZmY0YWNkOWI5MDJiNWZjYzA1NjgyNSkKICAgICAgICA7CgogICAgICAgIAogICAgCiAgICAKICAgICAgICAgICAgdmFyIGNpcmNsZV9tYXJrZXJfZmY3M2FjY2FiM2U2NDk5YmI3NjJlZTYwODI5MTUzN2UgPSBMLmNpcmNsZU1hcmtlcigKICAgICAgICAgICAgICAgIFs0My43OTQyMDAzLCAtNzkuMjYyMDI5NDAwMDAwMDJdLAogICAgICAgICAgICAgICAgeyJidWJibGluZ01vdXNlRXZlbnRzIjogdHJ1ZSwgImNvbG9yIjogIiNmZjAwMDAiLCAiZGFzaEFycmF5IjogbnVsbCwgImRhc2hPZmZzZXQiOiBudWxsLCAiZmlsbCI6IHRydWUsICJmaWxsQ29sb3IiOiAiI2ZmMDAwMCIsICJmaWxsT3BhY2l0eSI6IDAuNywgImZpbGxSdWxlIjogImV2ZW5vZGQiLCAibGluZUNhcCI6ICJyb3VuZCIsICJsaW5lSm9pbiI6ICJyb3VuZCIsICJvcGFjaXR5IjogMS4wLCAicmFkaXVzIjogNSwgInN0cm9rZSI6IHRydWUsICJ3ZWlnaHQiOiAzfQogICAgICAgICAgICApLmFkZFRvKG1hcF81ODE1ODVmNDNmODU0ZWRkOTkyNjhkOGVhMGE5ZWNkNCk7CiAgICAgICAgCiAgICAKICAgICAgICB2YXIgcG9wdXBfYmJmOGU1ZjhmOGJmNGE4MDljMjM3ODllODlhNTIyZTggPSBMLnBvcHVwKHsibWF4V2lkdGgiOiAiMTAwJSJ9KTsKCiAgICAgICAgCiAgICAgICAgICAgIHZhciBodG1sX2JkNjYyNTlkOGZjNDQ3ZWQ5YjIxOTdmNzU5Y2JlNDg1ID0gJChgPGRpdiBpZD0iaHRtbF9iZDY2MjU5ZDhmYzQ0N2VkOWIyMTk3Zjc1OWNiZTQ4NSIgc3R5bGU9IndpZHRoOiAxMDAuMCU7IGhlaWdodDogMTAwLjAlOyI+U2NhcmJvcm91Z2ggQ2x1c3RlciAwPC9kaXY+YClbMF07CiAgICAgICAgICAgIHBvcHVwX2JiZjhlNWY4ZjhiZjRhODA5YzIzNzg5ZTg5YTUyMmU4LnNldENvbnRlbnQoaHRtbF9iZDY2MjU5ZDhmYzQ0N2VkOWIyMTk3Zjc1OWNiZTQ4NSk7CiAgICAgICAgCgogICAgICAgIGNpcmNsZV9tYXJrZXJfZmY3M2FjY2FiM2U2NDk5YmI3NjJlZTYwODI5MTUzN2UuYmluZFBvcHVwKHBvcHVwX2JiZjhlNWY4ZjhiZjRhODA5YzIzNzg5ZTg5YTUyMmU4KQogICAgICAgIDsKCiAgICAgICAgCiAgICAKICAgIAogICAgICAgICAgICB2YXIgY2lyY2xlX21hcmtlcl85NDBmMjM0MzA2NTU0OTYzOWI2ZmZhOGIxY2M1MTg1NSA9IEwuY2lyY2xlTWFya2VyKAogICAgICAgICAgICAgICAgWzQzLjcwNDMyNDQsIC03OS4zODg3OTAxXSwKICAgICAgICAgICAgICAgIHsiYnViYmxpbmdNb3VzZUV2ZW50cyI6IHRydWUsICJjb2xvciI6ICIjMDBiNWViIiwgImRhc2hBcnJheSI6IG51bGwsICJkYXNoT2Zmc2V0IjogbnVsbCwgImZpbGwiOiB0cnVlLCAiZmlsbENvbG9yIjogIiMwMGI1ZWIiLCAiZmlsbE9wYWNpdHkiOiAwLjcsICJmaWxsUnVsZSI6ICJldmVub2RkIiwgImxpbmVDYXAiOiAicm91bmQiLCAibGluZUpvaW4iOiAicm91bmQiLCAib3BhY2l0eSI6IDEuMCwgInJhZGl1cyI6IDUsICJzdHJva2UiOiB0cnVlLCAid2VpZ2h0IjogM30KICAgICAgICAgICAgKS5hZGRUbyhtYXBfNTgxNTg1ZjQzZjg1NGVkZDk5MjY4ZDhlYTBhOWVjZDQpOwogICAgICAgIAogICAgCiAgICAgICAgdmFyIHBvcHVwX2VmM2NlOTNmYzE5ZDQ1YThhZjFlYjBhYjk1ZjNlMmQwID0gTC5wb3B1cCh7Im1heFdpZHRoIjogIjEwMCUifSk7CgogICAgICAgIAogICAgICAgICAgICB2YXIgaHRtbF81NTM3MDEyMDY2MjM0ZDQzYTY3NDMzZjZlZjlkMDdmNiA9ICQoYDxkaXYgaWQ9Imh0bWxfNTUzNzAxMjA2NjIzNGQ0M2E2NzQzM2Y2ZWY5ZDA3ZjYiIHN0eWxlPSJ3aWR0aDogMTAwLjAlOyBoZWlnaHQ6IDEwMC4wJTsiPkNlbnRyYWwgVG9yb250byBDbHVzdGVyIDI8L2Rpdj5gKVswXTsKICAgICAgICAgICAgcG9wdXBfZWYzY2U5M2ZjMTlkNDVhOGFmMWViMGFiOTVmM2UyZDAuc2V0Q29udGVudChodG1sXzU1MzcwMTIwNjYyMzRkNDNhNjc0MzNmNmVmOWQwN2Y2KTsKICAgICAgICAKCiAgICAgICAgY2lyY2xlX21hcmtlcl85NDBmMjM0MzA2NTU0OTYzOWI2ZmZhOGIxY2M1MTg1NS5iaW5kUG9wdXAocG9wdXBfZWYzY2U5M2ZjMTlkNDVhOGFmMWViMGFiOTVmM2UyZDApCiAgICAgICAgOwoKICAgICAgICAKICAgIAogICAgCiAgICAgICAgICAgIHZhciBjaXJjbGVfbWFya2VyXzEyMDAzY2JlMTc2MTQ2ZGQ5NDVmYTM1MWUwYzFmNmY2ID0gTC5jaXJjbGVNYXJrZXIoCiAgICAgICAgICAgICAgICBbNDMuNjYyNjk1NiwgLTc5LjQwMDA0OTNdLAogICAgICAgICAgICAgICAgeyJidWJibGluZ01vdXNlRXZlbnRzIjogdHJ1ZSwgImNvbG9yIjogIiMwMGI1ZWIiLCAiZGFzaEFycmF5IjogbnVsbCwgImRhc2hPZmZzZXQiOiBudWxsLCAiZmlsbCI6IHRydWUsICJmaWxsQ29sb3IiOiAiIzAwYjVlYiIsICJmaWxsT3BhY2l0eSI6IDAuNywgImZpbGxSdWxlIjogImV2ZW5vZGQiLCAibGluZUNhcCI6ICJyb3VuZCIsICJsaW5lSm9pbiI6ICJyb3VuZCIsICJvcGFjaXR5IjogMS4wLCAicmFkaXVzIjogNSwgInN0cm9rZSI6IHRydWUsICJ3ZWlnaHQiOiAzfQogICAgICAgICAgICApLmFkZFRvKG1hcF81ODE1ODVmNDNmODU0ZWRkOTkyNjhkOGVhMGE5ZWNkNCk7CiAgICAgICAgCiAgICAKICAgICAgICB2YXIgcG9wdXBfZWEzOGI5YTcwODEyNDVkMmJjMWM2ODI2YTliYzkxMzEgPSBMLnBvcHVwKHsibWF4V2lkdGgiOiAiMTAwJSJ9KTsKCiAgICAgICAgCiAgICAgICAgICAgIHZhciBodG1sXzZmNDNiNmJmZDc3MDQ0Mjg5NzBhNDU2NDFiYmJlYWMyID0gJChgPGRpdiBpZD0iaHRtbF82ZjQzYjZiZmQ3NzA0NDI4OTcwYTQ1NjQxYmJiZWFjMiIgc3R5bGU9IndpZHRoOiAxMDAuMCU7IGhlaWdodDogMTAwLjAlOyI+RG93bnRvd24gVG9yb250byBDbHVzdGVyIDI8L2Rpdj5gKVswXTsKICAgICAgICAgICAgcG9wdXBfZWEzOGI5YTcwODEyNDVkMmJjMWM2ODI2YTliYzkxMzEuc2V0Q29udGVudChodG1sXzZmNDNiNmJmZDc3MDQ0Mjg5NzBhNDU2NDFiYmJlYWMyKTsKICAgICAgICAKCiAgICAgICAgY2lyY2xlX21hcmtlcl8xMjAwM2NiZTE3NjE0NmRkOTQ1ZmEzNTFlMGMxZjZmNi5iaW5kUG9wdXAocG9wdXBfZWEzOGI5YTcwODEyNDVkMmJjMWM2ODI2YTliYzkxMzEpCiAgICAgICAgOwoKICAgICAgICAKICAgIAogICAgCiAgICAgICAgICAgIHZhciBjaXJjbGVfbWFya2VyXzI0YTc4ZGM4YTQ1ODQ1YTNhOTJjM2Y1ZTZlMTg0NTE3ID0gTC5jaXJjbGVNYXJrZXIoCiAgICAgICAgICAgICAgICBbNDMuNjUxNTcwNiwgLTc5LjQ4NDQ0OTldLAogICAgICAgICAgICAgICAgeyJidWJibGluZ01vdXNlRXZlbnRzIjogdHJ1ZSwgImNvbG9yIjogIiMwMGI1ZWIiLCAiZGFzaEFycmF5IjogbnVsbCwgImRhc2hPZmZzZXQiOiBudWxsLCAiZmlsbCI6IHRydWUsICJmaWxsQ29sb3IiOiAiIzAwYjVlYiIsICJmaWxsT3BhY2l0eSI6IDAuNywgImZpbGxSdWxlIjogImV2ZW5vZGQiLCAibGluZUNhcCI6ICJyb3VuZCIsICJsaW5lSm9pbiI6ICJyb3VuZCIsICJvcGFjaXR5IjogMS4wLCAicmFkaXVzIjogNSwgInN0cm9rZSI6IHRydWUsICJ3ZWlnaHQiOiAzfQogICAgICAgICAgICApLmFkZFRvKG1hcF81ODE1ODVmNDNmODU0ZWRkOTkyNjhkOGVhMGE5ZWNkNCk7CiAgICAgICAgCiAgICAKICAgICAgICB2YXIgcG9wdXBfY2RkNDE5MWU2YjBiNDUxNDlhMTY1YmMyYzI4MDZiMTUgPSBMLnBvcHVwKHsibWF4V2lkdGgiOiAiMTAwJSJ9KTsKCiAgICAgICAgCiAgICAgICAgICAgIHZhciBodG1sX2U3Yjc2ZTQ4MjFkZDQyYjdhYzAwODM0ZDI0ODJmOWQ4ID0gJChgPGRpdiBpZD0iaHRtbF9lN2I3NmU0ODIxZGQ0MmI3YWMwMDgzNGQyNDgyZjlkOCIgc3R5bGU9IndpZHRoOiAxMDAuMCU7IGhlaWdodDogMTAwLjAlOyI+V2VzdCBUb3JvbnRvIENsdXN0ZXIgMjwvZGl2PmApWzBdOwogICAgICAgICAgICBwb3B1cF9jZGQ0MTkxZTZiMGI0NTE0OWExNjViYzJjMjgwNmIxNS5zZXRDb250ZW50KGh0bWxfZTdiNzZlNDgyMWRkNDJiN2FjMDA4MzRkMjQ4MmY5ZDgpOwogICAgICAgIAoKICAgICAgICBjaXJjbGVfbWFya2VyXzI0YTc4ZGM4YTQ1ODQ1YTNhOTJjM2Y1ZTZlMTg0NTE3LmJpbmRQb3B1cChwb3B1cF9jZGQ0MTkxZTZiMGI0NTE0OWExNjViYzJjMjgwNmIxNSkKICAgICAgICA7CgogICAgICAgIAogICAgCiAgICAKICAgICAgICAgICAgdmFyIGNpcmNsZV9tYXJrZXJfOTVlOTFiZTcxZmJjNDUwOTg4ZjhiNjFjOTM5MzRhMGMgPSBMLmNpcmNsZU1hcmtlcigKICAgICAgICAgICAgICAgIFs0My43ODE2Mzc1LCAtNzkuMzA0MzAyMV0sCiAgICAgICAgICAgICAgICB7ImJ1YmJsaW5nTW91c2VFdmVudHMiOiB0cnVlLCAiY29sb3IiOiAiI2ZmMDAwMCIsICJkYXNoQXJyYXkiOiBudWxsLCAiZGFzaE9mZnNldCI6IG51bGwsICJmaWxsIjogdHJ1ZSwgImZpbGxDb2xvciI6ICIjZmYwMDAwIiwgImZpbGxPcGFjaXR5IjogMC43LCAiZmlsbFJ1bGUiOiAiZXZlbm9kZCIsICJsaW5lQ2FwIjogInJvdW5kIiwgImxpbmVKb2luIjogInJvdW5kIiwgIm9wYWNpdHkiOiAxLjAsICJyYWRpdXMiOiA1LCAic3Ryb2tlIjogdHJ1ZSwgIndlaWdodCI6IDN9CiAgICAgICAgICAgICkuYWRkVG8obWFwXzU4MTU4NWY0M2Y4NTRlZGQ5OTI2OGQ4ZWEwYTllY2Q0KTsKICAgICAgICAKICAgIAogICAgICAgIHZhciBwb3B1cF84MDZjYzI2MTcyM2I0OTdlODQ0YmVmNmY2ODczYmIxZiA9IEwucG9wdXAoeyJtYXhXaWR0aCI6ICIxMDAlIn0pOwoKICAgICAgICAKICAgICAgICAgICAgdmFyIGh0bWxfYTE1MzNkM2ExNzZiNDAzOGJiYjE0OGQzMzM5YjgyY2IgPSAkKGA8ZGl2IGlkPSJodG1sX2ExNTMzZDNhMTc2YjQwMzhiYmIxNDhkMzMzOWI4MmNiIiBzdHlsZT0id2lkdGg6IDEwMC4wJTsgaGVpZ2h0OiAxMDAuMCU7Ij5TY2FyYm9yb3VnaCBDbHVzdGVyIDA8L2Rpdj5gKVswXTsKICAgICAgICAgICAgcG9wdXBfODA2Y2MyNjE3MjNiNDk3ZTg0NGJlZjZmNjg3M2JiMWYuc2V0Q29udGVudChodG1sX2ExNTMzZDNhMTc2YjQwMzhiYmIxNDhkMzMzOWI4MmNiKTsKICAgICAgICAKCiAgICAgICAgY2lyY2xlX21hcmtlcl85NWU5MWJlNzFmYmM0NTA5ODhmOGI2MWM5MzkzNGEwYy5iaW5kUG9wdXAocG9wdXBfODA2Y2MyNjE3MjNiNDk3ZTg0NGJlZjZmNjg3M2JiMWYpCiAgICAgICAgOwoKICAgICAgICAKICAgIAogICAgCiAgICAgICAgICAgIHZhciBjaXJjbGVfbWFya2VyXzg5ZTZlMTFlN2IxMTRlZTg5NWIzMjk0OThhOGU5NmZhID0gTC5jaXJjbGVNYXJrZXIoCiAgICAgICAgICAgICAgICBbNDMuNjg5NTc0MywgLTc5LjM4MzE1OTkwMDAwMDAxXSwKICAgICAgICAgICAgICAgIHsiYnViYmxpbmdNb3VzZUV2ZW50cyI6IHRydWUsICJjb2xvciI6ICIjMDBiNWViIiwgImRhc2hBcnJheSI6IG51bGwsICJkYXNoT2Zmc2V0IjogbnVsbCwgImZpbGwiOiB0cnVlLCAiZmlsbENvbG9yIjogIiMwMGI1ZWIiLCAiZmlsbE9wYWNpdHkiOiAwLjcsICJmaWxsUnVsZSI6ICJldmVub2RkIiwgImxpbmVDYXAiOiAicm91bmQiLCAibGluZUpvaW4iOiAicm91bmQiLCAib3BhY2l0eSI6IDEuMCwgInJhZGl1cyI6IDUsICJzdHJva2UiOiB0cnVlLCAid2VpZ2h0IjogM30KICAgICAgICAgICAgKS5hZGRUbyhtYXBfNTgxNTg1ZjQzZjg1NGVkZDk5MjY4ZDhlYTBhOWVjZDQpOwogICAgICAgIAogICAgCiAgICAgICAgdmFyIHBvcHVwXzY1MjFjYWQyZDFkODQxNThiYjhkNzU2MmExODk1YzdmID0gTC5wb3B1cCh7Im1heFdpZHRoIjogIjEwMCUifSk7CgogICAgICAgIAogICAgICAgICAgICB2YXIgaHRtbF8wZTcwMDkyZWJlN2I0YjUzOTNjMGNlZjA4NWY5ZTg4NCA9ICQoYDxkaXYgaWQ9Imh0bWxfMGU3MDA5MmViZTdiNGI1MzkzYzBjZWYwODVmOWU4ODQiIHN0eWxlPSJ3aWR0aDogMTAwLjAlOyBoZWlnaHQ6IDEwMC4wJTsiPkNlbnRyYWwgVG9yb250byBDbHVzdGVyIDI8L2Rpdj5gKVswXTsKICAgICAgICAgICAgcG9wdXBfNjUyMWNhZDJkMWQ4NDE1OGJiOGQ3NTYyYTE4OTVjN2Yuc2V0Q29udGVudChodG1sXzBlNzAwOTJlYmU3YjRiNTM5M2MwY2VmMDg1ZjllODg0KTsKICAgICAgICAKCiAgICAgICAgY2lyY2xlX21hcmtlcl84OWU2ZTExZTdiMTE0ZWU4OTViMzI5NDk4YThlOTZmYS5iaW5kUG9wdXAocG9wdXBfNjUyMWNhZDJkMWQ4NDE1OGJiOGQ3NTYyYTE4OTVjN2YpCiAgICAgICAgOwoKICAgICAgICAKICAgIAogICAgCiAgICAgICAgICAgIHZhciBjaXJjbGVfbWFya2VyXzkyYmNhZDJlMTU1MDRkMjJhNmNiOWM5YWJlN2ZhYjFlID0gTC5jaXJjbGVNYXJrZXIoCiAgICAgICAgICAgICAgICBbNDMuNjUzMjA1NywgLTc5LjQwMDA0OTNdLAogICAgICAgICAgICAgICAgeyJidWJibGluZ01vdXNlRXZlbnRzIjogdHJ1ZSwgImNvbG9yIjogIiMwMGI1ZWIiLCAiZGFzaEFycmF5IjogbnVsbCwgImRhc2hPZmZzZXQiOiBudWxsLCAiZmlsbCI6IHRydWUsICJmaWxsQ29sb3IiOiAiIzAwYjVlYiIsICJmaWxsT3BhY2l0eSI6IDAuNywgImZpbGxSdWxlIjogImV2ZW5vZGQiLCAibGluZUNhcCI6ICJyb3VuZCIsICJsaW5lSm9pbiI6ICJyb3VuZCIsICJvcGFjaXR5IjogMS4wLCAicmFkaXVzIjogNSwgInN0cm9rZSI6IHRydWUsICJ3ZWlnaHQiOiAzfQogICAgICAgICAgICApLmFkZFRvKG1hcF81ODE1ODVmNDNmODU0ZWRkOTkyNjhkOGVhMGE5ZWNkNCk7CiAgICAgICAgCiAgICAKICAgICAgICB2YXIgcG9wdXBfMzViNmQ0OGM4ZWM5NDYzNmE2Mjg2MTFmZTY2NGUyYjcgPSBMLnBvcHVwKHsibWF4V2lkdGgiOiAiMTAwJSJ9KTsKCiAgICAgICAgCiAgICAgICAgICAgIHZhciBodG1sXzAwODY5OThhZTUyYjRkYTBhYzBkYjYxMDk4MjI3OWFjID0gJChgPGRpdiBpZD0iaHRtbF8wMDg2OTk4YWU1MmI0ZGEwYWMwZGI2MTA5ODIyNzlhYyIgc3R5bGU9IndpZHRoOiAxMDAuMCU7IGhlaWdodDogMTAwLjAlOyI+RG93bnRvd24gVG9yb250byBDbHVzdGVyIDI8L2Rpdj5gKVswXTsKICAgICAgICAgICAgcG9wdXBfMzViNmQ0OGM4ZWM5NDYzNmE2Mjg2MTFmZTY2NGUyYjcuc2V0Q29udGVudChodG1sXzAwODY5OThhZTUyYjRkYTBhYzBkYjYxMDk4MjI3OWFjKTsKICAgICAgICAKCiAgICAgICAgY2lyY2xlX21hcmtlcl85MmJjYWQyZTE1NTA0ZDIyYTZjYjljOWFiZTdmYWIxZS5iaW5kUG9wdXAocG9wdXBfMzViNmQ0OGM4ZWM5NDYzNmE2Mjg2MTFmZTY2NGUyYjcpCiAgICAgICAgOwoKICAgICAgICAKICAgIAogICAgCiAgICAgICAgICAgIHZhciBjaXJjbGVfbWFya2VyXzBmMzQyY2ViNmYzMDRiNDRhYTQ5ZmE5NjlkNjEwNTcwID0gTC5jaXJjbGVNYXJrZXIoCiAgICAgICAgICAgICAgICBbNDMuODE1MjUyMiwgLTc5LjI4NDU3NzJdLAogICAgICAgICAgICAgICAgeyJidWJibGluZ01vdXNlRXZlbnRzIjogdHJ1ZSwgImNvbG9yIjogIiNmZjAwMDAiLCAiZGFzaEFycmF5IjogbnVsbCwgImRhc2hPZmZzZXQiOiBudWxsLCAiZmlsbCI6IHRydWUsICJmaWxsQ29sb3IiOiAiI2ZmMDAwMCIsICJmaWxsT3BhY2l0eSI6IDAuNywgImZpbGxSdWxlIjogImV2ZW5vZGQiLCAibGluZUNhcCI6ICJyb3VuZCIsICJsaW5lSm9pbiI6ICJyb3VuZCIsICJvcGFjaXR5IjogMS4wLCAicmFkaXVzIjogNSwgInN0cm9rZSI6IHRydWUsICJ3ZWlnaHQiOiAzfQogICAgICAgICAgICApLmFkZFRvKG1hcF81ODE1ODVmNDNmODU0ZWRkOTkyNjhkOGVhMGE5ZWNkNCk7CiAgICAgICAgCiAgICAKICAgICAgICB2YXIgcG9wdXBfZjEyZGNmYzcyYzk3NDRkYjlkNTgzNjQzMzM4YjZkZDAgPSBMLnBvcHVwKHsibWF4V2lkdGgiOiAiMTAwJSJ9KTsKCiAgICAgICAgCiAgICAgICAgICAgIHZhciBodG1sXzRjYTA2ODliNjllYzRjYzc5NTk1MmZkYTNkYWM1ZTM3ID0gJChgPGRpdiBpZD0iaHRtbF80Y2EwNjg5YjY5ZWM0Y2M3OTU5NTJmZGEzZGFjNWUzNyIgc3R5bGU9IndpZHRoOiAxMDAuMCU7IGhlaWdodDogMTAwLjAlOyI+U2NhcmJvcm91Z2ggQ2x1c3RlciAwPC9kaXY+YClbMF07CiAgICAgICAgICAgIHBvcHVwX2YxMmRjZmM3MmM5NzQ0ZGI5ZDU4MzY0MzMzOGI2ZGQwLnNldENvbnRlbnQoaHRtbF80Y2EwNjg5YjY5ZWM0Y2M3OTU5NTJmZGEzZGFjNWUzNyk7CiAgICAgICAgCgogICAgICAgIGNpcmNsZV9tYXJrZXJfMGYzNDJjZWI2ZjMwNGI0NGFhNDlmYTk2OWQ2MTA1NzAuYmluZFBvcHVwKHBvcHVwX2YxMmRjZmM3MmM5NzQ0ZGI5ZDU4MzY0MzMzOGI2ZGQwKQogICAgICAgIDsKCiAgICAgICAgCiAgICAKICAgIAogICAgICAgICAgICB2YXIgY2lyY2xlX21hcmtlcl83ZWQwYjBhYzk1MWQ0NzNhYjAxNzEyNzc1ODk0ZDk1MyA9IEwuY2lyY2xlTWFya2VyKAogICAgICAgICAgICAgICAgWzQzLjY4NjQxMjI5OTk5OTk5LCAtNzkuNDAwMDQ5M10sCiAgICAgICAgICAgICAgICB7ImJ1YmJsaW5nTW91c2VFdmVudHMiOiB0cnVlLCAiY29sb3IiOiAiIzAwYjVlYiIsICJkYXNoQXJyYXkiOiBudWxsLCAiZGFzaE9mZnNldCI6IG51bGwsICJmaWxsIjogdHJ1ZSwgImZpbGxDb2xvciI6ICIjMDBiNWViIiwgImZpbGxPcGFjaXR5IjogMC43LCAiZmlsbFJ1bGUiOiAiZXZlbm9kZCIsICJsaW5lQ2FwIjogInJvdW5kIiwgImxpbmVKb2luIjogInJvdW5kIiwgIm9wYWNpdHkiOiAxLjAsICJyYWRpdXMiOiA1LCAic3Ryb2tlIjogdHJ1ZSwgIndlaWdodCI6IDN9CiAgICAgICAgICAgICkuYWRkVG8obWFwXzU4MTU4NWY0M2Y4NTRlZGQ5OTI2OGQ4ZWEwYTllY2Q0KTsKICAgICAgICAKICAgIAogICAgICAgIHZhciBwb3B1cF9mMTI4NTk3NWZjNzg0MzlhODNhNDQyNWI4ZDhmYjhiMyA9IEwucG9wdXAoeyJtYXhXaWR0aCI6ICIxMDAlIn0pOwoKICAgICAgICAKICAgICAgICAgICAgdmFyIGh0bWxfYmNlNDhhMjA3Mzg2NDFjMmE5ODI2ZmY5ZjY2ZDEwOWEgPSAkKGA8ZGl2IGlkPSJodG1sX2JjZTQ4YTIwNzM4NjQxYzJhOTgyNmZmOWY2NmQxMDlhIiBzdHlsZT0id2lkdGg6IDEwMC4wJTsgaGVpZ2h0OiAxMDAuMCU7Ij5DZW50cmFsIFRvcm9udG8gQ2x1c3RlciAyPC9kaXY+YClbMF07CiAgICAgICAgICAgIHBvcHVwX2YxMjg1OTc1ZmM3ODQzOWE4M2E0NDI1YjhkOGZiOGIzLnNldENvbnRlbnQoaHRtbF9iY2U0OGEyMDczODY0MWMyYTk4MjZmZjlmNjZkMTA5YSk7CiAgICAgICAgCgogICAgICAgIGNpcmNsZV9tYXJrZXJfN2VkMGIwYWM5NTFkNDczYWIwMTcxMjc3NTg5NGQ5NTMuYmluZFBvcHVwKHBvcHVwX2YxMjg1OTc1ZmM3ODQzOWE4M2E0NDI1YjhkOGZiOGIzKQogICAgICAgIDsKCiAgICAgICAgCiAgICAKICAgIAogICAgICAgICAgICB2YXIgY2lyY2xlX21hcmtlcl9iMDM5OGYzMDU2Mjc0YmE2YjU2MDQ5ODhkNzY5MDVhZSA9IEwuY2lyY2xlTWFya2VyKAogICAgICAgICAgICAgICAgWzQzLjYyODk0NjcsIC03OS4zOTQ0MTk5XSwKICAgICAgICAgICAgICAgIHsiYnViYmxpbmdNb3VzZUV2ZW50cyI6IHRydWUsICJjb2xvciI6ICIjMDBiNWViIiwgImRhc2hBcnJheSI6IG51bGwsICJkYXNoT2Zmc2V0IjogbnVsbCwgImZpbGwiOiB0cnVlLCAiZmlsbENvbG9yIjogIiMwMGI1ZWIiLCAiZmlsbE9wYWNpdHkiOiAwLjcsICJmaWxsUnVsZSI6ICJldmVub2RkIiwgImxpbmVDYXAiOiAicm91bmQiLCAibGluZUpvaW4iOiAicm91bmQiLCAib3BhY2l0eSI6IDEuMCwgInJhZGl1cyI6IDUsICJzdHJva2UiOiB0cnVlLCAid2VpZ2h0IjogM30KICAgICAgICAgICAgKS5hZGRUbyhtYXBfNTgxNTg1ZjQzZjg1NGVkZDk5MjY4ZDhlYTBhOWVjZDQpOwogICAgICAgIAogICAgCiAgICAgICAgdmFyIHBvcHVwXzg3OWQxZWQ3MDJkMTQwZWJiZjM0Y2U4YmQxMGM0OWQ0ID0gTC5wb3B1cCh7Im1heFdpZHRoIjogIjEwMCUifSk7CgogICAgICAgIAogICAgICAgICAgICB2YXIgaHRtbF9lMWE1NzU4NjQ2OTg0MTllYTRkZTI1NWYwZGNhNzIxMSA9ICQoYDxkaXYgaWQ9Imh0bWxfZTFhNTc1ODY0Njk4NDE5ZWE0ZGUyNTVmMGRjYTcyMTEiIHN0eWxlPSJ3aWR0aDogMTAwLjAlOyBoZWlnaHQ6IDEwMC4wJTsiPkRvd250b3duIFRvcm9udG8gQ2x1c3RlciAyPC9kaXY+YClbMF07CiAgICAgICAgICAgIHBvcHVwXzg3OWQxZWQ3MDJkMTQwZWJiZjM0Y2U4YmQxMGM0OWQ0LnNldENvbnRlbnQoaHRtbF9lMWE1NzU4NjQ2OTg0MTllYTRkZTI1NWYwZGNhNzIxMSk7CiAgICAgICAgCgogICAgICAgIGNpcmNsZV9tYXJrZXJfYjAzOThmMzA1NjI3NGJhNmI1NjA0OTg4ZDc2OTA1YWUuYmluZFBvcHVwKHBvcHVwXzg3OWQxZWQ3MDJkMTQwZWJiZjM0Y2U4YmQxMGM0OWQ0KQogICAgICAgIDsKCiAgICAgICAgCiAgICAKICAgIAogICAgICAgICAgICB2YXIgY2lyY2xlX21hcmtlcl9lZTA5YjU4Y2I3ZmU0OTY4OGY5M2UwZDMxOTA2MjM4MiA9IEwuY2lyY2xlTWFya2VyKAogICAgICAgICAgICAgICAgWzQzLjYwNTY0NjYsIC03OS41MDEzMjA3MDAwMDAwMV0sCiAgICAgICAgICAgICAgICB7ImJ1YmJsaW5nTW91c2VFdmVudHMiOiB0cnVlLCAiY29sb3IiOiAiI2ZmYjM2MCIsICJkYXNoQXJyYXkiOiBudWxsLCAiZGFzaE9mZnNldCI6IG51bGwsICJmaWxsIjogdHJ1ZSwgImZpbGxDb2xvciI6ICIjZmZiMzYwIiwgImZpbGxPcGFjaXR5IjogMC43LCAiZmlsbFJ1bGUiOiAiZXZlbm9kZCIsICJsaW5lQ2FwIjogInJvdW5kIiwgImxpbmVKb2luIjogInJvdW5kIiwgIm9wYWNpdHkiOiAxLjAsICJyYWRpdXMiOiA1LCAic3Ryb2tlIjogdHJ1ZSwgIndlaWdodCI6IDN9CiAgICAgICAgICAgICkuYWRkVG8obWFwXzU4MTU4NWY0M2Y4NTRlZGQ5OTI2OGQ4ZWEwYTllY2Q0KTsKICAgICAgICAKICAgIAogICAgICAgIHZhciBwb3B1cF9mODhiZjk2ODk0ODI0ODFiYTdmMTBmNDMyYTdjMWU5MiA9IEwucG9wdXAoeyJtYXhXaWR0aCI6ICIxMDAlIn0pOwoKICAgICAgICAKICAgICAgICAgICAgdmFyIGh0bWxfMTM5ZDM4MjcyZjI1NDljYWJmMzE1OGNkMjY5MWJhYTQgPSAkKGA8ZGl2IGlkPSJodG1sXzEzOWQzODI3MmYyNTQ5Y2FiZjMxNThjZDI2OTFiYWE0IiBzdHlsZT0id2lkdGg6IDEwMC4wJTsgaGVpZ2h0OiAxMDAuMCU7Ij5FdG9iaWNva2UgQ2x1c3RlciA0PC9kaXY+YClbMF07CiAgICAgICAgICAgIHBvcHVwX2Y4OGJmOTY4OTQ4MjQ4MWJhN2YxMGY0MzJhN2MxZTkyLnNldENvbnRlbnQoaHRtbF8xMzlkMzgyNzJmMjU0OWNhYmYzMTU4Y2QyNjkxYmFhNCk7CiAgICAgICAgCgogICAgICAgIGNpcmNsZV9tYXJrZXJfZWUwOWI1OGNiN2ZlNDk2ODhmOTNlMGQzMTkwNjIzODIuYmluZFBvcHVwKHBvcHVwX2Y4OGJmOTY4OTQ4MjQ4MWJhN2YxMGY0MzJhN2MxZTkyKQogICAgICAgIDsKCiAgICAgICAgCiAgICAKICAgIAogICAgICAgICAgICB2YXIgY2lyY2xlX21hcmtlcl84Mzk1Y2RiMGE1NjU0ZjAyYmNlNTE4YzEwNDdmM2JlNiA9IEwuY2lyY2xlTWFya2VyKAogICAgICAgICAgICAgICAgWzQzLjczOTQxNjM5OTk5OTk5NiwgLTc5LjU4ODQzNjldLAogICAgICAgICAgICAgICAgeyJidWJibGluZ01vdXNlRXZlbnRzIjogdHJ1ZSwgImNvbG9yIjogIiNmZmIzNjAiLCAiZGFzaEFycmF5IjogbnVsbCwgImRhc2hPZmZzZXQiOiBudWxsLCAiZmlsbCI6IHRydWUsICJmaWxsQ29sb3IiOiAiI2ZmYjM2MCIsICJmaWxsT3BhY2l0eSI6IDAuNywgImZpbGxSdWxlIjogImV2ZW5vZGQiLCAibGluZUNhcCI6ICJyb3VuZCIsICJsaW5lSm9pbiI6ICJyb3VuZCIsICJvcGFjaXR5IjogMS4wLCAicmFkaXVzIjogNSwgInN0cm9rZSI6IHRydWUsICJ3ZWlnaHQiOiAzfQogICAgICAgICAgICApLmFkZFRvKG1hcF81ODE1ODVmNDNmODU0ZWRkOTkyNjhkOGVhMGE5ZWNkNCk7CiAgICAgICAgCiAgICAKICAgICAgICB2YXIgcG9wdXBfMTJhYzg1OTNmM2VhNDhhODlkODVkMDBhM2E0NTAwOGMgPSBMLnBvcHVwKHsibWF4V2lkdGgiOiAiMTAwJSJ9KTsKCiAgICAgICAgCiAgICAgICAgICAgIHZhciBodG1sX2FmMWNhYWRlMTE3YzQzYjVhZGE4ZWI0MGJiNjM4Mjc4ID0gJChgPGRpdiBpZD0iaHRtbF9hZjFjYWFkZTExN2M0M2I1YWRhOGViNDBiYjYzODI3OCIgc3R5bGU9IndpZHRoOiAxMDAuMCU7IGhlaWdodDogMTAwLjAlOyI+RXRvYmljb2tlIENsdXN0ZXIgNDwvZGl2PmApWzBdOwogICAgICAgICAgICBwb3B1cF8xMmFjODU5M2YzZWE0OGE4OWQ4NWQwMGEzYTQ1MDA4Yy5zZXRDb250ZW50KGh0bWxfYWYxY2FhZGUxMTdjNDNiNWFkYThlYjQwYmI2MzgyNzgpOwogICAgICAgIAoKICAgICAgICBjaXJjbGVfbWFya2VyXzgzOTVjZGIwYTU2NTRmMDJiY2U1MThjMTA0N2YzYmU2LmJpbmRQb3B1cChwb3B1cF8xMmFjODU5M2YzZWE0OGE4OWQ4NWQwMGEzYTQ1MDA4YykKICAgICAgICA7CgogICAgICAgIAogICAgCiAgICAKICAgICAgICAgICAgdmFyIGNpcmNsZV9tYXJrZXJfNDFlZmRjNjJkMjMyNGFhOGJlYzBlMjk1M2Q0YzI1ZWQgPSBMLmNpcmNsZU1hcmtlcigKICAgICAgICAgICAgICAgIFs0My43OTk1MjUyMDAwMDAwMDUsIC03OS4zMTgzODg3XSwKICAgICAgICAgICAgICAgIHsiYnViYmxpbmdNb3VzZUV2ZW50cyI6IHRydWUsICJjb2xvciI6ICIjZmYwMDAwIiwgImRhc2hBcnJheSI6IG51bGwsICJkYXNoT2Zmc2V0IjogbnVsbCwgImZpbGwiOiB0cnVlLCAiZmlsbENvbG9yIjogIiNmZjAwMDAiLCAiZmlsbE9wYWNpdHkiOiAwLjcsICJmaWxsUnVsZSI6ICJldmVub2RkIiwgImxpbmVDYXAiOiAicm91bmQiLCAibGluZUpvaW4iOiAicm91bmQiLCAib3BhY2l0eSI6IDEuMCwgInJhZGl1cyI6IDUsICJzdHJva2UiOiB0cnVlLCAid2VpZ2h0IjogM30KICAgICAgICAgICAgKS5hZGRUbyhtYXBfNTgxNTg1ZjQzZjg1NGVkZDk5MjY4ZDhlYTBhOWVjZDQpOwogICAgICAgIAogICAgCiAgICAgICAgdmFyIHBvcHVwX2I5NmY5YWYyYThhMzRkNzdiMThiNGQ5NGQwMWRkNzQ3ID0gTC5wb3B1cCh7Im1heFdpZHRoIjogIjEwMCUifSk7CgogICAgICAgIAogICAgICAgICAgICB2YXIgaHRtbF9kYWRhYWE3MWFiYjM0NTFiOGI1MDliZjg4ZDFjZDdkYSA9ICQoYDxkaXYgaWQ9Imh0bWxfZGFkYWFhNzFhYmIzNDUxYjhiNTA5YmY4OGQxY2Q3ZGEiIHN0eWxlPSJ3aWR0aDogMTAwLjAlOyBoZWlnaHQ6IDEwMC4wJTsiPlNjYXJib3JvdWdoIENsdXN0ZXIgMDwvZGl2PmApWzBdOwogICAgICAgICAgICBwb3B1cF9iOTZmOWFmMmE4YTM0ZDc3YjE4YjRkOTRkMDFkZDc0Ny5zZXRDb250ZW50KGh0bWxfZGFkYWFhNzFhYmIzNDUxYjhiNTA5YmY4OGQxY2Q3ZGEpOwogICAgICAgIAoKICAgICAgICBjaXJjbGVfbWFya2VyXzQxZWZkYzYyZDIzMjRhYThiZWMwZTI5NTNkNGMyNWVkLmJpbmRQb3B1cChwb3B1cF9iOTZmOWFmMmE4YTM0ZDc3YjE4YjRkOTRkMDFkZDc0NykKICAgICAgICA7CgogICAgICAgIAogICAgCiAgICAKICAgICAgICAgICAgdmFyIGNpcmNsZV9tYXJrZXJfMWI3Y2FhZjI3MTUzNDU1ZWFhYWZiYmY4N2ZiNTI0MTkgPSBMLmNpcmNsZU1hcmtlcigKICAgICAgICAgICAgICAgIFs0My42Nzk1NjI2LCAtNzkuMzc3NTI5NDAwMDAwMDFdLAogICAgICAgICAgICAgICAgeyJidWJibGluZ01vdXNlRXZlbnRzIjogdHJ1ZSwgImNvbG9yIjogIiMwMGI1ZWIiLCAiZGFzaEFycmF5IjogbnVsbCwgImRhc2hPZmZzZXQiOiBudWxsLCAiZmlsbCI6IHRydWUsICJmaWxsQ29sb3IiOiAiIzAwYjVlYiIsICJmaWxsT3BhY2l0eSI6IDAuNywgImZpbGxSdWxlIjogImV2ZW5vZGQiLCAibGluZUNhcCI6ICJyb3VuZCIsICJsaW5lSm9pbiI6ICJyb3VuZCIsICJvcGFjaXR5IjogMS4wLCAicmFkaXVzIjogNSwgInN0cm9rZSI6IHRydWUsICJ3ZWlnaHQiOiAzfQogICAgICAgICAgICApLmFkZFRvKG1hcF81ODE1ODVmNDNmODU0ZWRkOTkyNjhkOGVhMGE5ZWNkNCk7CiAgICAgICAgCiAgICAKICAgICAgICB2YXIgcG9wdXBfNWE0NWI1MjA4NDZjNGE2NTk0NmIwMjY2NDIwZDEzMGYgPSBMLnBvcHVwKHsibWF4V2lkdGgiOiAiMTAwJSJ9KTsKCiAgICAgICAgCiAgICAgICAgICAgIHZhciBodG1sXzI4YWJiNDBlMjc1YjQ0ZTZiMjNhZTZmNGQzMDZjODBmID0gJChgPGRpdiBpZD0iaHRtbF8yOGFiYjQwZTI3NWI0NGU2YjIzYWU2ZjRkMzA2YzgwZiIgc3R5bGU9IndpZHRoOiAxMDAuMCU7IGhlaWdodDogMTAwLjAlOyI+RG93bnRvd24gVG9yb250byBDbHVzdGVyIDI8L2Rpdj5gKVswXTsKICAgICAgICAgICAgcG9wdXBfNWE0NWI1MjA4NDZjNGE2NTk0NmIwMjY2NDIwZDEzMGYuc2V0Q29udGVudChodG1sXzI4YWJiNDBlMjc1YjQ0ZTZiMjNhZTZmNGQzMDZjODBmKTsKICAgICAgICAKCiAgICAgICAgY2lyY2xlX21hcmtlcl8xYjdjYWFmMjcxNTM0NTVlYWFhZmJiZjg3ZmI1MjQxOS5iaW5kUG9wdXAocG9wdXBfNWE0NWI1MjA4NDZjNGE2NTk0NmIwMjY2NDIwZDEzMGYpCiAgICAgICAgOwoKICAgICAgICAKICAgIAogICAgCiAgICAgICAgICAgIHZhciBjaXJjbGVfbWFya2VyX2FjNDM2YTc4NzQ2YzQxODRhN2JmNTA4NTI0Y2MyNGJlID0gTC5jaXJjbGVNYXJrZXIoCiAgICAgICAgICAgICAgICBbNDMuNjQ2NDM1MiwgLTc5LjM3NDg0NTk5OTk5OTk5XSwKICAgICAgICAgICAgICAgIHsiYnViYmxpbmdNb3VzZUV2ZW50cyI6IHRydWUsICJjb2xvciI6ICIjMDBiNWViIiwgImRhc2hBcnJheSI6IG51bGwsICJkYXNoT2Zmc2V0IjogbnVsbCwgImZpbGwiOiB0cnVlLCAiZmlsbENvbG9yIjogIiMwMGI1ZWIiLCAiZmlsbE9wYWNpdHkiOiAwLjcsICJmaWxsUnVsZSI6ICJldmVub2RkIiwgImxpbmVDYXAiOiAicm91bmQiLCAibGluZUpvaW4iOiAicm91bmQiLCAib3BhY2l0eSI6IDEuMCwgInJhZGl1cyI6IDUsICJzdHJva2UiOiB0cnVlLCAid2VpZ2h0IjogM30KICAgICAgICAgICAgKS5hZGRUbyhtYXBfNTgxNTg1ZjQzZjg1NGVkZDk5MjY4ZDhlYTBhOWVjZDQpOwogICAgICAgIAogICAgCiAgICAgICAgdmFyIHBvcHVwXzUwZGUyODdmMjRkYzRhZWFhNDBhY2QyZTVlZjZkOTUxID0gTC5wb3B1cCh7Im1heFdpZHRoIjogIjEwMCUifSk7CgogICAgICAgIAogICAgICAgICAgICB2YXIgaHRtbF9kYjM2ZjczODAyZTc0ZDRiOThiZWMzYjk4ODA4NDg5OCA9ICQoYDxkaXYgaWQ9Imh0bWxfZGIzNmY3MzgwMmU3NGQ0Yjk4YmVjM2I5ODgwODQ4OTgiIHN0eWxlPSJ3aWR0aDogMTAwLjAlOyBoZWlnaHQ6IDEwMC4wJTsiPkRvd250b3duIFRvcm9udG8gQ2x1c3RlciAyPC9kaXY+YClbMF07CiAgICAgICAgICAgIHBvcHVwXzUwZGUyODdmMjRkYzRhZWFhNDBhY2QyZTVlZjZkOTUxLnNldENvbnRlbnQoaHRtbF9kYjM2ZjczODAyZTc0ZDRiOThiZWMzYjk4ODA4NDg5OCk7CiAgICAgICAgCgogICAgICAgIGNpcmNsZV9tYXJrZXJfYWM0MzZhNzg3NDZjNDE4NGE3YmY1MDg1MjRjYzI0YmUuYmluZFBvcHVwKHBvcHVwXzUwZGUyODdmMjRkYzRhZWFhNDBhY2QyZTVlZjZkOTUxKQogICAgICAgIDsKCiAgICAgICAgCiAgICAKICAgIAogICAgICAgICAgICB2YXIgY2lyY2xlX21hcmtlcl8xNWRhMzA3OGM2YTM0Zjk0OTQzOTU1Njk0NGRlMTg2NiA9IEwuY2lyY2xlTWFya2VyKAogICAgICAgICAgICAgICAgWzQzLjYwMjQxMzcwMDAwMDAxLCAtNzkuNTQzNDg0MDk5OTk5OTldLAogICAgICAgICAgICAgICAgeyJidWJibGluZ01vdXNlRXZlbnRzIjogdHJ1ZSwgImNvbG9yIjogIiNmZmIzNjAiLCAiZGFzaEFycmF5IjogbnVsbCwgImRhc2hPZmZzZXQiOiBudWxsLCAiZmlsbCI6IHRydWUsICJmaWxsQ29sb3IiOiAiI2ZmYjM2MCIsICJmaWxsT3BhY2l0eSI6IDAuNywgImZpbGxSdWxlIjogImV2ZW5vZGQiLCAibGluZUNhcCI6ICJyb3VuZCIsICJsaW5lSm9pbiI6ICJyb3VuZCIsICJvcGFjaXR5IjogMS4wLCAicmFkaXVzIjogNSwgInN0cm9rZSI6IHRydWUsICJ3ZWlnaHQiOiAzfQogICAgICAgICAgICApLmFkZFRvKG1hcF81ODE1ODVmNDNmODU0ZWRkOTkyNjhkOGVhMGE5ZWNkNCk7CiAgICAgICAgCiAgICAKICAgICAgICB2YXIgcG9wdXBfOTAyNDAyNDRiMzliNGE4M2E0MmJmNTJlYzk0MWMyYjAgPSBMLnBvcHVwKHsibWF4V2lkdGgiOiAiMTAwJSJ9KTsKCiAgICAgICAgCiAgICAgICAgICAgIHZhciBodG1sXzE3YzMyZDNiOGM0NjQ2MTI5ODAzYjY0MDQ0MWNkNzNkID0gJChgPGRpdiBpZD0iaHRtbF8xN2MzMmQzYjhjNDY0NjEyOTgwM2I2NDA0NDFjZDczZCIgc3R5bGU9IndpZHRoOiAxMDAuMCU7IGhlaWdodDogMTAwLjAlOyI+RXRvYmljb2tlIENsdXN0ZXIgNDwvZGl2PmApWzBdOwogICAgICAgICAgICBwb3B1cF85MDI0MDI0NGIzOWI0YTgzYTQyYmY1MmVjOTQxYzJiMC5zZXRDb250ZW50KGh0bWxfMTdjMzJkM2I4YzQ2NDYxMjk4MDNiNjQwNDQxY2Q3M2QpOwogICAgICAgIAoKICAgICAgICBjaXJjbGVfbWFya2VyXzE1ZGEzMDc4YzZhMzRmOTQ5NDM5NTU2OTQ0ZGUxODY2LmJpbmRQb3B1cChwb3B1cF85MDI0MDI0NGIzOWI0YTgzYTQyYmY1MmVjOTQxYzJiMCkKICAgICAgICA7CgogICAgICAgIAogICAgCiAgICAKICAgICAgICAgICAgdmFyIGNpcmNsZV9tYXJrZXJfYzc0OGY2NjdlZmRhNGIxZjg0OTBkZjEwOGZkZmIyYjcgPSBMLmNpcmNsZU1hcmtlcigKICAgICAgICAgICAgICAgIFs0My43MDY3NDgyOTk5OTk5OTQsIC03OS41OTQwNTQ0XSwKICAgICAgICAgICAgICAgIHsiYnViYmxpbmdNb3VzZUV2ZW50cyI6IHRydWUsICJjb2xvciI6ICIjZmZiMzYwIiwgImRhc2hBcnJheSI6IG51bGwsICJkYXNoT2Zmc2V0IjogbnVsbCwgImZpbGwiOiB0cnVlLCAiZmlsbENvbG9yIjogIiNmZmIzNjAiLCAiZmlsbE9wYWNpdHkiOiAwLjcsICJmaWxsUnVsZSI6ICJldmVub2RkIiwgImxpbmVDYXAiOiAicm91bmQiLCAibGluZUpvaW4iOiAicm91bmQiLCAib3BhY2l0eSI6IDEuMCwgInJhZGl1cyI6IDUsICJzdHJva2UiOiB0cnVlLCAid2VpZ2h0IjogM30KICAgICAgICAgICAgKS5hZGRUbyhtYXBfNTgxNTg1ZjQzZjg1NGVkZDk5MjY4ZDhlYTBhOWVjZDQpOwogICAgICAgIAogICAgCiAgICAgICAgdmFyIHBvcHVwX2UxMDk3MWZmNTk5ODQ3MTZhN2YxYTEzZDBmNmVmMGI3ID0gTC5wb3B1cCh7Im1heFdpZHRoIjogIjEwMCUifSk7CgogICAgICAgIAogICAgICAgICAgICB2YXIgaHRtbF81ZjhmZTVjNmE4MzM0MjlkYTk5NjMyNTgxOWI0Njk0ZiA9ICQoYDxkaXYgaWQ9Imh0bWxfNWY4ZmU1YzZhODMzNDI5ZGE5OTYzMjU4MTliNDY5NGYiIHN0eWxlPSJ3aWR0aDogMTAwLjAlOyBoZWlnaHQ6IDEwMC4wJTsiPkV0b2JpY29rZSBDbHVzdGVyIDQ8L2Rpdj5gKVswXTsKICAgICAgICAgICAgcG9wdXBfZTEwOTcxZmY1OTk4NDcxNmE3ZjFhMTNkMGY2ZWYwYjcuc2V0Q29udGVudChodG1sXzVmOGZlNWM2YTgzMzQyOWRhOTk2MzI1ODE5YjQ2OTRmKTsKICAgICAgICAKCiAgICAgICAgY2lyY2xlX21hcmtlcl9jNzQ4ZjY2N2VmZGE0YjFmODQ5MGRmMTA4ZmRmYjJiNy5iaW5kUG9wdXAocG9wdXBfZTEwOTcxZmY1OTk4NDcxNmE3ZjFhMTNkMGY2ZWYwYjcpCiAgICAgICAgOwoKICAgICAgICAKICAgIAogICAgCiAgICAgICAgICAgIHZhciBjaXJjbGVfbWFya2VyXzZhODA5NTljZWRlMzQ5NTU5MTdkZmY1YzVkMGJlZDY1ID0gTC5jaXJjbGVNYXJrZXIoCiAgICAgICAgICAgICAgICBbNDMuODM2MTI0NzAwMDAwMDA2LCAtNzkuMjA1NjM2MDk5OTk5OTldLAogICAgICAgICAgICAgICAgeyJidWJibGluZ01vdXNlRXZlbnRzIjogdHJ1ZSwgImNvbG9yIjogIiNmZjAwMDAiLCAiZGFzaEFycmF5IjogbnVsbCwgImRhc2hPZmZzZXQiOiBudWxsLCAiZmlsbCI6IHRydWUsICJmaWxsQ29sb3IiOiAiI2ZmMDAwMCIsICJmaWxsT3BhY2l0eSI6IDAuNywgImZpbGxSdWxlIjogImV2ZW5vZGQiLCAibGluZUNhcCI6ICJyb3VuZCIsICJsaW5lSm9pbiI6ICJyb3VuZCIsICJvcGFjaXR5IjogMS4wLCAicmFkaXVzIjogNSwgInN0cm9rZSI6IHRydWUsICJ3ZWlnaHQiOiAzfQogICAgICAgICAgICApLmFkZFRvKG1hcF81ODE1ODVmNDNmODU0ZWRkOTkyNjhkOGVhMGE5ZWNkNCk7CiAgICAgICAgCiAgICAKICAgICAgICB2YXIgcG9wdXBfYjkyNmZkOWQ5ZjhlNDk1ZWEzMDU2MTY5NDg2OGNjOTIgPSBMLnBvcHVwKHsibWF4V2lkdGgiOiAiMTAwJSJ9KTsKCiAgICAgICAgCiAgICAgICAgICAgIHZhciBodG1sXzAyZjU4NDk5NDA3NTRhOTRhOWNlNDU1OTUxM2NjMjg0ID0gJChgPGRpdiBpZD0iaHRtbF8wMmY1ODQ5OTQwNzU0YTk0YTljZTQ1NTk1MTNjYzI4NCIgc3R5bGU9IndpZHRoOiAxMDAuMCU7IGhlaWdodDogMTAwLjAlOyI+U2NhcmJvcm91Z2ggQ2x1c3RlciAwPC9kaXY+YClbMF07CiAgICAgICAgICAgIHBvcHVwX2I5MjZmZDlkOWY4ZTQ5NWVhMzA1NjE2OTQ4NjhjYzkyLnNldENvbnRlbnQoaHRtbF8wMmY1ODQ5OTQwNzU0YTk0YTljZTQ1NTk1MTNjYzI4NCk7CiAgICAgICAgCgogICAgICAgIGNpcmNsZV9tYXJrZXJfNmE4MDk1OWNlZGUzNDk1NTkxN2RmZjVjNWQwYmVkNjUuYmluZFBvcHVwKHBvcHVwX2I5MjZmZDlkOWY4ZTQ5NWVhMzA1NjE2OTQ4NjhjYzkyKQogICAgICAgIDsKCiAgICAgICAgCiAgICAKICAgIAogICAgICAgICAgICB2YXIgY2lyY2xlX21hcmtlcl9kYmEwOThjNzA0NTI0ODU3OTJmODBiZGQ4YmY4ZjkyMyA9IEwuY2lyY2xlTWFya2VyKAogICAgICAgICAgICAgICAgWzQzLjY2Nzk2NywgLTc5LjM2NzY3NTNdLAogICAgICAgICAgICAgICAgeyJidWJibGluZ01vdXNlRXZlbnRzIjogdHJ1ZSwgImNvbG9yIjogIiMwMGI1ZWIiLCAiZGFzaEFycmF5IjogbnVsbCwgImRhc2hPZmZzZXQiOiBudWxsLCAiZmlsbCI6IHRydWUsICJmaWxsQ29sb3IiOiAiIzAwYjVlYiIsICJmaWxsT3BhY2l0eSI6IDAuNywgImZpbGxSdWxlIjogImV2ZW5vZGQiLCAibGluZUNhcCI6ICJyb3VuZCIsICJsaW5lSm9pbiI6ICJyb3VuZCIsICJvcGFjaXR5IjogMS4wLCAicmFkaXVzIjogNSwgInN0cm9rZSI6IHRydWUsICJ3ZWlnaHQiOiAzfQogICAgICAgICAgICApLmFkZFRvKG1hcF81ODE1ODVmNDNmODU0ZWRkOTkyNjhkOGVhMGE5ZWNkNCk7CiAgICAgICAgCiAgICAKICAgICAgICB2YXIgcG9wdXBfNDMxMWQ5ZjMwNmVmNDRhZmExNjJlNDJhYWM0NzBlNGMgPSBMLnBvcHVwKHsibWF4V2lkdGgiOiAiMTAwJSJ9KTsKCiAgICAgICAgCiAgICAgICAgICAgIHZhciBodG1sXzk5MDAwOGM4Y2M0ZDRkOTZhZjdjYzA2NDMxYzc2MmUyID0gJChgPGRpdiBpZD0iaHRtbF85OTAwMDhjOGNjNGQ0ZDk2YWY3Y2MwNjQzMWM3NjJlMiIgc3R5bGU9IndpZHRoOiAxMDAuMCU7IGhlaWdodDogMTAwLjAlOyI+RG93bnRvd24gVG9yb250byBDbHVzdGVyIDI8L2Rpdj5gKVswXTsKICAgICAgICAgICAgcG9wdXBfNDMxMWQ5ZjMwNmVmNDRhZmExNjJlNDJhYWM0NzBlNGMuc2V0Q29udGVudChodG1sXzk5MDAwOGM4Y2M0ZDRkOTZhZjdjYzA2NDMxYzc2MmUyKTsKICAgICAgICAKCiAgICAgICAgY2lyY2xlX21hcmtlcl9kYmEwOThjNzA0NTI0ODU3OTJmODBiZGQ4YmY4ZjkyMy5iaW5kUG9wdXAocG9wdXBfNDMxMWQ5ZjMwNmVmNDRhZmExNjJlNDJhYWM0NzBlNGMpCiAgICAgICAgOwoKICAgICAgICAKICAgIAogICAgCiAgICAgICAgICAgIHZhciBjaXJjbGVfbWFya2VyXzdlYjg3NmMwZjNkYjRmMTc5N2FkOTg3YmJhNzQ1NTU3ID0gTC5jaXJjbGVNYXJrZXIoCiAgICAgICAgICAgICAgICBbNDMuNjQ4NDI5MiwgLTc5LjM4MjI4MDJdLAogICAgICAgICAgICAgICAgeyJidWJibGluZ01vdXNlRXZlbnRzIjogdHJ1ZSwgImNvbG9yIjogIiMwMGI1ZWIiLCAiZGFzaEFycmF5IjogbnVsbCwgImRhc2hPZmZzZXQiOiBudWxsLCAiZmlsbCI6IHRydWUsICJmaWxsQ29sb3IiOiAiIzAwYjVlYiIsICJmaWxsT3BhY2l0eSI6IDAuNywgImZpbGxSdWxlIjogImV2ZW5vZGQiLCAibGluZUNhcCI6ICJyb3VuZCIsICJsaW5lSm9pbiI6ICJyb3VuZCIsICJvcGFjaXR5IjogMS4wLCAicmFkaXVzIjogNSwgInN0cm9rZSI6IHRydWUsICJ3ZWlnaHQiOiAzfQogICAgICAgICAgICApLmFkZFRvKG1hcF81ODE1ODVmNDNmODU0ZWRkOTkyNjhkOGVhMGE5ZWNkNCk7CiAgICAgICAgCiAgICAKICAgICAgICB2YXIgcG9wdXBfYjA4YzNmYTg2YThmNGZmMzhjZWRhOGFjNzFlZDY4NjcgPSBMLnBvcHVwKHsibWF4V2lkdGgiOiAiMTAwJSJ9KTsKCiAgICAgICAgCiAgICAgICAgICAgIHZhciBodG1sXzNjOGNjZGZmOGFlMTQ0YzRhYmMzNDFlYzI3ZWQ2NTUzID0gJChgPGRpdiBpZD0iaHRtbF8zYzhjY2RmZjhhZTE0NGM0YWJjMzQxZWMyN2VkNjU1MyIgc3R5bGU9IndpZHRoOiAxMDAuMCU7IGhlaWdodDogMTAwLjAlOyI+RG93bnRvd24gVG9yb250byBDbHVzdGVyIDI8L2Rpdj5gKVswXTsKICAgICAgICAgICAgcG9wdXBfYjA4YzNmYTg2YThmNGZmMzhjZWRhOGFjNzFlZDY4Njcuc2V0Q29udGVudChodG1sXzNjOGNjZGZmOGFlMTQ0YzRhYmMzNDFlYzI3ZWQ2NTUzKTsKICAgICAgICAKCiAgICAgICAgY2lyY2xlX21hcmtlcl83ZWI4NzZjMGYzZGI0ZjE3OTdhZDk4N2JiYTc0NTU1Ny5iaW5kUG9wdXAocG9wdXBfYjA4YzNmYTg2YThmNGZmMzhjZWRhOGFjNzFlZDY4NjcpCiAgICAgICAgOwoKICAgICAgICAKICAgIAogICAgCiAgICAgICAgICAgIHZhciBjaXJjbGVfbWFya2VyXzVhYmQ4MmRmYTc3YTRlMzk4YjQ1Njc2MWM2NDhmNWY5ID0gTC5jaXJjbGVNYXJrZXIoCiAgICAgICAgICAgICAgICBbNDMuNjUzNjUzNjAwMDAwMDA1LCAtNzkuNTA2OTQzNl0sCiAgICAgICAgICAgICAgICB7ImJ1YmJsaW5nTW91c2VFdmVudHMiOiB0cnVlLCAiY29sb3IiOiAiI2ZmYjM2MCIsICJkYXNoQXJyYXkiOiBudWxsLCAiZGFzaE9mZnNldCI6IG51bGwsICJmaWxsIjogdHJ1ZSwgImZpbGxDb2xvciI6ICIjZmZiMzYwIiwgImZpbGxPcGFjaXR5IjogMC43LCAiZmlsbFJ1bGUiOiAiZXZlbm9kZCIsICJsaW5lQ2FwIjogInJvdW5kIiwgImxpbmVKb2luIjogInJvdW5kIiwgIm9wYWNpdHkiOiAxLjAsICJyYWRpdXMiOiA1LCAic3Ryb2tlIjogdHJ1ZSwgIndlaWdodCI6IDN9CiAgICAgICAgICAgICkuYWRkVG8obWFwXzU4MTU4NWY0M2Y4NTRlZGQ5OTI2OGQ4ZWEwYTllY2Q0KTsKICAgICAgICAKICAgIAogICAgICAgIHZhciBwb3B1cF9mYzYyNDEwMmM3NzM0NTc4YmNlODM5ZTUxMGRhOWUyNCA9IEwucG9wdXAoeyJtYXhXaWR0aCI6ICIxMDAlIn0pOwoKICAgICAgICAKICAgICAgICAgICAgdmFyIGh0bWxfYjEwODY5ZTRkNDg2NDcyYTk0ODI2YWVhZTczOTFmMWUgPSAkKGA8ZGl2IGlkPSJodG1sX2IxMDg2OWU0ZDQ4NjQ3MmE5NDgyNmFlYWU3MzkxZjFlIiBzdHlsZT0id2lkdGg6IDEwMC4wJTsgaGVpZ2h0OiAxMDAuMCU7Ij5FdG9iaWNva2UgQ2x1c3RlciA0PC9kaXY+YClbMF07CiAgICAgICAgICAgIHBvcHVwX2ZjNjI0MTAyYzc3MzQ1NzhiY2U4MzllNTEwZGE5ZTI0LnNldENvbnRlbnQoaHRtbF9iMTA4NjllNGQ0ODY0NzJhOTQ4MjZhZWFlNzM5MWYxZSk7CiAgICAgICAgCgogICAgICAgIGNpcmNsZV9tYXJrZXJfNWFiZDgyZGZhNzdhNGUzOThiNDU2NzYxYzY0OGY1ZjkuYmluZFBvcHVwKHBvcHVwX2ZjNjI0MTAyYzc3MzQ1NzhiY2U4MzllNTEwZGE5ZTI0KQogICAgICAgIDsKCiAgICAgICAgCiAgICAKICAgIAogICAgICAgICAgICB2YXIgY2lyY2xlX21hcmtlcl9iYTliOGE2ODk1Mjk0N2YxYWM4NzBmMmUxNzRkNzBlMyA9IEwuY2lyY2xlTWFya2VyKAogICAgICAgICAgICAgICAgWzQzLjY2NTg1OTksIC03OS4zODMxNTk5MDAwMDAwMV0sCiAgICAgICAgICAgICAgICB7ImJ1YmJsaW5nTW91c2VFdmVudHMiOiB0cnVlLCAiY29sb3IiOiAiIzAwYjVlYiIsICJkYXNoQXJyYXkiOiBudWxsLCAiZGFzaE9mZnNldCI6IG51bGwsICJmaWxsIjogdHJ1ZSwgImZpbGxDb2xvciI6ICIjMDBiNWViIiwgImZpbGxPcGFjaXR5IjogMC43LCAiZmlsbFJ1bGUiOiAiZXZlbm9kZCIsICJsaW5lQ2FwIjogInJvdW5kIiwgImxpbmVKb2luIjogInJvdW5kIiwgIm9wYWNpdHkiOiAxLjAsICJyYWRpdXMiOiA1LCAic3Ryb2tlIjogdHJ1ZSwgIndlaWdodCI6IDN9CiAgICAgICAgICAgICkuYWRkVG8obWFwXzU4MTU4NWY0M2Y4NTRlZGQ5OTI2OGQ4ZWEwYTllY2Q0KTsKICAgICAgICAKICAgIAogICAgICAgIHZhciBwb3B1cF9lZWMwMzZkNmNmNGQ0MDA4OTFiZDJkZmQ5NzBmMWZlNiA9IEwucG9wdXAoeyJtYXhXaWR0aCI6ICIxMDAlIn0pOwoKICAgICAgICAKICAgICAgICAgICAgdmFyIGh0bWxfNzgzNWU3NDc5YWExNDgyYzg5OWUxOWYwZWJjMzhkMDggPSAkKGA8ZGl2IGlkPSJodG1sXzc4MzVlNzQ3OWFhMTQ4MmM4OTllMTlmMGViYzM4ZDA4IiBzdHlsZT0id2lkdGg6IDEwMC4wJTsgaGVpZ2h0OiAxMDAuMCU7Ij5Eb3dudG93biBUb3JvbnRvIENsdXN0ZXIgMjwvZGl2PmApWzBdOwogICAgICAgICAgICBwb3B1cF9lZWMwMzZkNmNmNGQ0MDA4OTFiZDJkZmQ5NzBmMWZlNi5zZXRDb250ZW50KGh0bWxfNzgzNWU3NDc5YWExNDgyYzg5OWUxOWYwZWJjMzhkMDgpOwogICAgICAgIAoKICAgICAgICBjaXJjbGVfbWFya2VyX2JhOWI4YTY4OTUyOTQ3ZjFhYzg3MGYyZTE3NGQ3MGUzLmJpbmRQb3B1cChwb3B1cF9lZWMwMzZkNmNmNGQ0MDA4OTFiZDJkZmQ5NzBmMWZlNikKICAgICAgICA7CgogICAgICAgIAogICAgCiAgICAKICAgICAgICAgICAgdmFyIGNpcmNsZV9tYXJrZXJfMmE3NTJkNjdjZWM4NDFhNTgzYTE1YWFmYjkzNDU5MzUgPSBMLmNpcmNsZU1hcmtlcigKICAgICAgICAgICAgICAgIFs0My42NjI3NDM5LCAtNzkuMzIxNTU4XSwKICAgICAgICAgICAgICAgIHsiYnViYmxpbmdNb3VzZUV2ZW50cyI6IHRydWUsICJjb2xvciI6ICIjMDBiNWViIiwgImRhc2hBcnJheSI6IG51bGwsICJkYXNoT2Zmc2V0IjogbnVsbCwgImZpbGwiOiB0cnVlLCAiZmlsbENvbG9yIjogIiMwMGI1ZWIiLCAiZmlsbE9wYWNpdHkiOiAwLjcsICJmaWxsUnVsZSI6ICJldmVub2RkIiwgImxpbmVDYXAiOiAicm91bmQiLCAibGluZUpvaW4iOiAicm91bmQiLCAib3BhY2l0eSI6IDEuMCwgInJhZGl1cyI6IDUsICJzdHJva2UiOiB0cnVlLCAid2VpZ2h0IjogM30KICAgICAgICAgICAgKS5hZGRUbyhtYXBfNTgxNTg1ZjQzZjg1NGVkZDk5MjY4ZDhlYTBhOWVjZDQpOwogICAgICAgIAogICAgCiAgICAgICAgdmFyIHBvcHVwX2UyMjUxZjIzYWEyMzQzMGRhYjQwMGJiMDA0MWQzMGI4ID0gTC5wb3B1cCh7Im1heFdpZHRoIjogIjEwMCUifSk7CgogICAgICAgIAogICAgICAgICAgICB2YXIgaHRtbF8yNWMwMjNlZmU4NWE0MWViYWJlODJjN2QyY2U2ZmJhNyA9ICQoYDxkaXYgaWQ9Imh0bWxfMjVjMDIzZWZlODVhNDFlYmFiZTgyYzdkMmNlNmZiYTciIHN0eWxlPSJ3aWR0aDogMTAwLjAlOyBoZWlnaHQ6IDEwMC4wJTsiPkVhc3QgVG9yb250byBDbHVzdGVyIDI8L2Rpdj5gKVswXTsKICAgICAgICAgICAgcG9wdXBfZTIyNTFmMjNhYTIzNDMwZGFiNDAwYmIwMDQxZDMwYjguc2V0Q29udGVudChodG1sXzI1YzAyM2VmZTg1YTQxZWJhYmU4MmM3ZDJjZTZmYmE3KTsKICAgICAgICAKCiAgICAgICAgY2lyY2xlX21hcmtlcl8yYTc1MmQ2N2NlYzg0MWE1ODNhMTVhYWZiOTM0NTkzNS5iaW5kUG9wdXAocG9wdXBfZTIyNTFmMjNhYTIzNDMwZGFiNDAwYmIwMDQxZDMwYjgpCiAgICAgICAgOwoKICAgICAgICAKICAgIAogICAgCiAgICAgICAgICAgIHZhciBjaXJjbGVfbWFya2VyX2RjOTRhZGU0ZDQxOTRkZjdhOTE3ZTVkMTBhYjc3ZjVjID0gTC5jaXJjbGVNYXJrZXIoCiAgICAgICAgICAgICAgICBbNDMuNjM2MjU3OSwgLTc5LjQ5ODUwOTA5OTk5OTk5XSwKICAgICAgICAgICAgICAgIHsiYnViYmxpbmdNb3VzZUV2ZW50cyI6IHRydWUsICJjb2xvciI6ICIjZmZiMzYwIiwgImRhc2hBcnJheSI6IG51bGwsICJkYXNoT2Zmc2V0IjogbnVsbCwgImZpbGwiOiB0cnVlLCAiZmlsbENvbG9yIjogIiNmZmIzNjAiLCAiZmlsbE9wYWNpdHkiOiAwLjcsICJmaWxsUnVsZSI6ICJldmVub2RkIiwgImxpbmVDYXAiOiAicm91bmQiLCAibGluZUpvaW4iOiAicm91bmQiLCAib3BhY2l0eSI6IDEuMCwgInJhZGl1cyI6IDUsICJzdHJva2UiOiB0cnVlLCAid2VpZ2h0IjogM30KICAgICAgICAgICAgKS5hZGRUbyhtYXBfNTgxNTg1ZjQzZjg1NGVkZDk5MjY4ZDhlYTBhOWVjZDQpOwogICAgICAgIAogICAgCiAgICAgICAgdmFyIHBvcHVwX2MwZjQxMTAxOWViYzRiY2NiYjk2NzAxODRkZGVkYmQ2ID0gTC5wb3B1cCh7Im1heFdpZHRoIjogIjEwMCUifSk7CgogICAgICAgIAogICAgICAgICAgICB2YXIgaHRtbF83YTQzZGRiMTQ2NDY0MGVjOTllZmYwNmQ5NWJkZDM0MSA9ICQoYDxkaXYgaWQ9Imh0bWxfN2E0M2RkYjE0NjQ2NDBlYzk5ZWZmMDZkOTViZGQzNDEiIHN0eWxlPSJ3aWR0aDogMTAwLjAlOyBoZWlnaHQ6IDEwMC4wJTsiPkV0b2JpY29rZSBDbHVzdGVyIDQ8L2Rpdj5gKVswXTsKICAgICAgICAgICAgcG9wdXBfYzBmNDExMDE5ZWJjNGJjY2JiOTY3MDE4NGRkZWRiZDYuc2V0Q29udGVudChodG1sXzdhNDNkZGIxNDY0NjQwZWM5OWVmZjA2ZDk1YmRkMzQxKTsKICAgICAgICAKCiAgICAgICAgY2lyY2xlX21hcmtlcl9kYzk0YWRlNGQ0MTk0ZGY3YTkxN2U1ZDEwYWI3N2Y1Yy5iaW5kUG9wdXAocG9wdXBfYzBmNDExMDE5ZWJjNGJjY2JiOTY3MDE4NGRkZWRiZDYpCiAgICAgICAgOwoKICAgICAgICAKICAgIAogICAgCiAgICAgICAgICAgIHZhciBjaXJjbGVfbWFya2VyXzQ5MjZiYThiMzdhMjRhYjhhMDExODNjNGEyYjFkZDdiID0gTC5jaXJjbGVNYXJrZXIoCiAgICAgICAgICAgICAgICBbNDMuNjI4ODQwOCwgLTc5LjUyMDk5OTQwMDAwMDAxXSwKICAgICAgICAgICAgICAgIHsiYnViYmxpbmdNb3VzZUV2ZW50cyI6IHRydWUsICJjb2xvciI6ICIjZmZiMzYwIiwgImRhc2hBcnJheSI6IG51bGwsICJkYXNoT2Zmc2V0IjogbnVsbCwgImZpbGwiOiB0cnVlLCAiZmlsbENvbG9yIjogIiNmZmIzNjAiLCAiZmlsbE9wYWNpdHkiOiAwLjcsICJmaWxsUnVsZSI6ICJldmVub2RkIiwgImxpbmVDYXAiOiAicm91bmQiLCAibGluZUpvaW4iOiAicm91bmQiLCAib3BhY2l0eSI6IDEuMCwgInJhZGl1cyI6IDUsICJzdHJva2UiOiB0cnVlLCAid2VpZ2h0IjogM30KICAgICAgICAgICAgKS5hZGRUbyhtYXBfNTgxNTg1ZjQzZjg1NGVkZDk5MjY4ZDhlYTBhOWVjZDQpOwogICAgICAgIAogICAgCiAgICAgICAgdmFyIHBvcHVwXzc4ODNiZDRlNzFkMDRhODQ4MjY3NDE4MDE0NDczNTlhID0gTC5wb3B1cCh7Im1heFdpZHRoIjogIjEwMCUifSk7CgogICAgICAgIAogICAgICAgICAgICB2YXIgaHRtbF9hNjdkNzUyOGI3Nzg0MTVhYTE3OWI4NTAxNTY0ODdkYyA9ICQoYDxkaXYgaWQ9Imh0bWxfYTY3ZDc1MjhiNzc4NDE1YWExNzliODUwMTU2NDg3ZGMiIHN0eWxlPSJ3aWR0aDogMTAwLjAlOyBoZWlnaHQ6IDEwMC4wJTsiPkV0b2JpY29rZSBDbHVzdGVyIDQ8L2Rpdj5gKVswXTsKICAgICAgICAgICAgcG9wdXBfNzg4M2JkNGU3MWQwNGE4NDgyNjc0MTgwMTQ0NzM1OWEuc2V0Q29udGVudChodG1sX2E2N2Q3NTI4Yjc3ODQxNWFhMTc5Yjg1MDE1NjQ4N2RjKTsKICAgICAgICAKCiAgICAgICAgY2lyY2xlX21hcmtlcl80OTI2YmE4YjM3YTI0YWI4YTAxMTgzYzRhMmIxZGQ3Yi5iaW5kUG9wdXAocG9wdXBfNzg4M2JkNGU3MWQwNGE4NDgyNjc0MTgwMTQ0NzM1OWEpCiAgICAgICAgOwoKICAgICAgICAKICAgIAo8L3NjcmlwdD4= onload=\"this.contentDocument.open();this.contentDocument.write(atob(this.getAttribute('data-html')));this.contentDocument.close();\" allowfullscreen webkitallowfullscreen mozallowfullscreen></iframe></div></div>"
      ],
      "text/plain": [
       "<folium.folium.Map at 0x1d262fc5ac0>"
      ]
     },
     "execution_count": 74,
     "metadata": {},
     "output_type": "execute_result"
    }
   ],
   "source": [
    "# create map\n",
    "map_clusters = folium.Map(location=[toronto_coords[0], toronto_coords[1]], zoom_start=11)\n",
    "\n",
    "# set color scheme for the clusters\n",
    "x = np.arange(kclusters)\n",
    "ys = [i + x + (i*x)**2 for i in range(kclusters)]\n",
    "colors_array = cm.rainbow(np.linspace(0, 1, len(ys)))\n",
    "rainbow = [colors.rgb2hex(i) for i in colors_array]\n",
    "\n",
    "# add markers to the map\n",
    "markers_colors = []\n",
    "for lat, lon, poi, cluster in zip(neighborhoods_merged['Latitude'], neighborhoods_merged['Longitude'], neighborhoods_merged['Borough'], neighborhoods_merged['Cluster Labels']):\n",
    "    if np.isnan(cluster):\n",
    "        cluster = 5\n",
    "    else:\n",
    "        cluster = int(cluster)\n",
    "\n",
    "    label = folium.Popup(str(poi) + ' Cluster ' + str(cluster), parse_html=True)\n",
    "    folium.CircleMarker(\n",
    "        [lat, lon],\n",
    "        radius=5,\n",
    "        popup=label,\n",
    "        color=rainbow[cluster-1],\n",
    "        fill=True,\n",
    "        fill_color=rainbow[cluster-1],\n",
    "        fill_opacity=0.7).add_to(map_clusters)\n",
    "       \n",
    "map_clusters"
   ]
  },
  {
   "cell_type": "markdown",
   "metadata": {},
   "source": [
    "End of part 3"
   ]
  },
  {
   "cell_type": "code",
   "execution_count": null,
   "metadata": {},
   "outputs": [],
   "source": []
  }
 ],
 "metadata": {
  "kernelspec": {
   "display_name": "Python 3",
   "language": "python",
   "name": "python3"
  },
  "language_info": {
   "codemirror_mode": {
    "name": "ipython",
    "version": 3
   },
   "file_extension": ".py",
   "mimetype": "text/x-python",
   "name": "python",
   "nbconvert_exporter": "python",
   "pygments_lexer": "ipython3",
   "version": "3.8.5"
  }
 },
 "nbformat": 4,
 "nbformat_minor": 4
}
