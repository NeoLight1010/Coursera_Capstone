{
 "cells": [
  {
   "cell_type": "markdown",
   "metadata": {},
   "source": [
    "# Predicting attractive cities for tourism"
   ]
  },
  {
   "cell_type": "markdown",
   "metadata": {},
   "source": [
    "## Introduction/Business Problem"
   ]
  },
  {
   "cell_type": "markdown",
   "metadata": {},
   "source": [
    "Tourism is an important economic income for cities. Some cities are attractive because of their beaches, their building, their history and much more. But there are also some cities which wouldn't be nice to go for a vacation. In this project I will analyze the **possibility of predicting how attractive a given city could be and try to build a machine learning model that can do it**. This could help people know which city to visit for their next vacation and governments know how to make their cities more attractive."
   ]
  },
  {
   "cell_type": "markdown",
   "metadata": {},
   "source": [
    "## Data"
   ]
  },
  {
   "cell_type": "markdown",
   "metadata": {},
   "source": [
    "The data used for this project will be obtained from Foursquare using the [Foursquare API](https://developer.foursquare.com/docs/places-api/). As many categories of data are too specific and many of them are unique in their country, I used the most general categories in the [Foursquare Venue Category Tree](https://developer.foursquare.com/docs/build-with-foursquare/categories/).\n",
    "\n",
    "In addition, the cities categorized as \"good tourist cities\" will be chosen based on articles on the internet like [this one](https://en.wikipedia.org/wiki/List_of_cities_by_international_visitors). Venues data obtained from these cities will be fed into the machine learning algorithm to create the model."
   ]
  },
  {
   "cell_type": "markdown",
   "metadata": {},
   "source": [
    "## Methodology"
   ]
  },
  {
   "cell_type": "markdown",
   "metadata": {},
   "source": [
    "There are many types of tourist destinations, as shown in [this article](https://tourismteacher.com/types-of-tourist-destinations/), and some of them could be treated as a single venue by the Foursquare API which would not be good for our model. That's the reason this project is aimed at predicting good **towns and cities**, considering these tend to have a variety of venues we can work with.\n",
    "\n",
    "So now, the first step will be choosing the cities I will be getting the data from. Let's start!"
   ]
  },
  {
   "cell_type": "markdown",
   "metadata": {},
   "source": [
    "### Choosing good tourist cities"
   ]
  },
  {
   "cell_type": "markdown",
   "metadata": {},
   "source": [
    "A good start for choosing our cities is looking for the most popular destinations in the world. According to [this Wikipedia article](https://en.wikipedia.org/wiki/List_of_cities_by_international_visitors) (on 12/14/2020), the 10 most visited cities are:"
   ]
  },
  {
   "cell_type": "markdown",
   "metadata": {},
   "source": [
    "- Hong Kong, China\n",
    "- Bangkok, Thailand\n",
    "- London, United Kingdom\n",
    "- Macau, China\n",
    "- Singapore, Singapore\n",
    "- Paris, France\n",
    "- Dubai, United Arab Emirates\n",
    "- New York City, United States\n",
    "- Kuala Lumpur, Malaysia\n",
    "- Istanbul, Turkey"
   ]
  },
  {
   "cell_type": "markdown",
   "metadata": {},
   "source": [
    "It would be useful to visualize these cities in a world map. But first, we need the coordinates of each one. For this purpose I will parse data from Wikipedia using BeatifulSoup."
   ]
  },
  {
   "cell_type": "code",
   "execution_count": 1,
   "metadata": {},
   "outputs": [],
   "source": [
    "import requests\n",
    "import pandas as pd\n",
    "import folium\n",
    "import re\n",
    "import json"
   ]
  },
  {
   "cell_type": "code",
   "execution_count": 2,
   "metadata": {},
   "outputs": [],
   "source": [
    "def to_url_format(phrase):\n",
    "    phrase = phrase.strip()\n",
    "    phrase_words = phrase.split(\" \")\n",
    "\n",
    "    for word in phrase_words:\n",
    "        word = word.capitalize()\n",
    "    return \"_\".join(phrase_words)\n",
    "\n",
    "def find_city_coords(city, country):\n",
    "    city_formatted = to_url_format(city)\n",
    "    \n",
    "    base_url = \"https://nominatim.openstreetmap.org/search?format=json&\"\n",
    "    city_query = f\"city={city}\"\n",
    "    country_query = f\"country={country}\"\n",
    "    \n",
    "    url = base_url + city_query + \"&\" + country_query\n",
    "    \n",
    "    request = requests.get(url)\n",
    "    \n",
    "    if request.status_code == 200:\n",
    "        response_json = json.loads(request.text)\n",
    "        try:\n",
    "            response_json = response_json[0]\n",
    "        except:\n",
    "            return (None, None)\n",
    "        \n",
    "        latitude = response_json[\"lat\"]\n",
    "        longitude = response_json[\"lon\"]\n",
    "        \n",
    "        return (float(latitude), float(longitude))\n",
    "    \n",
    "    return (None, None)"
   ]
  },
  {
   "cell_type": "code",
   "execution_count": 3,
   "metadata": {},
   "outputs": [],
   "source": [
    "# This list will later become a Dataframe containing data of the cities.\n",
    "cities = [\n",
    "    [\"Hong Kong\", \"China\"],\n",
    "    [\"Bangkok\", \"Thailand\"],\n",
    "    [\"London\", \"United Kingdom\"],\n",
    "    [\"Macau\", \"China\"],\n",
    "    [\"Singapore\", \"Singapore\"],\n",
    "    [\"Paris\", \"France\"],\n",
    "    [\"Dubai\", \"United Arab Emirates\"],\n",
    "    [\"New York City\", \"United States\"],\n",
    "    [\"Kuala Lumpur\", \"Malaysia\"],\n",
    "    [\"Istanbul\", \"Turkey\"]\n",
    "]"
   ]
  },
  {
   "cell_type": "code",
   "execution_count": 4,
   "metadata": {},
   "outputs": [],
   "source": [
    "for row in cities:\n",
    "    row.append(find_city_coords(row[0], row[1])[0]) # Append latitude.\n",
    "    row.append(find_city_coords(row[0], row[1])[1]) # Append longitude."
   ]
  },
  {
   "cell_type": "code",
   "execution_count": 5,
   "metadata": {},
   "outputs": [
    {
     "data": {
      "text/html": [
       "<div>\n",
       "<style scoped>\n",
       "    .dataframe tbody tr th:only-of-type {\n",
       "        vertical-align: middle;\n",
       "    }\n",
       "\n",
       "    .dataframe tbody tr th {\n",
       "        vertical-align: top;\n",
       "    }\n",
       "\n",
       "    .dataframe thead th {\n",
       "        text-align: right;\n",
       "    }\n",
       "</style>\n",
       "<table border=\"1\" class=\"dataframe\">\n",
       "  <thead>\n",
       "    <tr style=\"text-align: right;\">\n",
       "      <th></th>\n",
       "      <th>City</th>\n",
       "      <th>Country</th>\n",
       "      <th>Latitude</th>\n",
       "      <th>Longitude</th>\n",
       "    </tr>\n",
       "  </thead>\n",
       "  <tbody>\n",
       "    <tr>\n",
       "      <th>0</th>\n",
       "      <td>Hong Kong</td>\n",
       "      <td>China</td>\n",
       "      <td>22.279328</td>\n",
       "      <td>114.162813</td>\n",
       "    </tr>\n",
       "    <tr>\n",
       "      <th>1</th>\n",
       "      <td>Bangkok</td>\n",
       "      <td>Thailand</td>\n",
       "      <td>13.754424</td>\n",
       "      <td>100.493040</td>\n",
       "    </tr>\n",
       "    <tr>\n",
       "      <th>2</th>\n",
       "      <td>London</td>\n",
       "      <td>United Kingdom</td>\n",
       "      <td>51.507322</td>\n",
       "      <td>-0.127647</td>\n",
       "    </tr>\n",
       "    <tr>\n",
       "      <th>3</th>\n",
       "      <td>Macau</td>\n",
       "      <td>China</td>\n",
       "      <td>22.189945</td>\n",
       "      <td>113.538045</td>\n",
       "    </tr>\n",
       "    <tr>\n",
       "      <th>4</th>\n",
       "      <td>Singapore</td>\n",
       "      <td>Singapore</td>\n",
       "      <td>1.290475</td>\n",
       "      <td>103.852036</td>\n",
       "    </tr>\n",
       "  </tbody>\n",
       "</table>\n",
       "</div>"
      ],
      "text/plain": [
       "        City         Country   Latitude   Longitude\n",
       "0  Hong Kong           China  22.279328  114.162813\n",
       "1    Bangkok        Thailand  13.754424  100.493040\n",
       "2     London  United Kingdom  51.507322   -0.127647\n",
       "3      Macau           China  22.189945  113.538045\n",
       "4  Singapore       Singapore   1.290475  103.852036"
      ]
     },
     "execution_count": 5,
     "metadata": {},
     "output_type": "execute_result"
    }
   ],
   "source": [
    "cities = pd.DataFrame(cities, columns=['City', 'Country', 'Latitude', 'Longitude'])\n",
    "cities.head()"
   ]
  },
  {
   "cell_type": "code",
   "execution_count": 6,
   "metadata": {},
   "outputs": [
    {
     "data": {
      "text/html": [
       "<div style=\"width:100%;\"><div style=\"position:relative;width:100%;height:0;padding-bottom:60%;\"><span style=\"color:#565656\">Make this Notebook Trusted to load map: File -> Trust Notebook</span><iframe src=\"about:blank\" style=\"position:absolute;width:100%;height:100%;left:0;top:0;border:none !important;\" data-html=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 onload=\"this.contentDocument.open();this.contentDocument.write(atob(this.getAttribute('data-html')));this.contentDocument.close();\" allowfullscreen webkitallowfullscreen mozallowfullscreen></iframe></div></div>"
      ],
      "text/plain": [
       "<folium.folium.Map at 0x20d9b0dfdc0>"
      ]
     },
     "execution_count": 6,
     "metadata": {},
     "output_type": "execute_result"
    }
   ],
   "source": [
    "world_map = folium.Map(location=[0, 0], zoom_start=1.5)\n",
    "\n",
    "for row in cities.iterrows():\n",
    "    row = row[1]\n",
    "    marker = folium.Marker([row.Latitude, row.Longitude], popup=row.City, icon=folium.Icon(color='blue'))\n",
    "    marker.add_to(world_map)\n",
    "\n",
    "world_map"
   ]
  },
  {
   "cell_type": "markdown",
   "metadata": {},
   "source": [
    "As we can see, most of the cities in our list are in Asia and Europe. But there are also nice tourist cities in North and South America, Africa, Russia and Australia. Let's fix that adding some more cities to our list:"
   ]
  },
  {
   "cell_type": "markdown",
   "metadata": {},
   "source": [
    "- **[Latin America](https://destinationlesstravel.com/best-latin-american-cities/)**\n",
    "    - Havana, Cuba\n",
    "    - Medellin, Colombia\n",
    "    - Rio de Janeiro, Brazil\n",
    "- **[North America](https://bigseventravel.com/2019/08/the-10-most-visited-cities-in-north-america/)**\n",
    "    - Miami, USA\n",
    "    - Los Angeles, USA\n",
    "    - Toronto, Canada\n",
    "    - Vancouver, Canada\n",
    "- **[Africa](https://www.africatouroperators.org/africa/25-most-beautiful-cities-and-towns-in-africa)**\n",
    "    - Cape Town, South Africa\n",
    "    - Zanzibar City, Tanzania\n",
    "    - Lamu, Kenya\n",
    "    - Essaouira, Morocco\n",
    "- **[Russia](https://www.touropia.com/best-cities-to-visit-in-russia/)**\n",
    "    - Moscow, Russia\n",
    "    - St Petersburg, Russia\n",
    "    - Kazan, Russia\n",
    "    - Yekaterinburg, Russia\n",
    "- **[Australia](https://www.thrillist.com/travel/nation/australias-10-best-cities-ranked-by-an-impartial-american)**\n",
    "    - Perth, Australia\n",
    "    - Margaret River, Australia\n",
    "    - Melbourne, Australia\n",
    "    - Port Douglas, Australia"
   ]
  },
  {
   "cell_type": "markdown",
   "metadata": {},
   "source": [
    "Perfect, let's add these cities to our database."
   ]
  },
  {
   "cell_type": "code",
   "execution_count": 7,
   "metadata": {},
   "outputs": [],
   "source": [
    "new_cities = [\n",
    "    [\"Havana\", \"Cuba\"],\n",
    "    [\"Medellin\", \"Colombia\"],\n",
    "    [\"Rio de Janeiro\", \"Brazil\"],\n",
    "    [\"Miami\", \"United States\"],\n",
    "    [\"Los Angeles\", \"United States\"],\n",
    "    [\"Toronto\", \"Canada\"],\n",
    "    [\"Vancouver\", \"Canada\"],\n",
    "    [\"Cape Town\", \"South Africa\"],\n",
    "    [\"Zanzibar City\", \"Tanzania\"],\n",
    "    [\"Lamu\", \"Kenya\"],\n",
    "    [\"Essaouira\", \"Morocco\"],\n",
    "    [\"Moscow\", \"Russia\"],\n",
    "    [\"St Petersburg\", \"Russia\"],\n",
    "    [\"Kazan\", \"Russia\"],\n",
    "    [\"Yekaterinburg\", \"Russia\"],\n",
    "    [\"Perth\", \"Australia\"],\n",
    "    [\"Margaret River\", \"Australia\"],\n",
    "    [\"Melbourne\", \"Australia\"],\n",
    "    [\"Port Douglas\", \"Australia\"]\n",
    "]"
   ]
  },
  {
   "cell_type": "code",
   "execution_count": 8,
   "metadata": {},
   "outputs": [],
   "source": [
    "for row in new_cities:\n",
    "    row.append(find_city_coords(row[0], row[1])[0]) # Append latitude.\n",
    "    row.append(find_city_coords(row[0], row[1])[1]) # Append longitude."
   ]
  },
  {
   "cell_type": "code",
   "execution_count": 9,
   "metadata": {},
   "outputs": [],
   "source": [
    "cities = cities.append(pd.DataFrame(new_cities, columns=cities.columns), ignore_index=True)"
   ]
  },
  {
   "cell_type": "code",
   "execution_count": 10,
   "metadata": {},
   "outputs": [
    {
     "data": {
      "text/html": [
       "<div style=\"width:100%;\"><div style=\"position:relative;width:100%;height:0;padding-bottom:60%;\"><span style=\"color:#565656\">Make this Notebook Trusted to load map: File -> Trust Notebook</span><iframe src=\"about:blank\" style=\"position:absolute;width:100%;height:100%;left:0;top:0;border:none !important;\" data-html=PCFET0NUWVBFIGh0bWw+CjxoZWFkPiAgICAKICAgIDxtZXRhIGh0dHAtZXF1aXY9ImNvbnRlbnQtdHlwZSIgY29udGVudD0idGV4dC9odG1sOyBjaGFyc2V0PVVURi04IiAvPgogICAgCiAgICAgICAgPHNjcmlwdD4KICAgICAgICAgICAgTF9OT19UT1VDSCA9IGZhbHNlOwogICAgICAgICAgICBMX0RJU0FCTEVfM0QgPSBmYWxzZTsKICAgICAgICA8L3NjcmlwdD4KICAgIAogICAgPHNjcmlwdCBzcmM9Imh0dHBzOi8vY2RuLmpzZGVsaXZyLm5ldC9ucG0vbGVhZmxldEAxLjYuMC9kaXN0L2xlYWZsZXQuanMiPjwvc2NyaXB0PgogICAgPHNjcmlwdCBzcmM9Imh0dHBzOi8vY29kZS5qcXVlcnkuY29tL2pxdWVyeS0xLjEyLjQubWluLmpzIj48L3NjcmlwdD4KICAgIDxzY3JpcHQgc3JjPSJodHRwczovL21heGNkbi5ib290c3RyYXBjZG4uY29tL2Jvb3RzdHJhcC8zLjIuMC9qcy9ib290c3RyYXAubWluLmpzIj48L3NjcmlwdD4KICAgIDxzY3JpcHQgc3JjPSJodHRwczovL2NkbmpzLmNsb3VkZmxhcmUuY29tL2FqYXgvbGlicy9MZWFmbGV0LmF3ZXNvbWUtbWFya2Vycy8yLjAuMi9sZWFmbGV0LmF3ZXNvbWUtbWFya2Vycy5qcyI+PC9zY3JpcHQ+CiAgICA8bGluayByZWw9InN0eWxlc2hlZXQiIGhyZWY9Imh0dHBzOi8vY2RuLmpzZGVsaXZyLm5ldC9ucG0vbGVhZmxldEAxLjYuMC9kaXN0L2xlYWZsZXQuY3NzIi8+CiAgICA8bGluayByZWw9InN0eWxlc2hlZXQiIGhyZWY9Imh0dHBzOi8vbWF4Y2RuLmJvb3RzdHJhcGNkbi5jb20vYm9vdHN0cmFwLzMuMi4wL2Nzcy9ib290c3RyYXAubWluLmNzcyIvPgogICAgPGxpbmsgcmVsPSJzdHlsZXNoZWV0IiBocmVmPSJodHRwczovL21heGNkbi5ib290c3RyYXBjZG4uY29tL2Jvb3RzdHJhcC8zLjIuMC9jc3MvYm9vdHN0cmFwLXRoZW1lLm1pbi5jc3MiLz4KICAgIDxsaW5rIHJlbD0ic3R5bGVzaGVldCIgaHJlZj0iaHR0cHM6Ly9tYXhjZG4uYm9vdHN0cmFwY2RuLmNvbS9mb250LWF3ZXNvbWUvNC42LjMvY3NzL2ZvbnQtYXdlc29tZS5taW4uY3NzIi8+CiAgICA8bGluayByZWw9InN0eWxlc2hlZXQiIGhyZWY9Imh0dHBzOi8vY2RuanMuY2xvdWRmbGFyZS5jb20vYWpheC9saWJzL0xlYWZsZXQuYXdlc29tZS1tYXJrZXJzLzIuMC4yL2xlYWZsZXQuYXdlc29tZS1tYXJrZXJzLmNzcyIvPgogICAgPGxpbmsgcmVsPSJzdHlsZXNoZWV0IiBocmVmPSJodHRwczovL3Jhd2Nkbi5naXRoYWNrLmNvbS9weXRob24tdmlzdWFsaXphdGlvbi9mb2xpdW0vbWFzdGVyL2ZvbGl1bS90ZW1wbGF0ZXMvbGVhZmxldC5hd2Vzb21lLnJvdGF0ZS5jc3MiLz4KICAgIDxzdHlsZT5odG1sLCBib2R5IHt3aWR0aDogMTAwJTtoZWlnaHQ6IDEwMCU7bWFyZ2luOiAwO3BhZGRpbmc6IDA7fTwvc3R5bGU+CiAgICA8c3R5bGU+I21hcCB7cG9zaXRpb246YWJzb2x1dGU7dG9wOjA7Ym90dG9tOjA7cmlnaHQ6MDtsZWZ0OjA7fTwvc3R5bGU+CiAgICAKICAgICAgICAgICAgPG1ldGEgbmFtZT0idmlld3BvcnQiIGNvbnRlbnQ9IndpZHRoPWRldmljZS13aWR0aCwKICAgICAgICAgICAgICAgIGluaXRpYWwtc2NhbGU9MS4wLCBtYXhpbXVtLXNjYWxlPTEuMCwgdXNlci1zY2FsYWJsZT1ubyIgLz4KICAgICAgICAgICAgPHN0eWxlPgogICAgICAgICAgICAgICAgI21hcF9lYzQwNDFhZTFkNjM0MzFiYjU3NmU1YmM5MWRiNmEzYSB7CiAgICAgICAgICAgICAgICAgICAgcG9zaXRpb246IHJlbGF0aXZlOwogICAgICAgICAgICAgICAgICAgIHdpZHRoOiAxMDAuMCU7CiAgICAgICAgICAgICAgICAgICAgaGVpZ2h0OiAxMDAuMCU7CiAgICAgICAgICAgICAgICAgICAgbGVmdDogMC4wJTsKICAgICAgICAgICAgICAgICAgICB0b3A6IDAuMCU7CiAgICAgICAgICAgICAgICB9CiAgICAgICAgICAgIDwvc3R5bGU+CiAgICAgICAgCjwvaGVhZD4KPGJvZHk+ICAgIAogICAgCiAgICAgICAgICAgIDxkaXYgY2xhc3M9ImZvbGl1bS1tYXAiIGlkPSJtYXBfZWM0MDQxYWUxZDYzNDMxYmI1NzZlNWJjOTFkYjZhM2EiID48L2Rpdj4KICAgICAgICAKPC9ib2R5Pgo8c2NyaXB0PiAgICAKICAgIAogICAgICAgICAgICB2YXIgbWFwX2VjNDA0MWFlMWQ2MzQzMWJiNTc2ZTViYzkxZGI2YTNhID0gTC5tYXAoCiAgICAgICAgICAgICAgICAibWFwX2VjNDA0MWFlMWQ2MzQzMWJiNTc2ZTViYzkxZGI2YTNhIiwKICAgICAgICAgICAgICAgIHsKICAgICAgICAgICAgICAgICAgICBjZW50ZXI6IFswLjAsIDAuMF0sCiAgICAgICAgICAgICAgICAgICAgY3JzOiBMLkNSUy5FUFNHMzg1NywKICAgICAgICAgICAgICAgICAgICB6b29tOiAxLjUsCiAgICAgICAgICAgICAgICAgICAgem9vbUNvbnRyb2w6IHRydWUsCiAgICAgICAgICAgICAgICAgICAgcHJlZmVyQ2FudmFzOiBmYWxzZSwKICAgICAgICAgICAgICAgIH0KICAgICAgICAgICAgKTsKCiAgICAgICAgICAgIAoKICAgICAgICAKICAgIAogICAgICAgICAgICB2YXIgdGlsZV9sYXllcl84ZTAwZDBkMmU1OWY0YzNhODE0MDFiODhmN2EyMTk5YyA9IEwudGlsZUxheWVyKAogICAgICAgICAgICAgICAgImh0dHBzOi8ve3N9LnRpbGUub3BlbnN0cmVldG1hcC5vcmcve3p9L3t4fS97eX0ucG5nIiwKICAgICAgICAgICAgICAgIHsiYXR0cmlidXRpb24iOiAiRGF0YSBieSBcdTAwMjZjb3B5OyBcdTAwM2NhIGhyZWY9XCJodHRwOi8vb3BlbnN0cmVldG1hcC5vcmdcIlx1MDAzZU9wZW5TdHJlZXRNYXBcdTAwM2MvYVx1MDAzZSwgdW5kZXIgXHUwMDNjYSBocmVmPVwiaHR0cDovL3d3dy5vcGVuc3RyZWV0bWFwLm9yZy9jb3B5cmlnaHRcIlx1MDAzZU9EYkxcdTAwM2MvYVx1MDAzZS4iLCAiZGV0ZWN0UmV0aW5hIjogZmFsc2UsICJtYXhOYXRpdmVab29tIjogMTgsICJtYXhab29tIjogMTgsICJtaW5ab29tIjogMCwgIm5vV3JhcCI6IGZhbHNlLCAib3BhY2l0eSI6IDEsICJzdWJkb21haW5zIjogImFiYyIsICJ0bXMiOiBmYWxzZX0KICAgICAgICAgICAgKS5hZGRUbyhtYXBfZWM0MDQxYWUxZDYzNDMxYmI1NzZlNWJjOTFkYjZhM2EpOwogICAgICAgIAogICAgCiAgICAgICAgICAgIHZhciBtYXJrZXJfZTMzNjlhYmRkYjRmNDdlNWE2ZGQ0MzNiYmMzYTgwZTggPSBMLm1hcmtlcigKICAgICAgICAgICAgICAgIFsyMi4yNzkzMjc4LCAxMTQuMTYyODEzMV0sCiAgICAgICAgICAgICAgICB7fQogICAgICAgICAgICApLmFkZFRvKG1hcF9lYzQwNDFhZTFkNjM0MzFiYjU3NmU1YmM5MWRiNmEzYSk7CiAgICAgICAgCiAgICAKICAgICAgICAgICAgdmFyIGljb25fMTE2NDE5MjEwNTE0NGE0ZDg2MTFmMjY4ODI5ZmI3MGQgPSBMLkF3ZXNvbWVNYXJrZXJzLmljb24oCiAgICAgICAgICAgICAgICB7ImV4dHJhQ2xhc3NlcyI6ICJmYS1yb3RhdGUtMCIsICJpY29uIjogImluZm8tc2lnbiIsICJpY29uQ29sb3IiOiAid2hpdGUiLCAibWFya2VyQ29sb3IiOiAiYmx1ZSIsICJwcmVmaXgiOiAiZ2x5cGhpY29uIn0KICAgICAgICAgICAgKTsKICAgICAgICAgICAgbWFya2VyX2UzMzY5YWJkZGI0ZjQ3ZTVhNmRkNDMzYmJjM2E4MGU4LnNldEljb24oaWNvbl8xMTY0MTkyMTA1MTQ0YTRkODYxMWYyNjg4MjlmYjcwZCk7CiAgICAgICAgCiAgICAKICAgICAgICB2YXIgcG9wdXBfNTFjZjEwNDk1ZDk3NDNhNWExMjI5ZjcwZjcyNjA0ZmMgPSBMLnBvcHVwKHsibWF4V2lkdGgiOiAiMTAwJSJ9KTsKCiAgICAgICAgCiAgICAgICAgICAgIHZhciBodG1sXzRkNDQwY2UwZDYxNDQwMjFiYTgwODMyZjE2MzA5NDRmID0gJChgPGRpdiBpZD0iaHRtbF80ZDQ0MGNlMGQ2MTQ0MDIxYmE4MDgzMmYxNjMwOTQ0ZiIgc3R5bGU9IndpZHRoOiAxMDAuMCU7IGhlaWdodDogMTAwLjAlOyI+SG9uZyBLb25nPC9kaXY+YClbMF07CiAgICAgICAgICAgIHBvcHVwXzUxY2YxMDQ5NWQ5NzQzYTVhMTIyOWY3MGY3MjYwNGZjLnNldENvbnRlbnQoaHRtbF80ZDQ0MGNlMGQ2MTQ0MDIxYmE4MDgzMmYxNjMwOTQ0Zik7CiAgICAgICAgCgogICAgICAgIG1hcmtlcl9lMzM2OWFiZGRiNGY0N2U1YTZkZDQzM2JiYzNhODBlOC5iaW5kUG9wdXAocG9wdXBfNTFjZjEwNDk1ZDk3NDNhNWExMjI5ZjcwZjcyNjA0ZmMpCiAgICAgICAgOwoKICAgICAgICAKICAgIAogICAgCiAgICAgICAgICAgIHZhciBtYXJrZXJfNWRiMDVkMTQ2MDE1NDNmMjk2ODA4NWNmZGUxZGQzMjggPSBMLm1hcmtlcigKICAgICAgICAgICAgICAgIFsxMy43NTQ0MjM4LCAxMDAuNDkzMDM5OV0sCiAgICAgICAgICAgICAgICB7fQogICAgICAgICAgICApLmFkZFRvKG1hcF9lYzQwNDFhZTFkNjM0MzFiYjU3NmU1YmM5MWRiNmEzYSk7CiAgICAgICAgCiAgICAKICAgICAgICAgICAgdmFyIGljb25fNTE3MmQ0NDExYjRmNDRkYWE3OWJiZGQyNzFjMzNiZmUgPSBMLkF3ZXNvbWVNYXJrZXJzLmljb24oCiAgICAgICAgICAgICAgICB7ImV4dHJhQ2xhc3NlcyI6ICJmYS1yb3RhdGUtMCIsICJpY29uIjogImluZm8tc2lnbiIsICJpY29uQ29sb3IiOiAid2hpdGUiLCAibWFya2VyQ29sb3IiOiAiYmx1ZSIsICJwcmVmaXgiOiAiZ2x5cGhpY29uIn0KICAgICAgICAgICAgKTsKICAgICAgICAgICAgbWFya2VyXzVkYjA1ZDE0NjAxNTQzZjI5NjgwODVjZmRlMWRkMzI4LnNldEljb24oaWNvbl81MTcyZDQ0MTFiNGY0NGRhYTc5YmJkZDI3MWMzM2JmZSk7CiAgICAgICAgCiAgICAKICAgICAgICB2YXIgcG9wdXBfYjc0ZmQyNDk4YTk0NGU0MThkN2I5MzRkYzM4NGUxODQgPSBMLnBvcHVwKHsibWF4V2lkdGgiOiAiMTAwJSJ9KTsKCiAgICAgICAgCiAgICAgICAgICAgIHZhciBodG1sX2YzZDZmYTE1NDdiYTRmNWZiMDQ0Mzc5MzBjY2JkYWViID0gJChgPGRpdiBpZD0iaHRtbF9mM2Q2ZmExNTQ3YmE0ZjVmYjA0NDM3OTMwY2NiZGFlYiIgc3R5bGU9IndpZHRoOiAxMDAuMCU7IGhlaWdodDogMTAwLjAlOyI+QmFuZ2tvazwvZGl2PmApWzBdOwogICAgICAgICAgICBwb3B1cF9iNzRmZDI0OThhOTQ0ZTQxOGQ3YjkzNGRjMzg0ZTE4NC5zZXRDb250ZW50KGh0bWxfZjNkNmZhMTU0N2JhNGY1ZmIwNDQzNzkzMGNjYmRhZWIpOwogICAgICAgIAoKICAgICAgICBtYXJrZXJfNWRiMDVkMTQ2MDE1NDNmMjk2ODA4NWNmZGUxZGQzMjguYmluZFBvcHVwKHBvcHVwX2I3NGZkMjQ5OGE5NDRlNDE4ZDdiOTM0ZGMzODRlMTg0KQogICAgICAgIDsKCiAgICAgICAgCiAgICAKICAgIAogICAgICAgICAgICB2YXIgbWFya2VyXzg5OGY5YWY3NThkNTQ1NmRiMGNiYWU4ZGNhNTY0NTQyID0gTC5tYXJrZXIoCiAgICAgICAgICAgICAgICBbNTEuNTA3MzIxOSwgLTAuMTI3NjQ3NF0sCiAgICAgICAgICAgICAgICB7fQogICAgICAgICAgICApLmFkZFRvKG1hcF9lYzQwNDFhZTFkNjM0MzFiYjU3NmU1YmM5MWRiNmEzYSk7CiAgICAgICAgCiAgICAKICAgICAgICAgICAgdmFyIGljb25fYTc4YjgzMDQ1ZWM3NGJmMzllNzEzNjZkZTY5Mzg3ZGUgPSBMLkF3ZXNvbWVNYXJrZXJzLmljb24oCiAgICAgICAgICAgICAgICB7ImV4dHJhQ2xhc3NlcyI6ICJmYS1yb3RhdGUtMCIsICJpY29uIjogImluZm8tc2lnbiIsICJpY29uQ29sb3IiOiAid2hpdGUiLCAibWFya2VyQ29sb3IiOiAiYmx1ZSIsICJwcmVmaXgiOiAiZ2x5cGhpY29uIn0KICAgICAgICAgICAgKTsKICAgICAgICAgICAgbWFya2VyXzg5OGY5YWY3NThkNTQ1NmRiMGNiYWU4ZGNhNTY0NTQyLnNldEljb24oaWNvbl9hNzhiODMwNDVlYzc0YmYzOWU3MTM2NmRlNjkzODdkZSk7CiAgICAgICAgCiAgICAKICAgICAgICB2YXIgcG9wdXBfYjk0NGMzMzY1MDVhNDQzZDlmNWU4ZjA2YTZkMjIzOGQgPSBMLnBvcHVwKHsibWF4V2lkdGgiOiAiMTAwJSJ9KTsKCiAgICAgICAgCiAgICAgICAgICAgIHZhciBodG1sXzgzNjIxZDc5ZmFjYjQzMTc4MjljM2Q1MTIyMzk4MTMxID0gJChgPGRpdiBpZD0iaHRtbF84MzYyMWQ3OWZhY2I0MzE3ODI5YzNkNTEyMjM5ODEzMSIgc3R5bGU9IndpZHRoOiAxMDAuMCU7IGhlaWdodDogMTAwLjAlOyI+TG9uZG9uPC9kaXY+YClbMF07CiAgICAgICAgICAgIHBvcHVwX2I5NDRjMzM2NTA1YTQ0M2Q5ZjVlOGYwNmE2ZDIyMzhkLnNldENvbnRlbnQoaHRtbF84MzYyMWQ3OWZhY2I0MzE3ODI5YzNkNTEyMjM5ODEzMSk7CiAgICAgICAgCgogICAgICAgIG1hcmtlcl84OThmOWFmNzU4ZDU0NTZkYjBjYmFlOGRjYTU2NDU0Mi5iaW5kUG9wdXAocG9wdXBfYjk0NGMzMzY1MDVhNDQzZDlmNWU4ZjA2YTZkMjIzOGQpCiAgICAgICAgOwoKICAgICAgICAKICAgIAogICAgCiAgICAgICAgICAgIHZhciBtYXJrZXJfMDIxOTc4MTVlMTQxNDllYmJmYzJiNTk1NjQ3NmMzODYgPSBMLm1hcmtlcigKICAgICAgICAgICAgICAgIFsyMi4xODk5NDQ4LCAxMTMuNTM4MDQ1NF0sCiAgICAgICAgICAgICAgICB7fQogICAgICAgICAgICApLmFkZFRvKG1hcF9lYzQwNDFhZTFkNjM0MzFiYjU3NmU1YmM5MWRiNmEzYSk7CiAgICAgICAgCiAgICAKICAgICAgICAgICAgdmFyIGljb25fNGRkMDBmNDAyNjZkNDA0NThhZTg2ZTIyYWE2ODYwM2IgPSBMLkF3ZXNvbWVNYXJrZXJzLmljb24oCiAgICAgICAgICAgICAgICB7ImV4dHJhQ2xhc3NlcyI6ICJmYS1yb3RhdGUtMCIsICJpY29uIjogImluZm8tc2lnbiIsICJpY29uQ29sb3IiOiAid2hpdGUiLCAibWFya2VyQ29sb3IiOiAiYmx1ZSIsICJwcmVmaXgiOiAiZ2x5cGhpY29uIn0KICAgICAgICAgICAgKTsKICAgICAgICAgICAgbWFya2VyXzAyMTk3ODE1ZTE0MTQ5ZWJiZmMyYjU5NTY0NzZjMzg2LnNldEljb24oaWNvbl80ZGQwMGY0MDI2NmQ0MDQ1OGFlODZlMjJhYTY4NjAzYik7CiAgICAgICAgCiAgICAKICAgICAgICB2YXIgcG9wdXBfM2Y0Y2M2ZDVjOTllNDdhMzlmYTE5YjM5YWQyMTc5NmEgPSBMLnBvcHVwKHsibWF4V2lkdGgiOiAiMTAwJSJ9KTsKCiAgICAgICAgCiAgICAgICAgICAgIHZhciBodG1sX2VmY2RkOTA4OTYyYjRiODk4ZWY4Yzk4ZDE0MmNjOTRhID0gJChgPGRpdiBpZD0iaHRtbF9lZmNkZDkwODk2MmI0Yjg5OGVmOGM5OGQxNDJjYzk0YSIgc3R5bGU9IndpZHRoOiAxMDAuMCU7IGhlaWdodDogMTAwLjAlOyI+TWFjYXU8L2Rpdj5gKVswXTsKICAgICAgICAgICAgcG9wdXBfM2Y0Y2M2ZDVjOTllNDdhMzlmYTE5YjM5YWQyMTc5NmEuc2V0Q29udGVudChodG1sX2VmY2RkOTA4OTYyYjRiODk4ZWY4Yzk4ZDE0MmNjOTRhKTsKICAgICAgICAKCiAgICAgICAgbWFya2VyXzAyMTk3ODE1ZTE0MTQ5ZWJiZmMyYjU5NTY0NzZjMzg2LmJpbmRQb3B1cChwb3B1cF8zZjRjYzZkNWM5OWU0N2EzOWZhMTliMzlhZDIxNzk2YSkKICAgICAgICA7CgogICAgICAgIAogICAgCiAgICAKICAgICAgICAgICAgdmFyIG1hcmtlcl80ZWE0ZDcwNzk5ZmE0MTI1YTZiYTE4YzQ0MTQwZjYxYyA9IEwubWFya2VyKAogICAgICAgICAgICAgICAgWzEuMjkwNDc1MywgMTAzLjg1MjAzNTldLAogICAgICAgICAgICAgICAge30KICAgICAgICAgICAgKS5hZGRUbyhtYXBfZWM0MDQxYWUxZDYzNDMxYmI1NzZlNWJjOTFkYjZhM2EpOwogICAgICAgIAogICAgCiAgICAgICAgICAgIHZhciBpY29uXzlmMGY0NmFlYWQ0ZTQ3OWM5MjBhYzljN2EyOWRkNjE2ID0gTC5Bd2Vzb21lTWFya2Vycy5pY29uKAogICAgICAgICAgICAgICAgeyJleHRyYUNsYXNzZXMiOiAiZmEtcm90YXRlLTAiLCAiaWNvbiI6ICJpbmZvLXNpZ24iLCAiaWNvbkNvbG9yIjogIndoaXRlIiwgIm1hcmtlckNvbG9yIjogImJsdWUiLCAicHJlZml4IjogImdseXBoaWNvbiJ9CiAgICAgICAgICAgICk7CiAgICAgICAgICAgIG1hcmtlcl80ZWE0ZDcwNzk5ZmE0MTI1YTZiYTE4YzQ0MTQwZjYxYy5zZXRJY29uKGljb25fOWYwZjQ2YWVhZDRlNDc5YzkyMGFjOWM3YTI5ZGQ2MTYpOwogICAgICAgIAogICAgCiAgICAgICAgdmFyIHBvcHVwXzRmNzgwNGQ4YWVkNTQ5M2Y4MjFlOTZlY2MyOTQyMGE1ID0gTC5wb3B1cCh7Im1heFdpZHRoIjogIjEwMCUifSk7CgogICAgICAgIAogICAgICAgICAgICB2YXIgaHRtbF83ZDAxYjA0ZTI2OGU0MWQzYWU4NzkyOTc1NzI1ZTgyMCA9ICQoYDxkaXYgaWQ9Imh0bWxfN2QwMWIwNGUyNjhlNDFkM2FlODc5Mjk3NTcyNWU4MjAiIHN0eWxlPSJ3aWR0aDogMTAwLjAlOyBoZWlnaHQ6IDEwMC4wJTsiPlNpbmdhcG9yZTwvZGl2PmApWzBdOwogICAgICAgICAgICBwb3B1cF80Zjc4MDRkOGFlZDU0OTNmODIxZTk2ZWNjMjk0MjBhNS5zZXRDb250ZW50KGh0bWxfN2QwMWIwNGUyNjhlNDFkM2FlODc5Mjk3NTcyNWU4MjApOwogICAgICAgIAoKICAgICAgICBtYXJrZXJfNGVhNGQ3MDc5OWZhNDEyNWE2YmExOGM0NDE0MGY2MWMuYmluZFBvcHVwKHBvcHVwXzRmNzgwNGQ4YWVkNTQ5M2Y4MjFlOTZlY2MyOTQyMGE1KQogICAgICAgIDsKCiAgICAgICAgCiAgICAKICAgIAogICAgICAgICAgICB2YXIgbWFya2VyXzE4MDJiYzQyNjIyZjQxMmFhMTg2OTA3MmM2OTc2MjQzID0gTC5tYXJrZXIoCiAgICAgICAgICAgICAgICBbNDguODU2Njk2OSwgMi4zNTE0NjE2XSwKICAgICAgICAgICAgICAgIHt9CiAgICAgICAgICAgICkuYWRkVG8obWFwX2VjNDA0MWFlMWQ2MzQzMWJiNTc2ZTViYzkxZGI2YTNhKTsKICAgICAgICAKICAgIAogICAgICAgICAgICB2YXIgaWNvbl9hNjNmNzcxZmI5NGM0OTAyOTlkZTJjMGEwZWM4Y2Q1ZiA9IEwuQXdlc29tZU1hcmtlcnMuaWNvbigKICAgICAgICAgICAgICAgIHsiZXh0cmFDbGFzc2VzIjogImZhLXJvdGF0ZS0wIiwgImljb24iOiAiaW5mby1zaWduIiwgImljb25Db2xvciI6ICJ3aGl0ZSIsICJtYXJrZXJDb2xvciI6ICJibHVlIiwgInByZWZpeCI6ICJnbHlwaGljb24ifQogICAgICAgICAgICApOwogICAgICAgICAgICBtYXJrZXJfMTgwMmJjNDI2MjJmNDEyYWExODY5MDcyYzY5NzYyNDMuc2V0SWNvbihpY29uX2E2M2Y3NzFmYjk0YzQ5MDI5OWRlMmMwYTBlYzhjZDVmKTsKICAgICAgICAKICAgIAogICAgICAgIHZhciBwb3B1cF81YzMzNjVjYTUxMDU0ZDVhYTBjNGM4MzcwNGRmMTU3ZiA9IEwucG9wdXAoeyJtYXhXaWR0aCI6ICIxMDAlIn0pOwoKICAgICAgICAKICAgICAgICAgICAgdmFyIGh0bWxfNWNlNDJlOTlkNTIwNDI0OTg2NTFmMTQ1Y2Q0ZTExOWEgPSAkKGA8ZGl2IGlkPSJodG1sXzVjZTQyZTk5ZDUyMDQyNDk4NjUxZjE0NWNkNGUxMTlhIiBzdHlsZT0id2lkdGg6IDEwMC4wJTsgaGVpZ2h0OiAxMDAuMCU7Ij5QYXJpczwvZGl2PmApWzBdOwogICAgICAgICAgICBwb3B1cF81YzMzNjVjYTUxMDU0ZDVhYTBjNGM4MzcwNGRmMTU3Zi5zZXRDb250ZW50KGh0bWxfNWNlNDJlOTlkNTIwNDI0OTg2NTFmMTQ1Y2Q0ZTExOWEpOwogICAgICAgIAoKICAgICAgICBtYXJrZXJfMTgwMmJjNDI2MjJmNDEyYWExODY5MDcyYzY5NzYyNDMuYmluZFBvcHVwKHBvcHVwXzVjMzM2NWNhNTEwNTRkNWFhMGM0YzgzNzA0ZGYxNTdmKQogICAgICAgIDsKCiAgICAgICAgCiAgICAKICAgIAogICAgICAgICAgICB2YXIgbWFya2VyXzk5MGZmYWI0OTIyNTRjOWM5MTZmMWIwOTY2N2FiNzkzID0gTC5tYXJrZXIoCiAgICAgICAgICAgICAgICBbMjUuMjA0NzM5NywgNTUuMjcwNzA2NV0sCiAgICAgICAgICAgICAgICB7fQogICAgICAgICAgICApLmFkZFRvKG1hcF9lYzQwNDFhZTFkNjM0MzFiYjU3NmU1YmM5MWRiNmEzYSk7CiAgICAgICAgCiAgICAKICAgICAgICAgICAgdmFyIGljb25fMmM5MWZiN2Y3ZTc2NDc3ZmIwYmNlZjkzNzAwYjZkYmEgPSBMLkF3ZXNvbWVNYXJrZXJzLmljb24oCiAgICAgICAgICAgICAgICB7ImV4dHJhQ2xhc3NlcyI6ICJmYS1yb3RhdGUtMCIsICJpY29uIjogImluZm8tc2lnbiIsICJpY29uQ29sb3IiOiAid2hpdGUiLCAibWFya2VyQ29sb3IiOiAiYmx1ZSIsICJwcmVmaXgiOiAiZ2x5cGhpY29uIn0KICAgICAgICAgICAgKTsKICAgICAgICAgICAgbWFya2VyXzk5MGZmYWI0OTIyNTRjOWM5MTZmMWIwOTY2N2FiNzkzLnNldEljb24oaWNvbl8yYzkxZmI3ZjdlNzY0NzdmYjBiY2VmOTM3MDBiNmRiYSk7CiAgICAgICAgCiAgICAKICAgICAgICB2YXIgcG9wdXBfMjkwZTQ4OTFiY2Q5NDU5YmExNDJjMDE0ZTNkZjU0Y2YgPSBMLnBvcHVwKHsibWF4V2lkdGgiOiAiMTAwJSJ9KTsKCiAgICAgICAgCiAgICAgICAgICAgIHZhciBodG1sXzFiZTM1ZWY0YTAxNzQxZDU5YzgxZDY1MmVjNjM1NTAxID0gJChgPGRpdiBpZD0iaHRtbF8xYmUzNWVmNGEwMTc0MWQ1OWM4MWQ2NTJlYzYzNTUwMSIgc3R5bGU9IndpZHRoOiAxMDAuMCU7IGhlaWdodDogMTAwLjAlOyI+RHViYWk8L2Rpdj5gKVswXTsKICAgICAgICAgICAgcG9wdXBfMjkwZTQ4OTFiY2Q5NDU5YmExNDJjMDE0ZTNkZjU0Y2Yuc2V0Q29udGVudChodG1sXzFiZTM1ZWY0YTAxNzQxZDU5YzgxZDY1MmVjNjM1NTAxKTsKICAgICAgICAKCiAgICAgICAgbWFya2VyXzk5MGZmYWI0OTIyNTRjOWM5MTZmMWIwOTY2N2FiNzkzLmJpbmRQb3B1cChwb3B1cF8yOTBlNDg5MWJjZDk0NTliYTE0MmMwMTRlM2RmNTRjZikKICAgICAgICA7CgogICAgICAgIAogICAgCiAgICAKICAgICAgICAgICAgdmFyIG1hcmtlcl8wZjIyMDQ4ZTNhZWI0ZWI3YjEyZTEzMjZmMTc3NjdhNCA9IEwubWFya2VyKAogICAgICAgICAgICAgICAgWzQwLjcxMjcyODEsIC03NC4wMDYwMTUyXSwKICAgICAgICAgICAgICAgIHt9CiAgICAgICAgICAgICkuYWRkVG8obWFwX2VjNDA0MWFlMWQ2MzQzMWJiNTc2ZTViYzkxZGI2YTNhKTsKICAgICAgICAKICAgIAogICAgICAgICAgICB2YXIgaWNvbl8xZDRhODJmYmEyNmU0YmJlYWI0MjQ0MDBhYWVhNWNlMiA9IEwuQXdlc29tZU1hcmtlcnMuaWNvbigKICAgICAgICAgICAgICAgIHsiZXh0cmFDbGFzc2VzIjogImZhLXJvdGF0ZS0wIiwgImljb24iOiAiaW5mby1zaWduIiwgImljb25Db2xvciI6ICJ3aGl0ZSIsICJtYXJrZXJDb2xvciI6ICJibHVlIiwgInByZWZpeCI6ICJnbHlwaGljb24ifQogICAgICAgICAgICApOwogICAgICAgICAgICBtYXJrZXJfMGYyMjA0OGUzYWViNGViN2IxMmUxMzI2ZjE3NzY3YTQuc2V0SWNvbihpY29uXzFkNGE4MmZiYTI2ZTRiYmVhYjQyNDQwMGFhZWE1Y2UyKTsKICAgICAgICAKICAgIAogICAgICAgIHZhciBwb3B1cF9jZDZhMWVmNWVhODI0MWUzODBjNThlOTU0M2ZjYjUxMyA9IEwucG9wdXAoeyJtYXhXaWR0aCI6ICIxMDAlIn0pOwoKICAgICAgICAKICAgICAgICAgICAgdmFyIGh0bWxfYjdkMTU0ZGMxN2MyNDJjY2FkZmVjYzcyNjk4NjIzYTMgPSAkKGA8ZGl2IGlkPSJodG1sX2I3ZDE1NGRjMTdjMjQyY2NhZGZlY2M3MjY5ODYyM2EzIiBzdHlsZT0id2lkdGg6IDEwMC4wJTsgaGVpZ2h0OiAxMDAuMCU7Ij5OZXcgWW9yayBDaXR5PC9kaXY+YClbMF07CiAgICAgICAgICAgIHBvcHVwX2NkNmExZWY1ZWE4MjQxZTM4MGM1OGU5NTQzZmNiNTEzLnNldENvbnRlbnQoaHRtbF9iN2QxNTRkYzE3YzI0MmNjYWRmZWNjNzI2OTg2MjNhMyk7CiAgICAgICAgCgogICAgICAgIG1hcmtlcl8wZjIyMDQ4ZTNhZWI0ZWI3YjEyZTEzMjZmMTc3NjdhNC5iaW5kUG9wdXAocG9wdXBfY2Q2YTFlZjVlYTgyNDFlMzgwYzU4ZTk1NDNmY2I1MTMpCiAgICAgICAgOwoKICAgICAgICAKICAgIAogICAgCiAgICAgICAgICAgIHZhciBtYXJrZXJfNzBhMDRhZjczZTMyNGRjYzlhODE4ZGMzNzlkMTg1YTQgPSBMLm1hcmtlcigKICAgICAgICAgICAgICAgIFszLjE1MTY5NjQsIDEwMS42OTQyMzcxXSwKICAgICAgICAgICAgICAgIHt9CiAgICAgICAgICAgICkuYWRkVG8obWFwX2VjNDA0MWFlMWQ2MzQzMWJiNTc2ZTViYzkxZGI2YTNhKTsKICAgICAgICAKICAgIAogICAgICAgICAgICB2YXIgaWNvbl9iNDJkNWU3YTE3NjQ0NGY1ODk4ZjM3ZTAyMmY3MjU3NCA9IEwuQXdlc29tZU1hcmtlcnMuaWNvbigKICAgICAgICAgICAgICAgIHsiZXh0cmFDbGFzc2VzIjogImZhLXJvdGF0ZS0wIiwgImljb24iOiAiaW5mby1zaWduIiwgImljb25Db2xvciI6ICJ3aGl0ZSIsICJtYXJrZXJDb2xvciI6ICJibHVlIiwgInByZWZpeCI6ICJnbHlwaGljb24ifQogICAgICAgICAgICApOwogICAgICAgICAgICBtYXJrZXJfNzBhMDRhZjczZTMyNGRjYzlhODE4ZGMzNzlkMTg1YTQuc2V0SWNvbihpY29uX2I0MmQ1ZTdhMTc2NDQ0ZjU4OThmMzdlMDIyZjcyNTc0KTsKICAgICAgICAKICAgIAogICAgICAgIHZhciBwb3B1cF8wNjQxYmVmMTJhNWE0ZTRiYTU1NDU3MmRiY2E2NTNiYSA9IEwucG9wdXAoeyJtYXhXaWR0aCI6ICIxMDAlIn0pOwoKICAgICAgICAKICAgICAgICAgICAgdmFyIGh0bWxfNWM2NTI5Y2M2ZTYzNDY1NmJhNzhmY2I5NWQwNTY5NjkgPSAkKGA8ZGl2IGlkPSJodG1sXzVjNjUyOWNjNmU2MzQ2NTZiYTc4ZmNiOTVkMDU2OTY5IiBzdHlsZT0id2lkdGg6IDEwMC4wJTsgaGVpZ2h0OiAxMDAuMCU7Ij5LdWFsYSBMdW1wdXI8L2Rpdj5gKVswXTsKICAgICAgICAgICAgcG9wdXBfMDY0MWJlZjEyYTVhNGU0YmE1NTQ1NzJkYmNhNjUzYmEuc2V0Q29udGVudChodG1sXzVjNjUyOWNjNmU2MzQ2NTZiYTc4ZmNiOTVkMDU2OTY5KTsKICAgICAgICAKCiAgICAgICAgbWFya2VyXzcwYTA0YWY3M2UzMjRkY2M5YTgxOGRjMzc5ZDE4NWE0LmJpbmRQb3B1cChwb3B1cF8wNjQxYmVmMTJhNWE0ZTRiYTU1NDU3MmRiY2E2NTNiYSkKICAgICAgICA7CgogICAgICAgIAogICAgCiAgICAKICAgICAgICAgICAgdmFyIG1hcmtlcl9mOGJlZWYyNzQ0NWQ0N2JiYWFkNzI4NGU3NDYwZTRkOCA9IEwubWFya2VyKAogICAgICAgICAgICAgICAgWzQxLjAwOTYzMzQsIDI4Ljk2NTE2NDZdLAogICAgICAgICAgICAgICAge30KICAgICAgICAgICAgKS5hZGRUbyhtYXBfZWM0MDQxYWUxZDYzNDMxYmI1NzZlNWJjOTFkYjZhM2EpOwogICAgICAgIAogICAgCiAgICAgICAgICAgIHZhciBpY29uX2FiZjM2OTAxZjA5OTQxMDk4ZjI5YzkwMTdiMTg0NjQ2ID0gTC5Bd2Vzb21lTWFya2Vycy5pY29uKAogICAgICAgICAgICAgICAgeyJleHRyYUNsYXNzZXMiOiAiZmEtcm90YXRlLTAiLCAiaWNvbiI6ICJpbmZvLXNpZ24iLCAiaWNvbkNvbG9yIjogIndoaXRlIiwgIm1hcmtlckNvbG9yIjogImJsdWUiLCAicHJlZml4IjogImdseXBoaWNvbiJ9CiAgICAgICAgICAgICk7CiAgICAgICAgICAgIG1hcmtlcl9mOGJlZWYyNzQ0NWQ0N2JiYWFkNzI4NGU3NDYwZTRkOC5zZXRJY29uKGljb25fYWJmMzY5MDFmMDk5NDEwOThmMjljOTAxN2IxODQ2NDYpOwogICAgICAgIAogICAgCiAgICAgICAgdmFyIHBvcHVwXzJmYjI2YTE1ZjIxNTQxMjQ5ZTIyZTJiYWMzOTRhNjBlID0gTC5wb3B1cCh7Im1heFdpZHRoIjogIjEwMCUifSk7CgogICAgICAgIAogICAgICAgICAgICB2YXIgaHRtbF84YzYzNjg3OTFmMWQ0YmJkYjk3MjgwZWUzYzNhYzc5NiA9ICQoYDxkaXYgaWQ9Imh0bWxfOGM2MzY4NzkxZjFkNGJiZGI5NzI4MGVlM2MzYWM3OTYiIHN0eWxlPSJ3aWR0aDogMTAwLjAlOyBoZWlnaHQ6IDEwMC4wJTsiPklzdGFuYnVsPC9kaXY+YClbMF07CiAgICAgICAgICAgIHBvcHVwXzJmYjI2YTE1ZjIxNTQxMjQ5ZTIyZTJiYWMzOTRhNjBlLnNldENvbnRlbnQoaHRtbF84YzYzNjg3OTFmMWQ0YmJkYjk3MjgwZWUzYzNhYzc5Nik7CiAgICAgICAgCgogICAgICAgIG1hcmtlcl9mOGJlZWYyNzQ0NWQ0N2JiYWFkNzI4NGU3NDYwZTRkOC5iaW5kUG9wdXAocG9wdXBfMmZiMjZhMTVmMjE1NDEyNDllMjJlMmJhYzM5NGE2MGUpCiAgICAgICAgOwoKICAgICAgICAKICAgIAogICAgCiAgICAgICAgICAgIHZhciBtYXJrZXJfYWNlOTQwMzIwZWQ4NDVkZWI5NjQ0MGI4YTk1OTEyOGMgPSBMLm1hcmtlcigKICAgICAgICAgICAgICAgIFsyMy4xMzUzMDUsIC04Mi4zNTg5NjMxXSwKICAgICAgICAgICAgICAgIHt9CiAgICAgICAgICAgICkuYWRkVG8obWFwX2VjNDA0MWFlMWQ2MzQzMWJiNTc2ZTViYzkxZGI2YTNhKTsKICAgICAgICAKICAgIAogICAgICAgICAgICB2YXIgaWNvbl8wNGVmMjIwNTFlNjI0ODA4YTcwZmZiYmI0YzU5NjNlNSA9IEwuQXdlc29tZU1hcmtlcnMuaWNvbigKICAgICAgICAgICAgICAgIHsiZXh0cmFDbGFzc2VzIjogImZhLXJvdGF0ZS0wIiwgImljb24iOiAiaW5mby1zaWduIiwgImljb25Db2xvciI6ICJ3aGl0ZSIsICJtYXJrZXJDb2xvciI6ICJibHVlIiwgInByZWZpeCI6ICJnbHlwaGljb24ifQogICAgICAgICAgICApOwogICAgICAgICAgICBtYXJrZXJfYWNlOTQwMzIwZWQ4NDVkZWI5NjQ0MGI4YTk1OTEyOGMuc2V0SWNvbihpY29uXzA0ZWYyMjA1MWU2MjQ4MDhhNzBmZmJiYjRjNTk2M2U1KTsKICAgICAgICAKICAgIAogICAgICAgIHZhciBwb3B1cF84ZWIxNTE2MDQ2ZjI0ZGUzOWNjMjY3NDIyOTMyM2Y5NCA9IEwucG9wdXAoeyJtYXhXaWR0aCI6ICIxMDAlIn0pOwoKICAgICAgICAKICAgICAgICAgICAgdmFyIGh0bWxfZmNhMmQ2ZDE0NGM4NDJlNzllNTFkZWI0N2IxZjFlNGMgPSAkKGA8ZGl2IGlkPSJodG1sX2ZjYTJkNmQxNDRjODQyZTc5ZTUxZGViNDdiMWYxZTRjIiBzdHlsZT0id2lkdGg6IDEwMC4wJTsgaGVpZ2h0OiAxMDAuMCU7Ij5IYXZhbmE8L2Rpdj5gKVswXTsKICAgICAgICAgICAgcG9wdXBfOGViMTUxNjA0NmYyNGRlMzljYzI2NzQyMjkzMjNmOTQuc2V0Q29udGVudChodG1sX2ZjYTJkNmQxNDRjODQyZTc5ZTUxZGViNDdiMWYxZTRjKTsKICAgICAgICAKCiAgICAgICAgbWFya2VyX2FjZTk0MDMyMGVkODQ1ZGViOTY0NDBiOGE5NTkxMjhjLmJpbmRQb3B1cChwb3B1cF84ZWIxNTE2MDQ2ZjI0ZGUzOWNjMjY3NDIyOTMyM2Y5NCkKICAgICAgICA7CgogICAgICAgIAogICAgCiAgICAKICAgICAgICAgICAgdmFyIG1hcmtlcl8zZjZkNzE4M2RjY2E0YjgxOWM0ZmI0Y2M3ZjY1Zjc5NiA9IEwubWFya2VyKAogICAgICAgICAgICAgICAgWzYuMjQ0MzM4MiwgLTc1LjU3MzU1M10sCiAgICAgICAgICAgICAgICB7fQogICAgICAgICAgICApLmFkZFRvKG1hcF9lYzQwNDFhZTFkNjM0MzFiYjU3NmU1YmM5MWRiNmEzYSk7CiAgICAgICAgCiAgICAKICAgICAgICAgICAgdmFyIGljb25fNjA1YzJmODViOGVlNDM5MTlhODM3OWFiN2NjNzliNDYgPSBMLkF3ZXNvbWVNYXJrZXJzLmljb24oCiAgICAgICAgICAgICAgICB7ImV4dHJhQ2xhc3NlcyI6ICJmYS1yb3RhdGUtMCIsICJpY29uIjogImluZm8tc2lnbiIsICJpY29uQ29sb3IiOiAid2hpdGUiLCAibWFya2VyQ29sb3IiOiAiYmx1ZSIsICJwcmVmaXgiOiAiZ2x5cGhpY29uIn0KICAgICAgICAgICAgKTsKICAgICAgICAgICAgbWFya2VyXzNmNmQ3MTgzZGNjYTRiODE5YzRmYjRjYzdmNjVmNzk2LnNldEljb24oaWNvbl82MDVjMmY4NWI4ZWU0MzkxOWE4Mzc5YWI3Y2M3OWI0Nik7CiAgICAgICAgCiAgICAKICAgICAgICB2YXIgcG9wdXBfNjBiNTQzOWEzNjcyNGE4ZGFiODU2NjI4ZWQ2OTQ5ZDQgPSBMLnBvcHVwKHsibWF4V2lkdGgiOiAiMTAwJSJ9KTsKCiAgICAgICAgCiAgICAgICAgICAgIHZhciBodG1sX2YwMzYxYTZmMzZiYjRiOTViODc5ZmExNzU4NzM2NzcwID0gJChgPGRpdiBpZD0iaHRtbF9mMDM2MWE2ZjM2YmI0Yjk1Yjg3OWZhMTc1ODczNjc3MCIgc3R5bGU9IndpZHRoOiAxMDAuMCU7IGhlaWdodDogMTAwLjAlOyI+TWVkZWxsaW48L2Rpdj5gKVswXTsKICAgICAgICAgICAgcG9wdXBfNjBiNTQzOWEzNjcyNGE4ZGFiODU2NjI4ZWQ2OTQ5ZDQuc2V0Q29udGVudChodG1sX2YwMzYxYTZmMzZiYjRiOTViODc5ZmExNzU4NzM2NzcwKTsKICAgICAgICAKCiAgICAgICAgbWFya2VyXzNmNmQ3MTgzZGNjYTRiODE5YzRmYjRjYzdmNjVmNzk2LmJpbmRQb3B1cChwb3B1cF82MGI1NDM5YTM2NzI0YThkYWI4NTY2MjhlZDY5NDlkNCkKICAgICAgICA7CgogICAgICAgIAogICAgCiAgICAKICAgICAgICAgICAgdmFyIG1hcmtlcl8wNzM2NjUwNWQ3Njc0NjJjYmM1YmM0ODNiMjVmYzk0ZSA9IEwubWFya2VyKAogICAgICAgICAgICAgICAgWy0yMi45MTEwMTM3LCAtNDMuMjA5MzcyN10sCiAgICAgICAgICAgICAgICB7fQogICAgICAgICAgICApLmFkZFRvKG1hcF9lYzQwNDFhZTFkNjM0MzFiYjU3NmU1YmM5MWRiNmEzYSk7CiAgICAgICAgCiAgICAKICAgICAgICAgICAgdmFyIGljb25fOTJkMjQ1NmIxYzQwNGM3YTg4M2NlZDE0N2MzY2MxYmQgPSBMLkF3ZXNvbWVNYXJrZXJzLmljb24oCiAgICAgICAgICAgICAgICB7ImV4dHJhQ2xhc3NlcyI6ICJmYS1yb3RhdGUtMCIsICJpY29uIjogImluZm8tc2lnbiIsICJpY29uQ29sb3IiOiAid2hpdGUiLCAibWFya2VyQ29sb3IiOiAiYmx1ZSIsICJwcmVmaXgiOiAiZ2x5cGhpY29uIn0KICAgICAgICAgICAgKTsKICAgICAgICAgICAgbWFya2VyXzA3MzY2NTA1ZDc2NzQ2MmNiYzViYzQ4M2IyNWZjOTRlLnNldEljb24oaWNvbl85MmQyNDU2YjFjNDA0YzdhODgzY2VkMTQ3YzNjYzFiZCk7CiAgICAgICAgCiAgICAKICAgICAgICB2YXIgcG9wdXBfYjkyNGVkZDk5NjlmNDAyZmE3ODM1Yjk0ZTg1ZGZiYmYgPSBMLnBvcHVwKHsibWF4V2lkdGgiOiAiMTAwJSJ9KTsKCiAgICAgICAgCiAgICAgICAgICAgIHZhciBodG1sXzQ0MDFjN2ZiM2FjNzRkZDVhODFkYTA4MTI4ZmJjMTBmID0gJChgPGRpdiBpZD0iaHRtbF80NDAxYzdmYjNhYzc0ZGQ1YTgxZGEwODEyOGZiYzEwZiIgc3R5bGU9IndpZHRoOiAxMDAuMCU7IGhlaWdodDogMTAwLjAlOyI+UmlvIGRlIEphbmVpcm88L2Rpdj5gKVswXTsKICAgICAgICAgICAgcG9wdXBfYjkyNGVkZDk5NjlmNDAyZmE3ODM1Yjk0ZTg1ZGZiYmYuc2V0Q29udGVudChodG1sXzQ0MDFjN2ZiM2FjNzRkZDVhODFkYTA4MTI4ZmJjMTBmKTsKICAgICAgICAKCiAgICAgICAgbWFya2VyXzA3MzY2NTA1ZDc2NzQ2MmNiYzViYzQ4M2IyNWZjOTRlLmJpbmRQb3B1cChwb3B1cF9iOTI0ZWRkOTk2OWY0MDJmYTc4MzViOTRlODVkZmJiZikKICAgICAgICA7CgogICAgICAgIAogICAgCiAgICAKICAgICAgICAgICAgdmFyIG1hcmtlcl82OTA4NDU3NTEyZTI0MzlmODlhOTkxODgzNjdhNGU5NiA9IEwubWFya2VyKAogICAgICAgICAgICAgICAgWzI1Ljc3NDE3MjgsIC04MC4xOTM2Ml0sCiAgICAgICAgICAgICAgICB7fQogICAgICAgICAgICApLmFkZFRvKG1hcF9lYzQwNDFhZTFkNjM0MzFiYjU3NmU1YmM5MWRiNmEzYSk7CiAgICAgICAgCiAgICAKICAgICAgICAgICAgdmFyIGljb25fMDI4M2IzOTk5NjYyNGYwOTg5YjUyYTkzZTkwYmQwNGUgPSBMLkF3ZXNvbWVNYXJrZXJzLmljb24oCiAgICAgICAgICAgICAgICB7ImV4dHJhQ2xhc3NlcyI6ICJmYS1yb3RhdGUtMCIsICJpY29uIjogImluZm8tc2lnbiIsICJpY29uQ29sb3IiOiAid2hpdGUiLCAibWFya2VyQ29sb3IiOiAiYmx1ZSIsICJwcmVmaXgiOiAiZ2x5cGhpY29uIn0KICAgICAgICAgICAgKTsKICAgICAgICAgICAgbWFya2VyXzY5MDg0NTc1MTJlMjQzOWY4OWE5OTE4ODM2N2E0ZTk2LnNldEljb24oaWNvbl8wMjgzYjM5OTk2NjI0ZjA5ODliNTJhOTNlOTBiZDA0ZSk7CiAgICAgICAgCiAgICAKICAgICAgICB2YXIgcG9wdXBfNWE4ODdmYTM3ZmJjNGZjMjlkNGQzMTMzZmQ5ZWZjN2IgPSBMLnBvcHVwKHsibWF4V2lkdGgiOiAiMTAwJSJ9KTsKCiAgICAgICAgCiAgICAgICAgICAgIHZhciBodG1sXzM0ZGFiZWVkYzg3NzQ5ODViNzkzOGNkMmEzNTQzODA2ID0gJChgPGRpdiBpZD0iaHRtbF8zNGRhYmVlZGM4Nzc0OTg1Yjc5MzhjZDJhMzU0MzgwNiIgc3R5bGU9IndpZHRoOiAxMDAuMCU7IGhlaWdodDogMTAwLjAlOyI+TWlhbWk8L2Rpdj5gKVswXTsKICAgICAgICAgICAgcG9wdXBfNWE4ODdmYTM3ZmJjNGZjMjlkNGQzMTMzZmQ5ZWZjN2Iuc2V0Q29udGVudChodG1sXzM0ZGFiZWVkYzg3NzQ5ODViNzkzOGNkMmEzNTQzODA2KTsKICAgICAgICAKCiAgICAgICAgbWFya2VyXzY5MDg0NTc1MTJlMjQzOWY4OWE5OTE4ODM2N2E0ZTk2LmJpbmRQb3B1cChwb3B1cF81YTg4N2ZhMzdmYmM0ZmMyOWQ0ZDMxMzNmZDllZmM3YikKICAgICAgICA7CgogICAgICAgIAogICAgCiAgICAKICAgICAgICAgICAgdmFyIG1hcmtlcl80ZTNhNTYxNGQyMjE0OTI5YmU4OGVkN2M1NjU2Yzg4NyA9IEwubWFya2VyKAogICAgICAgICAgICAgICAgWzM0LjA1MzY5MDksIC0xMTguMjQyNzY2XSwKICAgICAgICAgICAgICAgIHt9CiAgICAgICAgICAgICkuYWRkVG8obWFwX2VjNDA0MWFlMWQ2MzQzMWJiNTc2ZTViYzkxZGI2YTNhKTsKICAgICAgICAKICAgIAogICAgICAgICAgICB2YXIgaWNvbl80OTQ1OThkZmFmYTQ0MjNmYTJhMTM5YmU0NDNhZGI3ZSA9IEwuQXdlc29tZU1hcmtlcnMuaWNvbigKICAgICAgICAgICAgICAgIHsiZXh0cmFDbGFzc2VzIjogImZhLXJvdGF0ZS0wIiwgImljb24iOiAiaW5mby1zaWduIiwgImljb25Db2xvciI6ICJ3aGl0ZSIsICJtYXJrZXJDb2xvciI6ICJibHVlIiwgInByZWZpeCI6ICJnbHlwaGljb24ifQogICAgICAgICAgICApOwogICAgICAgICAgICBtYXJrZXJfNGUzYTU2MTRkMjIxNDkyOWJlODhlZDdjNTY1NmM4ODcuc2V0SWNvbihpY29uXzQ5NDU5OGRmYWZhNDQyM2ZhMmExMzliZTQ0M2FkYjdlKTsKICAgICAgICAKICAgIAogICAgICAgIHZhciBwb3B1cF80Y2FhMTAxMjNhNDU0M2Y4OGJhODQ4MGUwOGNlZjY4MyA9IEwucG9wdXAoeyJtYXhXaWR0aCI6ICIxMDAlIn0pOwoKICAgICAgICAKICAgICAgICAgICAgdmFyIGh0bWxfMTk1Zjk2Njc1MTIxNDNlMWFmMjQzYjFlNDgzMjkwZWIgPSAkKGA8ZGl2IGlkPSJodG1sXzE5NWY5NjY3NTEyMTQzZTFhZjI0M2IxZTQ4MzI5MGViIiBzdHlsZT0id2lkdGg6IDEwMC4wJTsgaGVpZ2h0OiAxMDAuMCU7Ij5Mb3MgQW5nZWxlczwvZGl2PmApWzBdOwogICAgICAgICAgICBwb3B1cF80Y2FhMTAxMjNhNDU0M2Y4OGJhODQ4MGUwOGNlZjY4My5zZXRDb250ZW50KGh0bWxfMTk1Zjk2Njc1MTIxNDNlMWFmMjQzYjFlNDgzMjkwZWIpOwogICAgICAgIAoKICAgICAgICBtYXJrZXJfNGUzYTU2MTRkMjIxNDkyOWJlODhlZDdjNTY1NmM4ODcuYmluZFBvcHVwKHBvcHVwXzRjYWExMDEyM2E0NTQzZjg4YmE4NDgwZTA4Y2VmNjgzKQogICAgICAgIDsKCiAgICAgICAgCiAgICAKICAgIAogICAgICAgICAgICB2YXIgbWFya2VyX2Q0MzVlMDE2YTE4MzQzMjQ4ZWY5NjVjOGRhZjQ3ZTg4ID0gTC5tYXJrZXIoCiAgICAgICAgICAgICAgICBbNDMuNjUzNDgxNywgLTc5LjM4MzkzNDddLAogICAgICAgICAgICAgICAge30KICAgICAgICAgICAgKS5hZGRUbyhtYXBfZWM0MDQxYWUxZDYzNDMxYmI1NzZlNWJjOTFkYjZhM2EpOwogICAgICAgIAogICAgCiAgICAgICAgICAgIHZhciBpY29uXzY0YTAzODQyNzUyYTRmMzFiY2NiYjUyZWY1YmUxNjk1ID0gTC5Bd2Vzb21lTWFya2Vycy5pY29uKAogICAgICAgICAgICAgICAgeyJleHRyYUNsYXNzZXMiOiAiZmEtcm90YXRlLTAiLCAiaWNvbiI6ICJpbmZvLXNpZ24iLCAiaWNvbkNvbG9yIjogIndoaXRlIiwgIm1hcmtlckNvbG9yIjogImJsdWUiLCAicHJlZml4IjogImdseXBoaWNvbiJ9CiAgICAgICAgICAgICk7CiAgICAgICAgICAgIG1hcmtlcl9kNDM1ZTAxNmExODM0MzI0OGVmOTY1YzhkYWY0N2U4OC5zZXRJY29uKGljb25fNjRhMDM4NDI3NTJhNGYzMWJjY2JiNTJlZjViZTE2OTUpOwogICAgICAgIAogICAgCiAgICAgICAgdmFyIHBvcHVwXzU2NDI0YTQxN2QxMTQwMzFhOTM0OGQyM2Y4MTY1Yjc1ID0gTC5wb3B1cCh7Im1heFdpZHRoIjogIjEwMCUifSk7CgogICAgICAgIAogICAgICAgICAgICB2YXIgaHRtbF85ZThkOGQxNzlmYjk0MzVjYWU2MjNlZTU4YWUyNDBkZiA9ICQoYDxkaXYgaWQ9Imh0bWxfOWU4ZDhkMTc5ZmI5NDM1Y2FlNjIzZWU1OGFlMjQwZGYiIHN0eWxlPSJ3aWR0aDogMTAwLjAlOyBoZWlnaHQ6IDEwMC4wJTsiPlRvcm9udG88L2Rpdj5gKVswXTsKICAgICAgICAgICAgcG9wdXBfNTY0MjRhNDE3ZDExNDAzMWE5MzQ4ZDIzZjgxNjViNzUuc2V0Q29udGVudChodG1sXzllOGQ4ZDE3OWZiOTQzNWNhZTYyM2VlNThhZTI0MGRmKTsKICAgICAgICAKCiAgICAgICAgbWFya2VyX2Q0MzVlMDE2YTE4MzQzMjQ4ZWY5NjVjOGRhZjQ3ZTg4LmJpbmRQb3B1cChwb3B1cF81NjQyNGE0MTdkMTE0MDMxYTkzNDhkMjNmODE2NWI3NSkKICAgICAgICA7CgogICAgICAgIAogICAgCiAgICAKICAgICAgICAgICAgdmFyIG1hcmtlcl8zYjUxNzFmZmRlZGI0OWNjYWMwOWVkYjFhMzViNDY3YyA9IEwubWFya2VyKAogICAgICAgICAgICAgICAgWzQ5LjI2MDg3MjQsIC0xMjMuMTEzOTUyOV0sCiAgICAgICAgICAgICAgICB7fQogICAgICAgICAgICApLmFkZFRvKG1hcF9lYzQwNDFhZTFkNjM0MzFiYjU3NmU1YmM5MWRiNmEzYSk7CiAgICAgICAgCiAgICAKICAgICAgICAgICAgdmFyIGljb25fOTQyN2Q2NGZjNDJkNDRhOGIyYzViZGUwZDEwZDRlNTggPSBMLkF3ZXNvbWVNYXJrZXJzLmljb24oCiAgICAgICAgICAgICAgICB7ImV4dHJhQ2xhc3NlcyI6ICJmYS1yb3RhdGUtMCIsICJpY29uIjogImluZm8tc2lnbiIsICJpY29uQ29sb3IiOiAid2hpdGUiLCAibWFya2VyQ29sb3IiOiAiYmx1ZSIsICJwcmVmaXgiOiAiZ2x5cGhpY29uIn0KICAgICAgICAgICAgKTsKICAgICAgICAgICAgbWFya2VyXzNiNTE3MWZmZGVkYjQ5Y2NhYzA5ZWRiMWEzNWI0NjdjLnNldEljb24oaWNvbl85NDI3ZDY0ZmM0MmQ0NGE4YjJjNWJkZTBkMTBkNGU1OCk7CiAgICAgICAgCiAgICAKICAgICAgICB2YXIgcG9wdXBfYjczZmQwM2QzZjk0NGYzZmI0M2QxZDUwYzViZTMxNzMgPSBMLnBvcHVwKHsibWF4V2lkdGgiOiAiMTAwJSJ9KTsKCiAgICAgICAgCiAgICAgICAgICAgIHZhciBodG1sXzVlOTEwNjBjYTFhMTRiODY4ZDQ4MTgwMWEzMGJlMGQxID0gJChgPGRpdiBpZD0iaHRtbF81ZTkxMDYwY2ExYTE0Yjg2OGQ0ODE4MDFhMzBiZTBkMSIgc3R5bGU9IndpZHRoOiAxMDAuMCU7IGhlaWdodDogMTAwLjAlOyI+VmFuY291dmVyPC9kaXY+YClbMF07CiAgICAgICAgICAgIHBvcHVwX2I3M2ZkMDNkM2Y5NDRmM2ZiNDNkMWQ1MGM1YmUzMTczLnNldENvbnRlbnQoaHRtbF81ZTkxMDYwY2ExYTE0Yjg2OGQ0ODE4MDFhMzBiZTBkMSk7CiAgICAgICAgCgogICAgICAgIG1hcmtlcl8zYjUxNzFmZmRlZGI0OWNjYWMwOWVkYjFhMzViNDY3Yy5iaW5kUG9wdXAocG9wdXBfYjczZmQwM2QzZjk0NGYzZmI0M2QxZDUwYzViZTMxNzMpCiAgICAgICAgOwoKICAgICAgICAKICAgIAogICAgCiAgICAgICAgICAgIHZhciBtYXJrZXJfZmViODM1ZTVjZjFjNDY5MzhhNmNkYTc2ZjliODBhMzQgPSBMLm1hcmtlcigKICAgICAgICAgICAgICAgIFstMzMuOTI4OTkyLCAxOC40MTczOTZdLAogICAgICAgICAgICAgICAge30KICAgICAgICAgICAgKS5hZGRUbyhtYXBfZWM0MDQxYWUxZDYzNDMxYmI1NzZlNWJjOTFkYjZhM2EpOwogICAgICAgIAogICAgCiAgICAgICAgICAgIHZhciBpY29uX2VlMDU2MmUxNjE4YjRmYjBhZGVmMmMwYjE1Zjk1YWE2ID0gTC5Bd2Vzb21lTWFya2Vycy5pY29uKAogICAgICAgICAgICAgICAgeyJleHRyYUNsYXNzZXMiOiAiZmEtcm90YXRlLTAiLCAiaWNvbiI6ICJpbmZvLXNpZ24iLCAiaWNvbkNvbG9yIjogIndoaXRlIiwgIm1hcmtlckNvbG9yIjogImJsdWUiLCAicHJlZml4IjogImdseXBoaWNvbiJ9CiAgICAgICAgICAgICk7CiAgICAgICAgICAgIG1hcmtlcl9mZWI4MzVlNWNmMWM0NjkzOGE2Y2RhNzZmOWI4MGEzNC5zZXRJY29uKGljb25fZWUwNTYyZTE2MThiNGZiMGFkZWYyYzBiMTVmOTVhYTYpOwogICAgICAgIAogICAgCiAgICAgICAgdmFyIHBvcHVwX2ZiYjEwZDg1OWU1MDQxOGY4MjllYmIyNTcxMWZlYzIzID0gTC5wb3B1cCh7Im1heFdpZHRoIjogIjEwMCUifSk7CgogICAgICAgIAogICAgICAgICAgICB2YXIgaHRtbF81YTAwYjJiZGZiZGU0YjU2Yjg2ZmQwNjhmNjU0MzAzYiA9ICQoYDxkaXYgaWQ9Imh0bWxfNWEwMGIyYmRmYmRlNGI1NmI4NmZkMDY4ZjY1NDMwM2IiIHN0eWxlPSJ3aWR0aDogMTAwLjAlOyBoZWlnaHQ6IDEwMC4wJTsiPkNhcGUgVG93bjwvZGl2PmApWzBdOwogICAgICAgICAgICBwb3B1cF9mYmIxMGQ4NTllNTA0MThmODI5ZWJiMjU3MTFmZWMyMy5zZXRDb250ZW50KGh0bWxfNWEwMGIyYmRmYmRlNGI1NmI4NmZkMDY4ZjY1NDMwM2IpOwogICAgICAgIAoKICAgICAgICBtYXJrZXJfZmViODM1ZTVjZjFjNDY5MzhhNmNkYTc2ZjliODBhMzQuYmluZFBvcHVwKHBvcHVwX2ZiYjEwZDg1OWU1MDQxOGY4MjllYmIyNTcxMWZlYzIzKQogICAgICAgIDsKCiAgICAgICAgCiAgICAKICAgIAogICAgICAgICAgICB2YXIgbWFya2VyXzVlMDhkMmM1ZDY4NDQzZTU4YmVlZDQyMGE5Y2YyNDVmID0gTC5tYXJrZXIoCiAgICAgICAgICAgICAgICBbLTYuMTY2NDkwOCwgMzkuMjA3NDMxMl0sCiAgICAgICAgICAgICAgICB7fQogICAgICAgICAgICApLmFkZFRvKG1hcF9lYzQwNDFhZTFkNjM0MzFiYjU3NmU1YmM5MWRiNmEzYSk7CiAgICAgICAgCiAgICAKICAgICAgICAgICAgdmFyIGljb25fMWM2ZDE1OWE1ZGNmNDY0Y2FjNzNlMWMyOGM1ZjU1MjQgPSBMLkF3ZXNvbWVNYXJrZXJzLmljb24oCiAgICAgICAgICAgICAgICB7ImV4dHJhQ2xhc3NlcyI6ICJmYS1yb3RhdGUtMCIsICJpY29uIjogImluZm8tc2lnbiIsICJpY29uQ29sb3IiOiAid2hpdGUiLCAibWFya2VyQ29sb3IiOiAiYmx1ZSIsICJwcmVmaXgiOiAiZ2x5cGhpY29uIn0KICAgICAgICAgICAgKTsKICAgICAgICAgICAgbWFya2VyXzVlMDhkMmM1ZDY4NDQzZTU4YmVlZDQyMGE5Y2YyNDVmLnNldEljb24oaWNvbl8xYzZkMTU5YTVkY2Y0NjRjYWM3M2UxYzI4YzVmNTUyNCk7CiAgICAgICAgCiAgICAKICAgICAgICB2YXIgcG9wdXBfODYzYjEyYzU5ZDg5NDU2MWJjOWUxMTFkZWY5NjZiZjcgPSBMLnBvcHVwKHsibWF4V2lkdGgiOiAiMTAwJSJ9KTsKCiAgICAgICAgCiAgICAgICAgICAgIHZhciBodG1sXzI0NTRjY2JiODU4MzRhYWY5YzBmMmEyNmMyZGFmYjQwID0gJChgPGRpdiBpZD0iaHRtbF8yNDU0Y2NiYjg1ODM0YWFmOWMwZjJhMjZjMmRhZmI0MCIgc3R5bGU9IndpZHRoOiAxMDAuMCU7IGhlaWdodDogMTAwLjAlOyI+WmFuemliYXIgQ2l0eTwvZGl2PmApWzBdOwogICAgICAgICAgICBwb3B1cF84NjNiMTJjNTlkODk0NTYxYmM5ZTExMWRlZjk2NmJmNy5zZXRDb250ZW50KGh0bWxfMjQ1NGNjYmI4NTgzNGFhZjljMGYyYTI2YzJkYWZiNDApOwogICAgICAgIAoKICAgICAgICBtYXJrZXJfNWUwOGQyYzVkNjg0NDNlNThiZWVkNDIwYTljZjI0NWYuYmluZFBvcHVwKHBvcHVwXzg2M2IxMmM1OWQ4OTQ1NjFiYzllMTExZGVmOTY2YmY3KQogICAgICAgIDsKCiAgICAgICAgCiAgICAKICAgIAogICAgICAgICAgICB2YXIgbWFya2VyX2EzMDUyZmU5OWI4OTRiMmVhYWZlNzcxM2FmYmNmZjExID0gTC5tYXJrZXIoCiAgICAgICAgICAgICAgICBbLTIuMjY3NTM5NiwgNDAuOTAxMDY0MV0sCiAgICAgICAgICAgICAgICB7fQogICAgICAgICAgICApLmFkZFRvKG1hcF9lYzQwNDFhZTFkNjM0MzFiYjU3NmU1YmM5MWRiNmEzYSk7CiAgICAgICAgCiAgICAKICAgICAgICAgICAgdmFyIGljb25fZWNkMmI0YmM4ZmU0NDA0NTk5NGNkYmEwNTZjNjJiMzAgPSBMLkF3ZXNvbWVNYXJrZXJzLmljb24oCiAgICAgICAgICAgICAgICB7ImV4dHJhQ2xhc3NlcyI6ICJmYS1yb3RhdGUtMCIsICJpY29uIjogImluZm8tc2lnbiIsICJpY29uQ29sb3IiOiAid2hpdGUiLCAibWFya2VyQ29sb3IiOiAiYmx1ZSIsICJwcmVmaXgiOiAiZ2x5cGhpY29uIn0KICAgICAgICAgICAgKTsKICAgICAgICAgICAgbWFya2VyX2EzMDUyZmU5OWI4OTRiMmVhYWZlNzcxM2FmYmNmZjExLnNldEljb24oaWNvbl9lY2QyYjRiYzhmZTQ0MDQ1OTk0Y2RiYTA1NmM2MmIzMCk7CiAgICAgICAgCiAgICAKICAgICAgICB2YXIgcG9wdXBfYWM1MmJlYjJiZGMwNDM3YThlOTBlYjRkZDQ1MzE4YTkgPSBMLnBvcHVwKHsibWF4V2lkdGgiOiAiMTAwJSJ9KTsKCiAgICAgICAgCiAgICAgICAgICAgIHZhciBodG1sXzliNWM1YzExZWJmNzQwMzk5MWRiYTdmOTM1NGU0NDNkID0gJChgPGRpdiBpZD0iaHRtbF85YjVjNWMxMWViZjc0MDM5OTFkYmE3ZjkzNTRlNDQzZCIgc3R5bGU9IndpZHRoOiAxMDAuMCU7IGhlaWdodDogMTAwLjAlOyI+TGFtdTwvZGl2PmApWzBdOwogICAgICAgICAgICBwb3B1cF9hYzUyYmViMmJkYzA0MzdhOGU5MGViNGRkNDUzMThhOS5zZXRDb250ZW50KGh0bWxfOWI1YzVjMTFlYmY3NDAzOTkxZGJhN2Y5MzU0ZTQ0M2QpOwogICAgICAgIAoKICAgICAgICBtYXJrZXJfYTMwNTJmZTk5Yjg5NGIyZWFhZmU3NzEzYWZiY2ZmMTEuYmluZFBvcHVwKHBvcHVwX2FjNTJiZWIyYmRjMDQzN2E4ZTkwZWI0ZGQ0NTMxOGE5KQogICAgICAgIDsKCiAgICAgICAgCiAgICAKICAgIAogICAgICAgICAgICB2YXIgbWFya2VyXzUxMWRlNTk2MWQ5YzQyOWY5ZTU0ZGYwMDQ3M2UyZDgxID0gTC5tYXJrZXIoCiAgICAgICAgICAgICAgICBbMzEuNTExODI4MSwgLTkuNzYyMDkwM10sCiAgICAgICAgICAgICAgICB7fQogICAgICAgICAgICApLmFkZFRvKG1hcF9lYzQwNDFhZTFkNjM0MzFiYjU3NmU1YmM5MWRiNmEzYSk7CiAgICAgICAgCiAgICAKICAgICAgICAgICAgdmFyIGljb25fNWZhNTkwNTA4MjE1NDAyZThmYzRiMDZmODliYzllOTAgPSBMLkF3ZXNvbWVNYXJrZXJzLmljb24oCiAgICAgICAgICAgICAgICB7ImV4dHJhQ2xhc3NlcyI6ICJmYS1yb3RhdGUtMCIsICJpY29uIjogImluZm8tc2lnbiIsICJpY29uQ29sb3IiOiAid2hpdGUiLCAibWFya2VyQ29sb3IiOiAiYmx1ZSIsICJwcmVmaXgiOiAiZ2x5cGhpY29uIn0KICAgICAgICAgICAgKTsKICAgICAgICAgICAgbWFya2VyXzUxMWRlNTk2MWQ5YzQyOWY5ZTU0ZGYwMDQ3M2UyZDgxLnNldEljb24oaWNvbl81ZmE1OTA1MDgyMTU0MDJlOGZjNGIwNmY4OWJjOWU5MCk7CiAgICAgICAgCiAgICAKICAgICAgICB2YXIgcG9wdXBfNjhjY2UzZDQ3NGUzNDM5ZWEwNGJhYTRjYjc5YjNmMmUgPSBMLnBvcHVwKHsibWF4V2lkdGgiOiAiMTAwJSJ9KTsKCiAgICAgICAgCiAgICAgICAgICAgIHZhciBodG1sXzZjYzE2NDZmNjIwZTRjZGI4NThkOWE2MzUyYjVhYzA5ID0gJChgPGRpdiBpZD0iaHRtbF82Y2MxNjQ2ZjYyMGU0Y2RiODU4ZDlhNjM1MmI1YWMwOSIgc3R5bGU9IndpZHRoOiAxMDAuMCU7IGhlaWdodDogMTAwLjAlOyI+RXNzYW91aXJhPC9kaXY+YClbMF07CiAgICAgICAgICAgIHBvcHVwXzY4Y2NlM2Q0NzRlMzQzOWVhMDRiYWE0Y2I3OWIzZjJlLnNldENvbnRlbnQoaHRtbF82Y2MxNjQ2ZjYyMGU0Y2RiODU4ZDlhNjM1MmI1YWMwOSk7CiAgICAgICAgCgogICAgICAgIG1hcmtlcl81MTFkZTU5NjFkOWM0MjlmOWU1NGRmMDA0NzNlMmQ4MS5iaW5kUG9wdXAocG9wdXBfNjhjY2UzZDQ3NGUzNDM5ZWEwNGJhYTRjYjc5YjNmMmUpCiAgICAgICAgOwoKICAgICAgICAKICAgIAogICAgCiAgICAgICAgICAgIHZhciBtYXJrZXJfNTgwNGI2YjM0YjY5NDJkMmJjNTlmYTNhMjU2NWM5YjcgPSBMLm1hcmtlcigKICAgICAgICAgICAgICAgIFs1NS43NTA0NDYxLCAzNy42MTc0OTQzXSwKICAgICAgICAgICAgICAgIHt9CiAgICAgICAgICAgICkuYWRkVG8obWFwX2VjNDA0MWFlMWQ2MzQzMWJiNTc2ZTViYzkxZGI2YTNhKTsKICAgICAgICAKICAgIAogICAgICAgICAgICB2YXIgaWNvbl9mMTU1ZWVlMTFkMTk0YjhhODJhNWUxNzM4MzljMmJkMCA9IEwuQXdlc29tZU1hcmtlcnMuaWNvbigKICAgICAgICAgICAgICAgIHsiZXh0cmFDbGFzc2VzIjogImZhLXJvdGF0ZS0wIiwgImljb24iOiAiaW5mby1zaWduIiwgImljb25Db2xvciI6ICJ3aGl0ZSIsICJtYXJrZXJDb2xvciI6ICJibHVlIiwgInByZWZpeCI6ICJnbHlwaGljb24ifQogICAgICAgICAgICApOwogICAgICAgICAgICBtYXJrZXJfNTgwNGI2YjM0YjY5NDJkMmJjNTlmYTNhMjU2NWM5Yjcuc2V0SWNvbihpY29uX2YxNTVlZWUxMWQxOTRiOGE4MmE1ZTE3MzgzOWMyYmQwKTsKICAgICAgICAKICAgIAogICAgICAgIHZhciBwb3B1cF85YTAxZGQ5OTUxZTU0MjVjYmRiYTNlODk1NGMxYWNkZCA9IEwucG9wdXAoeyJtYXhXaWR0aCI6ICIxMDAlIn0pOwoKICAgICAgICAKICAgICAgICAgICAgdmFyIGh0bWxfZjZmYWQyZGNiZTMwNDJkZWI0YjcxNmM2NDQxNzBkYWMgPSAkKGA8ZGl2IGlkPSJodG1sX2Y2ZmFkMmRjYmUzMDQyZGViNGI3MTZjNjQ0MTcwZGFjIiBzdHlsZT0id2lkdGg6IDEwMC4wJTsgaGVpZ2h0OiAxMDAuMCU7Ij5Nb3Njb3c8L2Rpdj5gKVswXTsKICAgICAgICAgICAgcG9wdXBfOWEwMWRkOTk1MWU1NDI1Y2JkYmEzZTg5NTRjMWFjZGQuc2V0Q29udGVudChodG1sX2Y2ZmFkMmRjYmUzMDQyZGViNGI3MTZjNjQ0MTcwZGFjKTsKICAgICAgICAKCiAgICAgICAgbWFya2VyXzU4MDRiNmIzNGI2OTQyZDJiYzU5ZmEzYTI1NjVjOWI3LmJpbmRQb3B1cChwb3B1cF85YTAxZGQ5OTUxZTU0MjVjYmRiYTNlODk1NGMxYWNkZCkKICAgICAgICA7CgogICAgICAgIAogICAgCiAgICAKICAgICAgICAgICAgdmFyIG1hcmtlcl80YzYwZTI2YmYzMWI0MTIxYWIwMjdlYTRiOGM0Njk1MyA9IEwubWFya2VyKAogICAgICAgICAgICAgICAgWzU5LjkzODczMiwgMzAuMzE2MjI5XSwKICAgICAgICAgICAgICAgIHt9CiAgICAgICAgICAgICkuYWRkVG8obWFwX2VjNDA0MWFlMWQ2MzQzMWJiNTc2ZTViYzkxZGI2YTNhKTsKICAgICAgICAKICAgIAogICAgICAgICAgICB2YXIgaWNvbl9kMWJkMGNhMWNmMzQ0MjFmYTg3OTBiMjczMmQ0ZGFkMSA9IEwuQXdlc29tZU1hcmtlcnMuaWNvbigKICAgICAgICAgICAgICAgIHsiZXh0cmFDbGFzc2VzIjogImZhLXJvdGF0ZS0wIiwgImljb24iOiAiaW5mby1zaWduIiwgImljb25Db2xvciI6ICJ3aGl0ZSIsICJtYXJrZXJDb2xvciI6ICJibHVlIiwgInByZWZpeCI6ICJnbHlwaGljb24ifQogICAgICAgICAgICApOwogICAgICAgICAgICBtYXJrZXJfNGM2MGUyNmJmMzFiNDEyMWFiMDI3ZWE0YjhjNDY5NTMuc2V0SWNvbihpY29uX2QxYmQwY2ExY2YzNDQyMWZhODc5MGIyNzMyZDRkYWQxKTsKICAgICAgICAKICAgIAogICAgICAgIHZhciBwb3B1cF80ZTYyZWY4ZTI3ZmE0ZGNhYWRkZDhmM2JhZGNlYTgzZiA9IEwucG9wdXAoeyJtYXhXaWR0aCI6ICIxMDAlIn0pOwoKICAgICAgICAKICAgICAgICAgICAgdmFyIGh0bWxfNjdjZmVkYWRiYjVjNDcwMjk5ZWExYmQ2NDU0NDdkZjYgPSAkKGA8ZGl2IGlkPSJodG1sXzY3Y2ZlZGFkYmI1YzQ3MDI5OWVhMWJkNjQ1NDQ3ZGY2IiBzdHlsZT0id2lkdGg6IDEwMC4wJTsgaGVpZ2h0OiAxMDAuMCU7Ij5TdCBQZXRlcnNidXJnPC9kaXY+YClbMF07CiAgICAgICAgICAgIHBvcHVwXzRlNjJlZjhlMjdmYTRkY2FhZGRkOGYzYmFkY2VhODNmLnNldENvbnRlbnQoaHRtbF82N2NmZWRhZGJiNWM0NzAyOTllYTFiZDY0NTQ0N2RmNik7CiAgICAgICAgCgogICAgICAgIG1hcmtlcl80YzYwZTI2YmYzMWI0MTIxYWIwMjdlYTRiOGM0Njk1My5iaW5kUG9wdXAocG9wdXBfNGU2MmVmOGUyN2ZhNGRjYWFkZGQ4ZjNiYWRjZWE4M2YpCiAgICAgICAgOwoKICAgICAgICAKICAgIAogICAgCiAgICAgICAgICAgIHZhciBtYXJrZXJfNWIxOTIxYjU5NDE5NDNiODlkMmZkYzcxNjY1MWQ4MDEgPSBMLm1hcmtlcigKICAgICAgICAgICAgICAgIFs1NS43ODIzNTQ3LCA0OS4xMjQyMjY2XSwKICAgICAgICAgICAgICAgIHt9CiAgICAgICAgICAgICkuYWRkVG8obWFwX2VjNDA0MWFlMWQ2MzQzMWJiNTc2ZTViYzkxZGI2YTNhKTsKICAgICAgICAKICAgIAogICAgICAgICAgICB2YXIgaWNvbl9iYzBlMzc1YTMyMDg0YmRjYWQwYTljOTlkNDlmZTA4OCA9IEwuQXdlc29tZU1hcmtlcnMuaWNvbigKICAgICAgICAgICAgICAgIHsiZXh0cmFDbGFzc2VzIjogImZhLXJvdGF0ZS0wIiwgImljb24iOiAiaW5mby1zaWduIiwgImljb25Db2xvciI6ICJ3aGl0ZSIsICJtYXJrZXJDb2xvciI6ICJibHVlIiwgInByZWZpeCI6ICJnbHlwaGljb24ifQogICAgICAgICAgICApOwogICAgICAgICAgICBtYXJrZXJfNWIxOTIxYjU5NDE5NDNiODlkMmZkYzcxNjY1MWQ4MDEuc2V0SWNvbihpY29uX2JjMGUzNzVhMzIwODRiZGNhZDBhOWM5OWQ0OWZlMDg4KTsKICAgICAgICAKICAgIAogICAgICAgIHZhciBwb3B1cF9mNjdkN2FiNmQ2YjU0ZmE3YmM1Y2QxMzgyZjY2ZWZhNyA9IEwucG9wdXAoeyJtYXhXaWR0aCI6ICIxMDAlIn0pOwoKICAgICAgICAKICAgICAgICAgICAgdmFyIGh0bWxfNTZkNTRkZmZkOThkNDdkODk4OTMyM2RhMTI0Y2I1M2QgPSAkKGA8ZGl2IGlkPSJodG1sXzU2ZDU0ZGZmZDk4ZDQ3ZDg5ODkzMjNkYTEyNGNiNTNkIiBzdHlsZT0id2lkdGg6IDEwMC4wJTsgaGVpZ2h0OiAxMDAuMCU7Ij5LYXphbjwvZGl2PmApWzBdOwogICAgICAgICAgICBwb3B1cF9mNjdkN2FiNmQ2YjU0ZmE3YmM1Y2QxMzgyZjY2ZWZhNy5zZXRDb250ZW50KGh0bWxfNTZkNTRkZmZkOThkNDdkODk4OTMyM2RhMTI0Y2I1M2QpOwogICAgICAgIAoKICAgICAgICBtYXJrZXJfNWIxOTIxYjU5NDE5NDNiODlkMmZkYzcxNjY1MWQ4MDEuYmluZFBvcHVwKHBvcHVwX2Y2N2Q3YWI2ZDZiNTRmYTdiYzVjZDEzODJmNjZlZmE3KQogICAgICAgIDsKCiAgICAgICAgCiAgICAKICAgIAogICAgICAgICAgICB2YXIgbWFya2VyXzBmNTBiYjFkMDYyYzQyMWU5ZDhjYjQyZDc0YjEzYWViID0gTC5tYXJrZXIoCiAgICAgICAgICAgICAgICBbNTYuODM5MTA0LCA2MC42MDgyNV0sCiAgICAgICAgICAgICAgICB7fQogICAgICAgICAgICApLmFkZFRvKG1hcF9lYzQwNDFhZTFkNjM0MzFiYjU3NmU1YmM5MWRiNmEzYSk7CiAgICAgICAgCiAgICAKICAgICAgICAgICAgdmFyIGljb25fMjhkM2JlZDc0ZTljNDE4MjlhNTg2MzI3YjJkNWExYmQgPSBMLkF3ZXNvbWVNYXJrZXJzLmljb24oCiAgICAgICAgICAgICAgICB7ImV4dHJhQ2xhc3NlcyI6ICJmYS1yb3RhdGUtMCIsICJpY29uIjogImluZm8tc2lnbiIsICJpY29uQ29sb3IiOiAid2hpdGUiLCAibWFya2VyQ29sb3IiOiAiYmx1ZSIsICJwcmVmaXgiOiAiZ2x5cGhpY29uIn0KICAgICAgICAgICAgKTsKICAgICAgICAgICAgbWFya2VyXzBmNTBiYjFkMDYyYzQyMWU5ZDhjYjQyZDc0YjEzYWViLnNldEljb24oaWNvbl8yOGQzYmVkNzRlOWM0MTgyOWE1ODYzMjdiMmQ1YTFiZCk7CiAgICAgICAgCiAgICAKICAgICAgICB2YXIgcG9wdXBfNTI3MTcxZWJiMTc5NDAyNjlkNzVjNDVkODVmZmFjNWMgPSBMLnBvcHVwKHsibWF4V2lkdGgiOiAiMTAwJSJ9KTsKCiAgICAgICAgCiAgICAgICAgICAgIHZhciBodG1sX2E0MThiZmE5OTA2MzRlZjQ4NWM5NDg1OGZhMjc2OTA1ID0gJChgPGRpdiBpZD0iaHRtbF9hNDE4YmZhOTkwNjM0ZWY0ODVjOTQ4NThmYTI3NjkwNSIgc3R5bGU9IndpZHRoOiAxMDAuMCU7IGhlaWdodDogMTAwLjAlOyI+WWVrYXRlcmluYnVyZzwvZGl2PmApWzBdOwogICAgICAgICAgICBwb3B1cF81MjcxNzFlYmIxNzk0MDI2OWQ3NWM0NWQ4NWZmYWM1Yy5zZXRDb250ZW50KGh0bWxfYTQxOGJmYTk5MDYzNGVmNDg1Yzk0ODU4ZmEyNzY5MDUpOwogICAgICAgIAoKICAgICAgICBtYXJrZXJfMGY1MGJiMWQwNjJjNDIxZTlkOGNiNDJkNzRiMTNhZWIuYmluZFBvcHVwKHBvcHVwXzUyNzE3MWViYjE3OTQwMjY5ZDc1YzQ1ZDg1ZmZhYzVjKQogICAgICAgIDsKCiAgICAgICAgCiAgICAKICAgIAogICAgICAgICAgICB2YXIgbWFya2VyXzQ1MDk2M2IxYzdjMjQ5ZjU4YTYxYmE0MmYzNWQ1Yjk5ID0gTC5tYXJrZXIoCiAgICAgICAgICAgICAgICBbLTMxLjk1MjcxMjEsIDExNS44NjA0Nzk2XSwKICAgICAgICAgICAgICAgIHt9CiAgICAgICAgICAgICkuYWRkVG8obWFwX2VjNDA0MWFlMWQ2MzQzMWJiNTc2ZTViYzkxZGI2YTNhKTsKICAgICAgICAKICAgIAogICAgICAgICAgICB2YXIgaWNvbl82YzlmOWIwNGZkOWI0OTY5YTZlNTEyNDNhNTQ2N2QyMiA9IEwuQXdlc29tZU1hcmtlcnMuaWNvbigKICAgICAgICAgICAgICAgIHsiZXh0cmFDbGFzc2VzIjogImZhLXJvdGF0ZS0wIiwgImljb24iOiAiaW5mby1zaWduIiwgImljb25Db2xvciI6ICJ3aGl0ZSIsICJtYXJrZXJDb2xvciI6ICJibHVlIiwgInByZWZpeCI6ICJnbHlwaGljb24ifQogICAgICAgICAgICApOwogICAgICAgICAgICBtYXJrZXJfNDUwOTYzYjFjN2MyNDlmNThhNjFiYTQyZjM1ZDViOTkuc2V0SWNvbihpY29uXzZjOWY5YjA0ZmQ5YjQ5NjlhNmU1MTI0M2E1NDY3ZDIyKTsKICAgICAgICAKICAgIAogICAgICAgIHZhciBwb3B1cF9hNmQ2MDg5MzY2YTc0NmQ3ODBlZDhkZjMxZGNmMDRmOSA9IEwucG9wdXAoeyJtYXhXaWR0aCI6ICIxMDAlIn0pOwoKICAgICAgICAKICAgICAgICAgICAgdmFyIGh0bWxfZjgxNmZiNjc4YWNiNGE3MmI3ZjU0NDZhOWNlMjFmZTcgPSAkKGA8ZGl2IGlkPSJodG1sX2Y4MTZmYjY3OGFjYjRhNzJiN2Y1NDQ2YTljZTIxZmU3IiBzdHlsZT0id2lkdGg6IDEwMC4wJTsgaGVpZ2h0OiAxMDAuMCU7Ij5QZXJ0aDwvZGl2PmApWzBdOwogICAgICAgICAgICBwb3B1cF9hNmQ2MDg5MzY2YTc0NmQ3ODBlZDhkZjMxZGNmMDRmOS5zZXRDb250ZW50KGh0bWxfZjgxNmZiNjc4YWNiNGE3MmI3ZjU0NDZhOWNlMjFmZTcpOwogICAgICAgIAoKICAgICAgICBtYXJrZXJfNDUwOTYzYjFjN2MyNDlmNThhNjFiYTQyZjM1ZDViOTkuYmluZFBvcHVwKHBvcHVwX2E2ZDYwODkzNjZhNzQ2ZDc4MGVkOGRmMzFkY2YwNGY5KQogICAgICAgIDsKCiAgICAgICAgCiAgICAKICAgIAogICAgICAgICAgICB2YXIgbWFya2VyXzdkOTE0YzA5ZDJhZjRmNTY4Y2Y0ODhjMGZjZWQ5MGEzID0gTC5tYXJrZXIoCiAgICAgICAgICAgICAgICBbLTMzLjk1MzE3NzYsIDExNS4wNzY5MzY5XSwKICAgICAgICAgICAgICAgIHt9CiAgICAgICAgICAgICkuYWRkVG8obWFwX2VjNDA0MWFlMWQ2MzQzMWJiNTc2ZTViYzkxZGI2YTNhKTsKICAgICAgICAKICAgIAogICAgICAgICAgICB2YXIgaWNvbl80MjM5YWIwMWM4MTE0Mzk4OGQ2YTM1Yzk0MzEwYTUyMyA9IEwuQXdlc29tZU1hcmtlcnMuaWNvbigKICAgICAgICAgICAgICAgIHsiZXh0cmFDbGFzc2VzIjogImZhLXJvdGF0ZS0wIiwgImljb24iOiAiaW5mby1zaWduIiwgImljb25Db2xvciI6ICJ3aGl0ZSIsICJtYXJrZXJDb2xvciI6ICJibHVlIiwgInByZWZpeCI6ICJnbHlwaGljb24ifQogICAgICAgICAgICApOwogICAgICAgICAgICBtYXJrZXJfN2Q5MTRjMDlkMmFmNGY1NjhjZjQ4OGMwZmNlZDkwYTMuc2V0SWNvbihpY29uXzQyMzlhYjAxYzgxMTQzOTg4ZDZhMzVjOTQzMTBhNTIzKTsKICAgICAgICAKICAgIAogICAgICAgIHZhciBwb3B1cF80YjFlMzRiNmE4N2Q0NmU1YTMyNDE1MjJlMzM5YWJiOSA9IEwucG9wdXAoeyJtYXhXaWR0aCI6ICIxMDAlIn0pOwoKICAgICAgICAKICAgICAgICAgICAgdmFyIGh0bWxfMTU4YWNhMzUzYTM2NGE0Y2JiMmQ2ZTAwMTg3MzQ2NjAgPSAkKGA8ZGl2IGlkPSJodG1sXzE1OGFjYTM1M2EzNjRhNGNiYjJkNmUwMDE4NzM0NjYwIiBzdHlsZT0id2lkdGg6IDEwMC4wJTsgaGVpZ2h0OiAxMDAuMCU7Ij5NYXJnYXJldCBSaXZlcjwvZGl2PmApWzBdOwogICAgICAgICAgICBwb3B1cF80YjFlMzRiNmE4N2Q0NmU1YTMyNDE1MjJlMzM5YWJiOS5zZXRDb250ZW50KGh0bWxfMTU4YWNhMzUzYTM2NGE0Y2JiMmQ2ZTAwMTg3MzQ2NjApOwogICAgICAgIAoKICAgICAgICBtYXJrZXJfN2Q5MTRjMDlkMmFmNGY1NjhjZjQ4OGMwZmNlZDkwYTMuYmluZFBvcHVwKHBvcHVwXzRiMWUzNGI2YTg3ZDQ2ZTVhMzI0MTUyMmUzMzlhYmI5KQogICAgICAgIDsKCiAgICAgICAgCiAgICAKICAgIAogICAgICAgICAgICB2YXIgbWFya2VyX2U1M2Q0YTU1ZDc3OTQ5ZjBiYmYyYTk1MmNlNWJiMjAxID0gTC5tYXJrZXIoCiAgICAgICAgICAgICAgICBbLTM3LjgxNDIxNzYsIDE0NC45NjMxNjA4XSwKICAgICAgICAgICAgICAgIHt9CiAgICAgICAgICAgICkuYWRkVG8obWFwX2VjNDA0MWFlMWQ2MzQzMWJiNTc2ZTViYzkxZGI2YTNhKTsKICAgICAgICAKICAgIAogICAgICAgICAgICB2YXIgaWNvbl81OGM2OWEzZWU3MDY0YWE3YmUwOGVlZjJkZmNmMzg0YSA9IEwuQXdlc29tZU1hcmtlcnMuaWNvbigKICAgICAgICAgICAgICAgIHsiZXh0cmFDbGFzc2VzIjogImZhLXJvdGF0ZS0wIiwgImljb24iOiAiaW5mby1zaWduIiwgImljb25Db2xvciI6ICJ3aGl0ZSIsICJtYXJrZXJDb2xvciI6ICJibHVlIiwgInByZWZpeCI6ICJnbHlwaGljb24ifQogICAgICAgICAgICApOwogICAgICAgICAgICBtYXJrZXJfZTUzZDRhNTVkNzc5NDlmMGJiZjJhOTUyY2U1YmIyMDEuc2V0SWNvbihpY29uXzU4YzY5YTNlZTcwNjRhYTdiZTA4ZWVmMmRmY2YzODRhKTsKICAgICAgICAKICAgIAogICAgICAgIHZhciBwb3B1cF8yNDJmYzhmZGFhMjI0YWEwODVmOWQxNjU1OWMwYWM2MiA9IEwucG9wdXAoeyJtYXhXaWR0aCI6ICIxMDAlIn0pOwoKICAgICAgICAKICAgICAgICAgICAgdmFyIGh0bWxfYWQ0MjQwZGM5MmRhNGI2ZGJjZmUyMTM1YzkzY2NhZjIgPSAkKGA8ZGl2IGlkPSJodG1sX2FkNDI0MGRjOTJkYTRiNmRiY2ZlMjEzNWM5M2NjYWYyIiBzdHlsZT0id2lkdGg6IDEwMC4wJTsgaGVpZ2h0OiAxMDAuMCU7Ij5NZWxib3VybmU8L2Rpdj5gKVswXTsKICAgICAgICAgICAgcG9wdXBfMjQyZmM4ZmRhYTIyNGFhMDg1ZjlkMTY1NTljMGFjNjIuc2V0Q29udGVudChodG1sX2FkNDI0MGRjOTJkYTRiNmRiY2ZlMjEzNWM5M2NjYWYyKTsKICAgICAgICAKCiAgICAgICAgbWFya2VyX2U1M2Q0YTU1ZDc3OTQ5ZjBiYmYyYTk1MmNlNWJiMjAxLmJpbmRQb3B1cChwb3B1cF8yNDJmYzhmZGFhMjI0YWEwODVmOWQxNjU1OWMwYWM2MikKICAgICAgICA7CgogICAgICAgIAogICAgCiAgICAKICAgICAgICAgICAgdmFyIG1hcmtlcl9lNDdlZGUyNzFmMGI0ZTU4ODcxYTU4NzQyNDk3NjJmNCA9IEwubWFya2VyKAogICAgICAgICAgICAgICAgWy0xNi40ODQ1OTgzLCAxNDUuNDYzNjI5NF0sCiAgICAgICAgICAgICAgICB7fQogICAgICAgICAgICApLmFkZFRvKG1hcF9lYzQwNDFhZTFkNjM0MzFiYjU3NmU1YmM5MWRiNmEzYSk7CiAgICAgICAgCiAgICAKICAgICAgICAgICAgdmFyIGljb25fODU4M2UzNDBlMzY1NDhiYWI4YjE1MGQyYTZiZDEzOWYgPSBMLkF3ZXNvbWVNYXJrZXJzLmljb24oCiAgICAgICAgICAgICAgICB7ImV4dHJhQ2xhc3NlcyI6ICJmYS1yb3RhdGUtMCIsICJpY29uIjogImluZm8tc2lnbiIsICJpY29uQ29sb3IiOiAid2hpdGUiLCAibWFya2VyQ29sb3IiOiAiYmx1ZSIsICJwcmVmaXgiOiAiZ2x5cGhpY29uIn0KICAgICAgICAgICAgKTsKICAgICAgICAgICAgbWFya2VyX2U0N2VkZTI3MWYwYjRlNTg4NzFhNTg3NDI0OTc2MmY0LnNldEljb24oaWNvbl84NTgzZTM0MGUzNjU0OGJhYjhiMTUwZDJhNmJkMTM5Zik7CiAgICAgICAgCiAgICAKICAgICAgICB2YXIgcG9wdXBfMTM4MThmNTRhNmQxNGRkMjg5MzRhODJjMzQ3ZGRhNzMgPSBMLnBvcHVwKHsibWF4V2lkdGgiOiAiMTAwJSJ9KTsKCiAgICAgICAgCiAgICAgICAgICAgIHZhciBodG1sXzM5MTQ4YzA5NzA2ODQ2MDg5NGRiZDg2OWNlN2ZjNWM3ID0gJChgPGRpdiBpZD0iaHRtbF8zOTE0OGMwOTcwNjg0NjA4OTRkYmQ4NjljZTdmYzVjNyIgc3R5bGU9IndpZHRoOiAxMDAuMCU7IGhlaWdodDogMTAwLjAlOyI+UG9ydCBEb3VnbGFzPC9kaXY+YClbMF07CiAgICAgICAgICAgIHBvcHVwXzEzODE4ZjU0YTZkMTRkZDI4OTM0YTgyYzM0N2RkYTczLnNldENvbnRlbnQoaHRtbF8zOTE0OGMwOTcwNjg0NjA4OTRkYmQ4NjljZTdmYzVjNyk7CiAgICAgICAgCgogICAgICAgIG1hcmtlcl9lNDdlZGUyNzFmMGI0ZTU4ODcxYTU4NzQyNDk3NjJmNC5iaW5kUG9wdXAocG9wdXBfMTM4MThmNTRhNmQxNGRkMjg5MzRhODJjMzQ3ZGRhNzMpCiAgICAgICAgOwoKICAgICAgICAKICAgIAo8L3NjcmlwdD4= onload=\"this.contentDocument.open();this.contentDocument.write(atob(this.getAttribute('data-html')));this.contentDocument.close();\" allowfullscreen webkitallowfullscreen mozallowfullscreen></iframe></div></div>"
      ],
      "text/plain": [
       "<folium.folium.Map at 0x20d9b12a250>"
      ]
     },
     "execution_count": 10,
     "metadata": {},
     "output_type": "execute_result"
    }
   ],
   "source": [
    "world_map = folium.Map(location=[0, 0], zoom_start=1.5)\n",
    "\n",
    "for row in cities.iterrows():\n",
    "    row = row[1]\n",
    "    marker = folium.Marker([row.Latitude, row.Longitude], popup=row.City, icon=folium.Icon(color='blue'))\n",
    "    marker.add_to(world_map)\n",
    "\n",
    "world_map"
   ]
  },
  {
   "cell_type": "markdown",
   "metadata": {},
   "source": [
    "Now our map is filled with nice tourist cities. I will export the data obtained to a .csv file so you can use it without running the code."
   ]
  },
  {
   "cell_type": "code",
   "execution_count": 11,
   "metadata": {},
   "outputs": [],
   "source": [
    "cities.to_csv(\"../data/capstone/city_coords.csv\", index=False)"
   ]
  },
  {
   "cell_type": "markdown",
   "metadata": {},
   "source": [
    "### Choosing bad tourist cities"
   ]
  },
  {
   "cell_type": "markdown",
   "metadata": {},
   "source": [
    "Of course, our algorithm not only needs good tourist cities, but it also needs *bad* ones. Let's choose some from the following articles:\n",
    "\n",
    "- https://journalistontherun.com/2016/01/04/15-worst-travel-destinations/\n",
    "- https://www.mapquest.com/travel/the-worst-cities-to-visit-in-the-united-states/\n",
    "- https://www.smartertravel.com/9-boring-cities-world/\n",
    "- https://leaveyourdailyhell.com/2019/10/14/most-boring-cities-in-the-world/"
   ]
  },
  {
   "cell_type": "markdown",
   "metadata": {},
   "source": [
    "- Cunnamulla, Australia\n",
    "- Malabo, Equatorial Guinea\n",
    "- Naples, Italy\n",
    "- Potosí, Bolivia\n",
    "- Flores, Indonesia\n",
    "- Bratislava, Slovakia\n",
    "- Mandalay, Myanmar\n",
    "- Saigon, Vietnam\n",
    "- Pyongyang, North Korea\n",
    "- St Louis, United States\n",
    "- Detroit, United States\n",
    "- Oakland, United States\n",
    "- Atlatna, United States\n",
    "- Nagoya, Japan\n",
    "- Casablanca, Morocco\n",
    "- Ottawa, Canada\n",
    "- Frankfurt, Germany\n",
    "- Nassau, Bahamas\n",
    "- Zurich, Switzerland\n",
    "- Canberra, Australia\n",
    "- Guayaquil, Ecuador\n",
    "- Agra, India\n",
    "- Brisbane, Australia\n",
    "- Bucharest, Romania\n",
    "- Haifa, Israel\n",
    "- Mexico City, Mexico\n",
    "- Oslo, Norway\n",
    "- Vientiane, Laos"
   ]
  },
  {
   "cell_type": "markdown",
   "metadata": {},
   "source": [
    "Now, let's do the same process again to obtain the coords for these cities."
   ]
  },
  {
   "cell_type": "code",
   "execution_count": 12,
   "metadata": {},
   "outputs": [],
   "source": [
    "boring_cities = [\n",
    "    [\"Cunnamulla\", \"Australia\"],\n",
    "    [\"Malabo\", \"Equatorial Guinea\"],\n",
    "    [\"Naples\", \"Italy\"],\n",
    "    [\"Potosí\", \"Bolivia\"],\n",
    "    [\"Flores\", \"Indonesia\"],\n",
    "    [\"Bratislava\", \"Slovakia\"],\n",
    "    [\"Mandalay\", \"Myanmar\"],\n",
    "    [\"Saigon\", \"Vietnam\"],\n",
    "    [\"Pyongyang\", \"North Korea\"],\n",
    "    [\"St Louis\", \"United States\"],\n",
    "    [\"Detroit\", \"United States\"],\n",
    "    [\"Oakland\", \"United States\"],\n",
    "    [\"Atlanta\", \"United States\"],\n",
    "    [\"Nagoya\", \"Japan\"],\n",
    "    [\"Casablanca\", \"Morocco\"],\n",
    "    [\"Ottawa\", \"Canada\"],\n",
    "    [\"Frankfurt\", \"Germany\"],\n",
    "    [\"Nassau\", \"Bahamas\"],\n",
    "    [\"Zurich\", \"Switzerland\"],\n",
    "    [\"Canberra\", \"Australia\"],\n",
    "    [\"Guayaquil\", \"Ecuador\"],\n",
    "    [\"Agra\", \"India\"],\n",
    "    [\"Brisbane\", \"Australia\"],\n",
    "    [\"Bucharest\", \"Romania\"],\n",
    "    [\"Haifa\", \"Israel\"],\n",
    "    [\"Mexico City\", \"Mexico\"],\n",
    "    [\"Oslo\", \"Norway\"],\n",
    "    [\"Vientiane\", \"Laos\"],\n",
    "]"
   ]
  },
  {
   "cell_type": "code",
   "execution_count": 13,
   "metadata": {},
   "outputs": [],
   "source": [
    "for row in boring_cities:\n",
    "    row.append(find_city_coords(row[0], row[1])[0]) # Append latitude.\n",
    "    row.append(find_city_coords(row[0], row[1])[1]) # Append longitude."
   ]
  },
  {
   "cell_type": "code",
   "execution_count": 14,
   "metadata": {},
   "outputs": [],
   "source": [
    "boring_cities = pd.DataFrame(boring_cities, columns=cities.columns)"
   ]
  },
  {
   "cell_type": "code",
   "execution_count": 15,
   "metadata": {},
   "outputs": [
    {
     "data": {
      "text/html": [
       "<div style=\"width:100%;\"><div style=\"position:relative;width:100%;height:0;padding-bottom:60%;\"><span style=\"color:#565656\">Make this Notebook Trusted to load map: File -> Trust Notebook</span><iframe src=\"about:blank\" style=\"position:absolute;width:100%;height:100%;left:0;top:0;border:none !important;\" data-html=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 onload=\"this.contentDocument.open();this.contentDocument.write(atob(this.getAttribute('data-html')));this.contentDocument.close();\" allowfullscreen webkitallowfullscreen mozallowfullscreen></iframe></div></div>"
      ],
      "text/plain": [
       "<folium.folium.Map at 0x20d9b1a8dc0>"
      ]
     },
     "execution_count": 15,
     "metadata": {},
     "output_type": "execute_result"
    }
   ],
   "source": [
    "boring_map = folium.Map(location=[0, 0], zoom_start=1.5)\n",
    "\n",
    "for row in boring_cities.iterrows():\n",
    "    row = row[1]\n",
    "    marker = folium.Marker([row.Latitude, row.Longitude], popup=row.City, icon=folium.Icon(color='red'))\n",
    "    marker.add_to(boring_map)\n",
    "\n",
    "boring_map"
   ]
  },
  {
   "cell_type": "markdown",
   "metadata": {},
   "source": [
    "### Merging in a single DataFrame"
   ]
  },
  {
   "cell_type": "markdown",
   "metadata": {},
   "source": [
    "Now, it would be nice to have all the data we've collected so far merged in a single DataFrame. A new column will be added, indicating if the city is nice or not for tourism."
   ]
  },
  {
   "cell_type": "code",
   "execution_count": 16,
   "metadata": {},
   "outputs": [],
   "source": [
    "cities[\"Tourist\"] = 1\n",
    "boring_cities[\"Tourist\"] = 0\n",
    "\n",
    "cities = cities.append(boring_cities, ignore_index=True)"
   ]
  },
  {
   "cell_type": "code",
   "execution_count": 17,
   "metadata": {},
   "outputs": [
    {
     "data": {
      "text/html": [
       "<div>\n",
       "<style scoped>\n",
       "    .dataframe tbody tr th:only-of-type {\n",
       "        vertical-align: middle;\n",
       "    }\n",
       "\n",
       "    .dataframe tbody tr th {\n",
       "        vertical-align: top;\n",
       "    }\n",
       "\n",
       "    .dataframe thead th {\n",
       "        text-align: right;\n",
       "    }\n",
       "</style>\n",
       "<table border=\"1\" class=\"dataframe\">\n",
       "  <thead>\n",
       "    <tr style=\"text-align: right;\">\n",
       "      <th></th>\n",
       "      <th>City</th>\n",
       "      <th>Country</th>\n",
       "      <th>Latitude</th>\n",
       "      <th>Longitude</th>\n",
       "      <th>Tourist</th>\n",
       "    </tr>\n",
       "  </thead>\n",
       "  <tbody>\n",
       "    <tr>\n",
       "      <th>0</th>\n",
       "      <td>Hong Kong</td>\n",
       "      <td>China</td>\n",
       "      <td>22.279328</td>\n",
       "      <td>114.162813</td>\n",
       "      <td>1</td>\n",
       "    </tr>\n",
       "    <tr>\n",
       "      <th>1</th>\n",
       "      <td>Bangkok</td>\n",
       "      <td>Thailand</td>\n",
       "      <td>13.754424</td>\n",
       "      <td>100.493040</td>\n",
       "      <td>1</td>\n",
       "    </tr>\n",
       "    <tr>\n",
       "      <th>2</th>\n",
       "      <td>London</td>\n",
       "      <td>United Kingdom</td>\n",
       "      <td>51.507322</td>\n",
       "      <td>-0.127647</td>\n",
       "      <td>1</td>\n",
       "    </tr>\n",
       "    <tr>\n",
       "      <th>3</th>\n",
       "      <td>Macau</td>\n",
       "      <td>China</td>\n",
       "      <td>22.189945</td>\n",
       "      <td>113.538045</td>\n",
       "      <td>1</td>\n",
       "    </tr>\n",
       "    <tr>\n",
       "      <th>4</th>\n",
       "      <td>Singapore</td>\n",
       "      <td>Singapore</td>\n",
       "      <td>1.290475</td>\n",
       "      <td>103.852036</td>\n",
       "      <td>1</td>\n",
       "    </tr>\n",
       "  </tbody>\n",
       "</table>\n",
       "</div>"
      ],
      "text/plain": [
       "        City         Country   Latitude   Longitude  Tourist\n",
       "0  Hong Kong           China  22.279328  114.162813        1\n",
       "1    Bangkok        Thailand  13.754424  100.493040        1\n",
       "2     London  United Kingdom  51.507322   -0.127647        1\n",
       "3      Macau           China  22.189945  113.538045        1\n",
       "4  Singapore       Singapore   1.290475  103.852036        1"
      ]
     },
     "execution_count": 17,
     "metadata": {},
     "output_type": "execute_result"
    }
   ],
   "source": [
    "cities.head()"
   ]
  },
  {
   "cell_type": "code",
   "execution_count": 18,
   "metadata": {},
   "outputs": [
    {
     "data": {
      "text/html": [
       "<div>\n",
       "<style scoped>\n",
       "    .dataframe tbody tr th:only-of-type {\n",
       "        vertical-align: middle;\n",
       "    }\n",
       "\n",
       "    .dataframe tbody tr th {\n",
       "        vertical-align: top;\n",
       "    }\n",
       "\n",
       "    .dataframe thead th {\n",
       "        text-align: right;\n",
       "    }\n",
       "</style>\n",
       "<table border=\"1\" class=\"dataframe\">\n",
       "  <thead>\n",
       "    <tr style=\"text-align: right;\">\n",
       "      <th></th>\n",
       "      <th>City</th>\n",
       "      <th>Country</th>\n",
       "      <th>Latitude</th>\n",
       "      <th>Longitude</th>\n",
       "      <th>Tourist</th>\n",
       "    </tr>\n",
       "  </thead>\n",
       "  <tbody>\n",
       "    <tr>\n",
       "      <th>52</th>\n",
       "      <td>Bucharest</td>\n",
       "      <td>Romania</td>\n",
       "      <td>44.436141</td>\n",
       "      <td>26.102720</td>\n",
       "      <td>0</td>\n",
       "    </tr>\n",
       "    <tr>\n",
       "      <th>53</th>\n",
       "      <td>Haifa</td>\n",
       "      <td>Israel</td>\n",
       "      <td>32.819122</td>\n",
       "      <td>34.998386</td>\n",
       "      <td>0</td>\n",
       "    </tr>\n",
       "    <tr>\n",
       "      <th>54</th>\n",
       "      <td>Mexico City</td>\n",
       "      <td>Mexico</td>\n",
       "      <td>19.432630</td>\n",
       "      <td>-99.133178</td>\n",
       "      <td>0</td>\n",
       "    </tr>\n",
       "    <tr>\n",
       "      <th>55</th>\n",
       "      <td>Oslo</td>\n",
       "      <td>Norway</td>\n",
       "      <td>59.913330</td>\n",
       "      <td>10.738970</td>\n",
       "      <td>0</td>\n",
       "    </tr>\n",
       "    <tr>\n",
       "      <th>56</th>\n",
       "      <td>Vientiane</td>\n",
       "      <td>Laos</td>\n",
       "      <td>17.964099</td>\n",
       "      <td>102.613371</td>\n",
       "      <td>0</td>\n",
       "    </tr>\n",
       "  </tbody>\n",
       "</table>\n",
       "</div>"
      ],
      "text/plain": [
       "           City  Country   Latitude   Longitude  Tourist\n",
       "52    Bucharest  Romania  44.436141   26.102720        0\n",
       "53        Haifa   Israel  32.819122   34.998386        0\n",
       "54  Mexico City   Mexico  19.432630  -99.133178        0\n",
       "55         Oslo   Norway  59.913330   10.738970        0\n",
       "56    Vientiane     Laos  17.964099  102.613371        0"
      ]
     },
     "execution_count": 18,
     "metadata": {},
     "output_type": "execute_result"
    }
   ],
   "source": [
    "cities.tail()"
   ]
  },
  {
   "cell_type": "markdown",
   "metadata": {},
   "source": [
    "### Obtaining venue data"
   ]
  },
  {
   "cell_type": "markdown",
   "metadata": {},
   "source": [
    "The next step is obtaining venue data using the Foursquare API. I will be using the `dotenv` package to save my API credentials safely. If you want to run this notebook you will have to provide your API credentials saving them in the `.env` file in the root directory."
   ]
  },
  {
   "cell_type": "code",
   "execution_count": 19,
   "metadata": {},
   "outputs": [
    {
     "data": {
      "text/plain": [
       "True"
      ]
     },
     "execution_count": 19,
     "metadata": {},
     "output_type": "execute_result"
    }
   ],
   "source": [
    "# !pip install python-dotenv\n",
    "from dotenv import load_dotenv\n",
    "import os\n",
    "load_dotenv(dotenv_path=\"../.env\")"
   ]
  },
  {
   "cell_type": "code",
   "execution_count": 20,
   "metadata": {},
   "outputs": [],
   "source": [
    "FOURSQUARE_VERSION = \"20201612\"\n",
    "FOURSQUARE_ID = os.getenv(\"FOURSQUARE_ID\")\n",
    "FOURSQUARE_SECRET = os.getenv(\"FOURSQUARE_SECRET\")"
   ]
  },
  {
   "cell_type": "code",
   "execution_count": 21,
   "metadata": {},
   "outputs": [],
   "source": [
    "def get_category_tree(cat_list):\n",
    "    categories = {}\n",
    "    \n",
    "    for cat in cat_list:\n",
    "        if cat[\"categories\"] != []:\n",
    "            subcat = get_category_tree(cat[\"categories\"])\n",
    "            categories[cat[\"name\"]] = subcat\n",
    "        else:\n",
    "            categories[cat[\"name\"]] = {}# cat[\"name\"]\n",
    "    \n",
    "    return categories\n",
    "\n",
    "request = requests.get(url=\"https://api.foursquare.com/v2/venues/categories\", params={\n",
    "    \"client_id\": FOURSQUARE_ID,\n",
    "    \"client_secret\": FOURSQUARE_SECRET,\n",
    "    \"v\": FOURSQUARE_VERSION\n",
    "})\n",
    "\n",
    "category_tree = get_category_tree(json.loads(request.text)[\"response\"][\"categories\"])"
   ]
  },
  {
   "cell_type": "code",
   "execution_count": 22,
   "metadata": {},
   "outputs": [],
   "source": [
    "def get_up_branch(category, cat_tree, name=\"root\"):\n",
    "    for key in cat_tree.keys():\n",
    "        if key == category:\n",
    "            return name\n",
    "        else:\n",
    "            main_branch = get_up_branch(category, cat_tree[key], key)\n",
    "            if main_branch : return main_branch\n",
    "            \n",
    "def get_main_branch(category, cat_tree, name=\"root\"):\n",
    "    main_keys = cat_tree.keys()\n",
    "    \n",
    "    if category in main_keys:\n",
    "        return category\n",
    "    else:\n",
    "        up_branch = get_up_branch(category, cat_tree)\n",
    "        main_branch = get_main_branch(up_branch, cat_tree, up_branch)\n",
    "        \n",
    "        if main_branch:\n",
    "            return main_branch"
   ]
  },
  {
   "cell_type": "code",
   "execution_count": 23,
   "metadata": {},
   "outputs": [],
   "source": [
    "def get_trending_venues(lat, lon):\n",
    "    base_url = \"https://api.foursquare.com/v2/venues/explore\"\n",
    "    params = dict(\n",
    "        client_id=FOURSQUARE_ID,\n",
    "        client_secret=FOURSQUARE_SECRET,\n",
    "        v=FOURSQUARE_VERSION,\n",
    "        ll=f'{lat},{lon}',\n",
    "        limit=30\n",
    "    )\n",
    "    \n",
    "    resp = requests.get(url=base_url, params=params)\n",
    "    data = json.loads(resp.text)\n",
    "    \n",
    "    recommended = data[\"response\"][\"groups\"][0]\n",
    "    venues = []\n",
    "    \n",
    "    for item in recommended[\"items\"]:\n",
    "        category = item[\"venue\"][\"categories\"][0][\"name\"]\n",
    "        category = get_main_branch(category, category_tree)\n",
    "        venues.append(category)\n",
    "    \n",
    "    return venues\n",
    "\n",
    "def get_venue_dataframe(city_series):\n",
    "    city = city_series[\"City\"]\n",
    "    latitude = city_series[\"Latitude\"]\n",
    "    longitude = city_series[\"Longitude\"]\n",
    "    \n",
    "    venues = pd.Series(get_trending_venues(latitude,longitude)).value_counts(normalize=True)\n",
    "    venues['City'] = city\n",
    "    return pd.DataFrame(venues).T"
   ]
  },
  {
   "cell_type": "code",
   "execution_count": 24,
   "metadata": {},
   "outputs": [],
   "source": [
    "venues = pd.DataFrame()\n",
    "\n",
    "for row in cities.iterrows():\n",
    "    row = row[1]\n",
    "    venue_dataframe = get_venue_dataframe(row)\n",
    "    venues = venues.append(venue_dataframe)\n",
    "    \n",
    "venues = venues.fillna(0)"
   ]
  },
  {
   "cell_type": "code",
   "execution_count": 25,
   "metadata": {},
   "outputs": [
    {
     "data": {
      "text/html": [
       "<div>\n",
       "<style scoped>\n",
       "    .dataframe tbody tr th:only-of-type {\n",
       "        vertical-align: middle;\n",
       "    }\n",
       "\n",
       "    .dataframe tbody tr th {\n",
       "        vertical-align: top;\n",
       "    }\n",
       "\n",
       "    .dataframe thead th {\n",
       "        text-align: right;\n",
       "    }\n",
       "</style>\n",
       "<table border=\"1\" class=\"dataframe\">\n",
       "  <thead>\n",
       "    <tr style=\"text-align: right;\">\n",
       "      <th></th>\n",
       "      <th>City</th>\n",
       "      <th>Country</th>\n",
       "      <th>Latitude</th>\n",
       "      <th>Longitude</th>\n",
       "      <th>Tourist</th>\n",
       "      <th>Food</th>\n",
       "      <th>Travel &amp; Transport</th>\n",
       "      <th>Outdoors &amp; Recreation</th>\n",
       "      <th>Shop &amp; Service</th>\n",
       "      <th>Professional &amp; Other Places</th>\n",
       "      <th>Arts &amp; Entertainment</th>\n",
       "      <th>Nightlife Spot</th>\n",
       "      <th>Residence</th>\n",
       "      <th>College &amp; University</th>\n",
       "    </tr>\n",
       "  </thead>\n",
       "  <tbody>\n",
       "    <tr>\n",
       "      <th>0</th>\n",
       "      <td>Hong Kong</td>\n",
       "      <td>China</td>\n",
       "      <td>22.279328</td>\n",
       "      <td>114.162813</td>\n",
       "      <td>1</td>\n",
       "      <td>0.400000</td>\n",
       "      <td>0.200000</td>\n",
       "      <td>0.166667</td>\n",
       "      <td>0.100000</td>\n",
       "      <td>0.066667</td>\n",
       "      <td>0.033333</td>\n",
       "      <td>0.033333</td>\n",
       "      <td>0.0</td>\n",
       "      <td>0.0</td>\n",
       "    </tr>\n",
       "    <tr>\n",
       "      <th>1</th>\n",
       "      <td>Bangkok</td>\n",
       "      <td>Thailand</td>\n",
       "      <td>13.754424</td>\n",
       "      <td>100.493040</td>\n",
       "      <td>1</td>\n",
       "      <td>0.400000</td>\n",
       "      <td>0.000000</td>\n",
       "      <td>0.166667</td>\n",
       "      <td>0.033333</td>\n",
       "      <td>0.100000</td>\n",
       "      <td>0.266667</td>\n",
       "      <td>0.033333</td>\n",
       "      <td>0.0</td>\n",
       "      <td>0.0</td>\n",
       "    </tr>\n",
       "    <tr>\n",
       "      <th>2</th>\n",
       "      <td>London</td>\n",
       "      <td>United Kingdom</td>\n",
       "      <td>51.507322</td>\n",
       "      <td>-0.127647</td>\n",
       "      <td>1</td>\n",
       "      <td>0.433333</td>\n",
       "      <td>0.066667</td>\n",
       "      <td>0.166667</td>\n",
       "      <td>0.066667</td>\n",
       "      <td>0.066667</td>\n",
       "      <td>0.133333</td>\n",
       "      <td>0.066667</td>\n",
       "      <td>0.0</td>\n",
       "      <td>0.0</td>\n",
       "    </tr>\n",
       "    <tr>\n",
       "      <th>3</th>\n",
       "      <td>Macau</td>\n",
       "      <td>China</td>\n",
       "      <td>22.189945</td>\n",
       "      <td>113.538045</td>\n",
       "      <td>1</td>\n",
       "      <td>0.666667</td>\n",
       "      <td>0.000000</td>\n",
       "      <td>0.066667</td>\n",
       "      <td>0.000000</td>\n",
       "      <td>0.133333</td>\n",
       "      <td>0.066667</td>\n",
       "      <td>0.066667</td>\n",
       "      <td>0.0</td>\n",
       "      <td>0.0</td>\n",
       "    </tr>\n",
       "    <tr>\n",
       "      <th>4</th>\n",
       "      <td>Singapore</td>\n",
       "      <td>Singapore</td>\n",
       "      <td>1.290475</td>\n",
       "      <td>103.852036</td>\n",
       "      <td>1</td>\n",
       "      <td>0.300000</td>\n",
       "      <td>0.066667</td>\n",
       "      <td>0.100000</td>\n",
       "      <td>0.066667</td>\n",
       "      <td>0.066667</td>\n",
       "      <td>0.300000</td>\n",
       "      <td>0.100000</td>\n",
       "      <td>0.0</td>\n",
       "      <td>0.0</td>\n",
       "    </tr>\n",
       "  </tbody>\n",
       "</table>\n",
       "</div>"
      ],
      "text/plain": [
       "        City         Country   Latitude   Longitude  Tourist      Food  \\\n",
       "0  Hong Kong           China  22.279328  114.162813        1  0.400000   \n",
       "1    Bangkok        Thailand  13.754424  100.493040        1  0.400000   \n",
       "2     London  United Kingdom  51.507322   -0.127647        1  0.433333   \n",
       "3      Macau           China  22.189945  113.538045        1  0.666667   \n",
       "4  Singapore       Singapore   1.290475  103.852036        1  0.300000   \n",
       "\n",
       "   Travel & Transport  Outdoors & Recreation  Shop & Service  \\\n",
       "0            0.200000               0.166667        0.100000   \n",
       "1            0.000000               0.166667        0.033333   \n",
       "2            0.066667               0.166667        0.066667   \n",
       "3            0.000000               0.066667        0.000000   \n",
       "4            0.066667               0.100000        0.066667   \n",
       "\n",
       "   Professional & Other Places  Arts & Entertainment  Nightlife Spot  \\\n",
       "0                     0.066667              0.033333        0.033333   \n",
       "1                     0.100000              0.266667        0.033333   \n",
       "2                     0.066667              0.133333        0.066667   \n",
       "3                     0.133333              0.066667        0.066667   \n",
       "4                     0.066667              0.300000        0.100000   \n",
       "\n",
       "   Residence  College & University  \n",
       "0        0.0                   0.0  \n",
       "1        0.0                   0.0  \n",
       "2        0.0                   0.0  \n",
       "3        0.0                   0.0  \n",
       "4        0.0                   0.0  "
      ]
     },
     "execution_count": 25,
     "metadata": {},
     "output_type": "execute_result"
    }
   ],
   "source": [
    "cities = pd.merge(cities, venues)\n",
    "cities.head()"
   ]
  },
  {
   "cell_type": "code",
   "execution_count": 26,
   "metadata": {},
   "outputs": [
    {
     "data": {
      "text/plain": [
       "(57, 14)"
      ]
     },
     "execution_count": 26,
     "metadata": {},
     "output_type": "execute_result"
    }
   ],
   "source": [
    "cities.shape"
   ]
  },
  {
   "cell_type": "markdown",
   "metadata": {},
   "source": [
    "### Exploring the data"
   ]
  },
  {
   "cell_type": "markdown",
   "metadata": {},
   "source": [
    "Now that we have the required data, I will visualize it using `seaborn` to try and find any good predictors of a good tourist city."
   ]
  },
  {
   "cell_type": "code",
   "execution_count": 27,
   "metadata": {},
   "outputs": [],
   "source": [
    "import seaborn as sns\n",
    "%matplotlib inline"
   ]
  },
  {
   "cell_type": "code",
   "execution_count": 28,
   "metadata": {},
   "outputs": [
    {
     "data": {
      "text/plain": [
       "<AxesSubplot:xlabel='Tourist', ylabel='Food'>"
      ]
     },
     "execution_count": 28,
     "metadata": {},
     "output_type": "execute_result"
    },
    {
     "data": {
      "image/png": "[encoded data removed]",
      "text/plain": [
       "<Figure size 432x288 with 1 Axes>"
      ]
     },
     "metadata": {
      "needs_background": "light"
     },
     "output_type": "display_data"
    }
   ],
   "source": [
    "sns.scatterplot(x=\"Tourist\", y=\"Food\", data=cities)"
   ]
  },
  {
   "cell_type": "code",
   "execution_count": 29,
   "metadata": {},
   "outputs": [
    {
     "data": {
      "text/plain": [
       "<AxesSubplot:xlabel='Tourist', ylabel='Travel & Transport'>"
      ]
     },
     "execution_count": 29,
     "metadata": {},
     "output_type": "execute_result"
    },
    {
     "data": {
      "image/png": "[encoded data removed]",
      "text/plain": [
       "<Figure size 432x288 with 1 Axes>"
      ]
     },
     "metadata": {
      "needs_background": "light"
     },
     "output_type": "display_data"
    }
   ],
   "source": [
    "sns.scatterplot(x=\"Tourist\", y=\"Travel & Transport\", data=cities)"
   ]
  },
  {
   "cell_type": "code",
   "execution_count": 30,
   "metadata": {},
   "outputs": [
    {
     "data": {
      "text/plain": [
       "<AxesSubplot:xlabel='Tourist', ylabel='Outdoors & Recreation'>"
      ]
     },
     "execution_count": 30,
     "metadata": {},
     "output_type": "execute_result"
    },
    {
     "data": {
      "image/png": "[encoded data removed]",
      "text/plain": [
       "<Figure size 432x288 with 1 Axes>"
      ]
     },
     "metadata": {
      "needs_background": "light"
     },
     "output_type": "display_data"
    }
   ],
   "source": [
    "sns.scatterplot(x=\"Tourist\", y=\"Outdoors & Recreation\", data=cities)"
   ]
  },
  {
   "cell_type": "code",
   "execution_count": 31,
   "metadata": {},
   "outputs": [
    {
     "data": {
      "text/plain": [
       "<AxesSubplot:xlabel='Tourist', ylabel='Shop & Service'>"
      ]
     },
     "execution_count": 31,
     "metadata": {},
     "output_type": "execute_result"
    },
    {
     "data": {
      "image/png": "[encoded data removed]",
      "text/plain": [
       "<Figure size 432x288 with 1 Axes>"
      ]
     },
     "metadata": {
      "needs_background": "light"
     },
     "output_type": "display_data"
    }
   ],
   "source": [
    "sns.scatterplot(x=\"Tourist\", y=\"Shop & Service\", data=cities)"
   ]
  },
  {
   "cell_type": "code",
   "execution_count": 32,
   "metadata": {},
   "outputs": [
    {
     "data": {
      "text/plain": [
       "<AxesSubplot:xlabel='Tourist', ylabel='Professional & Other Places'>"
      ]
     },
     "execution_count": 32,
     "metadata": {},
     "output_type": "execute_result"
    },
    {
     "data": {
      "image/png": "[encoded data removed]",
      "text/plain": [
       "<Figure size 432x288 with 1 Axes>"
      ]
     },
     "metadata": {
      "needs_background": "light"
     },
     "output_type": "display_data"
    }
   ],
   "source": [
    "sns.scatterplot(x=\"Tourist\", y=\"Professional & Other Places\", data=cities)"
   ]
  },
  {
   "cell_type": "code",
   "execution_count": 33,
   "metadata": {},
   "outputs": [
    {
     "data": {
      "text/plain": [
       "<AxesSubplot:xlabel='Tourist', ylabel='Nightlife Spot'>"
      ]
     },
     "execution_count": 33,
     "metadata": {},
     "output_type": "execute_result"
    },
    {
     "data": {
      "image/png": "[encoded data removed]",
      "text/plain": [
       "<Figure size 432x288 with 1 Axes>"
      ]
     },
     "metadata": {
      "needs_background": "light"
     },
     "output_type": "display_data"
    }
   ],
   "source": [
    "sns.scatterplot(x=\"Tourist\", y=\"Nightlife Spot\", data=cities)"
   ]
  },
  {
   "cell_type": "code",
   "execution_count": 34,
   "metadata": {},
   "outputs": [
    {
     "data": {
      "text/plain": [
       "<AxesSubplot:xlabel='Tourist', ylabel='Arts & Entertainment'>"
      ]
     },
     "execution_count": 34,
     "metadata": {},
     "output_type": "execute_result"
    },
    {
     "data": {
      "image/png": "[encoded data removed]",
      "text/plain": [
       "<Figure size 432x288 with 1 Axes>"
      ]
     },
     "metadata": {
      "needs_background": "light"
     },
     "output_type": "display_data"
    }
   ],
   "source": [
    "sns.scatterplot(x=\"Tourist\", y=\"Arts & Entertainment\", data=cities)"
   ]
  },
  {
   "cell_type": "code",
   "execution_count": 35,
   "metadata": {},
   "outputs": [
    {
     "data": {
      "text/plain": [
       "<AxesSubplot:xlabel='Tourist', ylabel='Residence'>"
      ]
     },
     "execution_count": 35,
     "metadata": {},
     "output_type": "execute_result"
    },
    {
     "data": {
      "image/png": "[encoded data removed]",
      "text/plain": [
       "<Figure size 432x288 with 1 Axes>"
      ]
     },
     "metadata": {
      "needs_background": "light"
     },
     "output_type": "display_data"
    }
   ],
   "source": [
    "sns.scatterplot(x=\"Tourist\", y=\"Residence\", data=cities)"
   ]
  },
  {
   "cell_type": "code",
   "execution_count": 36,
   "metadata": {},
   "outputs": [
    {
     "data": {
      "text/plain": [
       "<AxesSubplot:xlabel='Tourist', ylabel='College & University'>"
      ]
     },
     "execution_count": 36,
     "metadata": {},
     "output_type": "execute_result"
    },
    {
     "data": {
      "image/png": "[encoded data removed]",
      "text/plain": [
       "<Figure size 432x288 with 1 Axes>"
      ]
     },
     "metadata": {
      "needs_background": "light"
     },
     "output_type": "display_data"
    }
   ],
   "source": [
    "sns.scatterplot(x=\"Tourist\", y=\"College & University\", data=cities)"
   ]
  },
  {
   "cell_type": "markdown",
   "metadata": {},
   "source": [
    "As you can see, the data between attractive and not-attractive cities is pretty similar. This means that venues are not a good predictor for our objective. Next, I will train a machine learning model with the data, keeping in mind it may not result in accurate predictions."
   ]
  },
  {
   "cell_type": "markdown",
   "metadata": {},
   "source": [
    "## Machine Learning Implementation"
   ]
  },
  {
   "cell_type": "markdown",
   "metadata": {},
   "source": [
    "It's important to remember the objective of this project is finding out whether a city would be attractive for tourism or not. In other words, we are going to **classify** cities. There are a lot of classification algorithms, such as Support Vector Machines, Logistic Regression, Naive Bayes, and others."
   ]
  },
  {
   "cell_type": "markdown",
   "metadata": {},
   "source": [
    "As our dataset is limited to only 57 cities, I will choose an algorithm that doesn't require much data to work, such as a Support Vector Machine. Also, I will use GridSearchCV to find the best hyperparameters for the model."
   ]
  },
  {
   "cell_type": "markdown",
   "metadata": {},
   "source": [
    "### SVM Classification"
   ]
  },
  {
   "cell_type": "code",
   "execution_count": 112,
   "metadata": {},
   "outputs": [],
   "source": [
    "from sklearn.model_selection import GridSearchCV\n",
    "from sklearn.svm import SVC\n",
    "from sklearn.model_selection import train_test_split\n",
    "from sklearn.metrics import f1_score"
   ]
  },
  {
   "cell_type": "code",
   "execution_count": 113,
   "metadata": {},
   "outputs": [],
   "source": [
    "x = cities.drop(columns=[\"City\", \"Country\", \"Latitude\", \"Longitude\", \"Tourist\"])\n",
    "y = cities[\"Tourist\"]\n",
    "\n",
    "x_train, x_test, y_train, y_test = train_test_split(x, y, test_size=0.33, random_state=22)"
   ]
  },
  {
   "cell_type": "code",
   "execution_count": 114,
   "metadata": {},
   "outputs": [
    {
     "data": {
      "text/plain": [
       "{'gamma': 'scale'}"
      ]
     },
     "execution_count": 114,
     "metadata": {},
     "output_type": "execute_result"
    }
   ],
   "source": [
    "hyperparams = {\n",
    "    'gamma': ['scale', 'auto']\n",
    "}\n",
    "\n",
    "svm = GridSearchCV(estimator=SVC(C=0.3, random_state=102), param_grid=hyperparams, cv=10)\n",
    "svm.fit(x_train, y_train)\n",
    "svm.best_params_"
   ]
  },
  {
   "cell_type": "code",
   "execution_count": 115,
   "metadata": {},
   "outputs": [
    {
     "data": {
      "text/plain": [
       "0.6896551724137931"
      ]
     },
     "execution_count": 115,
     "metadata": {},
     "output_type": "execute_result"
    }
   ],
   "source": [
    "# In-sample f1 score\n",
    "f1_score(y_train, svm.predict(x_train))"
   ]
  },
  {
   "cell_type": "code",
   "execution_count": 116,
   "metadata": {},
   "outputs": [
    {
     "data": {
      "text/plain": [
       "0.6428571428571429"
      ]
     },
     "execution_count": 116,
     "metadata": {},
     "output_type": "execute_result"
    }
   ],
   "source": [
    "# Out-of-sample f1 score\n",
    "svm_predicted = svm.predict(x_test)\n",
    "f1_score(y_test, svm_predicted)"
   ]
  },
  {
   "cell_type": "markdown",
   "metadata": {},
   "source": [
    "## Results"
   ]
  },
  {
   "cell_type": "markdown",
   "metadata": {},
   "source": [
    "As result of this project we obtained a SVM model that predicts whether a given city is attractive for tourism or not based on its venues. The model has an in-sample f1 score of 0.689, and an out-of-sample f1 score of 0.64. However, the model is unstable and has some issues that are going to be discussed in the following section."
   ]
  },
  {
   "cell_type": "markdown",
   "metadata": {},
   "source": [
    "## Discussion"
   ]
  },
  {
   "cell_type": "markdown",
   "metadata": {},
   "source": [
    "The model that was obtained as a result has an f1 score of 0.64, which I wouldn't say is very good. In addition to that, it is too dependent on the random state of the functions used. If you change the random state of the train-test-split or the SVM instance, the scores will change dramatically, even getting to 0 some times. There are some possible reasons as to why this happens."
   ]
  },
  {
   "cell_type": "markdown",
   "metadata": {},
   "source": [
    "### Issues"
   ]
  },
  {
   "cell_type": "markdown",
   "metadata": {},
   "source": [
    "The first main issue is the **chosen cities** to train our algorithm. There is no objective way to measure the attractiveness of a city. This is subjective. The first measure I used to choose the cities was the amount of people visiting them, which doesn't imply they are attractive but that they are relevant."
   ]
  },
  {
   "cell_type": "markdown",
   "metadata": {},
   "source": [
    "The second issue is that **venue data** is really similar across all cities. Every city has restaurants, shops, parks, etc. Because our data was based just on the amount of venues of certain categories, it cannot be a good predictor."
   ]
  },
  {
   "cell_type": "markdown",
   "metadata": {},
   "source": [
    "The third issue is the **categories** of the venues. I chose the main branches of the category tree of Foursquare because it was the fastest way to format the data."
   ]
  },
  {
   "cell_type": "markdown",
   "metadata": {},
   "source": [
    "### Possible solutions\n",
    "\n",
    "I've come up with some solutions for the issues listed above. I wish I could've solve them in this same notebook, but time and money limitations won't allow me to do so.\n",
    "\n",
    "1. Find a way to objectively measure the attractiveness of a city.\n",
    "2. Obtain additional data that could be potential predictors, such as crime rates and venue user-ratings instead of amount.\n",
    "3. Find better venue categories."
   ]
  },
  {
   "cell_type": "markdown",
   "metadata": {},
   "source": [
    "## Conclusion\n",
    "\n",
    "The objective of this project was to find if it is possible to predict how attractive a city is for tourism based on its venues. After exploring the venue data of the dataset I concluded that venues were not a good predictor of the attractiveness of a city, statement that was later confirmed by the trained SVM model, which did not have high accuracy and was very sensitive to changes in random state.\n",
    "\n",
    "However, the idea of the project is not bad and the results have uncovered hints on what kind of data can lead us to improvement in the future. I myself will be working on training a high accuracy model and I encourage the reader to do it too."
   ]
  },
  {
   "cell_type": "markdown",
   "metadata": {},
   "source": []
  }
 ],
 "metadata": {
  "kernelspec": {
   "display_name": "Python 3",
   "language": "python",
   "name": "python3"
  },
  "language_info": {
   "codemirror_mode": {
    "name": "ipython",
    "version": 3
   },
   "file_extension": ".py",
   "mimetype": "text/x-python",
   "name": "python",
   "nbconvert_exporter": "python",
   "pygments_lexer": "ipython3",
   "version": "3.8.5"
  }
 },
 "nbformat": 4,
 "nbformat_minor": 4
}
