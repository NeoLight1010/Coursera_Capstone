{
 "cells": [
  {
   "cell_type": "markdown",
   "metadata": {},
   "source": [
    "# A good tourist city"
   ]
  },
  {
   "cell_type": "markdown",
   "metadata": {},
   "source": [
    "DELETE  \n",
    "A full report consisting of all of the following components (15 marks):\n",
    "\n",
    "- Introduction where you discuss the business problem and who would be interested in this project.\n",
    "- Data where you describe the data that will be used to solve the problem and the source of the data.\n",
    "- Methodology section which represents the main component of the report where you discuss and describe any exploratory data analysis that you did, any inferential statistical testing that you performed, if any, and what machine learnings were used and why.\n",
    "- Results section where you discuss the results.\n",
    "- Discussion section where you discuss any observations you noted and any recommendations you can make based on the results.\n",
    "- Conclusion section where you conclude the report."
   ]
  },
  {
   "cell_type": "markdown",
   "metadata": {},
   "source": [
    "## Introduction/Business Problem"
   ]
  },
  {
   "cell_type": "markdown",
   "metadata": {},
   "source": [
    "Tourism is an important economic income for cities. Some cities are attractive because of their beaches, their building, their history and much more. But there are also some cities which wouldn't be nice to go for a vacation. In this project I will train in a machine learning model that can determine how attractive a given city would be for tourists based on other attractive cities."
   ]
  },
  {
   "cell_type": "markdown",
   "metadata": {},
   "source": [
    "The problem this project will solve is knowing which city is a good place to visit. It can also help local/city governments make their cities more attractive based on the results of the algorithm."
   ]
  },
  {
   "cell_type": "markdown",
   "metadata": {},
   "source": [
    "## Data"
   ]
  },
  {
   "cell_type": "markdown",
   "metadata": {},
   "source": [
    "The data used for this project will be obtained from Foursquare using the [Foursquare API](https://developer.foursquare.com/docs/places-api/). Only relevant venue categories will be requested, such us:\n",
    "\n",
    "- Outdoors & Recreation\n",
    "- Shop & Service\n",
    "- Travel & Transport\n",
    "    - Hotel\n",
    "    - Taxi\n",
    "    - Tourist Information Center\n",
    "- Etc.\n",
    "\n",
    "The various Foursquare venue categories are listed in [this link](https://developer.foursquare.com/docs/build-with-foursquare/categories/).\n",
    "\n",
    "In addition, the cities categorized as \"good tourist cities\" will be chosen based on articles on the internet like [this one](https://en.wikipedia.org/wiki/List_of_cities_by_international_visitors). Venues data obtained from these cities will be fed into the machine learning algorithm to create the model."
   ]
  },
  {
   "cell_type": "markdown",
   "metadata": {},
   "source": [
    "## Methodology"
   ]
  },
  {
   "cell_type": "markdown",
   "metadata": {},
   "source": [
    "There are many types of tourist destinations, as shown in [this article](https://tourismteacher.com/types-of-tourist-destinations/), and some of them could be treated as a single venue by the Foursquare API which would not be good for our model. That's the reason this project is aimed at predicting good **towns and cities**, considering these tend to have a variety of venues we can work with.\n",
    "\n",
    "So now, the first step will be choosing the cities we'll getting the data from. Let's start!"
   ]
  },
  {
   "cell_type": "markdown",
   "metadata": {},
   "source": [
    "### Choosing good tourist cities"
   ]
  },
  {
   "cell_type": "markdown",
   "metadata": {},
   "source": [
    "A good start for choosing our cities is looking for the most popular destinations in the world. According to [this Wikipedia article](https://en.wikipedia.org/wiki/List_of_cities_by_international_visitors) (on 12/14/2020), the 10 most visited cities are:"
   ]
  },
  {
   "cell_type": "markdown",
   "metadata": {},
   "source": [
    "- Hong Kong, China\n",
    "- Bangkok, Thailand\n",
    "- London, United Kingdom\n",
    "- Macau, China\n",
    "- Singapore, Singapore\n",
    "- Paris, France\n",
    "- Dubai, United Arab Emirates\n",
    "- New York City, United States\n",
    "- Kuala Lumpur, Malaysia\n",
    "- Istanbul, Turkey"
   ]
  },
  {
   "cell_type": "markdown",
   "metadata": {},
   "source": [
    "It would be useful to visualize these cities in a world map. But first, we need the coordinates of each one. For this purpose I will parse data from Wikipedia using BeatifulSoup."
   ]
  },
  {
   "cell_type": "code",
   "execution_count": 1,
   "metadata": {},
   "outputs": [],
   "source": [
    "import requests\n",
    "import pandas as pd\n",
    "import folium\n",
    "import re\n",
    "import json"
   ]
  },
  {
   "cell_type": "code",
   "execution_count": 2,
   "metadata": {},
   "outputs": [],
   "source": [
    "def to_url_format(phrase):\n",
    "    phrase = phrase.strip()\n",
    "    phrase_words = phrase.split(\" \")\n",
    "\n",
    "    for word in phrase_words:\n",
    "        word = word.capitalize()\n",
    "    return \"_\".join(phrase_words)\n",
    "\n",
    "def find_city_coords(city, country):\n",
    "    city_formatted = to_url_format(city)\n",
    "    \n",
    "    base_url = \"https://nominatim.openstreetmap.org/search?format=json&\"\n",
    "    city_query = f\"city={city}\"\n",
    "    country_query = f\"country={country}\"\n",
    "    \n",
    "    url = base_url + city_query + \"&\" + country_query\n",
    "    \n",
    "    request = requests.get(url)\n",
    "    \n",
    "    if request.status_code == 200:\n",
    "        response_json = json.loads(request.text)\n",
    "        try:\n",
    "            response_json = response_json[0]\n",
    "        except:\n",
    "            return (None, None)\n",
    "        \n",
    "        latitude = response_json[\"lat\"]\n",
    "        longitude = response_json[\"lon\"]\n",
    "        \n",
    "        return (float(latitude), float(longitude))\n",
    "    \n",
    "    return (None, None)"
   ]
  },
  {
   "cell_type": "code",
   "execution_count": 3,
   "metadata": {},
   "outputs": [],
   "source": [
    "# This list will later become a Dataframe containing data of the cities.\n",
    "cities = [\n",
    "    [\"Hong Kong\", \"China\"],\n",
    "    [\"Bangkok\", \"Thailand\"],\n",
    "    [\"London\", \"United Kingdom\"],\n",
    "    [\"Macau\", \"China\"],\n",
    "    [\"Singapore\", \"Singapore\"],\n",
    "    [\"Paris\", \"France\"],\n",
    "    [\"Dubai\", \"United Arab Emirates\"],\n",
    "    [\"New York City\", \"United States\"],\n",
    "    [\"Kuala Lumpur\", \"Malaysia\"],\n",
    "    [\"Istanbul\", \"Turkey\"]\n",
    "]"
   ]
  },
  {
   "cell_type": "code",
   "execution_count": 4,
   "metadata": {},
   "outputs": [],
   "source": [
    "for row in cities:\n",
    "    row.append(find_city_coords(row[0], row[1])[0]) # Append latitude.\n",
    "    row.append(find_city_coords(row[0], row[1])[1]) # Append longitude."
   ]
  },
  {
   "cell_type": "code",
   "execution_count": 5,
   "metadata": {},
   "outputs": [
    {
     "data": {
      "text/html": [
       "<div>\n",
       "<style scoped>\n",
       "    .dataframe tbody tr th:only-of-type {\n",
       "        vertical-align: middle;\n",
       "    }\n",
       "\n",
       "    .dataframe tbody tr th {\n",
       "        vertical-align: top;\n",
       "    }\n",
       "\n",
       "    .dataframe thead th {\n",
       "        text-align: right;\n",
       "    }\n",
       "</style>\n",
       "<table border=\"1\" class=\"dataframe\">\n",
       "  <thead>\n",
       "    <tr style=\"text-align: right;\">\n",
       "      <th></th>\n",
       "      <th>City</th>\n",
       "      <th>Country</th>\n",
       "      <th>Latitude</th>\n",
       "      <th>Longitude</th>\n",
       "    </tr>\n",
       "  </thead>\n",
       "  <tbody>\n",
       "    <tr>\n",
       "      <th>0</th>\n",
       "      <td>Hong Kong</td>\n",
       "      <td>China</td>\n",
       "      <td>22.279328</td>\n",
       "      <td>114.162813</td>\n",
       "    </tr>\n",
       "    <tr>\n",
       "      <th>1</th>\n",
       "      <td>Bangkok</td>\n",
       "      <td>Thailand</td>\n",
       "      <td>13.754424</td>\n",
       "      <td>100.493040</td>\n",
       "    </tr>\n",
       "    <tr>\n",
       "      <th>2</th>\n",
       "      <td>London</td>\n",
       "      <td>United Kingdom</td>\n",
       "      <td>51.507322</td>\n",
       "      <td>-0.127647</td>\n",
       "    </tr>\n",
       "    <tr>\n",
       "      <th>3</th>\n",
       "      <td>Macau</td>\n",
       "      <td>China</td>\n",
       "      <td>22.189945</td>\n",
       "      <td>113.538045</td>\n",
       "    </tr>\n",
       "    <tr>\n",
       "      <th>4</th>\n",
       "      <td>Singapore</td>\n",
       "      <td>Singapore</td>\n",
       "      <td>1.290475</td>\n",
       "      <td>103.852036</td>\n",
       "    </tr>\n",
       "  </tbody>\n",
       "</table>\n",
       "</div>"
      ],
      "text/plain": [
       "        City         Country   Latitude   Longitude\n",
       "0  Hong Kong           China  22.279328  114.162813\n",
       "1    Bangkok        Thailand  13.754424  100.493040\n",
       "2     London  United Kingdom  51.507322   -0.127647\n",
       "3      Macau           China  22.189945  113.538045\n",
       "4  Singapore       Singapore   1.290475  103.852036"
      ]
     },
     "execution_count": 5,
     "metadata": {},
     "output_type": "execute_result"
    }
   ],
   "source": [
    "cities = pd.DataFrame(cities, columns=['City', 'Country', 'Latitude', 'Longitude'])\n",
    "cities.head()"
   ]
  },
  {
   "cell_type": "code",
   "execution_count": 6,
   "metadata": {},
   "outputs": [
    {
     "data": {
      "text/html": [
       "<div style=\"width:100%;\"><div style=\"position:relative;width:100%;height:0;padding-bottom:60%;\"><span style=\"color:#565656\">Make this Notebook Trusted to load map: File -> Trust Notebook</span><iframe src=\"about:blank\" style=\"position:absolute;width:100%;height:100%;left:0;top:0;border:none !important;\" data-html=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 onload=\"this.contentDocument.open();this.contentDocument.write(atob(this.getAttribute('data-html')));this.contentDocument.close();\" allowfullscreen webkitallowfullscreen mozallowfullscreen></iframe></div></div>"
      ],
      "text/plain": [
       "<folium.folium.Map at 0x2cd939c0dc0>"
      ]
     },
     "execution_count": 6,
     "metadata": {},
     "output_type": "execute_result"
    }
   ],
   "source": [
    "world_map = folium.Map(location=[0, 0], zoom_start=1.5)\n",
    "\n",
    "for row in cities.iterrows():\n",
    "    row = row[1]\n",
    "    marker = folium.Marker([row.Latitude, row.Longitude], popup=row.City, icon=folium.Icon(color='blue'))\n",
    "    marker.add_to(world_map)\n",
    "\n",
    "world_map"
   ]
  },
  {
   "cell_type": "markdown",
   "metadata": {},
   "source": [
    "As we can see, most of the cities in our list are in Asia and Europe. But there are also nice tourist cities in North and South America, Africa, Russia and Australia. Let's fix that adding some more cities to our list:"
   ]
  },
  {
   "cell_type": "markdown",
   "metadata": {},
   "source": [
    "- **[Latin America](https://destinationlesstravel.com/best-latin-american-cities/)**\n",
    "    - Havana, Cuba\n",
    "    - Medellin, Colombia\n",
    "    - Rio de Janeiro, Brazil\n",
    "- **[North America](https://bigseventravel.com/2019/08/the-10-most-visited-cities-in-north-america/)**\n",
    "    - Miami, USA\n",
    "    - Los Angeles, USA\n",
    "    - Toronto, Canada\n",
    "    - Vancouver, Canada\n",
    "- **[Africa](https://www.africatouroperators.org/africa/25-most-beautiful-cities-and-towns-in-africa)**\n",
    "    - Cape Town, South Africa\n",
    "    - Zanzibar City, Tanzania\n",
    "    - Lamu, Kenya\n",
    "    - Essaouira, Morocco\n",
    "- **[Russia](https://www.touropia.com/best-cities-to-visit-in-russia/)**\n",
    "    - Moscow, Russia\n",
    "    - St Petersburg, Russia\n",
    "    - Kazan, Russia\n",
    "    - Yekaterinburg, Russia\n",
    "- **[Australia](https://www.thrillist.com/travel/nation/australias-10-best-cities-ranked-by-an-impartial-american)**\n",
    "    - Perth, Australia\n",
    "    - Margaret River, Australia\n",
    "    - Melbourne, Australia\n",
    "    - Port Douglas, Australia"
   ]
  },
  {
   "cell_type": "markdown",
   "metadata": {},
   "source": [
    "Perfect, let's add these cities to our database."
   ]
  },
  {
   "cell_type": "code",
   "execution_count": 7,
   "metadata": {},
   "outputs": [],
   "source": [
    "new_cities = [\n",
    "    [\"Havana\", \"Cuba\"],\n",
    "    [\"Medellin\", \"Colombia\"],\n",
    "    [\"Rio de Janeiro\", \"Brazil\"],\n",
    "    [\"Miami\", \"United States\"],\n",
    "    [\"Los Angeles\", \"United States\"],\n",
    "    [\"Toronto\", \"Canada\"],\n",
    "    [\"Vancouver\", \"Canada\"],\n",
    "    [\"Cape Town\", \"South Africa\"],\n",
    "    [\"Zanzibar City\", \"Tanzania\"],\n",
    "    [\"Lamu\", \"Kenya\"],\n",
    "    [\"Essaouira\", \"Morocco\"],\n",
    "    [\"Moscow\", \"Russia\"],\n",
    "    [\"St Petersburg\", \"Russia\"],\n",
    "    [\"Kazan\", \"Russia\"],\n",
    "    [\"Yekaterinburg\", \"Russia\"],\n",
    "    [\"Perth\", \"Australia\"],\n",
    "    [\"Margaret River\", \"Australia\"],\n",
    "    [\"Melbourne\", \"Australia\"],\n",
    "    [\"Port Douglas\", \"Australia\"]\n",
    "]"
   ]
  },
  {
   "cell_type": "code",
   "execution_count": 8,
   "metadata": {},
   "outputs": [],
   "source": [
    "for row in new_cities:\n",
    "    row.append(find_city_coords(row[0], row[1])[0]) # Append latitude.\n",
    "    row.append(find_city_coords(row[0], row[1])[1]) # Append longitude."
   ]
  },
  {
   "cell_type": "code",
   "execution_count": 9,
   "metadata": {},
   "outputs": [],
   "source": [
    "cities = cities.append(pd.DataFrame(new_cities, columns=cities.columns), ignore_index=True)"
   ]
  },
  {
   "cell_type": "code",
   "execution_count": 10,
   "metadata": {},
   "outputs": [
    {
     "data": {
      "text/html": [
       "<div style=\"width:100%;\"><div style=\"position:relative;width:100%;height:0;padding-bottom:60%;\"><span style=\"color:#565656\">Make this Notebook Trusted to load map: File -> Trust Notebook</span><iframe src=\"about:blank\" style=\"position:absolute;width:100%;height:100%;left:0;top:0;border:none !important;\" data-html=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 onload=\"this.contentDocument.open();this.contentDocument.write(atob(this.getAttribute('data-html')));this.contentDocument.close();\" allowfullscreen webkitallowfullscreen mozallowfullscreen></iframe></div></div>"
      ],
      "text/plain": [
       "<folium.folium.Map at 0x2cd93a0a850>"
      ]
     },
     "execution_count": 10,
     "metadata": {},
     "output_type": "execute_result"
    }
   ],
   "source": [
    "world_map = folium.Map(location=[0, 0], zoom_start=1.5)\n",
    "\n",
    "for row in cities.iterrows():\n",
    "    row = row[1]\n",
    "    marker = folium.Marker([row.Latitude, row.Longitude], popup=row.City, icon=folium.Icon(color='blue'))\n",
    "    marker.add_to(world_map)\n",
    "\n",
    "world_map"
   ]
  },
  {
   "cell_type": "markdown",
   "metadata": {},
   "source": [
    "Now our map is filled with nice tourist cities. I will export the data obtained to a .csv file so you can use it without running the code."
   ]
  },
  {
   "cell_type": "code",
   "execution_count": 11,
   "metadata": {},
   "outputs": [],
   "source": [
    "cities.to_csv(\"../data/capstone/city_coords.csv\", index=False)"
   ]
  },
  {
   "cell_type": "markdown",
   "metadata": {},
   "source": [
    "### Choosing bad tourist cities"
   ]
  },
  {
   "cell_type": "markdown",
   "metadata": {},
   "source": [
    "Of course, our algorithm not only needs good tourist cities, but it also needs *bad* ones. Let's choose some from [this](https://journalistontherun.com/2016/01/04/15-worst-travel-destinations/) and [this article](https://www.mapquest.com/travel/the-worst-cities-to-visit-in-the-united-states/) [another one](https://www.smartertravel.com/9-boring-cities-world/) [another](https://leaveyourdailyhell.com/2019/10/14/most-boring-cities-in-the-world/)."
   ]
  },
  {
   "cell_type": "markdown",
   "metadata": {},
   "source": [
    "- Cunnamulla, Australia\n",
    "- Malabo, Equatorial Guinea\n",
    "- Naples, Italy\n",
    "- Potosí, Bolivia\n",
    "- Flores, Indonesia\n",
    "- Bratislava, Slovakia\n",
    "- Mandalay, Myanmar\n",
    "- Saigon, Vietnam\n",
    "- Pyongyang, North Korea\n",
    "- St Louis, United States\n",
    "- Detroit, United States\n",
    "- Oakland, United States\n",
    "- Atlatna, United States\n",
    "- Nagoya, Japan\n",
    "- Casablanca, Morocco\n",
    "- Ottawa, Canada\n",
    "- Frankfurt, Germany\n",
    "- Nassau, Bahamas\n",
    "- Zurich, Switzerland\n",
    "- Canberra, Australia\n",
    "- Guayaquil, Ecuador\n",
    "- Agra, India\n",
    "- Brisbane, Australia\n",
    "- Bucharest, Romania\n",
    "- Haifa, Israel\n",
    "- Mexico City, Mexico\n",
    "- Oslo, Norway\n",
    "- Vientiane, Laos"
   ]
  },
  {
   "cell_type": "markdown",
   "metadata": {},
   "source": [
    "Now, let's do the same process again to obtain the coords for these cities."
   ]
  },
  {
   "cell_type": "code",
   "execution_count": 12,
   "metadata": {},
   "outputs": [],
   "source": [
    "boring_cities = [\n",
    "    [\"Cunnamulla\", \"Australia\"],\n",
    "    [\"Malabo\", \"Equatorial Guinea\"],\n",
    "    [\"Naples\", \"Italy\"],\n",
    "    [\"Potosí\", \"Bolivia\"],\n",
    "    [\"Flores\", \"Indonesia\"],\n",
    "    [\"Bratislava\", \"Slovakia\"],\n",
    "    [\"Mandalay\", \"Myanmar\"],\n",
    "    [\"Saigon\", \"Vietnam\"],\n",
    "    [\"Pyongyang\", \"North Korea\"],\n",
    "    [\"St Louis\", \"United States\"],\n",
    "    [\"Detroit\", \"United States\"],\n",
    "    [\"Oakland\", \"United States\"],\n",
    "    [\"Atlanta\", \"United States\"],\n",
    "    [\"Nagoya\", \"Japan\"],\n",
    "    [\"Casablanca\", \"Morocco\"],\n",
    "    [\"Ottawa\", \"Canada\"],\n",
    "    [\"Frankfurt\", \"Germany\"],\n",
    "    [\"Nassau\", \"Bahamas\"],\n",
    "    [\"Zurich\", \"Switzerland\"],\n",
    "    [\"Canberra\", \"Australia\"],\n",
    "    [\"Guayaquil\", \"Ecuador\"],\n",
    "    [\"Agra\", \"India\"],\n",
    "    [\"Brisbane\", \"Australia\"],\n",
    "    [\"Bucharest\", \"Romania\"],\n",
    "    [\"Haifa\", \"Israel\"],\n",
    "    [\"Mexico City\", \"Mexico\"],\n",
    "    [\"Oslo\", \"Norway\"],\n",
    "    [\"Vientiane\", \"Laos\"],\n",
    "]"
   ]
  },
  {
   "cell_type": "code",
   "execution_count": 13,
   "metadata": {},
   "outputs": [],
   "source": [
    "for row in boring_cities:\n",
    "    row.append(find_city_coords(row[0], row[1])[0]) # Append latitude.\n",
    "    row.append(find_city_coords(row[0], row[1])[1]) # Append longitude."
   ]
  },
  {
   "cell_type": "code",
   "execution_count": 14,
   "metadata": {},
   "outputs": [],
   "source": [
    "boring_cities = pd.DataFrame(boring_cities, columns=cities.columns)"
   ]
  },
  {
   "cell_type": "code",
   "execution_count": 15,
   "metadata": {},
   "outputs": [
    {
     "data": {
      "text/html": [
       "<div style=\"width:100%;\"><div style=\"position:relative;width:100%;height:0;padding-bottom:60%;\"><span style=\"color:#565656\">Make this Notebook Trusted to load map: File -> Trust Notebook</span><iframe src=\"about:blank\" style=\"position:absolute;width:100%;height:100%;left:0;top:0;border:none !important;\" data-html=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 onload=\"this.contentDocument.open();this.contentDocument.write(atob(this.getAttribute('data-html')));this.contentDocument.close();\" allowfullscreen webkitallowfullscreen mozallowfullscreen></iframe></div></div>"
      ],
      "text/plain": [
       "<folium.folium.Map at 0x2cd93a87280>"
      ]
     },
     "execution_count": 15,
     "metadata": {},
     "output_type": "execute_result"
    }
   ],
   "source": [
    "boring_map = folium.Map(location=[0, 0], zoom_start=1.5)\n",
    "\n",
    "for row in boring_cities.iterrows():\n",
    "    row = row[1]\n",
    "    marker = folium.Marker([row.Latitude, row.Longitude], popup=row.City, icon=folium.Icon(color='red'))\n",
    "    marker.add_to(boring_map)\n",
    "\n",
    "boring_map"
   ]
  },
  {
   "cell_type": "markdown",
   "metadata": {},
   "source": [
    "### Merging in a single DataFrame"
   ]
  },
  {
   "cell_type": "markdown",
   "metadata": {},
   "source": [
    "Now, it would be nice to have all the data we've collected so far merged in a single DataFrame. A new column will be added, indicating if the city is nice or not for tourism."
   ]
  },
  {
   "cell_type": "code",
   "execution_count": 16,
   "metadata": {},
   "outputs": [],
   "source": [
    "cities[\"Tourist\"] = 1\n",
    "boring_cities[\"Tourist\"] = 0\n",
    "\n",
    "cities = cities.append(boring_cities, ignore_index=True)"
   ]
  },
  {
   "cell_type": "code",
   "execution_count": 17,
   "metadata": {},
   "outputs": [
    {
     "data": {
      "text/html": [
       "<div>\n",
       "<style scoped>\n",
       "    .dataframe tbody tr th:only-of-type {\n",
       "        vertical-align: middle;\n",
       "    }\n",
       "\n",
       "    .dataframe tbody tr th {\n",
       "        vertical-align: top;\n",
       "    }\n",
       "\n",
       "    .dataframe thead th {\n",
       "        text-align: right;\n",
       "    }\n",
       "</style>\n",
       "<table border=\"1\" class=\"dataframe\">\n",
       "  <thead>\n",
       "    <tr style=\"text-align: right;\">\n",
       "      <th></th>\n",
       "      <th>City</th>\n",
       "      <th>Country</th>\n",
       "      <th>Latitude</th>\n",
       "      <th>Longitude</th>\n",
       "      <th>Tourist</th>\n",
       "    </tr>\n",
       "  </thead>\n",
       "  <tbody>\n",
       "    <tr>\n",
       "      <th>0</th>\n",
       "      <td>Hong Kong</td>\n",
       "      <td>China</td>\n",
       "      <td>22.279328</td>\n",
       "      <td>114.162813</td>\n",
       "      <td>1</td>\n",
       "    </tr>\n",
       "    <tr>\n",
       "      <th>1</th>\n",
       "      <td>Bangkok</td>\n",
       "      <td>Thailand</td>\n",
       "      <td>13.754424</td>\n",
       "      <td>100.493040</td>\n",
       "      <td>1</td>\n",
       "    </tr>\n",
       "    <tr>\n",
       "      <th>2</th>\n",
       "      <td>London</td>\n",
       "      <td>United Kingdom</td>\n",
       "      <td>51.507322</td>\n",
       "      <td>-0.127647</td>\n",
       "      <td>1</td>\n",
       "    </tr>\n",
       "    <tr>\n",
       "      <th>3</th>\n",
       "      <td>Macau</td>\n",
       "      <td>China</td>\n",
       "      <td>22.189945</td>\n",
       "      <td>113.538045</td>\n",
       "      <td>1</td>\n",
       "    </tr>\n",
       "    <tr>\n",
       "      <th>4</th>\n",
       "      <td>Singapore</td>\n",
       "      <td>Singapore</td>\n",
       "      <td>1.290475</td>\n",
       "      <td>103.852036</td>\n",
       "      <td>1</td>\n",
       "    </tr>\n",
       "  </tbody>\n",
       "</table>\n",
       "</div>"
      ],
      "text/plain": [
       "        City         Country   Latitude   Longitude  Tourist\n",
       "0  Hong Kong           China  22.279328  114.162813        1\n",
       "1    Bangkok        Thailand  13.754424  100.493040        1\n",
       "2     London  United Kingdom  51.507322   -0.127647        1\n",
       "3      Macau           China  22.189945  113.538045        1\n",
       "4  Singapore       Singapore   1.290475  103.852036        1"
      ]
     },
     "execution_count": 17,
     "metadata": {},
     "output_type": "execute_result"
    }
   ],
   "source": [
    "cities.head()"
   ]
  },
  {
   "cell_type": "code",
   "execution_count": 18,
   "metadata": {},
   "outputs": [
    {
     "data": {
      "text/html": [
       "<div>\n",
       "<style scoped>\n",
       "    .dataframe tbody tr th:only-of-type {\n",
       "        vertical-align: middle;\n",
       "    }\n",
       "\n",
       "    .dataframe tbody tr th {\n",
       "        vertical-align: top;\n",
       "    }\n",
       "\n",
       "    .dataframe thead th {\n",
       "        text-align: right;\n",
       "    }\n",
       "</style>\n",
       "<table border=\"1\" class=\"dataframe\">\n",
       "  <thead>\n",
       "    <tr style=\"text-align: right;\">\n",
       "      <th></th>\n",
       "      <th>City</th>\n",
       "      <th>Country</th>\n",
       "      <th>Latitude</th>\n",
       "      <th>Longitude</th>\n",
       "      <th>Tourist</th>\n",
       "    </tr>\n",
       "  </thead>\n",
       "  <tbody>\n",
       "    <tr>\n",
       "      <th>52</th>\n",
       "      <td>Bucharest</td>\n",
       "      <td>Romania</td>\n",
       "      <td>44.436141</td>\n",
       "      <td>26.102720</td>\n",
       "      <td>0</td>\n",
       "    </tr>\n",
       "    <tr>\n",
       "      <th>53</th>\n",
       "      <td>Haifa</td>\n",
       "      <td>Israel</td>\n",
       "      <td>32.819122</td>\n",
       "      <td>34.998386</td>\n",
       "      <td>0</td>\n",
       "    </tr>\n",
       "    <tr>\n",
       "      <th>54</th>\n",
       "      <td>Mexico City</td>\n",
       "      <td>Mexico</td>\n",
       "      <td>19.432630</td>\n",
       "      <td>-99.133178</td>\n",
       "      <td>0</td>\n",
       "    </tr>\n",
       "    <tr>\n",
       "      <th>55</th>\n",
       "      <td>Oslo</td>\n",
       "      <td>Norway</td>\n",
       "      <td>59.913330</td>\n",
       "      <td>10.738970</td>\n",
       "      <td>0</td>\n",
       "    </tr>\n",
       "    <tr>\n",
       "      <th>56</th>\n",
       "      <td>Vientiane</td>\n",
       "      <td>Laos</td>\n",
       "      <td>17.964099</td>\n",
       "      <td>102.613371</td>\n",
       "      <td>0</td>\n",
       "    </tr>\n",
       "  </tbody>\n",
       "</table>\n",
       "</div>"
      ],
      "text/plain": [
       "           City  Country   Latitude   Longitude  Tourist\n",
       "52    Bucharest  Romania  44.436141   26.102720        0\n",
       "53        Haifa   Israel  32.819122   34.998386        0\n",
       "54  Mexico City   Mexico  19.432630  -99.133178        0\n",
       "55         Oslo   Norway  59.913330   10.738970        0\n",
       "56    Vientiane     Laos  17.964099  102.613371        0"
      ]
     },
     "execution_count": 18,
     "metadata": {},
     "output_type": "execute_result"
    }
   ],
   "source": [
    "cities.tail()"
   ]
  },
  {
   "cell_type": "markdown",
   "metadata": {},
   "source": [
    "### Obtaining venue data"
   ]
  },
  {
   "cell_type": "markdown",
   "metadata": {},
   "source": [
    "The next step is obtaining venue data using the Foursquare API. I will be using the `dotenv` package to save my API credentials safely. If you want to run this notebook you will have to provide your API credentials saving them in the `.env` file in the root directory."
   ]
  },
  {
   "cell_type": "code",
   "execution_count": 19,
   "metadata": {},
   "outputs": [
    {
     "data": {
      "text/plain": [
       "True"
      ]
     },
     "execution_count": 19,
     "metadata": {},
     "output_type": "execute_result"
    }
   ],
   "source": [
    "# !pip install python-dotenv\n",
    "from dotenv import load_dotenv\n",
    "import os\n",
    "load_dotenv(dotenv_path=\"../.env\")"
   ]
  },
  {
   "cell_type": "code",
   "execution_count": 20,
   "metadata": {},
   "outputs": [],
   "source": [
    "FOURSQUARE_VERSION = \"20201612\"\n",
    "FOURSQUARE_ID = os.getenv(\"FOURSQUARE_ID\")\n",
    "FOURSQUARE_SECRET = os.getenv(\"FOURSQUARE_SECRET\")"
   ]
  },
  {
   "cell_type": "code",
   "execution_count": 21,
   "metadata": {},
   "outputs": [],
   "source": [
    "def get_category_tree(cat_list):\n",
    "    categories = {}\n",
    "    \n",
    "    for cat in cat_list:\n",
    "        if cat[\"categories\"] != []:\n",
    "            subcat = get_category_tree(cat[\"categories\"])\n",
    "            categories[cat[\"name\"]] = subcat\n",
    "        else:\n",
    "            categories[cat[\"name\"]] = {}# cat[\"name\"]\n",
    "    \n",
    "    return categories\n",
    "\n",
    "request = requests.get(url=\"https://api.foursquare.com/v2/venues/categories\", params={\n",
    "    \"client_id\": FOURSQUARE_ID,\n",
    "    \"client_secret\": FOURSQUARE_SECRET,\n",
    "    \"v\": FOURSQUARE_VERSION\n",
    "})\n",
    "\n",
    "category_tree = get_category_tree(json.loads(request.text)[\"response\"][\"categories\"])"
   ]
  },
  {
   "cell_type": "code",
   "execution_count": 22,
   "metadata": {},
   "outputs": [],
   "source": [
    "def get_up_branch(category, cat_tree, name=\"root\"):\n",
    "    for key in cat_tree.keys():\n",
    "        if key == category:\n",
    "            return name\n",
    "        else:\n",
    "            main_branch = get_up_branch(category, cat_tree[key], key)\n",
    "            if main_branch : return main_branch\n",
    "            \n",
    "def get_main_branch(category, cat_tree, name=\"root\"):\n",
    "    main_keys = cat_tree.keys()\n",
    "    \n",
    "    if category in main_keys:\n",
    "        return category\n",
    "    else:\n",
    "        up_branch = get_up_branch(category, cat_tree)\n",
    "        main_branch = get_main_branch(up_branch, cat_tree, up_branch)\n",
    "        \n",
    "        if main_branch:\n",
    "            return main_branch"
   ]
  },
  {
   "cell_type": "code",
   "execution_count": 23,
   "metadata": {},
   "outputs": [],
   "source": [
    "def get_trending_venues(lat, lon):\n",
    "    base_url = \"https://api.foursquare.com/v2/venues/explore\"\n",
    "    params = dict(\n",
    "        client_id=FOURSQUARE_ID,\n",
    "        client_secret=FOURSQUARE_SECRET,\n",
    "        v=FOURSQUARE_VERSION,\n",
    "        ll=f'{lat},{lon}',\n",
    "        limit=30\n",
    "    )\n",
    "    \n",
    "    resp = requests.get(url=base_url, params=params)\n",
    "    data = json.loads(resp.text)\n",
    "    \n",
    "    recommended = data[\"response\"][\"groups\"][0]\n",
    "    venues = []\n",
    "    \n",
    "    for item in recommended[\"items\"]:\n",
    "        category = item[\"venue\"][\"categories\"][0][\"name\"]\n",
    "        category = get_main_branch(category, category_tree)\n",
    "        venues.append(category)\n",
    "    \n",
    "    return venues\n",
    "\n",
    "def get_venue_dataframe(city_series):\n",
    "    city = city_series[\"City\"]\n",
    "    latitude = city_series[\"Latitude\"]\n",
    "    longitude = city_series[\"Longitude\"]\n",
    "    \n",
    "    venues = pd.Series(get_trending_venues(latitude,longitude)).value_counts(normalize=True)\n",
    "    venues['City'] = city\n",
    "    return pd.DataFrame(venues).T"
   ]
  },
  {
   "cell_type": "code",
   "execution_count": 24,
   "metadata": {},
   "outputs": [],
   "source": [
    "venues = pd.DataFrame()\n",
    "\n",
    "for row in cities.iterrows():\n",
    "    row = row[1]\n",
    "    venue_dataframe = get_venue_dataframe(row)\n",
    "    venues = venues.append(venue_dataframe)\n",
    "    \n",
    "venues = venues.fillna(0)"
   ]
  },
  {
   "cell_type": "code",
   "execution_count": 25,
   "metadata": {},
   "outputs": [
    {
     "data": {
      "text/html": [
       "<div>\n",
       "<style scoped>\n",
       "    .dataframe tbody tr th:only-of-type {\n",
       "        vertical-align: middle;\n",
       "    }\n",
       "\n",
       "    .dataframe tbody tr th {\n",
       "        vertical-align: top;\n",
       "    }\n",
       "\n",
       "    .dataframe thead th {\n",
       "        text-align: right;\n",
       "    }\n",
       "</style>\n",
       "<table border=\"1\" class=\"dataframe\">\n",
       "  <thead>\n",
       "    <tr style=\"text-align: right;\">\n",
       "      <th></th>\n",
       "      <th>City</th>\n",
       "      <th>Country</th>\n",
       "      <th>Latitude</th>\n",
       "      <th>Longitude</th>\n",
       "      <th>Tourist</th>\n",
       "      <th>Food</th>\n",
       "      <th>Travel &amp; Transport</th>\n",
       "      <th>Outdoors &amp; Recreation</th>\n",
       "      <th>Shop &amp; Service</th>\n",
       "      <th>Nightlife Spot</th>\n",
       "      <th>Professional &amp; Other Places</th>\n",
       "      <th>Arts &amp; Entertainment</th>\n",
       "      <th>Residence</th>\n",
       "      <th>College &amp; University</th>\n",
       "    </tr>\n",
       "  </thead>\n",
       "  <tbody>\n",
       "    <tr>\n",
       "      <th>0</th>\n",
       "      <td>Hong Kong</td>\n",
       "      <td>China</td>\n",
       "      <td>22.279328</td>\n",
       "      <td>114.162813</td>\n",
       "      <td>1</td>\n",
       "      <td>0.366667</td>\n",
       "      <td>0.200000</td>\n",
       "      <td>0.166667</td>\n",
       "      <td>0.100000</td>\n",
       "      <td>0.066667</td>\n",
       "      <td>0.066667</td>\n",
       "      <td>0.033333</td>\n",
       "      <td>0.0</td>\n",
       "      <td>0.0</td>\n",
       "    </tr>\n",
       "    <tr>\n",
       "      <th>1</th>\n",
       "      <td>Bangkok</td>\n",
       "      <td>Thailand</td>\n",
       "      <td>13.754424</td>\n",
       "      <td>100.493040</td>\n",
       "      <td>1</td>\n",
       "      <td>0.400000</td>\n",
       "      <td>0.000000</td>\n",
       "      <td>0.166667</td>\n",
       "      <td>0.033333</td>\n",
       "      <td>0.033333</td>\n",
       "      <td>0.133333</td>\n",
       "      <td>0.233333</td>\n",
       "      <td>0.0</td>\n",
       "      <td>0.0</td>\n",
       "    </tr>\n",
       "    <tr>\n",
       "      <th>2</th>\n",
       "      <td>London</td>\n",
       "      <td>United Kingdom</td>\n",
       "      <td>51.507322</td>\n",
       "      <td>-0.127647</td>\n",
       "      <td>1</td>\n",
       "      <td>0.433333</td>\n",
       "      <td>0.066667</td>\n",
       "      <td>0.200000</td>\n",
       "      <td>0.066667</td>\n",
       "      <td>0.066667</td>\n",
       "      <td>0.033333</td>\n",
       "      <td>0.133333</td>\n",
       "      <td>0.0</td>\n",
       "      <td>0.0</td>\n",
       "    </tr>\n",
       "    <tr>\n",
       "      <th>3</th>\n",
       "      <td>Macau</td>\n",
       "      <td>China</td>\n",
       "      <td>22.189945</td>\n",
       "      <td>113.538045</td>\n",
       "      <td>1</td>\n",
       "      <td>0.666667</td>\n",
       "      <td>0.000000</td>\n",
       "      <td>0.066667</td>\n",
       "      <td>0.000000</td>\n",
       "      <td>0.066667</td>\n",
       "      <td>0.133333</td>\n",
       "      <td>0.066667</td>\n",
       "      <td>0.0</td>\n",
       "      <td>0.0</td>\n",
       "    </tr>\n",
       "    <tr>\n",
       "      <th>4</th>\n",
       "      <td>Singapore</td>\n",
       "      <td>Singapore</td>\n",
       "      <td>1.290475</td>\n",
       "      <td>103.852036</td>\n",
       "      <td>1</td>\n",
       "      <td>0.300000</td>\n",
       "      <td>0.066667</td>\n",
       "      <td>0.100000</td>\n",
       "      <td>0.066667</td>\n",
       "      <td>0.100000</td>\n",
       "      <td>0.066667</td>\n",
       "      <td>0.300000</td>\n",
       "      <td>0.0</td>\n",
       "      <td>0.0</td>\n",
       "    </tr>\n",
       "  </tbody>\n",
       "</table>\n",
       "</div>"
      ],
      "text/plain": [
       "        City         Country   Latitude   Longitude  Tourist      Food  \\\n",
       "0  Hong Kong           China  22.279328  114.162813        1  0.366667   \n",
       "1    Bangkok        Thailand  13.754424  100.493040        1  0.400000   \n",
       "2     London  United Kingdom  51.507322   -0.127647        1  0.433333   \n",
       "3      Macau           China  22.189945  113.538045        1  0.666667   \n",
       "4  Singapore       Singapore   1.290475  103.852036        1  0.300000   \n",
       "\n",
       "   Travel & Transport  Outdoors & Recreation  Shop & Service  Nightlife Spot  \\\n",
       "0            0.200000               0.166667        0.100000        0.066667   \n",
       "1            0.000000               0.166667        0.033333        0.033333   \n",
       "2            0.066667               0.200000        0.066667        0.066667   \n",
       "3            0.000000               0.066667        0.000000        0.066667   \n",
       "4            0.066667               0.100000        0.066667        0.100000   \n",
       "\n",
       "   Professional & Other Places  Arts & Entertainment  Residence  \\\n",
       "0                     0.066667              0.033333        0.0   \n",
       "1                     0.133333              0.233333        0.0   \n",
       "2                     0.033333              0.133333        0.0   \n",
       "3                     0.133333              0.066667        0.0   \n",
       "4                     0.066667              0.300000        0.0   \n",
       "\n",
       "   College & University  \n",
       "0                   0.0  \n",
       "1                   0.0  \n",
       "2                   0.0  \n",
       "3                   0.0  \n",
       "4                   0.0  "
      ]
     },
     "execution_count": 25,
     "metadata": {},
     "output_type": "execute_result"
    }
   ],
   "source": [
    "cities = pd.merge(cities, venues)\n",
    "cities.head()"
   ]
  },
  {
   "cell_type": "code",
   "execution_count": 26,
   "metadata": {},
   "outputs": [
    {
     "data": {
      "text/plain": [
       "(57, 14)"
      ]
     },
     "execution_count": 26,
     "metadata": {},
     "output_type": "execute_result"
    }
   ],
   "source": [
    "cities.shape"
   ]
  },
  {
   "cell_type": "markdown",
   "metadata": {},
   "source": [
    "Now our dataset is complete and we can start working on our model!"
   ]
  },
  {
   "cell_type": "markdown",
   "metadata": {},
   "source": [
    "## Machine Learning Implementation"
   ]
  },
  {
   "cell_type": "markdown",
   "metadata": {},
   "source": [
    "It's important to remember the objective of this project is finding out whether a city would be attractive for tourism or not. In other words, we are going to **classify** cities. There are a lot of classification algorithms, such as Support Vector Machines, Logistic Regression, Naive Bayes, and others."
   ]
  },
  {
   "cell_type": "markdown",
   "metadata": {},
   "source": [
    "As our dataset is limited to only 57 cities, I will choose an algorithm that doesn't require much data to work, such as a Support Vector Machine. If the evaluation of this model results in a low score, I'll move on to another algorithm. Also, I will use GridSearchCV to find the best hyperparameters for the model."
   ]
  },
  {
   "cell_type": "markdown",
   "metadata": {},
   "source": [
    "### SVM Classification"
   ]
  },
  {
   "cell_type": "code",
   "execution_count": 66,
   "metadata": {},
   "outputs": [],
   "source": [
    "from sklearn.model_selection import GridSearchCV\n",
    "from sklearn.svm import SVC\n",
    "from sklearn.model_selection import train_test_split\n",
    "from sklearn.metrics import f1_score"
   ]
  },
  {
   "cell_type": "code",
   "execution_count": 67,
   "metadata": {},
   "outputs": [],
   "source": [
    "x = cities.drop(columns=[\"City\", \"Country\", \"Latitude\", \"Longitude\", \"Tourist\"])\n",
    "y = cities[\"Tourist\"]\n",
    "\n",
    "x_train, x_test, y_train, y_test = train_test_split(x, y, test_size=0.33, random_state=19)"
   ]
  },
  {
   "cell_type": "code",
   "execution_count": 214,
   "metadata": {},
   "outputs": [
    {
     "data": {
      "text/plain": [
       "{'gamma': 'scale', 'kernel': 'linear'}"
      ]
     },
     "execution_count": 214,
     "metadata": {},
     "output_type": "execute_result"
    }
   ],
   "source": [
    "hyperparams = {\n",
    "    'kernel': ['linear'],#, 'poly', 'rbf', 'sigmoid'],\n",
    "    'gamma': ['scale', 'auto']\n",
    "}\n",
    "\n",
    "svm = GridSearchCV(estimator=SVC(C=0.3, random_state=102), param_grid=hyperparams, cv=10)\n",
    "svm.fit(x_train, y_train)\n",
    "svm.best_params_"
   ]
  },
  {
   "cell_type": "code",
   "execution_count": 215,
   "metadata": {},
   "outputs": [
    {
     "data": {
      "text/plain": [
       "0.64"
      ]
     },
     "execution_count": 215,
     "metadata": {},
     "output_type": "execute_result"
    }
   ],
   "source": [
    "svm_predicted = svm.predict(x_test)\n",
    "f1_score(y_test, svm_predicted)"
   ]
  },
  {
   "cell_type": "code",
   "execution_count": 216,
   "metadata": {},
   "outputs": [
    {
     "data": {
      "text/plain": [
       "0.7037037037037037"
      ]
     },
     "execution_count": 216,
     "metadata": {},
     "output_type": "execute_result"
    }
   ],
   "source": [
    "f1_score(y_train, svm.predict(x_train))"
   ]
  },
  {
   "cell_type": "markdown",
   "metadata": {},
   "source": [
    "### Stochastic Gradient Descent"
   ]
  },
  {
   "cell_type": "code",
   "execution_count": 203,
   "metadata": {},
   "outputs": [],
   "source": [
    "from sklearn.naive_bayes import MultinomialNB"
   ]
  },
  {
   "cell_type": "code",
   "execution_count": 204,
   "metadata": {},
   "outputs": [
    {
     "data": {
      "text/plain": [
       "MultinomialNB()"
      ]
     },
     "execution_count": 204,
     "metadata": {},
     "output_type": "execute_result"
    }
   ],
   "source": [
    "sgdc = MultinomialNB()\n",
    "sgdc.fit(x_train, y_train)"
   ]
  },
  {
   "cell_type": "code",
   "execution_count": 205,
   "metadata": {},
   "outputs": [
    {
     "data": {
      "text/plain": [
       "0.4210526315789474"
      ]
     },
     "execution_count": 205,
     "metadata": {},
     "output_type": "execute_result"
    }
   ],
   "source": [
    "sgdc_predicted = sgdc.predict(x_test)\n",
    "f1_score(y_test, sgdc_predicted)"
   ]
  },
  {
   "cell_type": "code",
   "execution_count": null,
   "metadata": {},
   "outputs": [],
   "source": []
  },
  {
   "cell_type": "code",
   "execution_count": null,
   "metadata": {},
   "outputs": [],
   "source": []
  }
 ],
 "metadata": {
  "kernelspec": {
   "display_name": "Python 3",
   "language": "python",
   "name": "python3"
  },
  "language_info": {
   "codemirror_mode": {
    "name": "ipython",
    "version": 3
   },
   "file_extension": ".py",
   "mimetype": "text/x-python",
   "name": "python",
   "nbconvert_exporter": "python",
   "pygments_lexer": "ipython3",
   "version": "3.8.5"
  }
 },
 "nbformat": 4,
 "nbformat_minor": 4
}
