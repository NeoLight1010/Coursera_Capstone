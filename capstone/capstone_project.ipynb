{
 "cells": [
  {
   "cell_type": "markdown",
   "metadata": {},
   "source": [
    "# A good tourist city"
   ]
  },
  {
   "cell_type": "markdown",
   "metadata": {},
   "source": [
    "## Introduction/Business Problem"
   ]
  },
  {
   "cell_type": "markdown",
   "metadata": {},
   "source": [
    "Tourism is an important economic income for cities. Some cities are attractive because of their beaches, their building, their history and much more. But there are also some cities which wouldn't be nice to go for a vacation. In this project I will train in a machine learning model that can determine how attractive a given city would be for tourists based on other attractive cities."
   ]
  },
  {
   "cell_type": "markdown",
   "metadata": {},
   "source": [
    "The problem this project will solve is knowing which city is a good place to visit. It can also help local/city governments make their cities more attractive based on the results of the algorithm."
   ]
  },
  {
   "cell_type": "markdown",
   "metadata": {},
   "source": [
    "## Data"
   ]
  },
  {
   "cell_type": "markdown",
   "metadata": {},
   "source": [
    "The data used for this project will be obtained from Foursquare using the [Foursquare API](https://developer.foursquare.com/docs/places-api/). Only relevant venue categories will be requested, such us:\n",
    "\n",
    "- Outdoors & Recreation\n",
    "- Shop & Service\n",
    "- Travel & Transport\n",
    "    - Hotel\n",
    "    - Taxi\n",
    "    - Tourist Information Center\n",
    "- Etc.\n",
    "\n",
    "The various Foursquare venue categories are listed in [this link](https://developer.foursquare.com/docs/build-with-foursquare/categories/).\n",
    "\n",
    "In addition, the cities categorized as \"good tourist cities\" will be chosen from articles like [this one](https://www.planetware.com/world/top-cities-in-the-world-to-visit-eng-1-39.htm). Venues data obtained from these cities will be fed into the machine learning algorithm to create the model."
   ]
  },
  {
   "cell_type": "code",
   "execution_count": null,
   "metadata": {},
   "outputs": [],
   "source": []
  }
 ],
 "metadata": {
  "kernelspec": {
   "display_name": "Python 3",
   "language": "python",
   "name": "python3"
  },
  "language_info": {
   "codemirror_mode": {
    "name": "ipython",
    "version": 3
   },
   "file_extension": ".py",
   "mimetype": "text/x-python",
   "name": "python",
   "nbconvert_exporter": "python",
   "pygments_lexer": "ipython3",
   "version": "3.8.5"
  }
 },
 "nbformat": 4,
 "nbformat_minor": 4
}
